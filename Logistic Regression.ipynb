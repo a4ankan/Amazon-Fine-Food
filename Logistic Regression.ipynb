{
 "cells": [
  {
   "cell_type": "markdown",
   "metadata": {},
   "source": [
    "<h1> LOGISTIC REGRESSION:\n"
   ]
  },
  {
   "cell_type": "markdown",
   "metadata": {},
   "source": [
    "<p style='font-size:18px'><b> Description </b></p>\n",
    "<p>\n",
    "\n",
    "Models like logistic regression or Naive Bayes algorithm, predict the probabilities of observing some outcomes. In standard binary regression scenario the models give you probability of observing the \"success\" category. In multinomial case, the models return probabilities of observing each of the outcomes. Log probabilities are simply natural logarithms of the predicted probabilities. <p>\n",
    "    Logistic regression is a classsification technique. The algorithm is very simple & elegant. The decision surfave here is a line/a plane which seperates my positive and my negative classes <p> <p>\n",
    "        \n",
    "        $$W^*=argmax{\\sum_{i=0}^n y_i(W^T*x_i)}$$ \n",
    "\n",
    "\n",
    "<br />\n",
    "</p>"
   ]
  },
  {
   "cell_type": "markdown",
   "metadata": {},
   "source": [
    "<h1>1.LOADING THE DATA </h1>\n"
   ]
  },
  {
   "cell_type": "code",
   "execution_count": 24,
   "metadata": {},
   "outputs": [
    {
     "data": {
      "text/plain": [
       "'/home/a4ankan/aMAZON fINAL WORK/amazon fine food'"
      ]
     },
     "execution_count": 24,
     "metadata": {},
     "output_type": "execute_result"
    }
   ],
   "source": [
    "import os\n",
    "os.getcwd()\n",
    "os.chdir('/home/a4ankan/aMAZON fINAL WORK/amazon fine food')\n",
    "os.getcwd()"
   ]
  },
  {
   "cell_type": "code",
   "execution_count": 62,
   "metadata": {},
   "outputs": [
    {
     "name": "stdout",
     "output_type": "stream",
     "text": [
      "(525814, 10)\n"
     ]
    },
    {
     "data": {
      "text/html": [
       "<div>\n",
       "<style scoped>\n",
       "    .dataframe tbody tr th:only-of-type {\n",
       "        vertical-align: middle;\n",
       "    }\n",
       "\n",
       "    .dataframe tbody tr th {\n",
       "        vertical-align: top;\n",
       "    }\n",
       "\n",
       "    .dataframe thead th {\n",
       "        text-align: right;\n",
       "    }\n",
       "</style>\n",
       "<table border=\"1\" class=\"dataframe\">\n",
       "  <thead>\n",
       "    <tr style=\"text-align: right;\">\n",
       "      <th></th>\n",
       "      <th>Id</th>\n",
       "      <th>ProductId</th>\n",
       "      <th>UserId</th>\n",
       "      <th>ProfileName</th>\n",
       "      <th>HelpfulnessNumerator</th>\n",
       "      <th>HelpfulnessDenominator</th>\n",
       "      <th>Score</th>\n",
       "      <th>Time</th>\n",
       "      <th>Summary</th>\n",
       "      <th>Text</th>\n",
       "    </tr>\n",
       "  </thead>\n",
       "  <tbody>\n",
       "    <tr>\n",
       "      <th>138706</th>\n",
       "      <td>150524</td>\n",
       "      <td>0006641040</td>\n",
       "      <td>ACITT7DI6IDDL</td>\n",
       "      <td>shari zychinski</td>\n",
       "      <td>0</td>\n",
       "      <td>0</td>\n",
       "      <td>1</td>\n",
       "      <td>939340800</td>\n",
       "      <td>EVERY book is educational</td>\n",
       "      <td>this witty little book makes my son laugh at l...</td>\n",
       "    </tr>\n",
       "    <tr>\n",
       "      <th>138683</th>\n",
       "      <td>150501</td>\n",
       "      <td>0006641040</td>\n",
       "      <td>AJ46FKXOVC7NR</td>\n",
       "      <td>Nicholas A Mesiano</td>\n",
       "      <td>2</td>\n",
       "      <td>2</td>\n",
       "      <td>1</td>\n",
       "      <td>940809600</td>\n",
       "      <td>This whole series is great way to spend time w...</td>\n",
       "      <td>I can remember seeing the show when it aired o...</td>\n",
       "    </tr>\n",
       "    <tr>\n",
       "      <th>417839</th>\n",
       "      <td>451856</td>\n",
       "      <td>B00004CXX9</td>\n",
       "      <td>AIUWLEQ1ADEG5</td>\n",
       "      <td>Elizabeth Medina</td>\n",
       "      <td>0</td>\n",
       "      <td>0</td>\n",
       "      <td>1</td>\n",
       "      <td>944092800</td>\n",
       "      <td>Entertainingl Funny!</td>\n",
       "      <td>Beetlejuice is a well written movie ..... ever...</td>\n",
       "    </tr>\n",
       "    <tr>\n",
       "      <th>417859</th>\n",
       "      <td>451878</td>\n",
       "      <td>B00004CXX9</td>\n",
       "      <td>A344SMIA5JECGM</td>\n",
       "      <td>Vincent P. Ross</td>\n",
       "      <td>1</td>\n",
       "      <td>2</td>\n",
       "      <td>1</td>\n",
       "      <td>944438400</td>\n",
       "      <td>A modern day fairy tale</td>\n",
       "      <td>A twist of rumplestiskin captured on film, sta...</td>\n",
       "    </tr>\n",
       "    <tr>\n",
       "      <th>212472</th>\n",
       "      <td>230285</td>\n",
       "      <td>B00004RYGX</td>\n",
       "      <td>A344SMIA5JECGM</td>\n",
       "      <td>Vincent P. Ross</td>\n",
       "      <td>1</td>\n",
       "      <td>2</td>\n",
       "      <td>1</td>\n",
       "      <td>944438400</td>\n",
       "      <td>A modern day fairy tale</td>\n",
       "      <td>A twist of rumplestiskin captured on film, sta...</td>\n",
       "    </tr>\n",
       "  </tbody>\n",
       "</table>\n",
       "</div>"
      ],
      "text/plain": [
       "            Id   ProductId          UserId         ProfileName  \\\n",
       "138706  150524  0006641040   ACITT7DI6IDDL     shari zychinski   \n",
       "138683  150501  0006641040   AJ46FKXOVC7NR  Nicholas A Mesiano   \n",
       "417839  451856  B00004CXX9   AIUWLEQ1ADEG5    Elizabeth Medina   \n",
       "417859  451878  B00004CXX9  A344SMIA5JECGM     Vincent P. Ross   \n",
       "212472  230285  B00004RYGX  A344SMIA5JECGM     Vincent P. Ross   \n",
       "\n",
       "        HelpfulnessNumerator  HelpfulnessDenominator  Score       Time  \\\n",
       "138706                     0                       0      1  939340800   \n",
       "138683                     2                       2      1  940809600   \n",
       "417839                     0                       0      1  944092800   \n",
       "417859                     1                       2      1  944438400   \n",
       "212472                     1                       2      1  944438400   \n",
       "\n",
       "                                                  Summary  \\\n",
       "138706                          EVERY book is educational   \n",
       "138683  This whole series is great way to spend time w...   \n",
       "417839                               Entertainingl Funny!   \n",
       "417859                            A modern day fairy tale   \n",
       "212472                            A modern day fairy tale   \n",
       "\n",
       "                                                     Text  \n",
       "138706  this witty little book makes my son laugh at l...  \n",
       "138683  I can remember seeing the show when it aired o...  \n",
       "417839  Beetlejuice is a well written movie ..... ever...  \n",
       "417859  A twist of rumplestiskin captured on film, sta...  \n",
       "212472  A twist of rumplestiskin captured on film, sta...  "
      ]
     },
     "execution_count": 62,
     "metadata": {},
     "output_type": "execute_result"
    }
   ],
   "source": [
    "%matplotlib inline\n",
    "import warnings\n",
    "warnings.filterwarnings(\"ignore\")\n",
    "\n",
    "import sqlite3\n",
    "import pandas as pd\n",
    "import numpy as np\n",
    "import nltk\n",
    "import string\n",
    "import matplotlib.pyplot as plt\n",
    "import seaborn as sns\n",
    "from sklearn.feature_extraction.text import TfidfTransformer\n",
    "from sklearn.feature_extraction.text import TfidfVectorizer\n",
    "\n",
    "from sklearn.feature_extraction.text import CountVectorizer\n",
    "from sklearn.metrics import confusion_matrix\n",
    "from sklearn import metrics\n",
    "from sklearn.metrics import roc_curve, auc\n",
    "from nltk.stem.porter import PorterStemmer\n",
    "\n",
    "import re\n",
    "# Tutorial about Python regular expressions: https://pymotw.com/2/re/\n",
    "import string\n",
    "from nltk.corpus import stopwords\n",
    "from nltk.stem import PorterStemmer\n",
    "from nltk.stem.wordnet import WordNetLemmatizer\n",
    "\n",
    "from gensim.models import Word2Vec\n",
    "from gensim.models import KeyedVectors\n",
    "import pickle\n",
    "import datetime\n",
    "\n",
    "\n",
    "\n",
    "# it connects my code with the sql database\n",
    "con = sqlite3.connect('database.sqlite') \n",
    "\n",
    "\n",
    "\n",
    "#Writting a query; 'con' is the link\n",
    "# Here, I am saying that 'slelct (*) from reviews which are not equal to 3'.\n",
    "#Just take the reviews which are 1,2,4 or 5.\n",
    "\n",
    "\n",
    "\n",
    "filtered_data = pd.read_sql_query(\"\"\" SELECT * FROM Reviews WHERE Score != 3 \"\"\", con) #filtering only positive and negative reviews i.e. \n",
    "# not taking into consideration those reviews with Score=3\n",
    "\n",
    "\n",
    "\n",
    "# Give reviews with Score>3 a positive rating, and reviews with a score<3 a negative rating.\n",
    "def partition(x):\n",
    "    if x < 3:\n",
    "        return -1\n",
    "    return 1\n",
    "\n",
    "#changing reviews with score less than 3 to be positive and vice-versa\n",
    "actualScore = filtered_data['Score']\n",
    "positiveNegative = actualScore.map(partition) \n",
    "filtered_data['Score'] = positiveNegative\n",
    "filtered_data.sort_values('Time',inplace=True) \n",
    "\n",
    "print(filtered_data.shape) #The score coloumn becomesb positive / negative\n",
    "filtered_data.head()"
   ]
  },
  {
   "cell_type": "markdown",
   "metadata": {},
   "source": [
    "<h2>1.2 Data Cleansing : deduplication </h2>\n"
   ]
  },
  {
   "cell_type": "code",
   "execution_count": 64,
   "metadata": {},
   "outputs": [
    {
     "name": "stdout",
     "output_type": "stream",
     "text": [
      "(364173, 10)\n"
     ]
    },
    {
     "data": {
      "text/plain": [
       "69.25890143662969"
      ]
     },
     "execution_count": 64,
     "metadata": {},
     "output_type": "execute_result"
    }
   ],
   "source": [
    "#Sorting data according to ProductId in ascending order\n",
    "sorted_data=filtered_data.sort_values('ProductId', axis=0, ascending=True, inplace=False, kind='quicksort', na_position='last')\n",
    "\n",
    "#Deduplication of entries\n",
    "final=sorted_data.drop_duplicates(subset={\"UserId\",\"ProfileName\",\"Time\",\"Text\"}, keep='first', inplace=False)\n",
    "print(final.shape)\n",
    "\n",
    "#Checking to see how much % of data still remains\n",
    "(final['Id'].size*1.0)/(filtered_data['Id'].size*1.0)*100"
   ]
  },
  {
   "cell_type": "code",
   "execution_count": 65,
   "metadata": {},
   "outputs": [
    {
     "data": {
      "text/html": [
       "<div>\n",
       "<style scoped>\n",
       "    .dataframe tbody tr th:only-of-type {\n",
       "        vertical-align: middle;\n",
       "    }\n",
       "\n",
       "    .dataframe tbody tr th {\n",
       "        vertical-align: top;\n",
       "    }\n",
       "\n",
       "    .dataframe thead th {\n",
       "        text-align: right;\n",
       "    }\n",
       "</style>\n",
       "<table border=\"1\" class=\"dataframe\">\n",
       "  <thead>\n",
       "    <tr style=\"text-align: right;\">\n",
       "      <th></th>\n",
       "      <th>Id</th>\n",
       "      <th>ProductId</th>\n",
       "      <th>UserId</th>\n",
       "      <th>ProfileName</th>\n",
       "      <th>HelpfulnessNumerator</th>\n",
       "      <th>HelpfulnessDenominator</th>\n",
       "      <th>Score</th>\n",
       "      <th>Time</th>\n",
       "      <th>Summary</th>\n",
       "      <th>Text</th>\n",
       "    </tr>\n",
       "  </thead>\n",
       "  <tbody>\n",
       "    <tr>\n",
       "      <th>0</th>\n",
       "      <td>64422</td>\n",
       "      <td>B000MIDROQ</td>\n",
       "      <td>A161DK06JJMCYF</td>\n",
       "      <td>J. E. Stephens \"Jeanne\"</td>\n",
       "      <td>3</td>\n",
       "      <td>1</td>\n",
       "      <td>5</td>\n",
       "      <td>1224892800</td>\n",
       "      <td>Bought This for My Son at College</td>\n",
       "      <td>My son loves spaghetti so I didn't hesitate or...</td>\n",
       "    </tr>\n",
       "    <tr>\n",
       "      <th>1</th>\n",
       "      <td>44737</td>\n",
       "      <td>B001EQ55RW</td>\n",
       "      <td>A2V0I904FH7ABY</td>\n",
       "      <td>Ram</td>\n",
       "      <td>3</td>\n",
       "      <td>2</td>\n",
       "      <td>4</td>\n",
       "      <td>1212883200</td>\n",
       "      <td>Pure cocoa taste with crunchy almonds inside</td>\n",
       "      <td>It was almost a 'love at first bite' - the per...</td>\n",
       "    </tr>\n",
       "  </tbody>\n",
       "</table>\n",
       "</div>"
      ],
      "text/plain": [
       "      Id   ProductId          UserId              ProfileName  \\\n",
       "0  64422  B000MIDROQ  A161DK06JJMCYF  J. E. Stephens \"Jeanne\"   \n",
       "1  44737  B001EQ55RW  A2V0I904FH7ABY                      Ram   \n",
       "\n",
       "   HelpfulnessNumerator  HelpfulnessDenominator  Score        Time  \\\n",
       "0                     3                       1      5  1224892800   \n",
       "1                     3                       2      4  1212883200   \n",
       "\n",
       "                                        Summary  \\\n",
       "0             Bought This for My Son at College   \n",
       "1  Pure cocoa taste with crunchy almonds inside   \n",
       "\n",
       "                                                Text  \n",
       "0  My son loves spaghetti so I didn't hesitate or...  \n",
       "1  It was almost a 'love at first bite' - the per...  "
      ]
     },
     "execution_count": 65,
     "metadata": {},
     "output_type": "execute_result"
    }
   ],
   "source": [
    "display= pd.read_sql_query(\"\"\"\n",
    "SELECT *\n",
    "FROM Reviews\n",
    "WHERE Score != 3 AND Id=44737 OR Id=64422\n",
    "ORDER BY ProductID\n",
    "\"\"\", con)\n",
    "\n",
    "\n",
    "\n",
    "display.head()"
   ]
  },
  {
   "cell_type": "code",
   "execution_count": 66,
   "metadata": {},
   "outputs": [
    {
     "name": "stdout",
     "output_type": "stream",
     "text": [
      "(364171, 10)\n"
     ]
    },
    {
     "data": {
      "text/plain": [
       " 1    307061\n",
       "-1     57110\n",
       "Name: Score, dtype: int64"
      ]
     },
     "execution_count": 66,
     "metadata": {},
     "output_type": "execute_result"
    }
   ],
   "source": [
    "final = final[final.HelpfulnessNumerator <= final.HelpfulnessDenominator]\n",
    "\n",
    "#Before starting the next phase of preprocessing lets see the number of entries left\n",
    "print(final.shape)\n",
    "\n",
    "#How many positive and negative reviews are present in our dataset?\n",
    "final['Score'].value_counts()"
   ]
  },
  {
   "cell_type": "code",
   "execution_count": 67,
   "metadata": {},
   "outputs": [
    {
     "data": {
      "text/html": [
       "<div>\n",
       "<style scoped>\n",
       "    .dataframe tbody tr th:only-of-type {\n",
       "        vertical-align: middle;\n",
       "    }\n",
       "\n",
       "    .dataframe tbody tr th {\n",
       "        vertical-align: top;\n",
       "    }\n",
       "\n",
       "    .dataframe thead th {\n",
       "        text-align: right;\n",
       "    }\n",
       "</style>\n",
       "<table border=\"1\" class=\"dataframe\">\n",
       "  <thead>\n",
       "    <tr style=\"text-align: right;\">\n",
       "      <th></th>\n",
       "      <th>Score</th>\n",
       "      <th>Text</th>\n",
       "      <th>Time</th>\n",
       "    </tr>\n",
       "  </thead>\n",
       "  <tbody>\n",
       "    <tr>\n",
       "      <th>138706</th>\n",
       "      <td>1</td>\n",
       "      <td>this witty little book makes my son laugh at l...</td>\n",
       "      <td>939340800</td>\n",
       "    </tr>\n",
       "    <tr>\n",
       "      <th>138683</th>\n",
       "      <td>1</td>\n",
       "      <td>I can remember seeing the show when it aired o...</td>\n",
       "      <td>940809600</td>\n",
       "    </tr>\n",
       "    <tr>\n",
       "      <th>417839</th>\n",
       "      <td>1</td>\n",
       "      <td>Beetlejuice is a well written movie ..... ever...</td>\n",
       "      <td>944092800</td>\n",
       "    </tr>\n",
       "    <tr>\n",
       "      <th>417859</th>\n",
       "      <td>1</td>\n",
       "      <td>A twist of rumplestiskin captured on film, sta...</td>\n",
       "      <td>944438400</td>\n",
       "    </tr>\n",
       "    <tr>\n",
       "      <th>212472</th>\n",
       "      <td>1</td>\n",
       "      <td>A twist of rumplestiskin captured on film, sta...</td>\n",
       "      <td>944438400</td>\n",
       "    </tr>\n",
       "  </tbody>\n",
       "</table>\n",
       "</div>"
      ],
      "text/plain": [
       "        Score                                               Text       Time\n",
       "138706      1  this witty little book makes my son laugh at l...  939340800\n",
       "138683      1  I can remember seeing the show when it aired o...  940809600\n",
       "417839      1  Beetlejuice is a well written movie ..... ever...  944092800\n",
       "417859      1  A twist of rumplestiskin captured on film, sta...  944438400\n",
       "212472      1  A twist of rumplestiskin captured on film, sta...  944438400"
      ]
     },
     "execution_count": 67,
     "metadata": {},
     "output_type": "execute_result"
    }
   ],
   "source": [
    "filtered_data[['Score','Text', 'Time']].head()"
   ]
  },
  {
   "cell_type": "markdown",
   "metadata": {},
   "source": [
    "<h3> 1.2.1 How to convert Text to Vector?? Text Preprocessing: Stemming, stop-word removal and Lemmatization. </h3>\n",
    "\n"
   ]
  },
  {
   "cell_type": "code",
   "execution_count": 68,
   "metadata": {},
   "outputs": [
    {
     "name": "stdout",
     "output_type": "stream",
     "text": [
      "1\n",
      "Summary:  A young boy describes the usefulness of chicken soup with rice for each month of the year.<br /><br />Evaluation:  With Sendak's creative repetitious and rhythmic words, children will enjoy and learn to read the story of a boy who loves chicken soup with rice!  Through Sendak's catchy story, children will also learn the months of the year, as well as what seasons go with what month! They learn to identify ice-skating and snowmen in the winter; strong wind in March; birds and flowers in the spring; swimming and hot temperatures in the summer; and finally different holidays throughout the year. Such as Halloween in October, and Christmas in December.<br /><br />Sendak's simple three colored crayon-like drawings are a perfect addition to his educational and entertaining story.<br /><br />A great activity that you can do with this book is to have children draw their own illustrations for each month of the year.  Afterwards you can bind the pages together so the children can create their own book.\n"
     ]
    }
   ],
   "source": [
    "import re\n",
    "i=0;\n",
    "for sent in final['Text'].values:\n",
    "    if (len(re.findall('<.*?>', sent))):\n",
    "        print(i)\n",
    "        print(sent)\n",
    "        break;\n",
    "    i += 1;"
   ]
  },
  {
   "cell_type": "code",
   "execution_count": 69,
   "metadata": {},
   "outputs": [
    {
     "name": "stdout",
     "output_type": "stream",
     "text": [
      "{'while', 'some', 'until', 'will', 'yourself', 'with', 's', 'under', 'can', \"don't\", 'doesn', 'has', 'wouldn', 'hasn', 'being', 'out', 'needn', 'that', 'who', 'if', 'these', 'it', \"wouldn't\", 'more', 'during', 'y', 'shouldn', 'on', 'the', \"haven't\", 'herself', 'other', \"isn't\", 'been', 'was', 'should', 'don', 'be', \"you've\", 'them', 'is', 'down', 'does', \"shouldn't\", 'how', 'haven', 'or', 'about', 've', 'were', 'then', 'you', \"hasn't\", 'and', 'my', 'its', \"wasn't\", 'their', 'we', 'where', 'not', 'nor', 'over', \"mightn't\", \"weren't\", 'yourselves', 'had', 'from', 'below', 're', 'me', 'doing', 'most', 'aren', \"aren't\", 'an', 'do', 'she', 'her', 'before', \"didn't\", 'between', 'above', 'which', 'ma', 'for', 'theirs', 'only', \"you're\", 'o', 'they', 'as', 'to', 'weren', 'this', 'why', 'your', \"it's\", 'him', 'here', 'hers', 'such', 'once', 'few', \"doesn't\", 'mustn', 'shan', 'himself', 'a', 't', 'any', 'at', 'after', \"you'll\", 'each', 'through', 'll', 'hadn', \"she's\", 'our', 'didn', 'he', \"should've\", 'again', 'now', \"couldn't\", 'did', 'both', 'yours', 'no', 'very', 'won', 'against', 'those', \"you'd\", 'myself', 'mightn', 'isn', 'couldn', 'than', \"mustn't\", 'into', 'further', 'ourselves', 'his', 'themselves', 'am', 'too', 'because', \"hadn't\", 'have', \"shan't\", 'having', 'ours', 'all', 'same', 'just', 'own', 'd', \"that'll\", 'i', 'up', 'what', 'whom', 'itself', 'off', 'so', \"won't\", 'ain', 'there', 'but', \"needn't\", 'are', 'of', 'when', 'wasn', 'by', 'm', 'in'}\n",
      "************************************\n",
      "tasti\n"
     ]
    }
   ],
   "source": [
    "stop = set(stopwords.words('english')) #set of stopwords\n",
    "sno = nltk.stem.SnowballStemmer('english') #initialising the snowball stemmer\n",
    "\n",
    "def cleanhtml(sentence): #function to clean the word of any html-tags\n",
    "    cleanr = re.compile('<.*?>')\n",
    "    cleantext = re.sub(cleanr, ' ', sentence)\n",
    "    return cleantext\n",
    "def cleanpunc(sentence): #function to clean the word of any punctuation or special characters\n",
    "    cleaned = re.sub(r'[?|!|\\'|\"|#]',r'',sentence)\n",
    "    cleaned = re.sub(r'[.|,|)|(|\\|/]',r' ',cleaned)\n",
    "    return  cleaned\n",
    "print(stop)\n",
    "print('************************************')\n",
    "print(sno.stem('tasty'))"
   ]
  },
  {
   "cell_type": "code",
   "execution_count": 70,
   "metadata": {},
   "outputs": [],
   "source": [
    "#Code for implementing step-by-step the checks mentioned in the pre-processing phase\n",
    "\n",
    "i=0\n",
    "str1=' '\n",
    "final_string=[]\n",
    "all_positive_words=[] # store words from +ve reviews here\n",
    "all_negative_words=[] # store words from -ve reviews here.\n",
    "s=''\n",
    "for sent in final['Text'].values:\n",
    "    filtered_sentence=[]\n",
    "    #print(sent);\n",
    "    sent=cleanhtml(sent) # remove HTMl tags\n",
    "    for w in sent.split():\n",
    "        for cleaned_words in cleanpunc(w).split():\n",
    "            if((cleaned_words.isalpha()) & (len(cleaned_words)>2)):    \n",
    "                if(cleaned_words.lower() not in stop):\n",
    "                    s=(sno.stem(cleaned_words.lower())).encode('utf8')\n",
    "                    filtered_sentence.append(s)\n",
    "                    if (final['Score'].values)[i] == 'positive': \n",
    "                        all_positive_words.append(s) #list of all words used to describe positive reviews\n",
    "                    if(final['Score'].values)[i] == 'negative':\n",
    "                        all_negative_words.append(s) #list of all words used to describe negative reviews reviews\n",
    "                else:\n",
    "                    continue\n",
    "            else:\n",
    "                continue \n",
    "    #print(filtered_sentence)\n",
    "    str1 = b\" \".join(filtered_sentence) #final string of cleaned words\n",
    "    #print(\"***********************************************************************\")\n",
    "    \n",
    "    final_string.append(str1)\n",
    "    i+=1\n",
    "    "
   ]
  },
  {
   "cell_type": "code",
   "execution_count": 71,
   "metadata": {},
   "outputs": [],
   "source": [
    "final['CleanedText']=final_string #adding a column of CleanedText which displays the data after pre-processing of the review \n",
    "final['CleanedText']=final['CleanedText'].str.decode(\"utf-8\")\n",
    "final.sort_values('Time',inplace=True) "
   ]
  },
  {
   "cell_type": "code",
   "execution_count": 72,
   "metadata": {},
   "outputs": [],
   "source": [
    "#Code for implementing step-by-step the checks mentioned in the pre-processing phase\n",
    "\n",
    "\n",
    "i=0\n",
    "str1=' '\n",
    "final_string=[]\n",
    "all_positive_words=[] # store words from +ve reviews here\n",
    "all_negative_words=[] # store words from -ve reviews here.\n",
    "s=''\n",
    "for sent in final['Summary'].values:\n",
    "    filtered_sentence=[]\n",
    "    #print(sent);\n",
    "    sent=cleanhtml(sent) # remove HTMl tags\n",
    "    for w in sent.split():\n",
    "        for cleaned_words in cleanpunc(w).split():\n",
    "            if((cleaned_words.isalpha()) & (len(cleaned_words)>2)):    \n",
    "                if(cleaned_words.lower() not in stop):\n",
    "                    s=(sno.stem(cleaned_words.lower())).encode('utf8')\n",
    "                    filtered_sentence.append(s)\n",
    "                    if (final['Score'].values)[i] == 'positive': \n",
    "                        all_positive_words.append(s) #list of all words used to describe positive reviews\n",
    "                    if(final['Score'].values)[i] == 'negative':\n",
    "                        all_negative_words.append(s) #list of all words used to describe negative reviews reviews\n",
    "                else:\n",
    "                    continue\n",
    "            else:\n",
    "                continue \n",
    "    #print(filtered_sentence)\n",
    "    str1 = b\" \".join(filtered_sentence) #final string of cleaned words\n",
    "    #print(\"***********************************************************************\")\n",
    "    \n",
    "    final_string.append(str1)\n",
    "    i+=1"
   ]
  },
  {
   "cell_type": "code",
   "execution_count": 73,
   "metadata": {},
   "outputs": [],
   "source": [
    "final['Summary']=final_string #adding a column of CleanedText which displays the data after pre-processing of the review \n",
    "final['Summary']=final['Summary'].str.decode(\"utf-8\")"
   ]
  },
  {
   "cell_type": "code",
   "execution_count": 74,
   "metadata": {},
   "outputs": [],
   "source": [
    "final['New'] = final['Summary'] + final['CleanedText']"
   ]
  },
  {
   "cell_type": "code",
   "execution_count": 75,
   "metadata": {},
   "outputs": [
    {
     "data": {
      "text/html": [
       "<div>\n",
       "<style scoped>\n",
       "    .dataframe tbody tr th:only-of-type {\n",
       "        vertical-align: middle;\n",
       "    }\n",
       "\n",
       "    .dataframe tbody tr th {\n",
       "        vertical-align: top;\n",
       "    }\n",
       "\n",
       "    .dataframe thead th {\n",
       "        text-align: right;\n",
       "    }\n",
       "</style>\n",
       "<table border=\"1\" class=\"dataframe\">\n",
       "  <thead>\n",
       "    <tr style=\"text-align: right;\">\n",
       "      <th></th>\n",
       "      <th>Id</th>\n",
       "      <th>ProductId</th>\n",
       "      <th>UserId</th>\n",
       "      <th>ProfileName</th>\n",
       "      <th>HelpfulnessNumerator</th>\n",
       "      <th>HelpfulnessDenominator</th>\n",
       "      <th>Score</th>\n",
       "      <th>Time</th>\n",
       "      <th>Summary</th>\n",
       "      <th>Text</th>\n",
       "      <th>CleanedText</th>\n",
       "      <th>New</th>\n",
       "    </tr>\n",
       "  </thead>\n",
       "  <tbody>\n",
       "    <tr>\n",
       "      <th>138706</th>\n",
       "      <td>150524</td>\n",
       "      <td>0006641040</td>\n",
       "      <td>ACITT7DI6IDDL</td>\n",
       "      <td>shari zychinski</td>\n",
       "      <td>0</td>\n",
       "      <td>0</td>\n",
       "      <td>1</td>\n",
       "      <td>939340800</td>\n",
       "      <td>everi book educ</td>\n",
       "      <td>this witty little book makes my son laugh at l...</td>\n",
       "      <td>witti littl book make son laugh loud recit car...</td>\n",
       "      <td>everi book educwitti littl book make son laugh...</td>\n",
       "    </tr>\n",
       "    <tr>\n",
       "      <th>138683</th>\n",
       "      <td>150501</td>\n",
       "      <td>0006641040</td>\n",
       "      <td>AJ46FKXOVC7NR</td>\n",
       "      <td>Nicholas A Mesiano</td>\n",
       "      <td>2</td>\n",
       "      <td>2</td>\n",
       "      <td>1</td>\n",
       "      <td>940809600</td>\n",
       "      <td>whole seri great way spend time child</td>\n",
       "      <td>I can remember seeing the show when it aired o...</td>\n",
       "      <td>rememb see show air televis year ago child sis...</td>\n",
       "      <td>whole seri great way spend time childrememb se...</td>\n",
       "    </tr>\n",
       "    <tr>\n",
       "      <th>417839</th>\n",
       "      <td>451856</td>\n",
       "      <td>B00004CXX9</td>\n",
       "      <td>AIUWLEQ1ADEG5</td>\n",
       "      <td>Elizabeth Medina</td>\n",
       "      <td>0</td>\n",
       "      <td>0</td>\n",
       "      <td>1</td>\n",
       "      <td>944092800</td>\n",
       "      <td>entertainingl funni</td>\n",
       "      <td>Beetlejuice is a well written movie ..... ever...</td>\n",
       "      <td>beetlejuic well written movi everyth excel act...</td>\n",
       "      <td>entertainingl funnibeetlejuic well written mov...</td>\n",
       "    </tr>\n",
       "    <tr>\n",
       "      <th>346055</th>\n",
       "      <td>374359</td>\n",
       "      <td>B00004CI84</td>\n",
       "      <td>A344SMIA5JECGM</td>\n",
       "      <td>Vincent P. Ross</td>\n",
       "      <td>1</td>\n",
       "      <td>2</td>\n",
       "      <td>1</td>\n",
       "      <td>944438400</td>\n",
       "      <td>modern day fairi tale</td>\n",
       "      <td>A twist of rumplestiskin captured on film, sta...</td>\n",
       "      <td>twist rumplestiskin captur film star michael k...</td>\n",
       "      <td>modern day fairi taletwist rumplestiskin captu...</td>\n",
       "    </tr>\n",
       "    <tr>\n",
       "      <th>417838</th>\n",
       "      <td>451855</td>\n",
       "      <td>B00004CXX9</td>\n",
       "      <td>AJH6LUC1UT1ON</td>\n",
       "      <td>The Phantom of the Opera</td>\n",
       "      <td>0</td>\n",
       "      <td>0</td>\n",
       "      <td>1</td>\n",
       "      <td>946857600</td>\n",
       "      <td>fantast</td>\n",
       "      <td>Beetlejuice is an excellent and funny movie. K...</td>\n",
       "      <td>beetlejuic excel funni movi keaton hilari wack...</td>\n",
       "      <td>fantastbeetlejuic excel funni movi keaton hila...</td>\n",
       "    </tr>\n",
       "  </tbody>\n",
       "</table>\n",
       "</div>"
      ],
      "text/plain": [
       "            Id   ProductId          UserId               ProfileName  \\\n",
       "138706  150524  0006641040   ACITT7DI6IDDL           shari zychinski   \n",
       "138683  150501  0006641040   AJ46FKXOVC7NR        Nicholas A Mesiano   \n",
       "417839  451856  B00004CXX9   AIUWLEQ1ADEG5          Elizabeth Medina   \n",
       "346055  374359  B00004CI84  A344SMIA5JECGM           Vincent P. Ross   \n",
       "417838  451855  B00004CXX9   AJH6LUC1UT1ON  The Phantom of the Opera   \n",
       "\n",
       "        HelpfulnessNumerator  HelpfulnessDenominator  Score       Time  \\\n",
       "138706                     0                       0      1  939340800   \n",
       "138683                     2                       2      1  940809600   \n",
       "417839                     0                       0      1  944092800   \n",
       "346055                     1                       2      1  944438400   \n",
       "417838                     0                       0      1  946857600   \n",
       "\n",
       "                                      Summary  \\\n",
       "138706                        everi book educ   \n",
       "138683  whole seri great way spend time child   \n",
       "417839                    entertainingl funni   \n",
       "346055                  modern day fairi tale   \n",
       "417838                                fantast   \n",
       "\n",
       "                                                     Text  \\\n",
       "138706  this witty little book makes my son laugh at l...   \n",
       "138683  I can remember seeing the show when it aired o...   \n",
       "417839  Beetlejuice is a well written movie ..... ever...   \n",
       "346055  A twist of rumplestiskin captured on film, sta...   \n",
       "417838  Beetlejuice is an excellent and funny movie. K...   \n",
       "\n",
       "                                              CleanedText  \\\n",
       "138706  witti littl book make son laugh loud recit car...   \n",
       "138683  rememb see show air televis year ago child sis...   \n",
       "417839  beetlejuic well written movi everyth excel act...   \n",
       "346055  twist rumplestiskin captur film star michael k...   \n",
       "417838  beetlejuic excel funni movi keaton hilari wack...   \n",
       "\n",
       "                                                      New  \n",
       "138706  everi book educwitti littl book make son laugh...  \n",
       "138683  whole seri great way spend time childrememb se...  \n",
       "417839  entertainingl funnibeetlejuic well written mov...  \n",
       "346055  modern day fairi taletwist rumplestiskin captu...  \n",
       "417838  fantastbeetlejuic excel funni movi keaton hila...  "
      ]
     },
     "execution_count": 75,
     "metadata": {},
     "output_type": "execute_result"
    }
   ],
   "source": [
    "final.head(5)"
   ]
  },
  {
   "cell_type": "code",
   "execution_count": 76,
   "metadata": {},
   "outputs": [],
   "source": [
    "\n",
    "# store final table into an SQlLite table for future.\n",
    "conn = sqlite3.connect('final.sqlite')\n",
    "c=conn.cursor()\n",
    "conn.text_factory = str\n",
    "final.to_sql('Reviews', conn,  schema=None, if_exists='replace', index=True, index_label=None, chunksize=None, dtype=None)"
   ]
  },
  {
   "cell_type": "code",
   "execution_count": 77,
   "metadata": {},
   "outputs": [
    {
     "data": {
      "text/html": [
       "<div>\n",
       "<style scoped>\n",
       "    .dataframe tbody tr th:only-of-type {\n",
       "        vertical-align: middle;\n",
       "    }\n",
       "\n",
       "    .dataframe tbody tr th {\n",
       "        vertical-align: top;\n",
       "    }\n",
       "\n",
       "    .dataframe thead th {\n",
       "        text-align: right;\n",
       "    }\n",
       "</style>\n",
       "<table border=\"1\" class=\"dataframe\">\n",
       "  <thead>\n",
       "    <tr style=\"text-align: right;\">\n",
       "      <th></th>\n",
       "      <th>Id</th>\n",
       "      <th>ProductId</th>\n",
       "      <th>UserId</th>\n",
       "      <th>ProfileName</th>\n",
       "      <th>HelpfulnessNumerator</th>\n",
       "      <th>HelpfulnessDenominator</th>\n",
       "      <th>Score</th>\n",
       "      <th>Time</th>\n",
       "      <th>Summary</th>\n",
       "      <th>Text</th>\n",
       "      <th>CleanedText</th>\n",
       "      <th>New</th>\n",
       "    </tr>\n",
       "  </thead>\n",
       "  <tbody>\n",
       "    <tr>\n",
       "      <th>138706</th>\n",
       "      <td>150524</td>\n",
       "      <td>0006641040</td>\n",
       "      <td>ACITT7DI6IDDL</td>\n",
       "      <td>shari zychinski</td>\n",
       "      <td>0</td>\n",
       "      <td>0</td>\n",
       "      <td>1</td>\n",
       "      <td>939340800</td>\n",
       "      <td>everi book educ</td>\n",
       "      <td>this witty little book makes my son laugh at l...</td>\n",
       "      <td>witti littl book make son laugh loud recit car...</td>\n",
       "      <td>everi book educwitti littl book make son laugh...</td>\n",
       "    </tr>\n",
       "    <tr>\n",
       "      <th>138683</th>\n",
       "      <td>150501</td>\n",
       "      <td>0006641040</td>\n",
       "      <td>AJ46FKXOVC7NR</td>\n",
       "      <td>Nicholas A Mesiano</td>\n",
       "      <td>2</td>\n",
       "      <td>2</td>\n",
       "      <td>1</td>\n",
       "      <td>940809600</td>\n",
       "      <td>whole seri great way spend time child</td>\n",
       "      <td>I can remember seeing the show when it aired o...</td>\n",
       "      <td>rememb see show air televis year ago child sis...</td>\n",
       "      <td>whole seri great way spend time childrememb se...</td>\n",
       "    </tr>\n",
       "    <tr>\n",
       "      <th>417839</th>\n",
       "      <td>451856</td>\n",
       "      <td>B00004CXX9</td>\n",
       "      <td>AIUWLEQ1ADEG5</td>\n",
       "      <td>Elizabeth Medina</td>\n",
       "      <td>0</td>\n",
       "      <td>0</td>\n",
       "      <td>1</td>\n",
       "      <td>944092800</td>\n",
       "      <td>entertainingl funni</td>\n",
       "      <td>Beetlejuice is a well written movie ..... ever...</td>\n",
       "      <td>beetlejuic well written movi everyth excel act...</td>\n",
       "      <td>entertainingl funnibeetlejuic well written mov...</td>\n",
       "    </tr>\n",
       "    <tr>\n",
       "      <th>346055</th>\n",
       "      <td>374359</td>\n",
       "      <td>B00004CI84</td>\n",
       "      <td>A344SMIA5JECGM</td>\n",
       "      <td>Vincent P. Ross</td>\n",
       "      <td>1</td>\n",
       "      <td>2</td>\n",
       "      <td>1</td>\n",
       "      <td>944438400</td>\n",
       "      <td>modern day fairi tale</td>\n",
       "      <td>A twist of rumplestiskin captured on film, sta...</td>\n",
       "      <td>twist rumplestiskin captur film star michael k...</td>\n",
       "      <td>modern day fairi taletwist rumplestiskin captu...</td>\n",
       "    </tr>\n",
       "    <tr>\n",
       "      <th>417838</th>\n",
       "      <td>451855</td>\n",
       "      <td>B00004CXX9</td>\n",
       "      <td>AJH6LUC1UT1ON</td>\n",
       "      <td>The Phantom of the Opera</td>\n",
       "      <td>0</td>\n",
       "      <td>0</td>\n",
       "      <td>1</td>\n",
       "      <td>946857600</td>\n",
       "      <td>fantast</td>\n",
       "      <td>Beetlejuice is an excellent and funny movie. K...</td>\n",
       "      <td>beetlejuic excel funni movi keaton hilari wack...</td>\n",
       "      <td>fantastbeetlejuic excel funni movi keaton hila...</td>\n",
       "    </tr>\n",
       "  </tbody>\n",
       "</table>\n",
       "</div>"
      ],
      "text/plain": [
       "            Id   ProductId          UserId               ProfileName  \\\n",
       "138706  150524  0006641040   ACITT7DI6IDDL           shari zychinski   \n",
       "138683  150501  0006641040   AJ46FKXOVC7NR        Nicholas A Mesiano   \n",
       "417839  451856  B00004CXX9   AIUWLEQ1ADEG5          Elizabeth Medina   \n",
       "346055  374359  B00004CI84  A344SMIA5JECGM           Vincent P. Ross   \n",
       "417838  451855  B00004CXX9   AJH6LUC1UT1ON  The Phantom of the Opera   \n",
       "\n",
       "        HelpfulnessNumerator  HelpfulnessDenominator  Score       Time  \\\n",
       "138706                     0                       0      1  939340800   \n",
       "138683                     2                       2      1  940809600   \n",
       "417839                     0                       0      1  944092800   \n",
       "346055                     1                       2      1  944438400   \n",
       "417838                     0                       0      1  946857600   \n",
       "\n",
       "                                      Summary  \\\n",
       "138706                        everi book educ   \n",
       "138683  whole seri great way spend time child   \n",
       "417839                    entertainingl funni   \n",
       "346055                  modern day fairi tale   \n",
       "417838                                fantast   \n",
       "\n",
       "                                                     Text  \\\n",
       "138706  this witty little book makes my son laugh at l...   \n",
       "138683  I can remember seeing the show when it aired o...   \n",
       "417839  Beetlejuice is a well written movie ..... ever...   \n",
       "346055  A twist of rumplestiskin captured on film, sta...   \n",
       "417838  Beetlejuice is an excellent and funny movie. K...   \n",
       "\n",
       "                                              CleanedText  \\\n",
       "138706  witti littl book make son laugh loud recit car...   \n",
       "138683  rememb see show air televis year ago child sis...   \n",
       "417839  beetlejuic well written movi everyth excel act...   \n",
       "346055  twist rumplestiskin captur film star michael k...   \n",
       "417838  beetlejuic excel funni movi keaton hilari wack...   \n",
       "\n",
       "                                                      New  \n",
       "138706  everi book educwitti littl book make son laugh...  \n",
       "138683  whole seri great way spend time childrememb se...  \n",
       "417839  entertainingl funnibeetlejuic well written mov...  \n",
       "346055  modern day fairi taletwist rumplestiskin captu...  \n",
       "417838  fantastbeetlejuic excel funni movi keaton hila...  "
      ]
     },
     "execution_count": 77,
     "metadata": {},
     "output_type": "execute_result"
    }
   ],
   "source": [
    "final.head()"
   ]
  },
  {
   "cell_type": "code",
   "execution_count": 177,
   "metadata": {},
   "outputs": [
    {
     "data": {
      "text/html": [
       "<div>\n",
       "<style scoped>\n",
       "    .dataframe tbody tr th:only-of-type {\n",
       "        vertical-align: middle;\n",
       "    }\n",
       "\n",
       "    .dataframe tbody tr th {\n",
       "        vertical-align: top;\n",
       "    }\n",
       "\n",
       "    .dataframe thead th {\n",
       "        text-align: right;\n",
       "    }\n",
       "</style>\n",
       "<table border=\"1\" class=\"dataframe\">\n",
       "  <thead>\n",
       "    <tr style=\"text-align: right;\">\n",
       "      <th></th>\n",
       "      <th>Id</th>\n",
       "      <th>ProductId</th>\n",
       "      <th>UserId</th>\n",
       "      <th>ProfileName</th>\n",
       "      <th>HelpfulnessNumerator</th>\n",
       "      <th>HelpfulnessDenominator</th>\n",
       "      <th>Score</th>\n",
       "      <th>Time</th>\n",
       "      <th>Summary</th>\n",
       "      <th>Text</th>\n",
       "      <th>CleanedText</th>\n",
       "      <th>New</th>\n",
       "    </tr>\n",
       "  </thead>\n",
       "  <tbody>\n",
       "    <tr>\n",
       "      <th>234115</th>\n",
       "      <td>254008</td>\n",
       "      <td>B00496V7VM</td>\n",
       "      <td>A3A7OPK9EVIDN2</td>\n",
       "      <td>Christine \"carob lover\"</td>\n",
       "      <td>2</td>\n",
       "      <td>2</td>\n",
       "      <td>1</td>\n",
       "      <td>1301184000</td>\n",
       "      <td>better refriger</td>\n",
       "      <td>I have been using this product for about 5 yea...</td>\n",
       "      <td>use product year find great substitut milk how...</td>\n",
       "      <td>better refrigeruse product year find great sub...</td>\n",
       "    </tr>\n",
       "    <tr>\n",
       "      <th>460702</th>\n",
       "      <td>498214</td>\n",
       "      <td>B0030VBPN2</td>\n",
       "      <td>A2LKXYAP5TQ037</td>\n",
       "      <td>thegirlwhopaintedtrees</td>\n",
       "      <td>0</td>\n",
       "      <td>0</td>\n",
       "      <td>1</td>\n",
       "      <td>1313625600</td>\n",
       "      <td>great finicki eater</td>\n",
       "      <td>My 2 and 4 yr old drink these in the car.  It'...</td>\n",
       "      <td>old drink car great snack toddler vitamin mine...</td>\n",
       "      <td>great finicki eaterold drink car great snack t...</td>\n",
       "    </tr>\n",
       "    <tr>\n",
       "      <th>392802</th>\n",
       "      <td>424751</td>\n",
       "      <td>B0051WAJ5I</td>\n",
       "      <td>A3U5L36IR8M1PI</td>\n",
       "      <td>Janice Wright</td>\n",
       "      <td>0</td>\n",
       "      <td>0</td>\n",
       "      <td>1</td>\n",
       "      <td>1332633600</td>\n",
       "      <td>boston cooki vegan assort flavor</td>\n",
       "      <td>I am vegan and ordered these cookies wanting o...</td>\n",
       "      <td>vegan order cooki want choc howev came asst fl...</td>\n",
       "      <td>boston cooki vegan assort flavorvegan order co...</td>\n",
       "    </tr>\n",
       "    <tr>\n",
       "      <th>285277</th>\n",
       "      <td>309042</td>\n",
       "      <td>B000JSLYSU</td>\n",
       "      <td>AY12DBB0U420B</td>\n",
       "      <td>Gary Peterson</td>\n",
       "      <td>0</td>\n",
       "      <td>0</td>\n",
       "      <td>1</td>\n",
       "      <td>1332115200</td>\n",
       "      <td>mmmmmm good</td>\n",
       "      <td>My wife is from Europe (Russia mainly, but she...</td>\n",
       "      <td>wife europ russia main shes also live england ...</td>\n",
       "      <td>mmmmmm goodwife europ russia main shes also li...</td>\n",
       "    </tr>\n",
       "    <tr>\n",
       "      <th>504157</th>\n",
       "      <td>545159</td>\n",
       "      <td>B001SB4DLC</td>\n",
       "      <td>A2BGMB2GDUMD9</td>\n",
       "      <td>Linda S. Marks</td>\n",
       "      <td>0</td>\n",
       "      <td>0</td>\n",
       "      <td>1</td>\n",
       "      <td>1319414400</td>\n",
       "      <td>great brisket marinad</td>\n",
       "      <td>We purchased the last two bottles Claude's Bri...</td>\n",
       "      <td>purchas last two bottl claud brisket marinad c...</td>\n",
       "      <td>great brisket marinadpurchas last two bottl cl...</td>\n",
       "    </tr>\n",
       "  </tbody>\n",
       "</table>\n",
       "</div>"
      ],
      "text/plain": [
       "            Id   ProductId          UserId              ProfileName  \\\n",
       "234115  254008  B00496V7VM  A3A7OPK9EVIDN2  Christine \"carob lover\"   \n",
       "460702  498214  B0030VBPN2  A2LKXYAP5TQ037   thegirlwhopaintedtrees   \n",
       "392802  424751  B0051WAJ5I  A3U5L36IR8M1PI            Janice Wright   \n",
       "285277  309042  B000JSLYSU   AY12DBB0U420B            Gary Peterson   \n",
       "504157  545159  B001SB4DLC   A2BGMB2GDUMD9           Linda S. Marks   \n",
       "\n",
       "        HelpfulnessNumerator  HelpfulnessDenominator  Score        Time  \\\n",
       "234115                     2                       2      1  1301184000   \n",
       "460702                     0                       0      1  1313625600   \n",
       "392802                     0                       0      1  1332633600   \n",
       "285277                     0                       0      1  1332115200   \n",
       "504157                     0                       0      1  1319414400   \n",
       "\n",
       "                                 Summary  \\\n",
       "234115                   better refriger   \n",
       "460702               great finicki eater   \n",
       "392802  boston cooki vegan assort flavor   \n",
       "285277                       mmmmmm good   \n",
       "504157             great brisket marinad   \n",
       "\n",
       "                                                     Text  \\\n",
       "234115  I have been using this product for about 5 yea...   \n",
       "460702  My 2 and 4 yr old drink these in the car.  It'...   \n",
       "392802  I am vegan and ordered these cookies wanting o...   \n",
       "285277  My wife is from Europe (Russia mainly, but she...   \n",
       "504157  We purchased the last two bottles Claude's Bri...   \n",
       "\n",
       "                                              CleanedText  \\\n",
       "234115  use product year find great substitut milk how...   \n",
       "460702  old drink car great snack toddler vitamin mine...   \n",
       "392802  vegan order cooki want choc howev came asst fl...   \n",
       "285277  wife europ russia main shes also live england ...   \n",
       "504157  purchas last two bottl claud brisket marinad c...   \n",
       "\n",
       "                                                      New  \n",
       "234115  better refrigeruse product year find great sub...  \n",
       "460702  great finicki eaterold drink car great snack t...  \n",
       "392802  boston cooki vegan assort flavorvegan order co...  \n",
       "285277  mmmmmm goodwife europ russia main shes also li...  \n",
       "504157  great brisket marinadpurchas last two bottl cl...  "
      ]
     },
     "execution_count": 177,
     "metadata": {},
     "output_type": "execute_result"
    }
   ],
   "source": [
    "final = final.sample(n = 300000, replace = True) # Sampling 100k rows \n",
    "final = pd.DataFrame(final)\n",
    "final.head()"
   ]
  },
  {
   "cell_type": "code",
   "execution_count": 178,
   "metadata": {},
   "outputs": [
    {
     "data": {
      "text/plain": [
       "(300000,)"
      ]
     },
     "execution_count": 178,
     "metadata": {},
     "output_type": "execute_result"
    }
   ],
   "source": [
    "X = final['New']\n",
    "X.shape\n"
   ]
  },
  {
   "cell_type": "code",
   "execution_count": 179,
   "metadata": {},
   "outputs": [
    {
     "data": {
      "text/plain": [
       "234115    1\n",
       "460702    1\n",
       "392802    1\n",
       "285277    1\n",
       "504157    1\n",
       "Name: Score, dtype: int64"
      ]
     },
     "execution_count": 179,
     "metadata": {},
     "output_type": "execute_result"
    }
   ],
   "source": [
    "Y = final['Score']\n",
    "Y.head()"
   ]
  },
  {
   "cell_type": "code",
   "execution_count": 180,
   "metadata": {},
   "outputs": [
    {
     "data": {
      "text/plain": [
       "(300000,)"
      ]
     },
     "execution_count": 180,
     "metadata": {},
     "output_type": "execute_result"
    }
   ],
   "source": [
    "Y.shape"
   ]
  },
  {
   "cell_type": "code",
   "execution_count": 82,
   "metadata": {},
   "outputs": [],
   "source": [
    "from sklearn.cross_validation import cross_val_score\n",
    "from collections import Counter\n",
    "from sklearn.metrics import accuracy_score\n",
    "from sklearn import cross_validation\n",
    "import warnings\n",
    "from sklearn import preprocessing\n",
    "warnings.filterwarnings(\"ignore\")"
   ]
  },
  {
   "cell_type": "code",
   "execution_count": 83,
   "metadata": {},
   "outputs": [],
   "source": [
    "import numpy as np\n",
    "import pandas as pd\n",
    "import matplotlib.pyplot as plt\n",
    "from sklearn.cross_validation import train_test_split\n",
    "from sklearn.cross_validation import cross_val_score\n",
    "from collections import Counter\n",
    "from sklearn.metrics import accuracy_score\n",
    "from sklearn import cross_validation\n",
    "from sklearn import preprocessing\n"
   ]
  },
  {
   "cell_type": "code",
   "execution_count": 181,
   "metadata": {},
   "outputs": [
    {
     "name": "stdout",
     "output_type": "stream",
     "text": [
      "Train Data Size:  (210000,)\n",
      "Test Data Size:  (90000,)\n"
     ]
    }
   ],
   "source": [
    "X_train, X_test, Y_train, Y_test = cross_validation.train_test_split(X, Y, test_size=0.3, random_state=0)\n",
    "\n",
    "print(\"Train Data Size: \",X_train.shape)\n",
    "print(\"Test Data Size: \",X_test.shape)"
   ]
  },
  {
   "cell_type": "code",
   "execution_count": 182,
   "metadata": {},
   "outputs": [
    {
     "name": "stdout",
     "output_type": "stream",
     "text": [
      "Train Data Size:  (210000,)\n",
      "Test Data Size:  (90000,)\n"
     ]
    }
   ],
   "source": [
    "print(\"Train Data Size: \",Y_train.shape)\n",
    "print(\"Test Data Size: \",Y_test.shape)"
   ]
  },
  {
   "cell_type": "markdown",
   "metadata": {},
   "source": [
    "<h1>2.Bag Of Words (BoW) : </h1>\n",
    "\n",
    "\n",
    "Bag of Words constructs a dictionary of all the words in the document. A corpous is defined as a set of documents/reviews.\n",
    "It converts all the words in the document into a vector each word having a different dimension. Each cell in the vector corresponds to the no of times a word occurs in the document.\n",
    " Similar texts result in closer distances between two vectors. Although BoW has its own limitations.\n"
   ]
  },
  {
   "cell_type": "code",
   "execution_count": 183,
   "metadata": {},
   "outputs": [
    {
     "name": "stdout",
     "output_type": "stream",
     "text": [
      "the type of count vectorizer  <class 'scipy.sparse.csr.csr_matrix'>\n",
      "the shape of out text BOW vectorizer  (210000, 91213)\n",
      "the number of unique words  91213\n"
     ]
    }
   ],
   "source": [
    "#BoW\n",
    "\n",
    "count_vect = CountVectorizer() #in scikit-learn\n",
    "X_train_bow = count_vect.fit_transform(X_train) #\n",
    "X_test_bow = count_vect.transform(X_test)#\n",
    "print(\"the type of count vectorizer \",type(X_train_bow))\n",
    "print(\"the shape of out text BOW vectorizer \",X_train_bow.get_shape())\n",
    "print(\"the number of unique words \", X_train_bow.get_shape()[1])"
   ]
  },
  {
   "cell_type": "code",
   "execution_count": 184,
   "metadata": {},
   "outputs": [],
   "source": [
    "from sklearn import preprocessing\n"
   ]
  },
  {
   "cell_type": "code",
   "execution_count": 185,
   "metadata": {},
   "outputs": [
    {
     "data": {
      "text/plain": [
       "<210000x91213 sparse matrix of type '<class 'numpy.float64'>'\n",
       "\twith 6852231 stored elements in Compressed Sparse Row format>"
      ]
     },
     "execution_count": 185,
     "metadata": {},
     "output_type": "execute_result"
    }
   ],
   "source": [
    "X_train_bow = preprocessing.normalize(X_train_bow)\n",
    "X_train_bow"
   ]
  },
  {
   "cell_type": "code",
   "execution_count": 186,
   "metadata": {},
   "outputs": [
    {
     "name": "stdout",
     "output_type": "stream",
     "text": [
      "(19100, 91213) (19090, 91213)\n",
      "(38190, 91213) (19090, 91213)\n",
      "(57280, 91213) (19090, 91213)\n",
      "(76370, 91213) (19090, 91213)\n",
      "(95460, 91213) (19090, 91213)\n",
      "(114550, 91213) (19090, 91213)\n",
      "(133640, 91213) (19090, 91213)\n",
      "(152730, 91213) (19090, 91213)\n",
      "(171820, 91213) (19090, 91213)\n",
      "(190910, 91213) (19090, 91213)\n"
     ]
    }
   ],
   "source": [
    "\n",
    "\n",
    "from sklearn.model_selection import TimeSeriesSplit\n",
    "tscv = TimeSeriesSplit(n_splits=10)\n",
    "for train, cv in tscv.split(X_train_bow):\n",
    "    print(X_train_bow[train].shape, X_train_bow[cv].shape)\n"
   ]
  },
  {
   "cell_type": "code",
   "execution_count": 187,
   "metadata": {},
   "outputs": [],
   "source": [
    "from sklearn.grid_search import GridSearchCV\n",
    "from sklearn.datasets import *\n",
    "from sklearn.linear_model import LogisticRegression\n",
    "import warnings\n",
    "warnings.filterwarnings(\"ignore\")"
   ]
  },
  {
   "cell_type": "code",
   "execution_count": 189,
   "metadata": {},
   "outputs": [],
   "source": [
    "import numpy as np\n",
    "import pandas as pd\n",
    "import matplotlib.pyplot as plt\n",
    "from sklearn.cross_validation import train_test_split\n",
    "from sklearn.neighbors import KNeighborsClassifier\n",
    "from sklearn.metrics import accuracy_score\n",
    "from sklearn.metrics import precision_score\n",
    "from sklearn.cross_validation import cross_val_score\n",
    "from collections import Counter\n",
    "from sklearn.metrics import accuracy_score\n",
    "from sklearn import cross_validation\n",
    "from sklearn.linear_model import LogisticRegression\n",
    "from datetime import datetime"
   ]
  },
  {
   "cell_type": "markdown",
   "metadata": {},
   "source": [
    "<h3> 2.1 Here we find the best accuraccy, best hyper parameter, best estimator and the best score with 'GridSearchCV' for BoW </h3>"
   ]
  },
  {
   "cell_type": "code",
   "execution_count": 190,
   "metadata": {},
   "outputs": [
    {
     "name": "stdout",
     "output_type": "stream",
     "text": [
      "LogisticRegression(C=100, class_weight=None, dual=False, fit_intercept=True,\n",
      "          intercept_scaling=1, max_iter=100, multi_class='ovr', n_jobs=-1,\n",
      "          penalty='l1', random_state=None, solver='liblinear', tol=0.0001,\n",
      "          verbose=0, warm_start=False)\n",
      "Score with f1 is : 0.992472755870127\n",
      "Best HyperParameter for f1 scoring:  {'C': 100, 'penalty': 'l1'}\n",
      "Best Accuracy for f1 scoring: 97.80%\n",
      "------------------------------------------------------------------------\n",
      "\n",
      "------------------------------------------------------------------------\n",
      "LogisticRegression(C=100, class_weight=None, dual=False, fit_intercept=True,\n",
      "          intercept_scaling=1, max_iter=100, multi_class='ovr', n_jobs=-1,\n",
      "          penalty='l2', random_state=None, solver='liblinear', tol=0.0001,\n",
      "          verbose=0, warm_start=False)\n",
      "Score with roc_auc is : 0.9911484653174248\n",
      "Best HyperParameter for roc_auc:  {'C': 100, 'penalty': 'l2'}\n",
      "Best Accuracy for roc_auc: 97.66%\n",
      "------------------------------------------------------------------------\n",
      "Time taken to run this cell :\n",
      " 0:24:51.863624\n",
      "------------------------------------------------------------------------\n"
     ]
    }
   ],
   "source": [
    "\n",
    "\n",
    "start = datetime.now()\n",
    "\n",
    "from sklearn.model_selection import GridSearchCV\n",
    "from sklearn.metrics import roc_auc_score\n",
    "\n",
    "tuned_parameters = { 'C': [10**-4, 10**-2, 10**-1, 10**0, 10**1, 10**2, 10**4],\n",
    "              'penalty':['l1','l2']}\n",
    "model = GridSearchCV(LogisticRegression(n_jobs = -1), tuned_parameters, cv = tscv,\n",
    "                     scoring = 'f1', n_jobs = -1)\n",
    "model.fit(X_train_bow, Y_train)\n",
    "Y_pred = model.predict(X_test_bow)\n",
    "print(model.best_estimator_)\n",
    "print('Score with f1 is :',model.score(X_test_bow, Y_test))\n",
    "print(\"Best HyperParameter for f1 scoring: \",model.best_params_)\n",
    "print(\"Best Accuracy for f1 scoring: %.2f%%\"%(model.best_score_*100))\n",
    "\n",
    "print('------------------------------------------------------------------------\\n')\n",
    "\n",
    "print('------------------------------------------------------------------------')\n",
    "\n",
    "\n",
    "\n",
    "model_roc_auc = GridSearchCV(LogisticRegression(n_jobs = -1), tuned_parameters, cv = tscv,\n",
    "                     scoring = 'roc_auc', n_jobs = -1)\n",
    "model_roc_auc.fit(X_train_bow, Y_train)\n",
    "Y_pred = model_roc_auc.predict(X_test_bow)\n",
    "print(model_roc_auc.best_estimator_)\n",
    "print('Score with roc_auc is :',model_roc_auc.score(X_test_bow, Y_test))\n",
    "print(\"Best HyperParameter for roc_auc: \",model_roc_auc.best_params_)\n",
    "print(\"Best Accuracy for roc_auc: %.2f%%\"%(model_roc_auc.best_score_*100))\n",
    "\n",
    "print('------------------------------------------------------------------------')\n",
    "print(\"Time taken to run this cell :\\n\", datetime.now() - start)\n",
    "print('------------------------------------------------------------------------')"
   ]
  },
  {
   "cell_type": "code",
   "execution_count": 191,
   "metadata": {},
   "outputs": [
    {
     "data": {
      "image/png": "[encoded data removed]",
      "text/plain": [
       "<Figure size 432x288 with 1 Axes>"
      ]
     },
     "metadata": {},
     "output_type": "display_data"
    },
    {
     "data": {
      "image/png": "[encoded data removed]",
      "text/plain": [
       "<Figure size 432x288 with 1 Axes>"
      ]
     },
     "metadata": {},
     "output_type": "display_data"
    }
   ],
   "source": [
    "def plot_error_vs_c(model):\n",
    "    x1=[]\n",
    "    y1=[]\n",
    "    x2=[]\n",
    "    y2=[]\n",
    "    for a in model.grid_scores_:\n",
    "        if (a[0]['penalty']) == 'l1':\n",
    "            y1.append(1-a[1])\n",
    "            x1.append(a[0]['C'])\n",
    "        else:\n",
    "            y2.append(1-a[1])\n",
    "            x2.append(a[0]['C'])\n",
    "    plt.xlim(10**-4,10**4) # limiting Xaxis to range of tuned parameters\n",
    "    plt.ylim(0,0.5) #assuming that there would be maximum 50% error\n",
    "    plt.xlabel(\"C\",fontsize=17)\n",
    "    plt.ylabel(\"Misclassification Error\")\n",
    "    plt.title('Misclassification Error v/s C')\n",
    "    plt.plot(x1,y1,'m',label=\"L1\")\n",
    "    plt.plot(x2,y2,'y',label=\"L2\")\n",
    "    plt.legend()\n",
    "    plt.show()\n",
    "    \n",
    "    \n",
    "\n",
    "plot_error_vs_c(model)\n",
    "plot_error_vs_c(model_roc_auc)"
   ]
  },
  {
   "cell_type": "code",
   "execution_count": 192,
   "metadata": {},
   "outputs": [],
   "source": [
    "from sklearn.metrics import f1_score\n",
    "from sklearn.metrics import recall_score\n",
    "import scikitplot as skplt\n"
   ]
  },
  {
   "cell_type": "code",
   "execution_count": 223,
   "metadata": {},
   "outputs": [
    {
     "name": "stdout",
     "output_type": "stream",
     "text": [
      "Sparsity is : 83.24800192954952\n",
      "Non zero Weights : 15280\n",
      "Accuracy on test set: 98.606%\n",
      "Macro F1-Score on test set: 0.974\n",
      "Micro F1-Score on test set: 0.986\n",
      "Weighted F1-Score on test set: 0.986\n",
      "Macro roc_auc Score on test set: 0.980\n",
      "Micro roc_auc Score on test set: 0.980\n",
      "Weighted roc_auc Score on test set: 0.980\n",
      "Precision on test set: 0.995\n",
      "Recall on test set: 0.989\n",
      "Error : 1.394%\n",
      "Log loss : 0.481627557962199\n",
      "Precision recall report :\n",
      "              precision    recall  f1-score   support\n",
      "\n",
      "         -1       0.94      0.97      0.96     14189\n",
      "          1       0.99      0.99      0.99     75811\n",
      "\n",
      "avg / total       0.99      0.99      0.99     90000\n",
      "\n",
      "TPR is 0.9886559997889488\n",
      "TNR is 0.9721615335823526\n",
      "FPR is 0.027838466417647475\n",
      "FNR is 0.011344000211051166\n",
      "\n",
      "------------------------------------------------------------------------\n",
      "Time taken to run this cell :\n",
      " 0:00:33.478408\n",
      "------------------------------------------------------------------------\n"
     ]
    },
    {
     "data": {
      "image/png": "[encoded data removed]",
      "text/plain": [
       "<Figure size 432x288 with 2 Axes>"
      ]
     },
     "metadata": {},
     "output_type": "display_data"
    }
   ],
   "source": [
    "start = datetime.now()\n",
    "\n",
    "\n",
    "\n",
    "clf = LogisticRegression(C= 100, penalty='l1', class_weight = 'balanced'); #best hyper-parameters\n",
    "clf.fit(X_train_bow, Y_train);\n",
    "Y_pred = clf.predict(X_test_bow)\n",
    "w = clf.coef_\n",
    "sparsity = np.mean(w.ravel()==0)*100\n",
    "print('Sparsity is :' ,sparsity)\n",
    "print('Non zero Weights :', np.count_nonzero(w))\n",
    "print(\"Accuracy on test set: %0.3f%%\"%(accuracy_score(Y_test, Y_pred)*100)) \n",
    "print(\"Macro F1-Score on test set: %0.3f\"%(f1_score(Y_test, Y_pred, average='macro')))\n",
    "print(\"Micro F1-Score on test set: %0.3f\"%(f1_score(Y_test, Y_pred, average='micro')))\n",
    "print(\"Weighted F1-Score on test set: %0.3f\"%(f1_score(Y_test, Y_pred, average='weighted')))\n",
    "print(\"Macro roc_auc Score on test set: %0.3f\"%(roc_auc_score(Y_test, Y_pred, \n",
    "                                                              average='macro')))\n",
    "print(\"Micro roc_auc Score on test set: %0.3f\"%(roc_auc_score(Y_test, Y_pred, \n",
    "                                                              average='micro')))\n",
    "print(\"Weighted roc_auc Score on test set: %0.3f\"%(roc_auc_score(Y_test, Y_pred, \n",
    "                                                              average='weighted')))\n",
    "print(\"Precision on test set: %0.3f\"%(precision_score(Y_test, Y_pred)))\n",
    "print(\"Recall on test set: %0.3f\"%(recall_score(Y_test, Y_pred)))\n",
    "print(\"Error : %0.3f%%\"%(100-(accuracy_score(Y_test, Y_pred)*100)))\n",
    "print(\"Log loss :\",metrics.log_loss(Y_test,Y_pred))\n",
    "print(\"Precision recall report :\\n\",metrics.classification_report(Y_test, Y_pred))\n",
    "CM = confusion_matrix(Y_test ,Y_pred)\n",
    "TN = CM[0][0]\n",
    "FN = CM[1][0]\n",
    "TP = CM[1][1]\n",
    "FP = CM[0][1]\n",
    "# true positive rate\n",
    "TPR = TP/(TP+FN)\n",
    "# Specificity or true negative rate\n",
    "TNR = TN/(TN+FP) \n",
    "# Fall out or false positive rate\n",
    "FPR = FP/(FP+TN)\n",
    "# False negative rate\n",
    "FNR = FN/(TP+FN)\n",
    "\n",
    "\n",
    "print(\"TPR is\", TPR)\n",
    "print(\"TNR is\", TNR)\n",
    "print(\"FPR is\", FPR)\n",
    "print(\"FNR is\", FNR)\n",
    "df_cm = pd.DataFrame(confusion_matrix(Y_test, Y_pred), range(2),range(2))\n",
    "sns.set(font_scale=1.5)\n",
    "sns.heatmap(df_cm, annot=True,annot_kws={\"size\": 16}, fmt='g')\n",
    "\n",
    "\n",
    "print('\\n------------------------------------------------------------------------')\n",
    "print(\"Time taken to run this cell :\\n\", datetime.now() - start)\n",
    "print('------------------------------------------------------------------------')"
   ]
  },
  {
   "cell_type": "code",
   "execution_count": 224,
   "metadata": {},
   "outputs": [
    {
     "name": "stdout",
     "output_type": "stream",
     "text": [
      "Sparsity is : 0.0\n",
      "Non zero Weights : 91213\n",
      "Accuracy on test set: 97.507%\n",
      "Macro F1-Score on test set: 0.955\n",
      "Micro F1-Score on test set: 0.975\n",
      "Weighted F1-Score on test set: 0.976\n",
      "Macro roc_auc Score on test set: 0.975\n",
      "Micro roc_auc Score on test set: 0.975\n",
      "Weighted roc_auc Score on test set: 0.975\n",
      "Precision on test set: 0.995\n",
      "Recall on test set: 0.975\n",
      "Error : 2.493%\n",
      "Log loss : 0.8611700231694948\n",
      "Precision recall report :\n",
      "              precision    recall  f1-score   support\n",
      "\n",
      "         -1       0.88      0.97      0.92     14189\n",
      "          1       1.00      0.98      0.99     75811\n",
      "\n",
      "avg / total       0.98      0.98      0.98     90000\n",
      "\n",
      "TPR is 0.975148725119046\n",
      "TNR is 0.9746282331383466\n",
      "FPR is 0.025371766861653395\n",
      "FNR is 0.024851274880953952\n",
      "\n",
      "------------------------------------------------------------------------\n",
      "Time taken to run this cell :\n",
      " 0:00:32.044329\n",
      "------------------------------------------------------------------------\n"
     ]
    },
    {
     "data": {
      "image/png": "[encoded data removed]",
      "text/plain": [
       "<Figure size 432x288 with 2 Axes>"
      ]
     },
     "metadata": {},
     "output_type": "display_data"
    }
   ],
   "source": [
    "start = datetime.now()\n",
    "\n",
    "\n",
    "\n",
    "clf = LogisticRegression(C= 100, penalty='l2', class_weight = 'balanced'); #best hyper-parameters\n",
    "clf.fit(X_train_bow, Y_train);\n",
    "Y_pred = clf.predict(X_test_bow)\n",
    "w = clf.coef_\n",
    "sparsity = np.mean(w.ravel()==0)*100\n",
    "print('Sparsity is :' ,sparsity)\n",
    "print('Non zero Weights :', np.count_nonzero(w))\n",
    "print(\"Accuracy on test set: %0.3f%%\"%(accuracy_score(Y_test, Y_pred)*100)) \n",
    "print(\"Macro F1-Score on test set: %0.3f\"%(f1_score(Y_test, Y_pred, average='macro')))\n",
    "print(\"Micro F1-Score on test set: %0.3f\"%(f1_score(Y_test, Y_pred, average='micro')))\n",
    "print(\"Weighted F1-Score on test set: %0.3f\"%(f1_score(Y_test, Y_pred, average='weighted')))\n",
    "print(\"Macro roc_auc Score on test set: %0.3f\"%(roc_auc_score(Y_test, Y_pred, \n",
    "                                                              average='macro')))\n",
    "print(\"Micro roc_auc Score on test set: %0.3f\"%(roc_auc_score(Y_test, Y_pred, \n",
    "                                                              average='micro')))\n",
    "print(\"Weighted roc_auc Score on test set: %0.3f\"%(roc_auc_score(Y_test, Y_pred, \n",
    "                                                              average='weighted')))\n",
    "print(\"Precision on test set: %0.3f\"%(precision_score(Y_test, Y_pred)))\n",
    "print(\"Recall on test set: %0.3f\"%(recall_score(Y_test, Y_pred)))\n",
    "print(\"Error : %0.3f%%\"%(100-(accuracy_score(Y_test, Y_pred)*100)))\n",
    "print(\"Log loss :\",metrics.log_loss(Y_test,Y_pred))\n",
    "print(\"Precision recall report :\\n\",metrics.classification_report(Y_test, Y_pred))\n",
    "CM = confusion_matrix(Y_test ,Y_pred)\n",
    "TN = CM[0][0]\n",
    "FN = CM[1][0]\n",
    "TP = CM[1][1]\n",
    "FP = CM[0][1]\n",
    "# true positive rate\n",
    "TPR = TP/(TP+FN)\n",
    "# Specificity or true negative rate\n",
    "TNR = TN/(TN+FP) \n",
    "# Fall out or false positive rate\n",
    "FPR = FP/(FP+TN)\n",
    "# False negative rate\n",
    "FNR = FN/(TP+FN)\n",
    "\n",
    "\n",
    "print(\"TPR is\", TPR)\n",
    "print(\"TNR is\", TNR)\n",
    "print(\"FPR is\", FPR)\n",
    "print(\"FNR is\", FNR)\n",
    "df_cm = pd.DataFrame(confusion_matrix(Y_test, Y_pred), range(2),range(2))\n",
    "sns.set(font_scale=1.5)\n",
    "sns.heatmap(df_cm, annot=True,annot_kws={\"size\": 16}, fmt='g')\n",
    "\n",
    "\n",
    "print('\\n------------------------------------------------------------------------')\n",
    "print(\"Time taken to run this cell :\\n\", datetime.now() - start)\n",
    "print('------------------------------------------------------------------------')"
   ]
  },
  {
   "cell_type": "markdown",
   "metadata": {},
   "source": [
    "<h4> 2.1.2 Perturbation Test : </h4>\n",
    "\n"
   ]
  },
  {
   "cell_type": "code",
   "execution_count": 225,
   "metadata": {},
   "outputs": [],
   "source": [
    "from scipy.sparse import find"
   ]
  },
  {
   "cell_type": "code",
   "execution_count": 226,
   "metadata": {},
   "outputs": [],
   "source": [
    "X_train_random = X_train_bow\n",
    "#Random noise\n",
    "epsilon = np.random.uniform(low=-0.0001, high=0.0001, size=(find(X_train_random)[0].size,))\n",
    "#Getting the postions(row and column) and value of non-zero datapoints \n",
    "a,b,c = find(X_train_random)\n",
    "\n",
    "#Introducing random noise to non-zero datapoints\n",
    "X_train_random[a,b] = epsilon + X_train_random[a,b]\n"
   ]
  },
  {
   "cell_type": "code",
   "execution_count": 227,
   "metadata": {},
   "outputs": [
    {
     "name": "stdout",
     "output_type": "stream",
     "text": [
      "Sparsity is : 0.0\n",
      "Accuracy on test set: 97.507%\n",
      "Macro F1-Score on test set: 0.955\n",
      "Micro F1-Score on test set: 0.975\n",
      "Weighted F1-Score on test set: 0.976\n",
      "Log loss : 0.8611700231694948\n",
      "Non Zero weights: 91213\n",
      "Error : 2.493%\n",
      "\n",
      "------------------------------------------------------------------------\n",
      "Time taken to run this cell :\n",
      " 0:00:23.109217\n",
      "------------------------------------------------------------------------\n"
     ]
    }
   ],
   "source": [
    "start = datetime.now()\n",
    "\n",
    "\n",
    "clf1 = LogisticRegression(C= 100, penalty= 'l2')\n",
    "clf1.fit(X_train_random,Y_train)\n",
    "Y_pred = clf.predict(X_test_bow)\n",
    "print('Sparsity is :' ,sparsity)\n",
    "print(\"Accuracy on test set: %0.3f%%\"%(accuracy_score(Y_test, Y_pred)*100))\n",
    "print(\"Macro F1-Score on test set: %0.3f\"%(f1_score(Y_test, Y_pred, average='macro')))\n",
    "print(\"Micro F1-Score on test set: %0.3f\"%(f1_score(Y_test, Y_pred, average='micro')))\n",
    "print(\"Weighted F1-Score on test set: %0.3f\"%(f1_score(Y_test, Y_pred, average='weighted')))\n",
    "print(\"Log loss :\",metrics.log_loss(Y_test,Y_pred))\n",
    "print(\"Non Zero weights:\",np.count_nonzero(clf.coef_))\n",
    "print(\"Error : %0.3f%%\"%(100-(accuracy_score(Y_test, Y_pred)*100)))\n",
    "\n",
    "\n",
    "print('\\n------------------------------------------------------------------------')\n",
    "print(\"Time taken to run this cell :\\n\", datetime.now() - start)\n",
    "print('------------------------------------------------------------------------')"
   ]
  },
  {
   "cell_type": "code",
   "execution_count": 229,
   "metadata": {},
   "outputs": [],
   "source": [
    "all_feat = count_vect.get_feature_names()\n"
   ]
  },
  {
   "cell_type": "code",
   "execution_count": 230,
   "metadata": {},
   "outputs": [],
   "source": [
    "def show_most_informative_features(vectorizer, clf, n= 25):\n",
    "    feature_names = all_feat\n",
    "    coefs_with_fns = sorted(zip(clf.coef_[0], feature_names))\n",
    "    top = zip(coefs_with_fns[:(n + 1): -1], coefs_with_fns[:n])\n",
    "    print(\"\\t\\tPositive\\t\\t\\t\\t\\tNegative\")\n",
    "    print(\"_________________________________________________________________________________ \\n\")\n",
    "    for (coef_1, fn_2), (coef_2, fn_1) in top:\n",
    "        print(\"\\t%.4f\\t%-15s\\t\\t\\t\\t%.4f\\t%-15s\" % (coef_1, fn_2, coef_2, fn_1))\n",
    "        \n",
    "\n",
    "\n",
    "#Source : https://stackoverflow.com/questions/11116697/how-to-get-most-informative-features-for-scikit-learn-classifiers"
   ]
  },
  {
   "cell_type": "code",
   "execution_count": 231,
   "metadata": {},
   "outputs": [
    {
     "name": "stdout",
     "output_type": "stream",
     "text": [
      "\t\tPositive\t\t\t\t\tNegative\n",
      "_________________________________________________________________________________ \n",
      "\n",
      "\t33.8003\timpati         \t\t\t\t-43.4535\tshipmentitem   \n",
      "\t32.1093\tproductenjoy   \t\t\t\t-43.2657\tpodgot         \n",
      "\t31.7843\tupsw           \t\t\t\t-41.5107\ttastknow       \n",
      "\t29.8639\tdonewell       \t\t\t\t-39.2127\toverprtea      \n",
      "\t26.1547\tlovelove       \t\t\t\t-38.8584\tfoodview       \n",
      "\t26.0013\tpoliciprice    \t\t\t\t-38.7662\tlickship       \n",
      "\t25.9398\tdownsid        \t\t\t\t-37.7924\toneundrink     \n",
      "\t25.8937\twaylike        \t\t\t\t-37.6076\tdonutrememb    \n",
      "\t25.8732\tonegreat       \t\t\t\t-36.2536\tpricecarbquik  \n",
      "\t25.3847\tpopcornpopcorn \t\t\t\t-36.1998\tvaluthorough   \n",
      "\t25.2715\tunsur          \t\t\t\t-35.3939\tfinnish        \n",
      "\t25.0400\tyesgreat       \t\t\t\t-35.1464\tpcs            \n",
      "\t24.6842\tripgreat       \t\t\t\t-34.5653\tmarketamazon   \n",
      "\t24.6829\tconposit       \t\t\t\t-33.9946\ttreatwonder    \n",
      "\t24.6258\tyummigreat     \t\t\t\t-33.7071\tdisappointive  \n",
      "\t24.5945\tthinglook      \t\t\t\t-33.5976\tdecepthonest   \n",
      "\t24.5368\tdrawback       \t\t\t\t-33.5408\thungrimade     \n",
      "\t24.1742\tdisput         \t\t\t\t-33.0447\tchihuahuawant  \n",
      "\t24.0681\ttreatgood      \t\t\t\t-32.8378\tquotthink      \n",
      "\t24.0669\tzing           \t\t\t\t-32.7146\tpowderamend    \n",
      "\t23.7863\torigntast      \t\t\t\t-32.5355\ttimeseawe      \n",
      "\t23.5082\tconvenihot     \t\t\t\t-31.6909\tcrireturn      \n",
      "\t23.4525\tlovedog        \t\t\t\t-31.6717\tassortdisappoint\n",
      "\t23.4273\tjobnoth        \t\t\t\t-31.6351\tyummicandi     \n",
      "\t23.3046\tawesomlisten   \t\t\t\t-31.6194\tchangword      \n"
     ]
    }
   ],
   "source": [
    "show_most_informative_features(X_train_bow,clf)\n"
   ]
  },
  {
   "cell_type": "markdown",
   "metadata": {},
   "source": [
    "<h2> 2.2 RandomizedSearchCV: </h2>"
   ]
  },
  {
   "cell_type": "code",
   "execution_count": 200,
   "metadata": {},
   "outputs": [],
   "source": [
    "from sklearn.model_selection import RandomizedSearchCV\n",
    "import warnings\n",
    "warnings.filterwarnings(\"ignore\")"
   ]
  },
  {
   "cell_type": "code",
   "execution_count": 201,
   "metadata": {},
   "outputs": [
    {
     "name": "stdout",
     "output_type": "stream",
     "text": [
      "LogisticRegression(C=10000, class_weight=None, dual=False, fit_intercept=True,\n",
      "          intercept_scaling=1, max_iter=100, multi_class='ovr', n_jobs=-1,\n",
      "          penalty='l1', random_state=None, solver='liblinear', tol=0.0001,\n",
      "          verbose=0, warm_start=False)\n",
      "Score with f1 is : 0.9925615256785629\n",
      "Best HyperParameter for f1 scoring:  {'penalty': 'l1', 'C': 10000}\n",
      "Best Accuracy for f1 scoring: 97.73%\n",
      "------------------------------------------------------------------------\n",
      "\n",
      "------------------------------------------------------------------------\n",
      "LogisticRegression(C=100, class_weight=None, dual=False, fit_intercept=True,\n",
      "          intercept_scaling=1, max_iter=100, multi_class='ovr', n_jobs=-1,\n",
      "          penalty='l2', random_state=None, solver='liblinear', tol=0.0001,\n",
      "          verbose=0, warm_start=False)\n",
      "Score with roc_auc is : 0.9911374685758861\n",
      "Best HyperParameter for roc_auc:  {'penalty': 'l2', 'C': 100}\n",
      "Best Accuracy for roc_auc: 97.66%\n",
      "------------------------------------------------------------------------\n",
      "Time taken to run this cell :\n",
      " 0:16:16.729913\n",
      "------------------------------------------------------------------------\n"
     ]
    }
   ],
   "source": [
    "start = datetime.now()\n",
    "\n",
    "\n",
    "tuned_parameters = { 'C': [10**-4, 10**-2, 10**-1, 10**0, 10**1, 10**2, 10**4],\n",
    "              'penalty':['l1','l2']}\n",
    "model = RandomizedSearchCV(LogisticRegression(n_jobs = -1), tuned_parameters, cv = tscv,\n",
    "                     scoring = 'f1', n_jobs = -1)\n",
    "model.fit(X_train_bow, Y_train)\n",
    "Y_pred = model.predict(X_test_bow)\n",
    "print(model.best_estimator_)\n",
    "print('Score with f1 is :',model.score(X_test_bow, Y_test))\n",
    "print(\"Best HyperParameter for f1 scoring: \",model.best_params_)\n",
    "print(\"Best Accuracy for f1 scoring: %.2f%%\"%(model.best_score_*100))\n",
    "\n",
    "print('------------------------------------------------------------------------\\n')\n",
    "\n",
    "print('------------------------------------------------------------------------')\n",
    "\n",
    "\n",
    "\n",
    "model_roc_auc = RandomizedSearchCV(LogisticRegression(n_jobs = -1), tuned_parameters, cv = tscv,\n",
    "                     scoring = 'roc_auc', n_jobs = -1)\n",
    "model_roc_auc.fit(X_train_bow, Y_train)\n",
    "Y_pred = model_roc_auc.predict(X_test_bow)\n",
    "print(model_roc_auc.best_estimator_)\n",
    "print('Score with roc_auc is :',model_roc_auc.score(X_test_bow, Y_test))\n",
    "print(\"Best HyperParameter for roc_auc: \",model_roc_auc.best_params_)\n",
    "print(\"Best Accuracy for roc_auc: %.2f%%\"%(model_roc_auc.best_score_*100))\n",
    "\n",
    "print('------------------------------------------------------------------------')\n",
    "print(\"Time taken to run this cell :\\n\", datetime.now() - start)\n",
    "print('------------------------------------------------------------------------')"
   ]
  },
  {
   "cell_type": "code",
   "execution_count": 232,
   "metadata": {},
   "outputs": [
    {
     "data": {
      "image/png": "[encoded data removed]",
      "text/plain": [
       "<Figure size 432x288 with 1 Axes>"
      ]
     },
     "metadata": {},
     "output_type": "display_data"
    },
    {
     "data": {
      "image/png": "[encoded data removed]",
      "text/plain": [
       "<Figure size 432x288 with 1 Axes>"
      ]
     },
     "metadata": {},
     "output_type": "display_data"
    }
   ],
   "source": [
    "#Function to plot Misclassification error against C\n",
    "def plot_error_vs_c_random(model):\n",
    "    x1=[]\n",
    "    y1=[]\n",
    "    x2=[]\n",
    "    y2=[]\n",
    "    for a in model.grid_scores_:\n",
    "        if (a[0]['penalty']) == 'l1':\n",
    "            y1.append(1-a[1])\n",
    "            x1.append(a[0]['C'])\n",
    "        else:\n",
    "            y2.append(1-a[1])\n",
    "            x2.append(a[0]['C'])\n",
    "\n",
    "    ind1 = np.argsort(x1)\n",
    "    x1=np.array(x1)\n",
    "    y1=np.array(y1)\n",
    "    ind2 = np.argsort(x2)\n",
    "    x2=np.array(x2)\n",
    "    y2=np.array(y2)\n",
    "    plt.xlim(10**-4,10**4) # Limiting Values of tuned parameter \n",
    "    plt.ylim(0,0.5) #assuming maximum error would be 50%\n",
    "    plt.xlabel(\"C\",fontsize=15)\n",
    "    plt.ylabel(\"Misclassification Error\")\n",
    "    plt.title('Misclassification Error v/s C')\n",
    "    plt.plot(x1[ind1],y1[ind1],'k',label=\"L1\")\n",
    "    plt.plot(x2[ind2],y2[ind2],'y',label=\"L2\")\n",
    "    plt.legend()\n",
    "    plt.show()\n",
    "\n",
    "plot_error_vs_c_random(model)\n",
    "plot_error_vs_c_random(model_roc_auc)"
   ]
  },
  {
   "cell_type": "markdown",
   "metadata": {},
   "source": [
    "<h3> 2.2.1 As per the f-1 scoring: </h3>\n"
   ]
  },
  {
   "cell_type": "code",
   "execution_count": 233,
   "metadata": {},
   "outputs": [
    {
     "name": "stdout",
     "output_type": "stream",
     "text": [
      "Sparsity is : 76.48580794404306\n",
      "Non zero Weights : 21448\n",
      "Accuracy on test set: 98.796%\n",
      "Macro F1-Score on test set: 0.977\n",
      "Micro F1-Score on test set: 0.988\n",
      "Weighted F1-Score on test set: 0.988\n",
      "Macro roc_auc Score on test set: 0.979\n",
      "Micro roc_auc Score on test set: 0.979\n",
      "Weighted roc_auc Score on test set: 0.979\n",
      "Precision on test set: 0.993\n",
      "Recall on test set: 0.992\n",
      "Error : 1.204%\n",
      "Log loss : 0.4160048245599533\n",
      "Precision recall report :\n",
      "              precision    recall  f1-score   support\n",
      "\n",
      "         -1       0.96      0.96      0.96     14189\n",
      "          1       0.99      0.99      0.99     75811\n",
      "\n",
      "avg / total       0.99      0.99      0.99     90000\n",
      "\n",
      "TPR is 0.9923098231127409\n",
      "TNR is 0.964690957784199\n",
      "FPR is 0.03530904221580097\n",
      "FNR is 0.007690176887259105\n",
      "\n",
      "------------------------------------------------------------------------\n",
      "Time taken to run this cell :\n",
      " 0:00:10.024802\n",
      "------------------------------------------------------------------------\n"
     ]
    },
    {
     "data": {
      "image/png": "[encoded data removed]",
      "text/plain": [
       "<Figure size 432x288 with 2 Axes>"
      ]
     },
     "metadata": {},
     "output_type": "display_data"
    }
   ],
   "source": [
    "start = datetime.now()\n",
    "\n",
    "\n",
    "\n",
    "clf = LogisticRegression(C= 10000, penalty='l1', class_weight = 'balanced'); #best hyper-parameters\n",
    "clf.fit(X_train_bow, Y_train);\n",
    "Y_pred = clf.predict(X_test_bow)\n",
    "w = clf.coef_\n",
    "sparsity = np.mean(w.ravel()==0)*100\n",
    "print('Sparsity is :' ,sparsity)\n",
    "print('Non zero Weights :', np.count_nonzero(w))\n",
    "print(\"Accuracy on test set: %0.3f%%\"%(accuracy_score(Y_test, Y_pred)*100)) \n",
    "print(\"Macro F1-Score on test set: %0.3f\"%(f1_score(Y_test, Y_pred, average='macro')))\n",
    "print(\"Micro F1-Score on test set: %0.3f\"%(f1_score(Y_test, Y_pred, average='micro')))\n",
    "print(\"Weighted F1-Score on test set: %0.3f\"%(f1_score(Y_test, Y_pred, average='weighted')))\n",
    "print(\"Macro roc_auc Score on test set: %0.3f\"%(roc_auc_score(Y_test, Y_pred, \n",
    "                                                              average='macro')))\n",
    "print(\"Micro roc_auc Score on test set: %0.3f\"%(roc_auc_score(Y_test, Y_pred, \n",
    "                                                              average='micro')))\n",
    "print(\"Weighted roc_auc Score on test set: %0.3f\"%(roc_auc_score(Y_test, Y_pred, \n",
    "                                                              average='weighted')))\n",
    "print(\"Precision on test set: %0.3f\"%(precision_score(Y_test, Y_pred)))\n",
    "print(\"Recall on test set: %0.3f\"%(recall_score(Y_test, Y_pred)))\n",
    "print(\"Error : %0.3f%%\"%(100-(accuracy_score(Y_test, Y_pred)*100)))\n",
    "print(\"Log loss :\",metrics.log_loss(Y_test,Y_pred))\n",
    "print(\"Precision recall report :\\n\",metrics.classification_report(Y_test, Y_pred))\n",
    "CM = confusion_matrix(Y_test ,Y_pred)\n",
    "TN = CM[0][0]\n",
    "FN = CM[1][0]\n",
    "TP = CM[1][1]\n",
    "FP = CM[0][1]\n",
    "# true positive rate\n",
    "TPR = TP/(TP+FN)\n",
    "# Specificity or true negative rate\n",
    "TNR = TN/(TN+FP) \n",
    "# Fall out or false positive rate\n",
    "FPR = FP/(FP+TN)\n",
    "# False negative rate\n",
    "FNR = FN/(TP+FN)\n",
    "\n",
    "\n",
    "print(\"TPR is\", TPR)\n",
    "print(\"TNR is\", TNR)\n",
    "print(\"FPR is\", FPR)\n",
    "print(\"FNR is\", FNR)\n",
    "df_cm = pd.DataFrame(confusion_matrix(Y_test, Y_pred), range(2),range(2))\n",
    "sns.set(font_scale=1.5)\n",
    "sns.heatmap(df_cm, annot=True,annot_kws={\"size\": 16}, fmt='g')\n",
    "\n",
    "\n",
    "print('\\n------------------------------------------------------------------------')\n",
    "print(\"Time taken to run this cell :\\n\", datetime.now() - start)\n",
    "print('------------------------------------------------------------------------')"
   ]
  },
  {
   "cell_type": "markdown",
   "metadata": {},
   "source": [
    "<h3> 2.2.2 As per the roc_auc scoring: </h3>\n"
   ]
  },
  {
   "cell_type": "code",
   "execution_count": 234,
   "metadata": {},
   "outputs": [
    {
     "name": "stdout",
     "output_type": "stream",
     "text": [
      "Sparsity is : 0.0\n",
      "Non zero Weights : 91213\n",
      "Accuracy on test set: 97.508%\n",
      "Macro F1-Score on test set: 0.955\n",
      "Micro F1-Score on test set: 0.975\n",
      "Weighted F1-Score on test set: 0.976\n",
      "Macro roc_auc Score on test set: 0.975\n",
      "Micro roc_auc Score on test set: 0.975\n",
      "Weighted roc_auc Score on test set: 0.975\n",
      "Precision on test set: 0.995\n",
      "Recall on test set: 0.975\n",
      "Error : 2.492%\n",
      "Log loss : 0.8607862678717448\n",
      "Precision recall report :\n",
      "              precision    recall  f1-score   support\n",
      "\n",
      "         -1       0.88      0.97      0.92     14189\n",
      "          1       1.00      0.98      0.99     75811\n",
      "\n",
      "avg / total       0.98      0.98      0.98     90000\n",
      "\n",
      "TPR is 0.9751751065148857\n",
      "TNR is 0.9745577560081754\n",
      "FPR is 0.025442243991824653\n",
      "FNR is 0.024824893485114297\n",
      "\n",
      "------------------------------------------------------------------------\n",
      "Time taken to run this cell :\n",
      " 0:00:32.056051\n",
      "------------------------------------------------------------------------\n"
     ]
    },
    {
     "data": {
      "image/png": "[encoded data removed]",
      "text/plain": [
       "<Figure size 432x288 with 2 Axes>"
      ]
     },
     "metadata": {},
     "output_type": "display_data"
    }
   ],
   "source": [
    "start = datetime.now()\n",
    "\n",
    "\n",
    "\n",
    "clf = LogisticRegression(C= 100, penalty='l2', class_weight = 'balanced'); #best hyper-parameters\n",
    "clf.fit(X_train_bow, Y_train);\n",
    "Y_pred = clf.predict(X_test_bow)\n",
    "w = clf.coef_\n",
    "sparsity = np.mean(w.ravel()==0)*100\n",
    "print('Sparsity is :' ,sparsity)\n",
    "print('Non zero Weights :', np.count_nonzero(w))\n",
    "print(\"Accuracy on test set: %0.3f%%\"%(accuracy_score(Y_test, Y_pred)*100)) \n",
    "print(\"Macro F1-Score on test set: %0.3f\"%(f1_score(Y_test, Y_pred, average='macro')))\n",
    "print(\"Micro F1-Score on test set: %0.3f\"%(f1_score(Y_test, Y_pred, average='micro')))\n",
    "print(\"Weighted F1-Score on test set: %0.3f\"%(f1_score(Y_test, Y_pred, average='weighted')))\n",
    "print(\"Macro roc_auc Score on test set: %0.3f\"%(roc_auc_score(Y_test, Y_pred, \n",
    "                                                              average='macro')))\n",
    "print(\"Micro roc_auc Score on test set: %0.3f\"%(roc_auc_score(Y_test, Y_pred, \n",
    "                                                              average='micro')))\n",
    "print(\"Weighted roc_auc Score on test set: %0.3f\"%(roc_auc_score(Y_test, Y_pred, \n",
    "                                                              average='weighted')))\n",
    "print(\"Precision on test set: %0.3f\"%(precision_score(Y_test, Y_pred)))\n",
    "print(\"Recall on test set: %0.3f\"%(recall_score(Y_test, Y_pred)))\n",
    "print(\"Error : %0.3f%%\"%(100-(accuracy_score(Y_test, Y_pred)*100)))\n",
    "print(\"Log loss :\",metrics.log_loss(Y_test,Y_pred))\n",
    "print(\"Precision recall report :\\n\",metrics.classification_report(Y_test, Y_pred))\n",
    "CM = confusion_matrix(Y_test ,Y_pred)\n",
    "TN = CM[0][0]\n",
    "FN = CM[1][0]\n",
    "TP = CM[1][1]\n",
    "FP = CM[0][1]\n",
    "# true positive rate\n",
    "TPR = TP/(TP+FN)\n",
    "# Specificity or true negative rate\n",
    "TNR = TN/(TN+FP) \n",
    "# Fall out or false positive rate\n",
    "FPR = FP/(FP+TN)\n",
    "# False negative rate\n",
    "FNR = FN/(TP+FN)\n",
    "\n",
    "\n",
    "print(\"TPR is\", TPR)\n",
    "print(\"TNR is\", TNR)\n",
    "print(\"FPR is\", FPR)\n",
    "print(\"FNR is\", FNR)\n",
    "df_cm = pd.DataFrame(confusion_matrix(Y_test, Y_pred), range(2),range(2))\n",
    "sns.set(font_scale=1.5)\n",
    "sns.heatmap(df_cm, annot=True,annot_kws={\"size\": 16}, fmt='g')\n",
    "\n",
    "\n",
    "print('\\n------------------------------------------------------------------------')\n",
    "print(\"Time taken to run this cell :\\n\", datetime.now() - start)\n",
    "print('------------------------------------------------------------------------')"
   ]
  },
  {
   "cell_type": "markdown",
   "metadata": {},
   "source": [
    "<h3> 2.2.3 Peterburation Test: </h3>\n"
   ]
  },
  {
   "cell_type": "code",
   "execution_count": 235,
   "metadata": {},
   "outputs": [],
   "source": [
    "X_train_random = X_train_bow\n",
    "#Random noise\n",
    "epsilon = np.random.uniform(low=-0.0001, high=0.0001, size=(find(X_train_random)[0].size,))\n",
    "#Getting the postions(row and column) and value of non-zero datapoints \n",
    "a,b,c = find(X_train_random)\n",
    "\n",
    "#Introducing random noise to non-zero datapoints\n",
    "X_train_random[a,b] = epsilon + X_train_random[a,b]"
   ]
  },
  {
   "cell_type": "code",
   "execution_count": 236,
   "metadata": {},
   "outputs": [
    {
     "name": "stdout",
     "output_type": "stream",
     "text": [
      "Sparsity is : 0.0\n",
      "Accuracy on test set: 97.508%\n",
      "Macro F1-Score on test set: 0.955\n",
      "Micro F1-Score on test set: 0.975\n",
      "Weighted F1-Score on test set: 0.976\n",
      "Log loss : 0.8607862678717448\n",
      "Non Zero weights: 91213\n",
      "Error : 2.492%\n",
      "\n",
      "------------------------------------------------------------------------\n",
      "Time taken to run this cell :\n",
      " 0:00:24.414517\n",
      "------------------------------------------------------------------------\n"
     ]
    }
   ],
   "source": [
    "start = datetime.now()\n",
    "\n",
    "\n",
    "clf1 = LogisticRegression(C= 100, penalty= 'l2')\n",
    "clf1.fit(X_train_random,Y_train)\n",
    "Y_pred = clf.predict(X_test_bow)\n",
    "print('Sparsity is :' ,sparsity)\n",
    "print(\"Accuracy on test set: %0.3f%%\"%(accuracy_score(Y_test, Y_pred)*100))\n",
    "print(\"Macro F1-Score on test set: %0.3f\"%(f1_score(Y_test, Y_pred, average='macro')))\n",
    "print(\"Micro F1-Score on test set: %0.3f\"%(f1_score(Y_test, Y_pred, average='micro')))\n",
    "print(\"Weighted F1-Score on test set: %0.3f\"%(f1_score(Y_test, Y_pred, average='weighted')))\n",
    "print(\"Log loss :\",metrics.log_loss(Y_test,Y_pred))\n",
    "print(\"Non Zero weights:\",np.count_nonzero(clf.coef_))\n",
    "print(\"Error : %0.3f%%\"%(100-(accuracy_score(Y_test, Y_pred)*100)))\n",
    "\n",
    "\n",
    "print('\\n------------------------------------------------------------------------')\n",
    "print(\"Time taken to run this cell :\\n\", datetime.now() - start)\n",
    "print('------------------------------------------------------------------------')"
   ]
  },
  {
   "cell_type": "code",
   "execution_count": 237,
   "metadata": {},
   "outputs": [
    {
     "name": "stdout",
     "output_type": "stream",
     "text": [
      "\t\tPositive\t\t\t\t\tNegative\n",
      "_________________________________________________________________________________ \n",
      "\n",
      "\t32.8521\tripgreat       \t\t\t\t-37.0834\ttastknow       \n",
      "\t32.5355\timpati         \t\t\t\t-37.0645\tshipmentitem   \n",
      "\t32.0067\tproductenjoy   \t\t\t\t-36.0257\tpodgot         \n",
      "\t26.9159\twebsitceltic   \t\t\t\t-34.4162\toneundrink     \n",
      "\t26.5956\tdonewell       \t\t\t\t-34.1300\tfoodview       \n",
      "\t25.7015\tupsw           \t\t\t\t-32.7081\tvaluthorough   \n",
      "\t25.4041\tseemmust       \t\t\t\t-32.4241\tdonutrememb    \n",
      "\t24.8394\tpoliciprice    \t\t\t\t-32.0736\tpricecarbquik  \n",
      "\t24.4653\tlikemight      \t\t\t\t-31.5444\tpcs            \n",
      "\t23.8461\twaylike        \t\t\t\t-30.8382\tfinnish        \n",
      "\t23.6452\tconposit       \t\t\t\t-30.3088\tlickship       \n",
      "\t23.5140\tonegreat       \t\t\t\t-29.2352\tdecepthonest   \n",
      "\t23.4688\tdentdont       \t\t\t\t-29.0186\thungrimade     \n",
      "\t23.4017\tlovelove       \t\t\t\t-28.9144\tchihuahuawant  \n",
      "\t23.1064\tpopcornpopcorn \t\t\t\t-28.1898\tcrireturn      \n",
      "\t22.8285\tdownsid        \t\t\t\t-28.0243\tricewant       \n",
      "\t22.7493\tblendcompait   \t\t\t\t-27.6953\ttreatwonder    \n",
      "\t22.6740\tthinglook      \t\t\t\t-27.6926\tquotthink      \n",
      "\t22.5468\tdisput         \t\t\t\t-27.5965\tyummicandi     \n",
      "\t22.4829\tunsur          \t\t\t\t-27.4351\twhop           \n",
      "\t22.3617\tdrawback       \t\t\t\t-27.2154\ttimeseawe      \n",
      "\t22.1890\tgoodgreat      \t\t\t\t-26.6353\talgav          \n",
      "\t22.1859\ttreatgood      \t\t\t\t-26.3097\tassortdisappoint\n",
      "\t22.1162\tawesomlisten   \t\t\t\t-26.1547\tenoughtasti    \n",
      "\t22.1133\tbewarsecond    \t\t\t\t-26.0342\tpriceyfood     \n"
     ]
    }
   ],
   "source": [
    "show_most_informative_features(X_train_bow,clf1)"
   ]
  },
  {
   "cell_type": "markdown",
   "metadata": {},
   "source": [
    "<h1> 3.Term frequency & Inverse document frequency </h1>\n"
   ]
  },
  {
   "cell_type": "code",
   "execution_count": 208,
   "metadata": {},
   "outputs": [
    {
     "name": "stdout",
     "output_type": "stream",
     "text": [
      "the type of count vectorizer  <class 'scipy.sparse.csr.csr_matrix'>\n",
      "the shape of out text TFIDF vectorizer  (210000, 1355449)\n",
      "the number of unique words including both unigrams and bigrams  1355449\n"
     ]
    }
   ],
   "source": [
    "tf_idf_vect = TfidfVectorizer(ngram_range=(1,2))\n",
    "X_train_tf = tf_idf_vect.fit_transform(X_train.values)\n",
    "X_test_tf = tf_idf_vect.transform(X_test)\n",
    "print(\"the type of count vectorizer \",type(X_train_tf))\n",
    "print(\"the shape of out text TFIDF vectorizer \",X_train_tf.get_shape())\n",
    "print(\"the number of unique words including both unigrams and bigrams \", X_train_tf.get_shape()[1])"
   ]
  },
  {
   "cell_type": "code",
   "execution_count": 209,
   "metadata": {},
   "outputs": [
    {
     "data": {
      "text/plain": [
       "<210000x1355449 sparse matrix of type '<class 'numpy.float64'>'\n",
       "\twith 14870021 stored elements in Compressed Sparse Row format>"
      ]
     },
     "execution_count": 209,
     "metadata": {},
     "output_type": "execute_result"
    }
   ],
   "source": [
    "X_train_tf = preprocessing.normalize(X_train_tf)\n",
    "X_train_tf"
   ]
  },
  {
   "cell_type": "code",
   "execution_count": 210,
   "metadata": {},
   "outputs": [
    {
     "name": "stdout",
     "output_type": "stream",
     "text": [
      "(19100, 1355449) (19090, 1355449)\n",
      "(38190, 1355449) (19090, 1355449)\n",
      "(57280, 1355449) (19090, 1355449)\n",
      "(76370, 1355449) (19090, 1355449)\n",
      "(95460, 1355449) (19090, 1355449)\n",
      "(114550, 1355449) (19090, 1355449)\n",
      "(133640, 1355449) (19090, 1355449)\n",
      "(152730, 1355449) (19090, 1355449)\n",
      "(171820, 1355449) (19090, 1355449)\n",
      "(190910, 1355449) (19090, 1355449)\n"
     ]
    }
   ],
   "source": [
    "from sklearn.model_selection import TimeSeriesSplit\n",
    "\n",
    "tscv = TimeSeriesSplit(n_splits=10)\n",
    "for train, cv in tscv.split(X_train_tf):\n",
    "    print(X_train_tf[train].shape, X_train_tf[cv].shape)\n"
   ]
  },
  {
   "cell_type": "markdown",
   "metadata": {},
   "source": [
    "<h2> 3.1 Grid Search </h2>"
   ]
  },
  {
   "cell_type": "code",
   "execution_count": 211,
   "metadata": {},
   "outputs": [
    {
     "name": "stdout",
     "output_type": "stream",
     "text": [
      "LogisticRegression(C=10000, class_weight=None, dual=False, fit_intercept=True,\n",
      "          intercept_scaling=1, max_iter=100, multi_class='ovr', n_jobs=-1,\n",
      "          penalty='l2', random_state=None, solver='liblinear', tol=0.0001,\n",
      "          verbose=0, warm_start=False)\n",
      "Score with f1 is : 0.9952734549859126\n",
      "Best HyperParameter for f1 scoring:  {'penalty': 'l2', 'C': 10000}\n",
      "Best Accuracy for f1 scoring: 98.26%\n",
      "------------------------------------------------------------------------\n",
      "\n",
      "------------------------------------------------------------------------\n",
      "LogisticRegression(C=10000, class_weight=None, dual=False, fit_intercept=True,\n",
      "          intercept_scaling=1, max_iter=100, multi_class='ovr', n_jobs=-1,\n",
      "          penalty='l2', random_state=None, solver='liblinear', tol=0.0001,\n",
      "          verbose=0, warm_start=False)\n",
      "Score with roc_auc is : 0.9979677028778122\n",
      "Best HyperParameter for roc_auc:  {'penalty': 'l2', 'C': 10000}\n",
      "Best Accuracy for roc_auc: 98.85%\n",
      "------------------------------------------------------------------------\n",
      "Time taken to run this cell :\n",
      " 0:26:18.640391\n",
      "------------------------------------------------------------------------\n"
     ]
    }
   ],
   "source": [
    "start = datetime.now()\n",
    "\n",
    "\n",
    "tuned_parameters = { 'C': [10**-4, 10**-2, 10**-1, 10**0, 10**1, 10**2, 10**4],\n",
    "              'penalty':['l1','l2']}\n",
    "model = RandomizedSearchCV(LogisticRegression(n_jobs = -1), tuned_parameters, cv = tscv,\n",
    "                     scoring = 'f1', n_jobs = -1)\n",
    "model.fit(X_train_tf, Y_train)\n",
    "Y_pred = model.predict(X_test_tf)\n",
    "print(model.best_estimator_)\n",
    "print('Score with f1 is :',model.score(X_test_tf, Y_test))\n",
    "print(\"Best HyperParameter for f1 scoring: \",model.best_params_)\n",
    "print(\"Best Accuracy for f1 scoring: %.2f%%\"%(model.best_score_*100))\n",
    "\n",
    "print('------------------------------------------------------------------------\\n')\n",
    "\n",
    "print('------------------------------------------------------------------------')\n",
    "\n",
    "\n",
    "\n",
    "model_roc_auc = RandomizedSearchCV(LogisticRegression(n_jobs = -1), tuned_parameters, cv = tscv,\n",
    "                     scoring = 'roc_auc', n_jobs = -1)\n",
    "model_roc_auc.fit(X_train_tf, Y_train)\n",
    "Y_pred = model_roc_auc.predict(X_test_tf)\n",
    "print(model_roc_auc.best_estimator_)\n",
    "print('Score with roc_auc is :',model_roc_auc.score(X_test_tf, Y_test))\n",
    "print(\"Best HyperParameter for roc_auc: \",model_roc_auc.best_params_)\n",
    "print(\"Best Accuracy for roc_auc: %.2f%%\"%(model_roc_auc.best_score_*100))\n",
    "\n",
    "print('------------------------------------------------------------------------')\n",
    "print(\"Time taken to run this cell :\\n\", datetime.now() - start)\n",
    "print('------------------------------------------------------------------------')"
   ]
  },
  {
   "cell_type": "code",
   "execution_count": 238,
   "metadata": {},
   "outputs": [
    {
     "data": {
      "image/png": "[encoded data removed]",
      "text/plain": [
       "<Figure size 432x288 with 1 Axes>"
      ]
     },
     "metadata": {},
     "output_type": "display_data"
    },
    {
     "data": {
      "image/png": "[encoded data removed]",
      "text/plain": [
       "<Figure size 432x288 with 1 Axes>"
      ]
     },
     "metadata": {},
     "output_type": "display_data"
    }
   ],
   "source": [
    "plot_error_vs_c(model)\n",
    "plot_error_vs_c(model_roc_auc)"
   ]
  },
  {
   "cell_type": "code",
   "execution_count": 239,
   "metadata": {},
   "outputs": [
    {
     "name": "stdout",
     "output_type": "stream",
     "text": [
      "Sparsity is : 0.0\n",
      "Non zero Weights : 1355449\n",
      "Accuracy on test set: 99.224%\n",
      "Macro F1-Score on test set: 0.985\n",
      "Micro F1-Score on test set: 0.992\n",
      "Weighted F1-Score on test set: 0.992\n",
      "Macro roc_auc Score on test set: 0.983\n",
      "Micro roc_auc Score on test set: 0.983\n",
      "Weighted roc_auc Score on test set: 0.983\n",
      "Precision on test set: 0.995\n",
      "Recall on test set: 0.996\n",
      "Error : 0.776%\n",
      "Log loss : 0.2678711039530682\n",
      "Precision recall report :\n",
      "              precision    recall  f1-score   support\n",
      "\n",
      "         -1       0.98      0.97      0.98     14189\n",
      "          1       0.99      1.00      1.00     75811\n",
      "\n",
      "avg / total       0.99      0.99      0.99     90000\n",
      "\n",
      "TPR is 0.9962934138845286\n",
      "TNR is 0.9706110367185848\n",
      "FPR is 0.02938896328141518\n",
      "FNR is 0.0037065861154713694\n",
      "\n",
      "------------------------------------------------------------------------\n",
      "Time taken to run this cell :\n",
      " 0:00:40.433049\n",
      "------------------------------------------------------------------------\n"
     ]
    },
    {
     "data": {
      "image/png": "[encoded data removed]",
      "text/plain": [
       "<Figure size 432x288 with 2 Axes>"
      ]
     },
     "metadata": {},
     "output_type": "display_data"
    }
   ],
   "source": [
    "start = datetime.now()\n",
    "\n",
    "\n",
    "\n",
    "clf = LogisticRegression(C= 10000, penalty='l2', class_weight = 'balanced'); #best hyper-parameters\n",
    "clf.fit(X_train_tf, Y_train);\n",
    "Y_pred = clf.predict(X_test_tf)\n",
    "w = clf.coef_\n",
    "sparsity = np.mean(w.ravel()==0)*100\n",
    "print('Sparsity is :' ,sparsity)\n",
    "print('Non zero Weights :', np.count_nonzero(w))\n",
    "print(\"Accuracy on test set: %0.3f%%\"%(accuracy_score(Y_test, Y_pred)*100)) \n",
    "print(\"Macro F1-Score on test set: %0.3f\"%(f1_score(Y_test, Y_pred, average='macro')))\n",
    "print(\"Micro F1-Score on test set: %0.3f\"%(f1_score(Y_test, Y_pred, average='micro')))\n",
    "print(\"Weighted F1-Score on test set: %0.3f\"%(f1_score(Y_test, Y_pred, average='weighted')))\n",
    "print(\"Macro roc_auc Score on test set: %0.3f\"%(roc_auc_score(Y_test, Y_pred, \n",
    "                                                              average='macro')))\n",
    "print(\"Micro roc_auc Score on test set: %0.3f\"%(roc_auc_score(Y_test, Y_pred, \n",
    "                                                              average='micro')))\n",
    "print(\"Weighted roc_auc Score on test set: %0.3f\"%(roc_auc_score(Y_test, Y_pred, \n",
    "                                                              average='weighted')))\n",
    "print(\"Precision on test set: %0.3f\"%(precision_score(Y_test, Y_pred)))\n",
    "print(\"Recall on test set: %0.3f\"%(recall_score(Y_test, Y_pred)))\n",
    "print(\"Error : %0.3f%%\"%(100-(accuracy_score(Y_test, Y_pred)*100)))\n",
    "print(\"Log loss :\",metrics.log_loss(Y_test,Y_pred))\n",
    "print(\"Precision recall report :\\n\",metrics.classification_report(Y_test, Y_pred))\n",
    "CM = confusion_matrix(Y_test ,Y_pred)\n",
    "TN = CM[0][0]\n",
    "FN = CM[1][0]\n",
    "TP = CM[1][1]\n",
    "FP = CM[0][1]\n",
    "# true positive rate\n",
    "TPR = TP/(TP+FN)\n",
    "# Specificity or true negative rate\n",
    "TNR = TN/(TN+FP) \n",
    "# Fall out or false positive rate\n",
    "FPR = FP/(FP+TN)\n",
    "# False negative rate\n",
    "FNR = FN/(TP+FN)\n",
    "\n",
    "\n",
    "print(\"TPR is\", TPR)\n",
    "print(\"TNR is\", TNR)\n",
    "print(\"FPR is\", FPR)\n",
    "print(\"FNR is\", FNR)\n",
    "df_cm = pd.DataFrame(confusion_matrix(Y_test, Y_pred), range(2),range(2))\n",
    "sns.set(font_scale=1.5)\n",
    "sns.heatmap(df_cm, annot=True,annot_kws={\"size\": 16}, fmt='g')\n",
    "\n",
    "\n",
    "print('\\n------------------------------------------------------------------------')\n",
    "print(\"Time taken to run this cell :\\n\", datetime.now() - start)\n",
    "print('------------------------------------------------------------------------')"
   ]
  },
  {
   "cell_type": "markdown",
   "metadata": {},
   "source": [
    "<h3> 3.1.1 Peterburation Test: </h3>\n"
   ]
  },
  {
   "cell_type": "code",
   "execution_count": 240,
   "metadata": {},
   "outputs": [],
   "source": [
    "X_train_random = X_train_tf\n",
    "#Random noise\n",
    "epsilon = np.random.uniform(low=-0.0001, high=0.0001, size=(find(X_train_random)[0].size,))\n",
    "#Getting the postions(row and column) and value of non-zero datapoints \n",
    "a,b,c = find(X_train_random)\n",
    "\n",
    "#Introducing random noise to non-zero datapoints\n",
    "X_train_random[a,b] = epsilon + X_train_random[a,b]\n"
   ]
  },
  {
   "cell_type": "code",
   "execution_count": 241,
   "metadata": {},
   "outputs": [
    {
     "name": "stdout",
     "output_type": "stream",
     "text": [
      "Sparsity is : 0.0\n",
      "Accuracy on test set: 99.224%\n",
      "Macro F1-Score on test set: 0.985\n",
      "Micro F1-Score on test set: 0.992\n",
      "Weighted F1-Score on test set: 0.992\n",
      "Log loss : 0.2678711039530682\n",
      "Non Zero weights: 1355449\n",
      "Error : 0.776%\n",
      "\n",
      "------------------------------------------------------------------------\n",
      "Time taken to run this cell :\n",
      " 0:00:26.538896\n",
      "------------------------------------------------------------------------\n"
     ]
    }
   ],
   "source": [
    "start = datetime.now()\n",
    "\n",
    "\n",
    "clf1 = LogisticRegression(C= 10000, penalty= 'l2')\n",
    "clf1.fit(X_train_random,Y_train)\n",
    "Y_pred = clf.predict(X_test_tf)\n",
    "print('Sparsity is :' ,sparsity)\n",
    "print(\"Accuracy on test set: %0.3f%%\"%(accuracy_score(Y_test, Y_pred)*100))\n",
    "print(\"Macro F1-Score on test set: %0.3f\"%(f1_score(Y_test, Y_pred, average='macro')))\n",
    "print(\"Micro F1-Score on test set: %0.3f\"%(f1_score(Y_test, Y_pred, average='micro')))\n",
    "print(\"Weighted F1-Score on test set: %0.3f\"%(f1_score(Y_test, Y_pred, average='weighted')))\n",
    "print(\"Log loss :\",metrics.log_loss(Y_test,Y_pred))\n",
    "print(\"Non Zero weights:\",np.count_nonzero(clf.coef_))\n",
    "print(\"Error : %0.3f%%\"%(100-(accuracy_score(Y_test, Y_pred)*100)))\n",
    "\n",
    "\n",
    "print('\\n------------------------------------------------------------------------')\n",
    "print(\"Time taken to run this cell :\\n\", datetime.now() - start)\n",
    "print('------------------------------------------------------------------------')"
   ]
  },
  {
   "cell_type": "markdown",
   "metadata": {},
   "source": [
    "<h3> 3.1.2 Important Words: </h3>\n"
   ]
  },
  {
   "cell_type": "code",
   "execution_count": 242,
   "metadata": {},
   "outputs": [
    {
     "name": "stdout",
     "output_type": "stream",
     "text": [
      "\t\tPositive\t\t\t\t\tNegative\n",
      "_________________________________________________________________________________ \n",
      "\n",
      "\t38.4261\tsauchunt       \t\t\t\t-36.7181\tricealway      \n",
      "\t36.3554\tgeesh          \t\t\t\t-28.7966\tstarterbeauti  \n",
      "\t34.1052\tbrightadmit    \t\t\t\t-17.0561\tproductbob     \n",
      "\t16.9129\tfrancbeliev    \t\t\t\t-15.2155\tusequaliti     \n",
      "\t16.3610\tfarro          \t\t\t\t-14.7818\trost           \n",
      "\t15.8869\tgreatisnt      \t\t\t\t-14.2126\tpaolo          \n",
      "\t15.4318\tlishlove       \t\t\t\t-12.9679\tinsomniacsinc  \n",
      "\t14.6633\tfiler          \t\t\t\t-12.8557\tmammapurchas   \n",
      "\t14.3675\tmuch           \t\t\t\t-12.4593\tyetglad        \n",
      "\t14.1008\tali            \t\t\t\t-12.3229\texpectlollipop \n",
      "\t14.0965\tboiardi        \t\t\t\t-11.4655\treshop         \n",
      "\t13.5153\tcitrat         \t\t\t\t-11.2961\tstawberri      \n",
      "\t12.8686\tbagelsomeon    \t\t\t\t-11.0668\tregen          \n",
      "\t12.7188\traisonfeel     \t\t\t\t-10.8836\taromaexcit     \n",
      "\t11.5457\tgravilike      \t\t\t\t-10.7879\tteacoupl       \n",
      "\t11.3303\tfindorigin     \t\t\t\t-10.6969\tpoorpeopl      \n",
      "\t11.1536\tstuffperson    \t\t\t\t-10.6750\tszege          \n",
      "\t10.9560\tshini          \t\t\t\t-10.5298\tlara           \n",
      "\t10.7297\tvaluwork       \t\t\t\t-10.3097\tcoffewow       \n",
      "\t10.5682\tsweetpomegran  \t\t\t\t-10.2916\tsonbetter      \n",
      "\t10.5245\tbestnoth       \t\t\t\t-10.0328\tchewernylabon  \n",
      "\t10.2820\ttangofavorit   \t\t\t\t-9.5985\tchewchew       \n",
      "\t10.1069\tbeluga         \t\t\t\t-9.5733\tallegeriwonder \n",
      "\t9.6956\tacoupl         \t\t\t\t-9.5047\tpecki          \n",
      "\t9.6652\tstrongorigin   \t\t\t\t-9.4799\tdelicismallish \n"
     ]
    }
   ],
   "source": [
    "show_most_informative_features(X_train_tf,clf)"
   ]
  },
  {
   "cell_type": "markdown",
   "metadata": {},
   "source": [
    "<h2> 3.2 Randomized search CV: </h2>"
   ]
  },
  {
   "cell_type": "code",
   "execution_count": 218,
   "metadata": {},
   "outputs": [
    {
     "name": "stdout",
     "output_type": "stream",
     "text": [
      "LogisticRegression(C=100, class_weight=None, dual=False, fit_intercept=True,\n",
      "          intercept_scaling=1, max_iter=100, multi_class='ovr', n_jobs=-1,\n",
      "          penalty='l2', random_state=None, solver='liblinear', tol=0.0001,\n",
      "          verbose=0, warm_start=False)\n",
      "Score with f1 is : 0.9952612873502698\n",
      "Best HyperParameter for f1 scoring:  {'penalty': 'l2', 'C': 100}\n",
      "Best Accuracy for f1 scoring: 98.22%\n",
      "------------------------------------------------------------------------\n",
      "\n",
      "------------------------------------------------------------------------\n",
      "LogisticRegression(C=100, class_weight=None, dual=False, fit_intercept=True,\n",
      "          intercept_scaling=1, max_iter=100, multi_class='ovr', n_jobs=-1,\n",
      "          penalty='l2', random_state=None, solver='liblinear', tol=0.0001,\n",
      "          verbose=0, warm_start=False)\n",
      "Score with roc_auc is : 0.9977349073722167\n",
      "Best HyperParameter for roc_auc:  {'penalty': 'l2', 'C': 100}\n",
      "Best Accuracy for roc_auc: 98.81%\n",
      "------------------------------------------------------------------------\n",
      "Time taken to run this cell :\n",
      " 0:23:15.711392\n",
      "------------------------------------------------------------------------\n"
     ]
    }
   ],
   "source": [
    "start = datetime.now()\n",
    "\n",
    "\n",
    "tuned_parameters = { 'C': [10**-4, 10**-2, 10**-1, 10**0, 10**1, 10**2, 10**4],\n",
    "              'penalty':['l1','l2']}\n",
    "model = RandomizedSearchCV(LogisticRegression(n_jobs = -1), tuned_parameters, cv = tscv,\n",
    "                     scoring = 'f1', n_jobs = -1)\n",
    "model.fit(X_train_tf, Y_train)\n",
    "Y_pred = model.predict(X_test_tf)\n",
    "print(model.best_estimator_)\n",
    "print('Score with f1 is :',model.score(X_test_tf, Y_test))\n",
    "print(\"Best HyperParameter for f1 scoring: \",model.best_params_)\n",
    "print(\"Best Accuracy for f1 scoring: %.2f%%\"%(model.best_score_*100))\n",
    "\n",
    "print('------------------------------------------------------------------------\\n')\n",
    "\n",
    "print('------------------------------------------------------------------------')\n",
    "\n",
    "\n",
    "\n",
    "model_roc_auc = RandomizedSearchCV(LogisticRegression(n_jobs = -1), tuned_parameters, \n",
    "                                   cv = tscv, scoring = 'roc_auc', n_jobs = -1)\n",
    "model_roc_auc.fit(X_train_tf, Y_train)\n",
    "Y_pred = model_roc_auc.predict(X_test_tf)\n",
    "print(model_roc_auc.best_estimator_)\n",
    "print('Score with roc_auc is :',model_roc_auc.score(X_test_tf, Y_test))\n",
    "print(\"Best HyperParameter for roc_auc: \",model_roc_auc.best_params_)\n",
    "print(\"Best Accuracy for roc_auc: %.2f%%\"%(model_roc_auc.best_score_*100))\n",
    "\n",
    "print('------------------------------------------------------------------------')\n",
    "print(\"Time taken to run this cell :\\n\", datetime.now() - start)\n",
    "print('------------------------------------------------------------------------')"
   ]
  },
  {
   "cell_type": "code",
   "execution_count": 219,
   "metadata": {},
   "outputs": [
    {
     "data": {
      "image/png": "[encoded data removed]",
      "text/plain": [
       "<Figure size 432x288 with 1 Axes>"
      ]
     },
     "metadata": {},
     "output_type": "display_data"
    },
    {
     "data": {
      "image/png": "[encoded data removed]",
      "text/plain": [
       "<Figure size 432x288 with 1 Axes>"
      ]
     },
     "metadata": {},
     "output_type": "display_data"
    }
   ],
   "source": [
    "plot_error_vs_c_random(model)\n",
    "plot_error_vs_c_random(model_roc_auc)"
   ]
  },
  {
   "cell_type": "code",
   "execution_count": 243,
   "metadata": {},
   "outputs": [
    {
     "name": "stdout",
     "output_type": "stream",
     "text": [
      "Sparsity is : 0.0\n",
      "Non zero Weights : 1355449\n",
      "Accuracy on test set: 99.237%\n",
      "Macro F1-Score on test set: 0.986\n",
      "Micro F1-Score on test set: 0.992\n",
      "Weighted F1-Score on test set: 0.992\n",
      "Macro roc_auc Score on test set: 0.985\n",
      "Micro roc_auc Score on test set: 0.985\n",
      "Weighted roc_auc Score on test set: 0.985\n",
      "Precision on test set: 0.995\n",
      "Recall on test set: 0.996\n",
      "Error : 0.763%\n",
      "Log loss : 0.2636493336881942\n",
      "Precision recall report :\n",
      "              precision    recall  f1-score   support\n",
      "\n",
      "         -1       0.98      0.97      0.98     14189\n",
      "          1       1.00      1.00      1.00     75811\n",
      "\n",
      "avg / total       0.99      0.99      0.99     90000\n",
      "\n",
      "TPR is 0.9958976929469339\n",
      "TNR is 0.9735005990556065\n",
      "FPR is 0.026499400944393545\n",
      "FNR is 0.004102307053066178\n",
      "\n",
      "------------------------------------------------------------------------\n",
      "Time taken to run this cell :\n",
      " 0:00:38.059580\n",
      "------------------------------------------------------------------------\n"
     ]
    },
    {
     "data": {
      "image/png": "[encoded data removed]",
      "text/plain": [
       "<Figure size 432x288 with 2 Axes>"
      ]
     },
     "metadata": {},
     "output_type": "display_data"
    }
   ],
   "source": [
    "start = datetime.now()\n",
    "\n",
    "\n",
    "\n",
    "clf = LogisticRegression(C= 100, penalty='l2', class_weight = 'balanced'); #best hyper-parameters\n",
    "clf.fit(X_train_tf, Y_train);\n",
    "Y_pred = clf.predict(X_test_tf)\n",
    "w = clf.coef_\n",
    "sparsity = np.mean(w.ravel()==0)*100\n",
    "print('Sparsity is :' ,sparsity)\n",
    "print('Non zero Weights :', np.count_nonzero(w))\n",
    "print(\"Accuracy on test set: %0.3f%%\"%(accuracy_score(Y_test, Y_pred)*100)) \n",
    "print(\"Macro F1-Score on test set: %0.3f\"%(f1_score(Y_test, Y_pred, average='macro')))\n",
    "print(\"Micro F1-Score on test set: %0.3f\"%(f1_score(Y_test, Y_pred, average='micro')))\n",
    "print(\"Weighted F1-Score on test set: %0.3f\"%(f1_score(Y_test, Y_pred, average='weighted')))\n",
    "print(\"Macro roc_auc Score on test set: %0.3f\"%(roc_auc_score(Y_test, Y_pred, \n",
    "                                                              average='macro')))\n",
    "print(\"Micro roc_auc Score on test set: %0.3f\"%(roc_auc_score(Y_test, Y_pred, \n",
    "                                                              average='micro')))\n",
    "print(\"Weighted roc_auc Score on test set: %0.3f\"%(roc_auc_score(Y_test, Y_pred, \n",
    "                                                              average='weighted')))\n",
    "print(\"Precision on test set: %0.3f\"%(precision_score(Y_test, Y_pred)))\n",
    "print(\"Recall on test set: %0.3f\"%(recall_score(Y_test, Y_pred)))\n",
    "print(\"Error : %0.3f%%\"%(100-(accuracy_score(Y_test, Y_pred)*100)))\n",
    "print(\"Log loss :\",metrics.log_loss(Y_test,Y_pred))\n",
    "print(\"Precision recall report :\\n\",metrics.classification_report(Y_test, Y_pred))\n",
    "CM = confusion_matrix(Y_test ,Y_pred)\n",
    "TN = CM[0][0]\n",
    "FN = CM[1][0]\n",
    "TP = CM[1][1]\n",
    "FP = CM[0][1]\n",
    "# true positive rate\n",
    "TPR = TP/(TP+FN)\n",
    "# Specificity or true negative rate\n",
    "TNR = TN/(TN+FP) \n",
    "# Fall out or false positive rate\n",
    "FPR = FP/(FP+TN)\n",
    "# False negative rate\n",
    "FNR = FN/(TP+FN)\n",
    "\n",
    "\n",
    "print(\"TPR is\", TPR)\n",
    "print(\"TNR is\", TNR)\n",
    "print(\"FPR is\", FPR)\n",
    "print(\"FNR is\", FNR)\n",
    "df_cm = pd.DataFrame(confusion_matrix(Y_test, Y_pred), range(2),range(2))\n",
    "sns.set(font_scale=1.5)\n",
    "sns.heatmap(df_cm, annot=True,annot_kws={\"size\": 16}, fmt='g')\n",
    "\n",
    "\n",
    "print('\\n------------------------------------------------------------------------')\n",
    "print(\"Time taken to run this cell :\\n\", datetime.now() - start)\n",
    "print('------------------------------------------------------------------------')"
   ]
  },
  {
   "cell_type": "code",
   "execution_count": null,
   "metadata": {},
   "outputs": [],
   "source": []
  },
  {
   "cell_type": "markdown",
   "metadata": {},
   "source": [
    "<h3> 3.2.1 Peterburation test: </h3>\n"
   ]
  },
  {
   "cell_type": "code",
   "execution_count": 244,
   "metadata": {},
   "outputs": [],
   "source": [
    "X_train_random = X_train_tf\n",
    "#Random noise\n",
    "epsilon = np.random.uniform(low=-0.0001, high=0.0001, size=(find(X_train_random)[0].size,))\n",
    "#Getting the postions(row and column) and value of non-zero datapoints \n",
    "a,b,c = find(X_train_random)\n",
    "\n",
    "#Introducing random noise to non-zero datapoints\n",
    "X_train_random[a,b] = epsilon + X_train_random[a,b]"
   ]
  },
  {
   "cell_type": "code",
   "execution_count": 245,
   "metadata": {},
   "outputs": [
    {
     "name": "stdout",
     "output_type": "stream",
     "text": [
      "Sparsity is : 0.0\n",
      "Accuracy on test set: 99.237%\n",
      "Macro F1-Score on test set: 0.986\n",
      "Micro F1-Score on test set: 0.992\n",
      "Weighted F1-Score on test set: 0.992\n",
      "Log loss : 0.2636493336881942\n",
      "Non Zero weights: 1355449\n",
      "Error : 0.763%\n",
      "\n",
      "------------------------------------------------------------------------\n",
      "Time taken to run this cell :\n",
      " 0:00:19.735343\n",
      "------------------------------------------------------------------------\n"
     ]
    }
   ],
   "source": [
    "start = datetime.now()\n",
    "\n",
    "\n",
    "clf1 = LogisticRegression(C= 100, penalty= 'l2')\n",
    "clf1.fit(X_train_random,Y_train)\n",
    "Y_pred = clf.predict(X_test_tf)\n",
    "print('Sparsity is :' ,sparsity)\n",
    "print(\"Accuracy on test set: %0.3f%%\"%(accuracy_score(Y_test, Y_pred)*100))\n",
    "print(\"Macro F1-Score on test set: %0.3f\"%(f1_score(Y_test, Y_pred, average='macro')))\n",
    "print(\"Micro F1-Score on test set: %0.3f\"%(f1_score(Y_test, Y_pred, average='micro')))\n",
    "print(\"Weighted F1-Score on test set: %0.3f\"%(f1_score(Y_test, Y_pred, average='weighted')))\n",
    "print(\"Log loss :\",metrics.log_loss(Y_test,Y_pred))\n",
    "print(\"Non Zero weights:\",np.count_nonzero(clf.coef_))\n",
    "print(\"Error : %0.3f%%\"%(100-(accuracy_score(Y_test, Y_pred)*100)))\n",
    "\n",
    "\n",
    "print('\\n------------------------------------------------------------------------')\n",
    "print(\"Time taken to run this cell :\\n\", datetime.now() - start)\n",
    "print('------------------------------------------------------------------------')"
   ]
  },
  {
   "cell_type": "markdown",
   "metadata": {},
   "source": [
    "<h3> 3.2.2 Important Words: </h3>"
   ]
  },
  {
   "cell_type": "code",
   "execution_count": 246,
   "metadata": {},
   "outputs": [
    {
     "name": "stdout",
     "output_type": "stream",
     "text": [
      "\t\tPositive\t\t\t\t\tNegative\n",
      "_________________________________________________________________________________ \n",
      "\n",
      "\t22.1598\tsauchunt       \t\t\t\t-22.9226\tricealway      \n",
      "\t21.1054\tgeesh          \t\t\t\t-17.3464\tstarterbeauti  \n",
      "\t19.6163\tbrightadmit    \t\t\t\t-9.6390\trost           \n",
      "\t10.3611\tfrancbeliev    \t\t\t\t-9.3452\tproductbob     \n",
      "\t9.3335\tboiardi        \t\t\t\t-9.1993\tusequaliti     \n",
      "\t8.8738\tfarro          \t\t\t\t-8.0990\tpaolo          \n",
      "\t8.4351\tlishlove       \t\t\t\t-7.3280\tmammapurchas   \n",
      "\t8.2832\tgreatisnt      \t\t\t\t-7.0834\tinsomniacsinc  \n",
      "\t8.1451\tmuch           \t\t\t\t-6.6551\treshop         \n",
      "\t7.9946\tfiler          \t\t\t\t-6.6124\texpectlollipop \n",
      "\t7.6531\tcitrat         \t\t\t\t-6.5113\tcoffewow       \n",
      "\t7.6106\traisonfeel     \t\t\t\t-6.4606\tyetglad        \n",
      "\t7.5647\tali            \t\t\t\t-6.2497\tpoorpeopl      \n",
      "\t7.1706\tbagelsomeon    \t\t\t\t-5.9052\taromaexcit     \n",
      "\t6.5081\tfindorigin     \t\t\t\t-5.8900\tregen          \n",
      "\t5.8889\tbestnoth       \t\t\t\t-5.8524\tsonbetter      \n",
      "\t5.8175\tacoupl         \t\t\t\t-5.7726\tteacoupl       \n",
      "\t5.6462\tstuffperson    \t\t\t\t-5.7513\tchewernylabon  \n",
      "\t5.6012\tvaluwork       \t\t\t\t-5.6196\tstawberri      \n",
      "\t5.5847\tgravilike      \t\t\t\t-5.5353\tszege          \n",
      "\t5.5231\tshini          \t\t\t\t-5.4387\tdurgan         \n",
      "\t5.4611\tlotship        \t\t\t\t-5.2413\tdelicismallish \n",
      "\t5.4011\tlinaza         \t\t\t\t-5.2257\tlara           \n",
      "\t5.3707\tfloavor        \t\t\t\t-5.1747\tworthsure      \n",
      "\t5.3188\tsweetpomegran  \t\t\t\t-4.8718\tchewchew       \n"
     ]
    }
   ],
   "source": [
    "show_most_informative_features(X,clf1)"
   ]
  },
  {
   "cell_type": "markdown",
   "metadata": {},
   "source": [
    "<h1>  4. Word to vec: </h1>\n",
    "\n",
    "\n",
    "This technique takes the semantic meaning if word into consideration. It is very simple. Just give it a word and you will get the vector of d-dimension. If two words are similar, Then the correspondin vectors seem to be closer. For example (Vman - Vwoman) || (Vking - vqueen) It learns all relatiomships without being programmed. The more the dimensions, the larger the dimensionality. we need large data to execute it. What is basically does is, it looks at the neighbourhood for similarity.\n",
    "\n"
   ]
  },
  {
   "cell_type": "code",
   "execution_count": 248,
   "metadata": {},
   "outputs": [],
   "source": [
    "\n",
    "i=0\n",
    "list_of_sent=[]\n",
    "for sent in X_train.values:\n",
    "    list_of_sent.append(sent.split())\n"
   ]
  },
  {
   "cell_type": "code",
   "execution_count": null,
   "metadata": {},
   "outputs": [],
   "source": []
  },
  {
   "cell_type": "code",
   "execution_count": 249,
   "metadata": {},
   "outputs": [
    {
     "name": "stdout",
     "output_type": "stream",
     "text": [
      "love cofferealli enjoy keurig coffe maker coffe disappoint strong smooth carmal flavor like use ice brew make latt home\n",
      "*****************************************************************\n",
      "['love', 'cofferealli', 'enjoy', 'keurig', 'coffe', 'maker', 'coffe', 'disappoint', 'strong', 'smooth', 'carmal', 'flavor', 'like', 'use', 'ice', 'brew', 'make', 'latt', 'home']\n"
     ]
    }
   ],
   "source": [
    "\n",
    "print(X_train.values[0])\n",
    "print(\"*****************************************************************\")\n",
    "print(list_of_sent[0])\n",
    "\n",
    "\n"
   ]
  },
  {
   "cell_type": "code",
   "execution_count": 252,
   "metadata": {},
   "outputs": [],
   "source": [
    "w2v_model=Word2Vec(list_of_sent,min_count=5,size=50, workers=4)"
   ]
  },
  {
   "cell_type": "code",
   "execution_count": 253,
   "metadata": {},
   "outputs": [
    {
     "name": "stdout",
     "output_type": "stream",
     "text": [
      "number of words that occured minimum 5 times  28918\n",
      "sample words  ['love', 'cofferealli', 'enjoy', 'keurig', 'coffe', 'maker', 'disappoint', 'strong', 'smooth', 'carmal', 'flavor', 'like', 'use', 'ice', 'brew', 'make', 'latt', 'home', 'dog', 'attest', 'person', 'experi', 'teacup', 'yorkshir', 'crazi', 'chew', 'strip', 'theyr', 'fussi', 'newbi', 'cook', 'miss', 'came', 'meat', 'broth', 'product', 'chicken', 'pork', 'veget', 'bouillon', 'wonder', 'get', 'ship', 'right', 'door', 'amazon', 'store', 'search', 'obscur', 'vegan']\n"
     ]
    }
   ],
   "source": [
    "w2v_words = list(w2v_model.wv.vocab)\n",
    "print(\"number of words that occured minimum 5 times \",len(w2v_words))\n",
    "print(\"sample words \", w2v_words[0:50])"
   ]
  },
  {
   "cell_type": "markdown",
   "metadata": {},
   "source": [
    "<h2> 4.1 Average W2V: </h2>\n",
    "\n",
    "\n",
    "It is basically used for converting sentences to vectors. It takes w2v of different words and adds them, then dividing them by the no of words. It is most proably the simplest way to build a sentence vector.\n"
   ]
  },
  {
   "cell_type": "code",
   "execution_count": 254,
   "metadata": {},
   "outputs": [],
   "source": [
    "\n",
    "from tqdm import tqdm"
   ]
  },
  {
   "cell_type": "code",
   "execution_count": 255,
   "metadata": {},
   "outputs": [
    {
     "name": "stderr",
     "output_type": "stream",
     "text": [
      "100%|██████████| 210000/210000 [09:48<00:00, 357.10it/s]"
     ]
    },
    {
     "name": "stdout",
     "output_type": "stream",
     "text": [
      "210000\n",
      "50\n"
     ]
    },
    {
     "name": "stderr",
     "output_type": "stream",
     "text": [
      "\n"
     ]
    }
   ],
   "source": [
    "# average Word2Vec\n",
    "# compute average word2vec for each review.\n",
    "sent_vectors = []; # the avg-w2v for each sentence/review is stored in this list\n",
    "for sent in tqdm(list_of_sent): # for each review/sentence\n",
    "    sent_vec = np.zeros(50) # as word vectors are of zero length\n",
    "    cnt_words =0; # num of words with a valid vector in the sentence/review\n",
    "    for word in sent: # for each word in a review/sentence\n",
    "        if word in w2v_words:\n",
    "            vec = w2v_model.wv[word]\n",
    "            sent_vec += vec\n",
    "            cnt_words += 1\n",
    "    if cnt_words != 0:\n",
    "        sent_vec /= cnt_words\n",
    "    sent_vectors.append(sent_vec)\n",
    "print(len(sent_vectors))\n",
    "print(len(sent_vectors[0]))"
   ]
  },
  {
   "cell_type": "markdown",
   "metadata": {},
   "source": [
    "<h3> 4.1.1 Grid search </h3>"
   ]
  },
  {
   "cell_type": "code",
   "execution_count": 258,
   "metadata": {},
   "outputs": [
    {
     "data": {
      "text/plain": [
       "array([[ 0.17795661,  0.14425901, -0.04719536, ...,  0.05941104,\n",
       "        -0.11685521, -0.05051593],\n",
       "       [-0.02111261,  0.08632243, -0.05891713, ...,  0.26546436,\n",
       "        -0.01987572, -0.17373413],\n",
       "       [ 0.35281148,  0.04244067, -0.23230923, ...,  0.01836627,\n",
       "         0.06197005,  0.09123449],\n",
       "       ...,\n",
       "       [ 0.19035748, -0.04458668, -0.16202549, ...,  0.12759574,\n",
       "         0.13080343, -0.06066861],\n",
       "       [ 0.10068023,  0.16732305, -0.1811736 , ..., -0.07314796,\n",
       "        -0.03440067, -0.15852808],\n",
       "       [ 0.23495133,  0.03004477, -0.03320304, ...,  0.01047419,\n",
       "         0.18383945, -0.06918988]])"
      ]
     },
     "execution_count": 258,
     "metadata": {},
     "output_type": "execute_result"
    }
   ],
   "source": [
    "X_train_wv = sent_vectors\n",
    "X_train_wv = preprocessing.normalize(X_train_wv)\n",
    "X_train_wv"
   ]
  },
  {
   "cell_type": "code",
   "execution_count": 260,
   "metadata": {},
   "outputs": [
    {
     "name": "stdout",
     "output_type": "stream",
     "text": [
      "LogisticRegression(C=1, class_weight=None, dual=False, fit_intercept=True,\n",
      "          intercept_scaling=1, max_iter=100, multi_class='ovr', n_jobs=-1,\n",
      "          penalty='l1', random_state=None, solver='liblinear', tol=0.0001,\n",
      "          verbose=0, warm_start=False)\n",
      "Best HyperParameter for f1 scoring:  {'C': 1, 'penalty': 'l1'}\n",
      "Best Accuracy for f1 scoring: 94.38%\n",
      "------------------------------------------------------------------------\n",
      "\n",
      "------------------------------------------------------------------------\n",
      "LogisticRegression(C=10, class_weight=None, dual=False, fit_intercept=True,\n",
      "          intercept_scaling=1, max_iter=100, multi_class='ovr', n_jobs=-1,\n",
      "          penalty='l2', random_state=None, solver='liblinear', tol=0.0001,\n",
      "          verbose=0, warm_start=False)\n",
      "Best HyperParameter for roc_auc:  {'C': 10, 'penalty': 'l2'}\n",
      "Best Accuracy for roc_auc: 92.55%\n",
      "------------------------------------------------------------------------\n",
      "Time taken to run this cell :\n",
      " 0:11:55.028399\n",
      "------------------------------------------------------------------------\n"
     ]
    }
   ],
   "source": [
    "start = datetime.now()\n",
    "\n",
    "from sklearn.model_selection import GridSearchCV\n",
    "from sklearn.metrics import roc_auc_score\n",
    "\n",
    "tuned_parameters = { 'C': [10**-4, 10**-2, 10**-1, 10**0, 10**1, 10**2, 10**4],\n",
    "              'penalty':['l1','l2']}\n",
    "model = GridSearchCV(LogisticRegression(n_jobs = -1), tuned_parameters, cv = tscv,\n",
    "                     scoring = 'f1', n_jobs = -1)\n",
    "model.fit(X_train_wv, Y_train)\n",
    "print(model.best_estimator_)\n",
    "print(\"Best HyperParameter for f1 scoring: \",model.best_params_)\n",
    "print(\"Best Accuracy for f1 scoring: %.2f%%\"%(model.best_score_*100))\n",
    "\n",
    "print('------------------------------------------------------------------------\\n')\n",
    "\n",
    "print('------------------------------------------------------------------------')\n",
    "\n",
    "\n",
    "\n",
    "model_roc_auc = GridSearchCV(LogisticRegression(n_jobs = -1), tuned_parameters, cv = tscv,\n",
    "                     scoring = 'roc_auc', n_jobs = -1)\n",
    "model_roc_auc.fit(X_train_wv, Y_train)\n",
    "print(model_roc_auc.best_estimator_)\n",
    "print(\"Best HyperParameter for roc_auc: \",model_roc_auc.best_params_)\n",
    "print(\"Best Accuracy for roc_auc: %.2f%%\"%(model_roc_auc.best_score_*100))\n",
    "\n",
    "print('------------------------------------------------------------------------')\n",
    "print(\"Time taken to run this cell :\\n\", datetime.now() - start)\n",
    "print('------------------------------------------------------------------------')"
   ]
  },
  {
   "cell_type": "code",
   "execution_count": 261,
   "metadata": {},
   "outputs": [
    {
     "data": {
      "image/png": "[encoded data removed]",
      "text/plain": [
       "<Figure size 432x288 with 1 Axes>"
      ]
     },
     "metadata": {},
     "output_type": "display_data"
    },
    {
     "data": {
      "image/png": "[encoded data removed]",
      "text/plain": [
       "<Figure size 432x288 with 1 Axes>"
      ]
     },
     "metadata": {},
     "output_type": "display_data"
    }
   ],
   "source": [
    "plot_error_vs_c(model)\n",
    "plot_error_vs_c(model_roc_auc)"
   ]
  },
  {
   "cell_type": "markdown",
   "metadata": {},
   "source": [
    "<h3> 4.1.2 Random search: </h3>"
   ]
  },
  {
   "cell_type": "code",
   "execution_count": 262,
   "metadata": {},
   "outputs": [
    {
     "name": "stdout",
     "output_type": "stream",
     "text": [
      "LogisticRegression(C=1, class_weight=None, dual=False, fit_intercept=True,\n",
      "          intercept_scaling=1, max_iter=100, multi_class='ovr', n_jobs=-1,\n",
      "          penalty='l1', random_state=None, solver='liblinear', tol=0.0001,\n",
      "          verbose=0, warm_start=False)\n",
      "Best HyperParameter for f1 scoring:  {'penalty': 'l1', 'C': 1}\n",
      "Best Accuracy for f1 scoring: 94.38%\n",
      "------------------------------------------------------------------------\n",
      "\n",
      "------------------------------------------------------------------------\n",
      "LogisticRegression(C=10, class_weight=None, dual=False, fit_intercept=True,\n",
      "          intercept_scaling=1, max_iter=100, multi_class='ovr', n_jobs=-1,\n",
      "          penalty='l2', random_state=None, solver='liblinear', tol=0.0001,\n",
      "          verbose=0, warm_start=False)\n",
      "Best HyperParameter for roc_auc:  {'C': 10, 'penalty': 'l2'}\n",
      "Best Accuracy for roc_auc: 92.55%\n",
      "------------------------------------------------------------------------\n",
      "Time taken to run this cell :\n",
      " 0:10:30.889621\n",
      "------------------------------------------------------------------------\n"
     ]
    }
   ],
   "source": [
    "\n",
    "start = datetime.now()\n",
    "\n",
    "\n",
    "\n",
    "tuned_parameters = { 'C': [10**-4, 10**-2, 10**-1, 10**0, 10**1, 10**2, 10**4],\n",
    "              'penalty':['l1','l2']}\n",
    "model =RandomizedSearchCV(LogisticRegression(n_jobs = -1), tuned_parameters, cv = tscv,\n",
    "                     scoring = 'f1', n_jobs = -1)\n",
    "model.fit(X_train_wv, Y_train)\n",
    "print(model.best_estimator_)\n",
    "print(\"Best HyperParameter for f1 scoring: \",model.best_params_)\n",
    "print(\"Best Accuracy for f1 scoring: %.2f%%\"%(model.best_score_*100))\n",
    "\n",
    "print('------------------------------------------------------------------------\\n')\n",
    "\n",
    "print('------------------------------------------------------------------------')\n",
    "\n",
    "\n",
    "\n",
    "model_roc_auc = GridSearchCV(LogisticRegression(n_jobs = -1), tuned_parameters, cv = tscv,\n",
    "                     scoring = 'roc_auc', n_jobs = -1)\n",
    "model_roc_auc.fit(X_train_wv, Y_train)\n",
    "print(model_roc_auc.best_estimator_)\n",
    "print(\"Best HyperParameter for roc_auc: \",model_roc_auc.best_params_)\n",
    "print(\"Best Accuracy for roc_auc: %.2f%%\"%(model_roc_auc.best_score_*100))\n",
    "\n",
    "print('------------------------------------------------------------------------')\n",
    "print(\"Time taken to run this cell :\\n\", datetime.now() - start)\n",
    "print('------------------------------------------------------------------------')"
   ]
  },
  {
   "cell_type": "code",
   "execution_count": 263,
   "metadata": {},
   "outputs": [
    {
     "data": {
      "image/png": "[encoded data removed]",
      "text/plain": [
       "<Figure size 432x288 with 1 Axes>"
      ]
     },
     "metadata": {},
     "output_type": "display_data"
    },
    {
     "data": {
      "image/png": "[encoded data removed]",
      "text/plain": [
       "<Figure size 432x288 with 1 Axes>"
      ]
     },
     "metadata": {},
     "output_type": "display_data"
    }
   ],
   "source": [
    "plot_error_vs_c_random(model)\n",
    "plot_error_vs_c_random(model_roc_auc)"
   ]
  },
  {
   "cell_type": "markdown",
   "metadata": {},
   "source": [
    "<h1> 5. TF-IDF weighted Word2Vec: </h1>\n",
    "\n",
    "\n"
   ]
  },
  {
   "cell_type": "code",
   "execution_count": 264,
   "metadata": {},
   "outputs": [],
   "source": [
    "# S = [\"abc def pqr\", \"def def def abc\", \"pqr pqr def\"]\n",
    "model = TfidfVectorizer()\n",
    "tf_idf_matrix = model.fit_transform(X_train.values)\n",
    "# we are converting a dictionary with word as a key, and the idf as a value\n",
    "dictionary = dict(zip(model.get_feature_names(), list(model.idf_)))"
   ]
  },
  {
   "cell_type": "code",
   "execution_count": 265,
   "metadata": {},
   "outputs": [
    {
     "name": "stderr",
     "output_type": "stream",
     "text": [
      "100%|██████████| 210000/210000 [10:27<00:00, 334.57it/s]\n"
     ]
    }
   ],
   "source": [
    "# TF-IDF weighted Word2Vec\n",
    "tfidf_feat = model.get_feature_names() # tfidf words/col-names\n",
    "# final_tf_idf is the sparse matrix with row= sentence, col=word and cell_val = tfidf\n",
    "\n",
    "tfidf_sent_vectors = []; # the tfidf-w2v for each sentence/review is stored in this list\n",
    "row=0;\n",
    "for sent in tqdm(list_of_sent): # for each review/sentence \n",
    "    sent_vec = np.zeros(50) # as word vectors are of zero length\n",
    "    weight_sum =0; # num of words with a valid vector in the sentence/review\n",
    "    for word in sent: # for each word in a review/sentence\n",
    "        if word in w2v_words:\n",
    "            vec = w2v_model.wv[word]\n",
    "#             tf_idf = tf_idf_matrix[row, tfidf_feat.index(word)]\n",
    "            # to reduce the computation we are \n",
    "            # dictionary[word] = idf value of word in whole courpus\n",
    "            # sent.count(word) = tf valeus of word in this review\n",
    "            tf_idf = dictionary[word]*(sent.count(word)/len(sent))\n",
    "            sent_vec += (vec * tf_idf)\n",
    "            weight_sum += tf_idf\n",
    "    if weight_sum != 0:\n",
    "        sent_vec /= weight_sum\n",
    "    tfidf_sent_vectors.append(sent_vec)\n",
    "    row += 1"
   ]
  },
  {
   "cell_type": "code",
   "execution_count": 266,
   "metadata": {},
   "outputs": [
    {
     "name": "stdout",
     "output_type": "stream",
     "text": [
      "(210000, 50)\n"
     ]
    }
   ],
   "source": [
    "tfidf_sent_vectors = preprocessing.normalize(tfidf_sent_vectors)\n",
    "print(tfidf_sent_vectors.shape)"
   ]
  },
  {
   "cell_type": "code",
   "execution_count": 267,
   "metadata": {},
   "outputs": [],
   "source": [
    "X_train_twv = tfidf_sent_vectors\n"
   ]
  },
  {
   "cell_type": "markdown",
   "metadata": {},
   "source": [
    "\n",
    "<h2> 5.1 Gridsearch </h2>"
   ]
  },
  {
   "cell_type": "code",
   "execution_count": 268,
   "metadata": {},
   "outputs": [
    {
     "name": "stdout",
     "output_type": "stream",
     "text": [
      "LogisticRegression(C=1, class_weight=None, dual=False, fit_intercept=True,\n",
      "          intercept_scaling=1, max_iter=100, multi_class='ovr', n_jobs=-1,\n",
      "          penalty='l1', random_state=None, solver='liblinear', tol=0.0001,\n",
      "          verbose=0, warm_start=False)\n",
      "Best HyperParameter for f1 scoring:  {'C': 1, 'penalty': 'l1'}\n",
      "Best Accuracy for f1 scoring: 93.58%\n",
      "------------------------------------------------------------------------\n",
      "\n",
      "------------------------------------------------------------------------\n",
      "LogisticRegression(C=10, class_weight=None, dual=False, fit_intercept=True,\n",
      "          intercept_scaling=1, max_iter=100, multi_class='ovr', n_jobs=-1,\n",
      "          penalty='l2', random_state=None, solver='liblinear', tol=0.0001,\n",
      "          verbose=0, warm_start=False)\n",
      "Best HyperParameter for roc_auc:  {'C': 10, 'penalty': 'l2'}\n",
      "Best Accuracy for roc_auc: 89.97%\n",
      "------------------------------------------------------------------------\n",
      "Time taken to run this cell :\n",
      " 0:11:33.155773\n",
      "------------------------------------------------------------------------\n"
     ]
    }
   ],
   "source": [
    "start = datetime.now()\n",
    "\n",
    "from sklearn.model_selection import GridSearchCV\n",
    "from sklearn.metrics import roc_auc_score\n",
    "\n",
    "tuned_parameters = { 'C': [10**-4, 10**-2, 10**-1, 10**0, 10**1, 10**2, 10**4],\n",
    "              'penalty':['l1','l2']}\n",
    "model = GridSearchCV(LogisticRegression(n_jobs = -1), tuned_parameters, cv = tscv,\n",
    "                     scoring = 'f1', n_jobs = -1)\n",
    "model.fit(X_train_twv, Y_train)\n",
    "print(model.best_estimator_)\n",
    "print(\"Best HyperParameter for f1 scoring: \",model.best_params_)\n",
    "print(\"Best Accuracy for f1 scoring: %.2f%%\"%(model.best_score_*100))\n",
    "\n",
    "print('------------------------------------------------------------------------\\n')\n",
    "\n",
    "print('------------------------------------------------------------------------')\n",
    "\n",
    "\n",
    "\n",
    "model_roc_auc = GridSearchCV(LogisticRegression(n_jobs = -1), tuned_parameters, cv = tscv,\n",
    "                     scoring = 'roc_auc', n_jobs = -1)\n",
    "model_roc_auc.fit(X_train_twv, Y_train)\n",
    "print(model_roc_auc.best_estimator_)\n",
    "print(\"Best HyperParameter for roc_auc: \",model_roc_auc.best_params_)\n",
    "print(\"Best Accuracy for roc_auc: %.2f%%\"%(model_roc_auc.best_score_*100))\n",
    "\n",
    "print('------------------------------------------------------------------------')\n",
    "print(\"Time taken to run this cell :\\n\", datetime.now() - start)\n",
    "print('------------------------------------------------------------------------')"
   ]
  },
  {
   "cell_type": "code",
   "execution_count": 269,
   "metadata": {},
   "outputs": [
    {
     "data": {
      "image/png": "[encoded data removed]",
      "text/plain": [
       "<Figure size 432x288 with 1 Axes>"
      ]
     },
     "metadata": {},
     "output_type": "display_data"
    },
    {
     "data": {
      "image/png": "[encoded data removed]",
      "text/plain": [
       "<Figure size 432x288 with 1 Axes>"
      ]
     },
     "metadata": {},
     "output_type": "display_data"
    }
   ],
   "source": [
    "plot_error_vs_c(model)\n",
    "plot_error_vs_c(model_roc_auc)"
   ]
  },
  {
   "cell_type": "markdown",
   "metadata": {},
   "source": [
    "<h2> 5.2 RandomSearch: </h2>"
   ]
  },
  {
   "cell_type": "code",
   "execution_count": 270,
   "metadata": {},
   "outputs": [
    {
     "name": "stdout",
     "output_type": "stream",
     "text": [
      "LogisticRegression(C=10, class_weight=None, dual=False, fit_intercept=True,\n",
      "          intercept_scaling=1, max_iter=100, multi_class='ovr', n_jobs=-1,\n",
      "          penalty='l2', random_state=None, solver='liblinear', tol=0.0001,\n",
      "          verbose=0, warm_start=False)\n",
      "Best HyperParameter for f1 scoring:  {'penalty': 'l2', 'C': 10}\n",
      "Best Accuracy for f1 scoring: 93.58%\n",
      "------------------------------------------------------------------------\n",
      "\n",
      "------------------------------------------------------------------------\n",
      "LogisticRegression(C=10, class_weight=None, dual=False, fit_intercept=True,\n",
      "          intercept_scaling=1, max_iter=100, multi_class='ovr', n_jobs=-1,\n",
      "          penalty='l1', random_state=None, solver='liblinear', tol=0.0001,\n",
      "          verbose=0, warm_start=False)\n",
      "Best HyperParameter for roc_auc:  {'C': 10, 'penalty': 'l1'}\n",
      "Best Accuracy for roc_auc: 89.97%\n",
      "------------------------------------------------------------------------\n",
      "Time taken to run this cell :\n",
      " 0:08:37.435359\n",
      "------------------------------------------------------------------------\n"
     ]
    }
   ],
   "source": [
    "start = datetime.now()\n",
    "\n",
    "from sklearn.model_selection import GridSearchCV\n",
    "from sklearn.metrics import roc_auc_score\n",
    "\n",
    "tuned_parameters = { 'C': [10**-4, 10**-2, 10**-1, 10**0, 10**1, 10**2, 10**4],\n",
    "              'penalty':['l1','l2']}\n",
    "model =RandomizedSearchCV(LogisticRegression(n_jobs = -1), tuned_parameters, cv = tscv,\n",
    "                     scoring = 'f1', n_jobs = -1)\n",
    "model.fit(X_train_twv, Y_train)\n",
    "print(model.best_estimator_)\n",
    "print(\"Best HyperParameter for f1 scoring: \",model.best_params_)\n",
    "print(\"Best Accuracy for f1 scoring: %.2f%%\"%(model.best_score_*100))\n",
    "\n",
    "print('------------------------------------------------------------------------\\n')\n",
    "\n",
    "print('------------------------------------------------------------------------')\n",
    "\n",
    "\n",
    "\n",
    "model_roc_auc = GridSearchCV(LogisticRegression(n_jobs = -1), tuned_parameters, cv = tscv,\n",
    "                     scoring = 'roc_auc', n_jobs = -1)\n",
    "model_roc_auc.fit(X_train_twv, Y_train)\n",
    "print(model_roc_auc.best_estimator_)\n",
    "print(\"Best HyperParameter for roc_auc: \",model_roc_auc.best_params_)\n",
    "print(\"Best Accuracy for roc_auc: %.2f%%\"%(model_roc_auc.best_score_*100))\n",
    "\n",
    "print('------------------------------------------------------------------------')\n",
    "print(\"Time taken to run this cell :\\n\", datetime.now() - start)\n",
    "print('------------------------------------------------------------------------')"
   ]
  },
  {
   "cell_type": "code",
   "execution_count": 271,
   "metadata": {},
   "outputs": [
    {
     "data": {
      "image/png": "[encoded data removed]",
      "text/plain": [
       "<Figure size 432x288 with 1 Axes>"
      ]
     },
     "metadata": {},
     "output_type": "display_data"
    },
    {
     "data": {
      "image/png": "[encoded data removed]",
      "text/plain": [
       "<Figure size 432x288 with 1 Axes>"
      ]
     },
     "metadata": {},
     "output_type": "display_data"
    }
   ],
   "source": [
    "plot_error_vs_c_random(model)\n",
    "plot_error_vs_c_random(model_roc_auc)"
   ]
  },
  {
   "cell_type": "markdown",
   "metadata": {},
   "source": [
    "<h1> 6. Test W2V & predict: </6>\n"
   ]
  },
  {
   "cell_type": "code",
   "execution_count": 272,
   "metadata": {},
   "outputs": [],
   "source": [
    "i=0\n",
    "list_of_sent=[]\n",
    "for sent in X_test.values:\n",
    "    list_of_sent.append(sent.split())"
   ]
  },
  {
   "cell_type": "code",
   "execution_count": 273,
   "metadata": {},
   "outputs": [
    {
     "name": "stderr",
     "output_type": "stream",
     "text": [
      "100%|██████████| 90000/90000 [04:44<00:00, 316.33it/s]"
     ]
    },
    {
     "name": "stdout",
     "output_type": "stream",
     "text": [
      "90000\n",
      "50\n"
     ]
    },
    {
     "name": "stderr",
     "output_type": "stream",
     "text": [
      "\n"
     ]
    }
   ],
   "source": [
    "# average Word2Vec\n",
    "# compute average word2vec for each review.\n",
    "sent_vectors = []; # the avg-w2v for each sentence/review is stored in this list\n",
    "for sent in tqdm(list_of_sent): # for each review/sentence\n",
    "    sent_vec = np.zeros(50) # as word vectors are of zero length\n",
    "    cnt_words =0; # num of words with a valid vector in the sentence/review\n",
    "    for word in sent: # for each word in a review/sentence\n",
    "        if word in w2v_words:\n",
    "            vec = w2v_model.wv[word]\n",
    "            sent_vec += vec\n",
    "            cnt_words += 1\n",
    "    if cnt_words != 0:\n",
    "        sent_vec /= cnt_words\n",
    "    sent_vectors.append(sent_vec)\n",
    "print(len(sent_vectors))\n",
    "print(len(sent_vectors[0]))"
   ]
  },
  {
   "cell_type": "code",
   "execution_count": 274,
   "metadata": {},
   "outputs": [],
   "source": [
    "X_test_wv = sent_vectors\n",
    "X_test_wv = preprocessing.normalize(X_test_wv)"
   ]
  },
  {
   "cell_type": "code",
   "execution_count": 276,
   "metadata": {},
   "outputs": [
    {
     "name": "stdout",
     "output_type": "stream",
     "text": [
      "Sparsity is : 0.0\n",
      "Non zero Weights : 50\n",
      "Accuracy on test set: 84.533%\n",
      "Macro F1-Score on test set: 0.769\n",
      "Micro F1-Score on test set: 0.845\n",
      "Weighted F1-Score on test set: 0.860\n",
      "Macro roc_auc Score on test set: 0.850\n",
      "Micro roc_auc Score on test set: 0.850\n",
      "Weighted roc_auc Score on test set: 0.850\n",
      "Precision on test set: 0.969\n",
      "Recall on test set: 0.843\n",
      "Error : 15.467%\n",
      "Log loss : 5.3420154777636935\n",
      "Precision recall report :\n",
      "              precision    recall  f1-score   support\n",
      "\n",
      "         -1       0.51      0.86      0.64     14189\n",
      "          1       0.97      0.84      0.90     75811\n",
      "\n",
      "avg / total       0.90      0.85      0.86     90000\n",
      "\n",
      "TPR is 0.8432021738270172\n",
      "TNR is 0.8567199943618296\n",
      "FPR is 0.14328000563817042\n",
      "FNR is 0.15679782617298282\n",
      "\n",
      "------------------------------------------------------------------------\n",
      "Time taken to run this cell :\n",
      " 0:00:23.607672\n",
      "------------------------------------------------------------------------\n"
     ]
    },
    {
     "data": {
      "image/png": "[encoded data removed]",
      "text/plain": [
       "<Figure size 432x288 with 2 Axes>"
      ]
     },
     "metadata": {},
     "output_type": "display_data"
    }
   ],
   "source": [
    "start = datetime.now()\n",
    "\n",
    "#on f1\n",
    "\n",
    "clf = LogisticRegression(C= 1, penalty='l1', class_weight = 'balanced'); #best hyper-parameters\n",
    "clf.fit(X_train_wv, Y_train);\n",
    "Y_pred = clf.predict(X_test_wv)\n",
    "w = clf.coef_\n",
    "sparsity = np.mean(w.ravel()==0)*100\n",
    "print('Sparsity is :' ,sparsity)\n",
    "print('Non zero Weights :', np.count_nonzero(w))\n",
    "print(\"Accuracy on test set: %0.3f%%\"%(accuracy_score(Y_test, Y_pred)*100)) \n",
    "print(\"Macro F1-Score on test set: %0.3f\"%(f1_score(Y_test, Y_pred, average='macro')))\n",
    "print(\"Micro F1-Score on test set: %0.3f\"%(f1_score(Y_test, Y_pred, average='micro')))\n",
    "print(\"Weighted F1-Score on test set: %0.3f\"%(f1_score(Y_test, Y_pred, average='weighted')))\n",
    "print(\"Macro roc_auc Score on test set: %0.3f\"%(roc_auc_score(Y_test, Y_pred, \n",
    "                                                              average='macro')))\n",
    "print(\"Micro roc_auc Score on test set: %0.3f\"%(roc_auc_score(Y_test, Y_pred, \n",
    "                                                              average='micro')))\n",
    "print(\"Weighted roc_auc Score on test set: %0.3f\"%(roc_auc_score(Y_test, Y_pred, \n",
    "                                                              average='weighted')))\n",
    "print(\"Precision on test set: %0.3f\"%(precision_score(Y_test, Y_pred)))\n",
    "print(\"Recall on test set: %0.3f\"%(recall_score(Y_test, Y_pred)))\n",
    "print(\"Error : %0.3f%%\"%(100-(accuracy_score(Y_test, Y_pred)*100)))\n",
    "print(\"Log loss :\",metrics.log_loss(Y_test,Y_pred))\n",
    "print(\"Precision recall report :\\n\",metrics.classification_report(Y_test, Y_pred))\n",
    "CM = confusion_matrix(Y_test ,Y_pred)\n",
    "TN = CM[0][0]\n",
    "FN = CM[1][0]\n",
    "TP = CM[1][1]\n",
    "FP = CM[0][1]\n",
    "# true positive rate\n",
    "TPR = TP/(TP+FN)\n",
    "# Specificity or true negative rate\n",
    "TNR = TN/(TN+FP) \n",
    "# Fall out or false positive rate\n",
    "FPR = FP/(FP+TN)\n",
    "# False negative rate\n",
    "FNR = FN/(TP+FN)\n",
    "\n",
    "\n",
    "print(\"TPR is\", TPR)\n",
    "print(\"TNR is\", TNR)\n",
    "print(\"FPR is\", FPR)\n",
    "print(\"FNR is\", FNR)\n",
    "df_cm = pd.DataFrame(confusion_matrix(Y_test, Y_pred), range(2),range(2))\n",
    "sns.set(font_scale=1.5)\n",
    "sns.heatmap(df_cm, annot=True,annot_kws={\"size\": 16}, fmt='g')\n",
    "\n",
    "\n",
    "print('\\n------------------------------------------------------------------------')\n",
    "print(\"Time taken to run this cell :\\n\", datetime.now() - start)\n",
    "print('------------------------------------------------------------------------')"
   ]
  },
  {
   "cell_type": "code",
   "execution_count": 277,
   "metadata": {},
   "outputs": [
    {
     "name": "stdout",
     "output_type": "stream",
     "text": [
      "Sparsity is : 0.0\n",
      "Non zero Weights : 50\n",
      "Accuracy on test set: 84.519%\n",
      "Macro F1-Score on test set: 0.769\n",
      "Micro F1-Score on test set: 0.845\n",
      "Weighted F1-Score on test set: 0.860\n",
      "Macro roc_auc Score on test set: 0.850\n",
      "Micro roc_auc Score on test set: 0.850\n",
      "Weighted roc_auc Score on test set: 0.850\n",
      "Precision on test set: 0.969\n",
      "Recall on test set: 0.843\n",
      "Error : 15.481%\n",
      "Log loss : 5.347004438785094\n",
      "Precision recall report :\n",
      "              precision    recall  f1-score   support\n",
      "\n",
      "         -1       0.51      0.86      0.64     14189\n",
      "          1       0.97      0.84      0.90     75811\n",
      "\n",
      "avg / total       0.90      0.85      0.86     90000\n",
      "\n",
      "TPR is 0.8430702668478189\n",
      "TNR is 0.8565085629713158\n",
      "FPR is 0.1434914370286842\n",
      "FNR is 0.1569297331521811\n",
      "\n",
      "------------------------------------------------------------------------\n",
      "Time taken to run this cell :\n",
      " 0:00:03.230787\n",
      "------------------------------------------------------------------------\n"
     ]
    },
    {
     "data": {
      "image/png": "[encoded data removed]",
      "text/plain": [
       "<Figure size 432x288 with 2 Axes>"
      ]
     },
     "metadata": {},
     "output_type": "display_data"
    }
   ],
   "source": [
    "start = datetime.now()\n",
    "\n",
    "#on roc_auc\n",
    "\n",
    "clf = LogisticRegression(C= 10, penalty='l2', class_weight = 'balanced'); #best hyper-parameters\n",
    "clf.fit(X_train_wv, Y_train);\n",
    "Y_pred = clf.predict(X_test_wv)\n",
    "w = clf.coef_\n",
    "sparsity = np.mean(w.ravel()==0)*100\n",
    "print('Sparsity is :' ,sparsity)\n",
    "print('Non zero Weights :', np.count_nonzero(w))\n",
    "print(\"Accuracy on test set: %0.3f%%\"%(accuracy_score(Y_test, Y_pred)*100)) \n",
    "print(\"Macro F1-Score on test set: %0.3f\"%(f1_score(Y_test, Y_pred, average='macro')))\n",
    "print(\"Micro F1-Score on test set: %0.3f\"%(f1_score(Y_test, Y_pred, average='micro')))\n",
    "print(\"Weighted F1-Score on test set: %0.3f\"%(f1_score(Y_test, Y_pred, average='weighted')))\n",
    "print(\"Macro roc_auc Score on test set: %0.3f\"%(roc_auc_score(Y_test, Y_pred, \n",
    "                                                              average='macro')))\n",
    "print(\"Micro roc_auc Score on test set: %0.3f\"%(roc_auc_score(Y_test, Y_pred, \n",
    "                                                              average='micro')))\n",
    "print(\"Weighted roc_auc Score on test set: %0.3f\"%(roc_auc_score(Y_test, Y_pred, \n",
    "                                                              average='weighted')))\n",
    "print(\"Precision on test set: %0.3f\"%(precision_score(Y_test, Y_pred)))\n",
    "print(\"Recall on test set: %0.3f\"%(recall_score(Y_test, Y_pred)))\n",
    "print(\"Error : %0.3f%%\"%(100-(accuracy_score(Y_test, Y_pred)*100)))\n",
    "print(\"Log loss :\",metrics.log_loss(Y_test,Y_pred))\n",
    "print(\"Precision recall report :\\n\",metrics.classification_report(Y_test, Y_pred))\n",
    "CM = confusion_matrix(Y_test ,Y_pred)\n",
    "TN = CM[0][0]\n",
    "FN = CM[1][0]\n",
    "TP = CM[1][1]\n",
    "FP = CM[0][1]\n",
    "# true positive rate\n",
    "TPR = TP/(TP+FN)\n",
    "# Specificity or true negative rate\n",
    "TNR = TN/(TN+FP) \n",
    "# Fall out or false positive rate\n",
    "FPR = FP/(FP+TN)\n",
    "# False negative rate\n",
    "FNR = FN/(TP+FN)\n",
    "\n",
    "\n",
    "print(\"TPR is\", TPR)\n",
    "print(\"TNR is\", TNR)\n",
    "print(\"FPR is\", FPR)\n",
    "print(\"FNR is\", FNR)\n",
    "df_cm = pd.DataFrame(confusion_matrix(Y_test, Y_pred), range(2),range(2))\n",
    "sns.set(font_scale=1.5)\n",
    "sns.heatmap(df_cm, annot=True,annot_kws={\"size\": 16}, fmt='g')\n",
    "\n",
    "\n",
    "print('\\n------------------------------------------------------------------------')\n",
    "print(\"Time taken to run this cell :\\n\", datetime.now() - start)\n",
    "print('------------------------------------------------------------------------')"
   ]
  },
  {
   "cell_type": "markdown",
   "metadata": {},
   "source": [
    "<h1> 7. Tfidf Test & predict: </h1>"
   ]
  },
  {
   "cell_type": "code",
   "execution_count": 278,
   "metadata": {},
   "outputs": [],
   "source": [
    "# S = [\"abc def pqr\", \"def def def abc\", \"pqr pqr def\"]\n",
    "model = TfidfVectorizer()\n",
    "tf_idf_matrix = model.fit_transform(X_test.values)\n",
    "# we are converting a dictionary with word as a key, and the idf as a value\n",
    "dictionary = dict(zip(model.get_feature_names(), list(model.idf_)))"
   ]
  },
  {
   "cell_type": "code",
   "execution_count": 279,
   "metadata": {},
   "outputs": [
    {
     "name": "stderr",
     "output_type": "stream",
     "text": [
      "100%|██████████| 90000/90000 [05:05<00:00, 294.50it/s]\n"
     ]
    }
   ],
   "source": [
    "# TF-IDF weighted Word2Vec\n",
    "tfidf_feat = model.get_feature_names() # tfidf words/col-names\n",
    "# final_tf_idf is the sparse matrix with row= sentence, col=word and cell_val = tfidf\n",
    "\n",
    "tfidf_sent_vectors = []; # the tfidf-w2v for each sentence/review is stored in this list\n",
    "row=0;\n",
    "for sent in tqdm(list_of_sent): # for each review/sentence \n",
    "    sent_vec = np.zeros(50) # as word vectors are of zero length\n",
    "    weight_sum =0; # num of words with a valid vector in the sentence/review\n",
    "    for word in sent: # for each word in a review/sentence\n",
    "        if word in w2v_words:\n",
    "            vec = w2v_model.wv[word]\n",
    "#             tf_idf = tf_idf_matrix[row, tfidf_feat.index(word)]\n",
    "            # to reduce the computation we are \n",
    "            # dictionary[word] = idf value of word in whole courpus\n",
    "            # sent.count(word) = tf valeus of word in this review\n",
    "            tf_idf = dictionary[word]*(sent.count(word)/len(sent))\n",
    "            sent_vec += (vec * tf_idf)\n",
    "            weight_sum += tf_idf\n",
    "    if weight_sum != 0:\n",
    "        sent_vec /= weight_sum\n",
    "    tfidf_sent_vectors.append(sent_vec)\n",
    "    row += 1"
   ]
  },
  {
   "cell_type": "code",
   "execution_count": 280,
   "metadata": {},
   "outputs": [],
   "source": [
    "X_test_twv = tfidf_sent_vectors\n",
    "X_test_twv = preprocessing.normalize(X_test_twv)"
   ]
  },
  {
   "cell_type": "code",
   "execution_count": 281,
   "metadata": {},
   "outputs": [
    {
     "name": "stdout",
     "output_type": "stream",
     "text": [
      "Sparsity is : 0.0\n",
      "Non zero Weights : 50\n",
      "Accuracy on test set: 81.690%\n",
      "Macro F1-Score on test set: 0.734\n",
      "Micro F1-Score on test set: 0.817\n",
      "Weighted F1-Score on test set: 0.836\n",
      "Macro roc_auc Score on test set: 0.819\n",
      "Micro roc_auc Score on test set: 0.819\n",
      "Weighted roc_auc Score on test set: 0.819\n",
      "Precision on test set: 0.961\n",
      "Recall on test set: 0.816\n",
      "Error : 18.310%\n",
      "Log loss : 6.324072355520608\n",
      "Precision recall report :\n",
      "              precision    recall  f1-score   support\n",
      "\n",
      "         -1       0.46      0.82      0.59     14189\n",
      "          1       0.96      0.82      0.88     75811\n",
      "\n",
      "avg / total       0.88      0.82      0.84     90000\n",
      "\n",
      "TPR is 0.8158842384350556\n",
      "TNR is 0.822327154838255\n",
      "FPR is 0.177672845161745\n",
      "FNR is 0.1841157615649444\n",
      "\n",
      "------------------------------------------------------------------------\n",
      "Time taken to run this cell :\n",
      " 0:00:03.190403\n",
      "------------------------------------------------------------------------\n"
     ]
    },
    {
     "data": {
      "image/png": "[encoded data removed]",
      "text/plain": [
       "<Figure size 432x288 with 2 Axes>"
      ]
     },
     "metadata": {},
     "output_type": "display_data"
    }
   ],
   "source": [
    "start = datetime.now()\n",
    "\n",
    "#on roc_auc\n",
    "\n",
    "clf = LogisticRegression(C= 10, penalty='l2', class_weight = 'balanced'); #best hyper-parameters\n",
    "clf.fit(X_train_twv, Y_train);\n",
    "Y_pred = clf.predict(X_test_twv)\n",
    "w = clf.coef_\n",
    "sparsity = np.mean(w.ravel()==0)*100\n",
    "print('Sparsity is :' ,sparsity)\n",
    "print('Non zero Weights :', np.count_nonzero(w))\n",
    "print(\"Accuracy on test set: %0.3f%%\"%(accuracy_score(Y_test, Y_pred)*100)) \n",
    "print(\"Macro F1-Score on test set: %0.3f\"%(f1_score(Y_test, Y_pred, average='macro')))\n",
    "print(\"Micro F1-Score on test set: %0.3f\"%(f1_score(Y_test, Y_pred, average='micro')))\n",
    "print(\"Weighted F1-Score on test set: %0.3f\"%(f1_score(Y_test, Y_pred, average='weighted')))\n",
    "print(\"Macro roc_auc Score on test set: %0.3f\"%(roc_auc_score(Y_test, Y_pred, \n",
    "                                                              average='macro')))\n",
    "print(\"Micro roc_auc Score on test set: %0.3f\"%(roc_auc_score(Y_test, Y_pred, \n",
    "                                                              average='micro')))\n",
    "print(\"Weighted roc_auc Score on test set: %0.3f\"%(roc_auc_score(Y_test, Y_pred, \n",
    "                                                              average='weighted')))\n",
    "print(\"Precision on test set: %0.3f\"%(precision_score(Y_test, Y_pred)))\n",
    "print(\"Recall on test set: %0.3f\"%(recall_score(Y_test, Y_pred)))\n",
    "print(\"Error : %0.3f%%\"%(100-(accuracy_score(Y_test, Y_pred)*100)))\n",
    "print(\"Log loss :\",metrics.log_loss(Y_test,Y_pred))\n",
    "print(\"Precision recall report :\\n\",metrics.classification_report(Y_test, Y_pred))\n",
    "CM = confusion_matrix(Y_test ,Y_pred)\n",
    "TN = CM[0][0]\n",
    "FN = CM[1][0]\n",
    "TP = CM[1][1]\n",
    "FP = CM[0][1]\n",
    "# true positive rate\n",
    "TPR = TP/(TP+FN)\n",
    "# Specificity or true negative rate\n",
    "TNR = TN/(TN+FP) \n",
    "# Fall out or false positive rate\n",
    "FPR = FP/(FP+TN)\n",
    "# False negative rate\n",
    "FNR = FN/(TP+FN)\n",
    "\n",
    "\n",
    "print(\"TPR is\", TPR)\n",
    "print(\"TNR is\", TNR)\n",
    "print(\"FPR is\", FPR)\n",
    "print(\"FNR is\", FNR)\n",
    "df_cm = pd.DataFrame(confusion_matrix(Y_test, Y_pred), range(2),range(2))\n",
    "sns.set(font_scale=1.5)\n",
    "sns.heatmap(df_cm, annot=True,annot_kws={\"size\": 16}, fmt='g')\n",
    "\n",
    "\n",
    "print('\\n------------------------------------------------------------------------')\n",
    "print(\"Time taken to run this cell :\\n\", datetime.now() - start)\n",
    "print('------------------------------------------------------------------------')"
   ]
  },
  {
   "cell_type": "code",
   "execution_count": 282,
   "metadata": {},
   "outputs": [
    {
     "name": "stdout",
     "output_type": "stream",
     "text": [
      "Sparsity is : 0.0\n",
      "Non zero Weights : 50\n",
      "Accuracy on test set: 81.687%\n",
      "Macro F1-Score on test set: 0.734\n",
      "Micro F1-Score on test set: 0.817\n",
      "Weighted F1-Score on test set: 0.836\n",
      "Macro roc_auc Score on test set: 0.819\n",
      "Micro roc_auc Score on test set: 0.819\n",
      "Weighted roc_auc Score on test set: 0.819\n",
      "Precision on test set: 0.961\n",
      "Recall on test set: 0.816\n",
      "Error : 18.313%\n",
      "Log loss : 6.325223648067104\n",
      "Precision recall report :\n",
      "              precision    recall  f1-score   support\n",
      "\n",
      "         -1       0.46      0.82      0.59     14189\n",
      "          1       0.96      0.82      0.88     75811\n",
      "\n",
      "avg / total       0.88      0.82      0.84     90000\n",
      "\n",
      "TPR is 0.8158446663412962\n",
      "TNR is 0.822327154838255\n",
      "FPR is 0.177672845161745\n",
      "FNR is 0.18415533365870387\n",
      "\n",
      "------------------------------------------------------------------------\n",
      "Time taken to run this cell :\n",
      " 0:00:15.740370\n",
      "------------------------------------------------------------------------\n"
     ]
    },
    {
     "data": {
      "image/png": "[encoded data removed]",
      "text/plain": [
       "<Figure size 432x288 with 2 Axes>"
      ]
     },
     "metadata": {},
     "output_type": "display_data"
    }
   ],
   "source": [
    "start = datetime.now()\n",
    "\n",
    "#on roc_auc\n",
    "\n",
    "clf = LogisticRegression(C= 10, penalty='l1', class_weight = 'balanced'); #best hyper-parameters\n",
    "clf.fit(X_train_twv, Y_train);\n",
    "Y_pred = clf.predict(X_test_twv)\n",
    "w = clf.coef_\n",
    "sparsity = np.mean(w.ravel()==0)*100\n",
    "print('Sparsity is :' ,sparsity)\n",
    "print('Non zero Weights :', np.count_nonzero(w))\n",
    "print(\"Accuracy on test set: %0.3f%%\"%(accuracy_score(Y_test, Y_pred)*100)) \n",
    "print(\"Macro F1-Score on test set: %0.3f\"%(f1_score(Y_test, Y_pred, average='macro')))\n",
    "print(\"Micro F1-Score on test set: %0.3f\"%(f1_score(Y_test, Y_pred, average='micro')))\n",
    "print(\"Weighted F1-Score on test set: %0.3f\"%(f1_score(Y_test, Y_pred, average='weighted')))\n",
    "print(\"Macro roc_auc Score on test set: %0.3f\"%(roc_auc_score(Y_test, Y_pred, \n",
    "                                                              average='macro')))\n",
    "print(\"Micro roc_auc Score on test set: %0.3f\"%(roc_auc_score(Y_test, Y_pred, \n",
    "                                                              average='micro')))\n",
    "print(\"Weighted roc_auc Score on test set: %0.3f\"%(roc_auc_score(Y_test, Y_pred, \n",
    "                                                              average='weighted')))\n",
    "print(\"Precision on test set: %0.3f\"%(precision_score(Y_test, Y_pred)))\n",
    "print(\"Recall on test set: %0.3f\"%(recall_score(Y_test, Y_pred)))\n",
    "print(\"Error : %0.3f%%\"%(100-(accuracy_score(Y_test, Y_pred)*100)))\n",
    "print(\"Log loss :\",metrics.log_loss(Y_test,Y_pred))\n",
    "print(\"Precision recall report :\\n\",metrics.classification_report(Y_test, Y_pred))\n",
    "CM = confusion_matrix(Y_test ,Y_pred)\n",
    "TN = CM[0][0]\n",
    "FN = CM[1][0]\n",
    "TP = CM[1][1]\n",
    "FP = CM[0][1]\n",
    "# true positive rate\n",
    "TPR = TP/(TP+FN)\n",
    "# Specificity or true negative rate\n",
    "TNR = TN/(TN+FP) \n",
    "# Fall out or false positive rate\n",
    "FPR = FP/(FP+TN)\n",
    "# False negative rate\n",
    "FNR = FN/(TP+FN)\n",
    "\n",
    "\n",
    "print(\"TPR is\", TPR)\n",
    "print(\"TNR is\", TNR)\n",
    "print(\"FPR is\", FPR)\n",
    "print(\"FNR is\", FNR)\n",
    "df_cm = pd.DataFrame(confusion_matrix(Y_test, Y_pred), range(2),range(2))\n",
    "sns.set(font_scale=1.5)\n",
    "sns.heatmap(df_cm, annot=True,annot_kws={\"size\": 16}, fmt='g')\n",
    "\n",
    "\n",
    "print('\\n------------------------------------------------------------------------')\n",
    "print(\"Time taken to run this cell :\\n\", datetime.now() - start)\n",
    "print('------------------------------------------------------------------------')"
   ]
  },
  {
   "cell_type": "markdown",
   "metadata": {},
   "source": [
    "<h1> 8. Summary: </h1>"
   ]
  },
  {
   "cell_type": "code",
   "execution_count": 299,
   "metadata": {
    "scrolled": true
   },
   "outputs": [
    {
     "name": "stdout",
     "output_type": "stream",
     "text": [
      "+------------------------------------------------------------------------------------+\n",
      "|                               -----GRID SEARCH-----                                |\n",
      "+-----+----------------+-----+-------+-----------+--------------+---------+----------+\n",
      "| S.R |      Vec       | Reg |   C   | Micro f-1 | Weighted f-1 | roc_auc | Log-Loss |\n",
      "+-----+----------------+-----+-------+-----------+--------------+---------+----------+\n",
      "|  1  |      BOW       |  l2 |  100  |   0.975   |    0.976     |  0.975  |  0.861   |\n",
      "|  2  |     TF-IDF     |  l2 | 10000 |   0.992   |    0.992     |  0.983  |  0.267   |\n",
      "|  3  |      W2v       |  l2 |   10  |   0.845   |     0.86     |   0.85  |   5.34   |\n",
      "|  4  | TF-IDF wgh W2V |  l2 |   10  |   0.817   |    0.836     |  0.819  |   6.32   |\n",
      "+-----+----------------+-----+-------+-----------+--------------+---------+----------+\n",
      "+----------------------------------------------------------------------------------+\n",
      "|                 -----------------RANDOM SEARCH-----------------                  |\n",
      "+-----+----------------+-----+-----+-----------+--------------+---------+----------+\n",
      "| S.R |      Vec       | Reg |  C  | Micro f-1 | Weighted f-1 | roc_auc | Log-Loss |\n",
      "+-----+----------------+-----+-----+-----------+--------------+---------+----------+\n",
      "|  1  |      BOW       |  l2 | 100 |   0.975   |    0.976     |  0.975  |  0.861   |\n",
      "|  2  |     TF-IDF     |  l2 | 100 |   0.992   |    0.992     |  0.985  |  0.263   |\n",
      "|  3  |      W2v       |  l2 |  10 |   0.845   |     0.86     |   0.85  |   5.34   |\n",
      "|  4  | TF-IDF wgh W2V |  l2 |  10 |   0.817   |    0.836     |  0.819  |   6.32   |\n",
      "+-----+----------------+-----+-----+-----------+--------------+---------+----------+\n"
     ]
    }
   ],
   "source": [
    "from prettytable import PrettyTable\n",
    "\n",
    "x = PrettyTable()\n",
    "\n",
    "x.field_names = [\"S.R\",\"Vec\", \"Reg\",'C', \"Micro f-1\", \"Weighted f-1\", 'roc_auc', 'Log-Loss']\n",
    "\n",
    "x.add_row([(1),\"BOW\", \"l2\", 100, 0.975, 0.976, 0.975, 0.861])\n",
    "x.add_row([(2),\"TF-IDF\", \"l2\", 10000, 0.992, 0.992, 0.983, 0.267])\n",
    "x.add_row([(3),\"W2v\", \"l2\", 10, 0.845, 0.860, 0.850, 5.34])\n",
    "x.add_row([(4),\"TF-IDF wgh W2V\", \"l2\", 10, 0.817, 0.836, 0.819, 6.32])\n",
    "\n",
    "\n",
    "\n",
    "print(x.get_string(title = \"-----GRID SEARCH-----\"))\n",
    "\n",
    "\n",
    "y = PrettyTable()\n",
    "\n",
    "y.field_names = [\"S.R\",\"Vec\", \"Reg\",'C', \"Micro f-1\", \"Weighted f-1\", 'roc_auc', 'Log-Loss']\n",
    "\n",
    "y.add_row([(1),\"BOW\", \"l2\", 100, 0.975, 0.976, 0.975, 0.861])\n",
    "y.add_row([(2),\"TF-IDF\", \"l2\", 100, 0.992, 0.992, 0.985, 0.263])\n",
    "y.add_row([(3),\"W2v\", \"l2\", 10, 0.845, 0.860, 0.850, 5.34])\n",
    "y.add_row([(4),\"TF-IDF wgh W2V\", \"l2\", 10, 0.817, 0.836, 0.819, 6.32])\n",
    "\n",
    "\n",
    "\n",
    "print(y.get_string(title = \"-----------------RANDOM SEARCH-----------------\"))"
   ]
  },
  {
   "cell_type": "code",
   "execution_count": null,
   "metadata": {},
   "outputs": [],
   "source": []
  }
 ],
 "metadata": {
  "kernelspec": {
   "display_name": "Python 3",
   "language": "python",
   "name": "python3"
  },
  "language_info": {
   "codemirror_mode": {
    "name": "ipython",
    "version": 3
   },
   "file_extension": ".py",
   "mimetype": "text/x-python",
   "name": "python",
   "nbconvert_exporter": "python",
   "pygments_lexer": "ipython3",
   "version": "3.6.5"
  }
 },
 "nbformat": 4,
 "nbformat_minor": 2
}
