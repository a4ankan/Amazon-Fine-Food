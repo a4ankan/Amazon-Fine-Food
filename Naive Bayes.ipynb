{
 "cells": [
  {
   "cell_type": "markdown",
   "metadata": {},
   "source": [
    "Models like logistic regression or Naive Bayes algorithm, predict the probabilities of observing some outcomes. In standard binary regression scenario the models give you probability of observing the \"success\" category. In multinomial case, the models return probabilities of observing each of the outcomes. Log probabilities are simply natural logarithms of the predicted probabilities"
   ]
  },
  {
   "cell_type": "markdown",
   "metadata": {},
   "source": [
    "LOADING THE DATA\n",
    "----------"
   ]
  },
  {
   "cell_type": "code",
   "execution_count": 37,
   "metadata": {},
   "outputs": [
    {
     "data": {
      "text/plain": [
       "'/home/a4ankan/aMAZON fINAL WORK/amazon fine food'"
      ]
     },
     "execution_count": 37,
     "metadata": {},
     "output_type": "execute_result"
    }
   ],
   "source": [
    "import os\n",
    "os.getcwd()\n",
    "os.chdir('/home/a4ankan/aMAZON fINAL WORK/amazon fine food')\n",
    "os.getcwd()"
   ]
  },
  {
   "cell_type": "code",
   "execution_count": 38,
   "metadata": {},
   "outputs": [
    {
     "name": "stdout",
     "output_type": "stream",
     "text": [
      "(525814, 10)\n"
     ]
    },
    {
     "data": {
      "text/html": [
       "<div>\n",
       "<style scoped>\n",
       "    .dataframe tbody tr th:only-of-type {\n",
       "        vertical-align: middle;\n",
       "    }\n",
       "\n",
       "    .dataframe tbody tr th {\n",
       "        vertical-align: top;\n",
       "    }\n",
       "\n",
       "    .dataframe thead th {\n",
       "        text-align: right;\n",
       "    }\n",
       "</style>\n",
       "<table border=\"1\" class=\"dataframe\">\n",
       "  <thead>\n",
       "    <tr style=\"text-align: right;\">\n",
       "      <th></th>\n",
       "      <th>Id</th>\n",
       "      <th>ProductId</th>\n",
       "      <th>UserId</th>\n",
       "      <th>ProfileName</th>\n",
       "      <th>HelpfulnessNumerator</th>\n",
       "      <th>HelpfulnessDenominator</th>\n",
       "      <th>Score</th>\n",
       "      <th>Time</th>\n",
       "      <th>Summary</th>\n",
       "      <th>Text</th>\n",
       "    </tr>\n",
       "  </thead>\n",
       "  <tbody>\n",
       "    <tr>\n",
       "      <th>138706</th>\n",
       "      <td>150524</td>\n",
       "      <td>0006641040</td>\n",
       "      <td>ACITT7DI6IDDL</td>\n",
       "      <td>shari zychinski</td>\n",
       "      <td>0</td>\n",
       "      <td>0</td>\n",
       "      <td>1</td>\n",
       "      <td>939340800</td>\n",
       "      <td>EVERY book is educational</td>\n",
       "      <td>this witty little book makes my son laugh at l...</td>\n",
       "    </tr>\n",
       "    <tr>\n",
       "      <th>138683</th>\n",
       "      <td>150501</td>\n",
       "      <td>0006641040</td>\n",
       "      <td>AJ46FKXOVC7NR</td>\n",
       "      <td>Nicholas A Mesiano</td>\n",
       "      <td>2</td>\n",
       "      <td>2</td>\n",
       "      <td>1</td>\n",
       "      <td>940809600</td>\n",
       "      <td>This whole series is great way to spend time w...</td>\n",
       "      <td>I can remember seeing the show when it aired o...</td>\n",
       "    </tr>\n",
       "    <tr>\n",
       "      <th>417839</th>\n",
       "      <td>451856</td>\n",
       "      <td>B00004CXX9</td>\n",
       "      <td>AIUWLEQ1ADEG5</td>\n",
       "      <td>Elizabeth Medina</td>\n",
       "      <td>0</td>\n",
       "      <td>0</td>\n",
       "      <td>1</td>\n",
       "      <td>944092800</td>\n",
       "      <td>Entertainingl Funny!</td>\n",
       "      <td>Beetlejuice is a well written movie ..... ever...</td>\n",
       "    </tr>\n",
       "    <tr>\n",
       "      <th>417859</th>\n",
       "      <td>451878</td>\n",
       "      <td>B00004CXX9</td>\n",
       "      <td>A344SMIA5JECGM</td>\n",
       "      <td>Vincent P. Ross</td>\n",
       "      <td>1</td>\n",
       "      <td>2</td>\n",
       "      <td>1</td>\n",
       "      <td>944438400</td>\n",
       "      <td>A modern day fairy tale</td>\n",
       "      <td>A twist of rumplestiskin captured on film, sta...</td>\n",
       "    </tr>\n",
       "    <tr>\n",
       "      <th>212472</th>\n",
       "      <td>230285</td>\n",
       "      <td>B00004RYGX</td>\n",
       "      <td>A344SMIA5JECGM</td>\n",
       "      <td>Vincent P. Ross</td>\n",
       "      <td>1</td>\n",
       "      <td>2</td>\n",
       "      <td>1</td>\n",
       "      <td>944438400</td>\n",
       "      <td>A modern day fairy tale</td>\n",
       "      <td>A twist of rumplestiskin captured on film, sta...</td>\n",
       "    </tr>\n",
       "  </tbody>\n",
       "</table>\n",
       "</div>"
      ],
      "text/plain": [
       "            Id   ProductId          UserId         ProfileName  \\\n",
       "138706  150524  0006641040   ACITT7DI6IDDL     shari zychinski   \n",
       "138683  150501  0006641040   AJ46FKXOVC7NR  Nicholas A Mesiano   \n",
       "417839  451856  B00004CXX9   AIUWLEQ1ADEG5    Elizabeth Medina   \n",
       "417859  451878  B00004CXX9  A344SMIA5JECGM     Vincent P. Ross   \n",
       "212472  230285  B00004RYGX  A344SMIA5JECGM     Vincent P. Ross   \n",
       "\n",
       "        HelpfulnessNumerator  HelpfulnessDenominator  Score       Time  \\\n",
       "138706                     0                       0      1  939340800   \n",
       "138683                     2                       2      1  940809600   \n",
       "417839                     0                       0      1  944092800   \n",
       "417859                     1                       2      1  944438400   \n",
       "212472                     1                       2      1  944438400   \n",
       "\n",
       "                                                  Summary  \\\n",
       "138706                          EVERY book is educational   \n",
       "138683  This whole series is great way to spend time w...   \n",
       "417839                               Entertainingl Funny!   \n",
       "417859                            A modern day fairy tale   \n",
       "212472                            A modern day fairy tale   \n",
       "\n",
       "                                                     Text  \n",
       "138706  this witty little book makes my son laugh at l...  \n",
       "138683  I can remember seeing the show when it aired o...  \n",
       "417839  Beetlejuice is a well written movie ..... ever...  \n",
       "417859  A twist of rumplestiskin captured on film, sta...  \n",
       "212472  A twist of rumplestiskin captured on film, sta...  "
      ]
     },
     "execution_count": 38,
     "metadata": {},
     "output_type": "execute_result"
    }
   ],
   "source": [
    "%matplotlib inline\n",
    "import warnings\n",
    "warnings.filterwarnings(\"ignore\")\n",
    "\n",
    "import sqlite3\n",
    "import pandas as pd\n",
    "import numpy as np\n",
    "import nltk\n",
    "import string\n",
    "import matplotlib.pyplot as plt\n",
    "import seaborn as sns\n",
    "from sklearn.feature_extraction.text import TfidfTransformer\n",
    "from sklearn.feature_extraction.text import TfidfVectorizer\n",
    "\n",
    "from sklearn.feature_extraction.text import CountVectorizer\n",
    "from sklearn.metrics import confusion_matrix\n",
    "from sklearn import metrics\n",
    "from sklearn.metrics import roc_curve, auc\n",
    "from nltk.stem.porter import PorterStemmer\n",
    "\n",
    "import re\n",
    "# Tutorial about Python regular expressions: https://pymotw.com/2/re/\n",
    "import string\n",
    "from nltk.corpus import stopwords\n",
    "from nltk.stem import PorterStemmer\n",
    "from nltk.stem.wordnet import WordNetLemmatizer\n",
    "\n",
    "from gensim.models import Word2Vec\n",
    "from gensim.models import KeyedVectors\n",
    "import pickle\n",
    "import datetime\n",
    "\n",
    "\n",
    "\n",
    "# it connects my code with the sql database\n",
    "con = sqlite3.connect('database.sqlite') \n",
    "\n",
    "\n",
    "\n",
    "#Writting a query; 'con' is the link\n",
    "# Here, I am saying that 'slelct (*) from reviews which are not equal to 3'.\n",
    "#Just take the reviews which are 1,2,4 or 5.\n",
    "\n",
    "\n",
    "\n",
    "filtered_data = pd.read_sql_query(\"\"\" SELECT * FROM Reviews WHERE Score != 3 \"\"\", con) #filtering only positive and negative reviews i.e. \n",
    "# not taking into consideration those reviews with Score=3\n",
    "\n",
    "\n",
    "\n",
    "\n",
    "\n",
    "# Give reviews with Score>3 a positive rating, and reviews with a score<3 a negative rating.\n",
    "def partition(x):\n",
    "    if x < 3:\n",
    "        return -1\n",
    "    return 1\n",
    "\n",
    "#changing reviews with score less than 3 to be positive and vice-versa\n",
    "actualScore = filtered_data['Score']\n",
    "positiveNegative = actualScore.map(partition) \n",
    "filtered_data['Score'] = positiveNegative\n",
    "filtered_data.sort_values('Time',inplace=True) \n",
    "\n",
    "print(filtered_data.shape) #The score coloumn becomesb positive / negative\n",
    "filtered_data.head()"
   ]
  },
  {
   "cell_type": "markdown",
   "metadata": {},
   "source": [
    "Data Cleansing : deduplication\n",
    "------------"
   ]
  },
  {
   "cell_type": "code",
   "execution_count": 39,
   "metadata": {},
   "outputs": [
    {
     "name": "stdout",
     "output_type": "stream",
     "text": [
      "(364173, 10)\n"
     ]
    },
    {
     "data": {
      "text/plain": [
       "69.25890143662969"
      ]
     },
     "execution_count": 39,
     "metadata": {},
     "output_type": "execute_result"
    }
   ],
   "source": [
    "#Sorting data according to ProductId in ascending order\n",
    "sorted_data=filtered_data.sort_values('ProductId', axis=0, ascending=True, inplace=False, kind='quicksort', na_position='last')\n",
    "\n",
    "#Deduplication of entries\n",
    "final=sorted_data.drop_duplicates(subset={\"UserId\",\"ProfileName\",\"Time\",\"Text\"}, keep='first', inplace=False)\n",
    "print(final.shape)\n",
    "\n",
    "#Checking to see how much % of data still remains\n",
    "(final['Id'].size*1.0)/(filtered_data['Id'].size*1.0)*100"
   ]
  },
  {
   "cell_type": "code",
   "execution_count": 40,
   "metadata": {},
   "outputs": [
    {
     "data": {
      "text/html": [
       "<div>\n",
       "<style scoped>\n",
       "    .dataframe tbody tr th:only-of-type {\n",
       "        vertical-align: middle;\n",
       "    }\n",
       "\n",
       "    .dataframe tbody tr th {\n",
       "        vertical-align: top;\n",
       "    }\n",
       "\n",
       "    .dataframe thead th {\n",
       "        text-align: right;\n",
       "    }\n",
       "</style>\n",
       "<table border=\"1\" class=\"dataframe\">\n",
       "  <thead>\n",
       "    <tr style=\"text-align: right;\">\n",
       "      <th></th>\n",
       "      <th>Id</th>\n",
       "      <th>ProductId</th>\n",
       "      <th>UserId</th>\n",
       "      <th>ProfileName</th>\n",
       "      <th>HelpfulnessNumerator</th>\n",
       "      <th>HelpfulnessDenominator</th>\n",
       "      <th>Score</th>\n",
       "      <th>Time</th>\n",
       "      <th>Summary</th>\n",
       "      <th>Text</th>\n",
       "    </tr>\n",
       "  </thead>\n",
       "  <tbody>\n",
       "    <tr>\n",
       "      <th>0</th>\n",
       "      <td>64422</td>\n",
       "      <td>B000MIDROQ</td>\n",
       "      <td>A161DK06JJMCYF</td>\n",
       "      <td>J. E. Stephens \"Jeanne\"</td>\n",
       "      <td>3</td>\n",
       "      <td>1</td>\n",
       "      <td>5</td>\n",
       "      <td>1224892800</td>\n",
       "      <td>Bought This for My Son at College</td>\n",
       "      <td>My son loves spaghetti so I didn't hesitate or...</td>\n",
       "    </tr>\n",
       "    <tr>\n",
       "      <th>1</th>\n",
       "      <td>44737</td>\n",
       "      <td>B001EQ55RW</td>\n",
       "      <td>A2V0I904FH7ABY</td>\n",
       "      <td>Ram</td>\n",
       "      <td>3</td>\n",
       "      <td>2</td>\n",
       "      <td>4</td>\n",
       "      <td>1212883200</td>\n",
       "      <td>Pure cocoa taste with crunchy almonds inside</td>\n",
       "      <td>It was almost a 'love at first bite' - the per...</td>\n",
       "    </tr>\n",
       "  </tbody>\n",
       "</table>\n",
       "</div>"
      ],
      "text/plain": [
       "      Id   ProductId          UserId              ProfileName  \\\n",
       "0  64422  B000MIDROQ  A161DK06JJMCYF  J. E. Stephens \"Jeanne\"   \n",
       "1  44737  B001EQ55RW  A2V0I904FH7ABY                      Ram   \n",
       "\n",
       "   HelpfulnessNumerator  HelpfulnessDenominator  Score        Time  \\\n",
       "0                     3                       1      5  1224892800   \n",
       "1                     3                       2      4  1212883200   \n",
       "\n",
       "                                        Summary  \\\n",
       "0             Bought This for My Son at College   \n",
       "1  Pure cocoa taste with crunchy almonds inside   \n",
       "\n",
       "                                                Text  \n",
       "0  My son loves spaghetti so I didn't hesitate or...  \n",
       "1  It was almost a 'love at first bite' - the per...  "
      ]
     },
     "execution_count": 40,
     "metadata": {},
     "output_type": "execute_result"
    }
   ],
   "source": [
    "display= pd.read_sql_query(\"\"\"\n",
    "SELECT *\n",
    "FROM Reviews\n",
    "WHERE Score != 3 AND Id=44737 OR Id=64422\n",
    "ORDER BY ProductID\n",
    "\"\"\", con)\n",
    "\n",
    "\n",
    "\n",
    "display.head()"
   ]
  },
  {
   "cell_type": "code",
   "execution_count": 41,
   "metadata": {},
   "outputs": [
    {
     "name": "stdout",
     "output_type": "stream",
     "text": [
      "(364171, 10)\n"
     ]
    },
    {
     "data": {
      "text/plain": [
       " 1    307061\n",
       "-1     57110\n",
       "Name: Score, dtype: int64"
      ]
     },
     "execution_count": 41,
     "metadata": {},
     "output_type": "execute_result"
    }
   ],
   "source": [
    "final = final[final.HelpfulnessNumerator <= final.HelpfulnessDenominator]\n",
    "\n",
    "#Before starting the next phase of preprocessing lets see the number of entries left\n",
    "print(final.shape)\n",
    "\n",
    "#How many positive and negative reviews are present in our dataset?\n",
    "final['Score'].value_counts()"
   ]
  },
  {
   "cell_type": "code",
   "execution_count": 42,
   "metadata": {},
   "outputs": [
    {
     "data": {
      "text/html": [
       "<div>\n",
       "<style scoped>\n",
       "    .dataframe tbody tr th:only-of-type {\n",
       "        vertical-align: middle;\n",
       "    }\n",
       "\n",
       "    .dataframe tbody tr th {\n",
       "        vertical-align: top;\n",
       "    }\n",
       "\n",
       "    .dataframe thead th {\n",
       "        text-align: right;\n",
       "    }\n",
       "</style>\n",
       "<table border=\"1\" class=\"dataframe\">\n",
       "  <thead>\n",
       "    <tr style=\"text-align: right;\">\n",
       "      <th></th>\n",
       "      <th>Score</th>\n",
       "      <th>Text</th>\n",
       "      <th>Time</th>\n",
       "    </tr>\n",
       "  </thead>\n",
       "  <tbody>\n",
       "    <tr>\n",
       "      <th>138706</th>\n",
       "      <td>1</td>\n",
       "      <td>this witty little book makes my son laugh at l...</td>\n",
       "      <td>939340800</td>\n",
       "    </tr>\n",
       "    <tr>\n",
       "      <th>138683</th>\n",
       "      <td>1</td>\n",
       "      <td>I can remember seeing the show when it aired o...</td>\n",
       "      <td>940809600</td>\n",
       "    </tr>\n",
       "    <tr>\n",
       "      <th>417839</th>\n",
       "      <td>1</td>\n",
       "      <td>Beetlejuice is a well written movie ..... ever...</td>\n",
       "      <td>944092800</td>\n",
       "    </tr>\n",
       "    <tr>\n",
       "      <th>417859</th>\n",
       "      <td>1</td>\n",
       "      <td>A twist of rumplestiskin captured on film, sta...</td>\n",
       "      <td>944438400</td>\n",
       "    </tr>\n",
       "    <tr>\n",
       "      <th>212472</th>\n",
       "      <td>1</td>\n",
       "      <td>A twist of rumplestiskin captured on film, sta...</td>\n",
       "      <td>944438400</td>\n",
       "    </tr>\n",
       "  </tbody>\n",
       "</table>\n",
       "</div>"
      ],
      "text/plain": [
       "        Score                                               Text       Time\n",
       "138706      1  this witty little book makes my son laugh at l...  939340800\n",
       "138683      1  I can remember seeing the show when it aired o...  940809600\n",
       "417839      1  Beetlejuice is a well written movie ..... ever...  944092800\n",
       "417859      1  A twist of rumplestiskin captured on film, sta...  944438400\n",
       "212472      1  A twist of rumplestiskin captured on film, sta...  944438400"
      ]
     },
     "execution_count": 42,
     "metadata": {},
     "output_type": "execute_result"
    }
   ],
   "source": [
    "filtered_data[['Score','Text', 'Time']].head()"
   ]
  },
  {
   "cell_type": "markdown",
   "metadata": {},
   "source": [
    "How to convert Text to Vector?? Text Preprocessing: Stemming, stop-word removal and Lemmatization.\n",
    "-------------\n"
   ]
  },
  {
   "cell_type": "code",
   "execution_count": 43,
   "metadata": {},
   "outputs": [
    {
     "name": "stdout",
     "output_type": "stream",
     "text": [
      "1\n",
      "Summary:  A young boy describes the usefulness of chicken soup with rice for each month of the year.<br /><br />Evaluation:  With Sendak's creative repetitious and rhythmic words, children will enjoy and learn to read the story of a boy who loves chicken soup with rice!  Through Sendak's catchy story, children will also learn the months of the year, as well as what seasons go with what month! They learn to identify ice-skating and snowmen in the winter; strong wind in March; birds and flowers in the spring; swimming and hot temperatures in the summer; and finally different holidays throughout the year. Such as Halloween in October, and Christmas in December.<br /><br />Sendak's simple three colored crayon-like drawings are a perfect addition to his educational and entertaining story.<br /><br />A great activity that you can do with this book is to have children draw their own illustrations for each month of the year.  Afterwards you can bind the pages together so the children can create their own book.\n"
     ]
    }
   ],
   "source": [
    "import re\n",
    "i=0;\n",
    "for sent in final['Text'].values:\n",
    "    if (len(re.findall('<.*?>', sent))):\n",
    "        print(i)\n",
    "        print(sent)\n",
    "        break;\n",
    "    i += 1;"
   ]
  },
  {
   "cell_type": "code",
   "execution_count": 44,
   "metadata": {},
   "outputs": [
    {
     "name": "stdout",
     "output_type": "stream",
     "text": [
      "{'into', 'are', 'off', 'ain', 'over', 'as', 'there', 'needn', 'during', 'wouldn', 'has', 'o', \"should've\", 'myself', 'when', \"couldn't\", \"you're\", 'all', 'until', 'mustn', \"isn't\", 'yourself', 'which', 'his', \"needn't\", \"aren't\", 'because', 'here', \"didn't\", 'own', 'most', \"you've\", 'for', 's', \"don't\", 'be', 'against', 'wasn', \"shan't\", 'her', 'to', 'any', 'both', 'and', 'at', 'we', 'these', \"hasn't\", 'they', 'can', 'itself', 'with', 'same', 'couldn', 'each', 'ma', \"you'll\", \"mustn't\", 'don', 've', 'again', 'your', 'or', 'shan', 'doing', \"won't\", \"it's\", 'whom', 'above', 'i', 'm', 'between', 'have', 'having', 'other', 'themselves', 'you', 'its', 'hers', 'then', 'theirs', 'on', 'those', 't', \"wouldn't\", 'being', 'in', 'me', 'before', 'by', 'had', 'very', 'who', 'such', 'hasn', 'were', 'no', 'an', 'will', 'if', 'just', 'yours', 'he', 'more', 'now', 'mightn', 'why', 'than', 'aren', 'my', 're', 'about', 'what', 'not', 'where', 'while', 'himself', \"she's\", 'y', 'did', 'isn', \"weren't\", 'is', 'didn', 'do', 'does', 'how', 'some', 'after', 'it', \"shouldn't\", \"wasn't\", 'herself', 'below', 'ourselves', 'a', 'been', 'their', 'too', 'haven', 'under', \"that'll\", 'ours', 'hadn', \"mightn't\", 'down', 'our', 'yourselves', \"hadn't\", 'she', 'further', 'the', \"haven't\", 'few', 'nor', 'so', 'out', 'doesn', 'up', \"you'd\", 'only', 'them', 'that', 'but', 'him', 'am', 'through', 'once', 'weren', 'd', 'should', 'won', 'was', \"doesn't\", 'shouldn', 'of', 'this', 'from', 'll'}\n",
      "************************************\n",
      "tasti\n"
     ]
    }
   ],
   "source": [
    "stop = set(stopwords.words('english')) #set of stopwords\n",
    "sno = nltk.stem.SnowballStemmer('english') #initialising the snowball stemmer\n",
    "\n",
    "def cleanhtml(sentence): #function to clean the word of any html-tags\n",
    "    cleanr = re.compile('<.*?>')\n",
    "    cleantext = re.sub(cleanr, ' ', sentence)\n",
    "    return cleantext\n",
    "def cleanpunc(sentence): #function to clean the word of any punctuation or special characters\n",
    "    cleaned = re.sub(r'[?|!|\\'|\"|#]',r'',sentence)\n",
    "    cleaned = re.sub(r'[.|,|)|(|\\|/]',r' ',cleaned)\n",
    "    return  cleaned\n",
    "print(stop)\n",
    "print('************************************')\n",
    "print(sno.stem('tasty'))"
   ]
  },
  {
   "cell_type": "code",
   "execution_count": 45,
   "metadata": {},
   "outputs": [],
   "source": [
    "#Code for implementing step-by-step the checks mentioned in the pre-processing phase\n",
    "\n",
    "i=0\n",
    "str1=' '\n",
    "final_string=[]\n",
    "all_positive_words=[] # store words from +ve reviews here\n",
    "all_negative_words=[] # store words from -ve reviews here.\n",
    "s=''\n",
    "for sent in final['Text'].values:\n",
    "    filtered_sentence=[]\n",
    "    #print(sent);\n",
    "    sent=cleanhtml(sent) # remove HTMl tags\n",
    "    for w in sent.split():\n",
    "        for cleaned_words in cleanpunc(w).split():\n",
    "            if((cleaned_words.isalpha()) & (len(cleaned_words)>2)):    \n",
    "                if(cleaned_words.lower() not in stop):\n",
    "                    s=(sno.stem(cleaned_words.lower())).encode('utf8')\n",
    "                    filtered_sentence.append(s)\n",
    "                    if (final['Score'].values)[i] == 'positive': \n",
    "                        all_positive_words.append(s) #list of all words used to describe positive reviews\n",
    "                    if(final['Score'].values)[i] == 'negative':\n",
    "                        all_negative_words.append(s) #list of all words used to describe negative reviews reviews\n",
    "                else:\n",
    "                    continue\n",
    "            else:\n",
    "                continue \n",
    "    #print(filtered_sentence)\n",
    "    str1 = b\" \".join(filtered_sentence) #final string of cleaned words\n",
    "    #print(\"***********************************************************************\")\n",
    "    \n",
    "    final_string.append(str1)\n",
    "    i+=1\n",
    "    "
   ]
  },
  {
   "cell_type": "code",
   "execution_count": 46,
   "metadata": {},
   "outputs": [],
   "source": [
    "final['CleanedText']=final_string #adding a column of CleanedText which displays the data after pre-processing of the review \n",
    "final['CleanedText']=final['CleanedText'].str.decode(\"utf-8\")\n",
    "final.sort_values('Time',inplace=True) "
   ]
  },
  {
   "cell_type": "code",
   "execution_count": 47,
   "metadata": {},
   "outputs": [],
   "source": [
    "#Code for implementing step-by-step the checks mentioned in the pre-processing phase\n",
    "\n",
    "i=0\n",
    "str1=' '\n",
    "final_string=[]\n",
    "all_positive_words=[] # store words from +ve reviews here\n",
    "all_negative_words=[] # store words from -ve reviews here.\n",
    "s=''\n",
    "for sent in final['Summary'].values:\n",
    "    filtered_sentence=[]\n",
    "    #print(sent);\n",
    "    sent=cleanhtml(sent) # remove HTMl tags\n",
    "    for w in sent.split():\n",
    "        for cleaned_words in cleanpunc(w).split():\n",
    "            if((cleaned_words.isalpha()) & (len(cleaned_words)>2)):    \n",
    "                if(cleaned_words.lower() not in stop):\n",
    "                    s=(sno.stem(cleaned_words.lower())).encode('utf8')\n",
    "                    filtered_sentence.append(s)\n",
    "                    if (final['Score'].values)[i] == 'positive': \n",
    "                        all_positive_words.append(s) #list of all words used to describe positive reviews\n",
    "                    if(final['Score'].values)[i] == 'negative':\n",
    "                        all_negative_words.append(s) #list of all words used to describe negative reviews reviews\n",
    "                else:\n",
    "                    continue\n",
    "            else:\n",
    "                continue \n",
    "    #print(filtered_sentence)\n",
    "    str1 = b\" \".join(filtered_sentence) #final string of cleaned words\n",
    "    #print(\"***********************************************************************\")\n",
    "    \n",
    "    final_string.append(str1)\n",
    "    i+=1\n",
    "    "
   ]
  },
  {
   "cell_type": "code",
   "execution_count": 48,
   "metadata": {},
   "outputs": [],
   "source": [
    "final['New'] = final['Summary'] + final['CleanedText']"
   ]
  },
  {
   "cell_type": "code",
   "execution_count": 49,
   "metadata": {},
   "outputs": [],
   "source": [
    "final['New']=final_string #adding a column of CleanedText which displays the data after pre-processing of the review \n",
    "final['New']=final['New'].str.decode(\"utf-8\")\n",
    "final.sort_values('Time',inplace=True)"
   ]
  },
  {
   "cell_type": "code",
   "execution_count": 50,
   "metadata": {},
   "outputs": [],
   "source": [
    "\n",
    "# store final table into an SQlLite table for future.\n",
    "conn = sqlite3.connect('final.sqlite')\n",
    "c=conn.cursor()\n",
    "conn.text_factory = str\n",
    "final.to_sql('Reviews', conn,  schema=None, if_exists='replace', index=True, index_label=None, chunksize=None, dtype=None)"
   ]
  },
  {
   "cell_type": "code",
   "execution_count": 51,
   "metadata": {},
   "outputs": [
    {
     "data": {
      "text/html": [
       "<div>\n",
       "<style scoped>\n",
       "    .dataframe tbody tr th:only-of-type {\n",
       "        vertical-align: middle;\n",
       "    }\n",
       "\n",
       "    .dataframe tbody tr th {\n",
       "        vertical-align: top;\n",
       "    }\n",
       "\n",
       "    .dataframe thead th {\n",
       "        text-align: right;\n",
       "    }\n",
       "</style>\n",
       "<table border=\"1\" class=\"dataframe\">\n",
       "  <thead>\n",
       "    <tr style=\"text-align: right;\">\n",
       "      <th></th>\n",
       "      <th>Id</th>\n",
       "      <th>ProductId</th>\n",
       "      <th>UserId</th>\n",
       "      <th>ProfileName</th>\n",
       "      <th>HelpfulnessNumerator</th>\n",
       "      <th>HelpfulnessDenominator</th>\n",
       "      <th>Score</th>\n",
       "      <th>Time</th>\n",
       "      <th>Summary</th>\n",
       "      <th>Text</th>\n",
       "      <th>CleanedText</th>\n",
       "      <th>New</th>\n",
       "    </tr>\n",
       "  </thead>\n",
       "  <tbody>\n",
       "    <tr>\n",
       "      <th>138706</th>\n",
       "      <td>150524</td>\n",
       "      <td>0006641040</td>\n",
       "      <td>ACITT7DI6IDDL</td>\n",
       "      <td>shari zychinski</td>\n",
       "      <td>0</td>\n",
       "      <td>0</td>\n",
       "      <td>1</td>\n",
       "      <td>939340800</td>\n",
       "      <td>EVERY book is educational</td>\n",
       "      <td>this witty little book makes my son laugh at l...</td>\n",
       "      <td>witti littl book make son laugh loud recit car...</td>\n",
       "      <td>everi book educ</td>\n",
       "    </tr>\n",
       "    <tr>\n",
       "      <th>138683</th>\n",
       "      <td>150501</td>\n",
       "      <td>0006641040</td>\n",
       "      <td>AJ46FKXOVC7NR</td>\n",
       "      <td>Nicholas A Mesiano</td>\n",
       "      <td>2</td>\n",
       "      <td>2</td>\n",
       "      <td>1</td>\n",
       "      <td>940809600</td>\n",
       "      <td>This whole series is great way to spend time w...</td>\n",
       "      <td>I can remember seeing the show when it aired o...</td>\n",
       "      <td>rememb see show air televis year ago child sis...</td>\n",
       "      <td>whole seri great way spend time child</td>\n",
       "    </tr>\n",
       "    <tr>\n",
       "      <th>417839</th>\n",
       "      <td>451856</td>\n",
       "      <td>B00004CXX9</td>\n",
       "      <td>AIUWLEQ1ADEG5</td>\n",
       "      <td>Elizabeth Medina</td>\n",
       "      <td>0</td>\n",
       "      <td>0</td>\n",
       "      <td>1</td>\n",
       "      <td>944092800</td>\n",
       "      <td>Entertainingl Funny!</td>\n",
       "      <td>Beetlejuice is a well written movie ..... ever...</td>\n",
       "      <td>beetlejuic well written movi everyth excel act...</td>\n",
       "      <td>entertainingl funni</td>\n",
       "    </tr>\n",
       "    <tr>\n",
       "      <th>346055</th>\n",
       "      <td>374359</td>\n",
       "      <td>B00004CI84</td>\n",
       "      <td>A344SMIA5JECGM</td>\n",
       "      <td>Vincent P. Ross</td>\n",
       "      <td>1</td>\n",
       "      <td>2</td>\n",
       "      <td>1</td>\n",
       "      <td>944438400</td>\n",
       "      <td>A modern day fairy tale</td>\n",
       "      <td>A twist of rumplestiskin captured on film, sta...</td>\n",
       "      <td>twist rumplestiskin captur film star michael k...</td>\n",
       "      <td>modern day fairi tale</td>\n",
       "    </tr>\n",
       "    <tr>\n",
       "      <th>417838</th>\n",
       "      <td>451855</td>\n",
       "      <td>B00004CXX9</td>\n",
       "      <td>AJH6LUC1UT1ON</td>\n",
       "      <td>The Phantom of the Opera</td>\n",
       "      <td>0</td>\n",
       "      <td>0</td>\n",
       "      <td>1</td>\n",
       "      <td>946857600</td>\n",
       "      <td>FANTASTIC!</td>\n",
       "      <td>Beetlejuice is an excellent and funny movie. K...</td>\n",
       "      <td>beetlejuic excel funni movi keaton hilari wack...</td>\n",
       "      <td>fantast</td>\n",
       "    </tr>\n",
       "  </tbody>\n",
       "</table>\n",
       "</div>"
      ],
      "text/plain": [
       "            Id   ProductId          UserId               ProfileName  \\\n",
       "138706  150524  0006641040   ACITT7DI6IDDL           shari zychinski   \n",
       "138683  150501  0006641040   AJ46FKXOVC7NR        Nicholas A Mesiano   \n",
       "417839  451856  B00004CXX9   AIUWLEQ1ADEG5          Elizabeth Medina   \n",
       "346055  374359  B00004CI84  A344SMIA5JECGM           Vincent P. Ross   \n",
       "417838  451855  B00004CXX9   AJH6LUC1UT1ON  The Phantom of the Opera   \n",
       "\n",
       "        HelpfulnessNumerator  HelpfulnessDenominator  Score       Time  \\\n",
       "138706                     0                       0      1  939340800   \n",
       "138683                     2                       2      1  940809600   \n",
       "417839                     0                       0      1  944092800   \n",
       "346055                     1                       2      1  944438400   \n",
       "417838                     0                       0      1  946857600   \n",
       "\n",
       "                                                  Summary  \\\n",
       "138706                          EVERY book is educational   \n",
       "138683  This whole series is great way to spend time w...   \n",
       "417839                               Entertainingl Funny!   \n",
       "346055                            A modern day fairy tale   \n",
       "417838                                         FANTASTIC!   \n",
       "\n",
       "                                                     Text  \\\n",
       "138706  this witty little book makes my son laugh at l...   \n",
       "138683  I can remember seeing the show when it aired o...   \n",
       "417839  Beetlejuice is a well written movie ..... ever...   \n",
       "346055  A twist of rumplestiskin captured on film, sta...   \n",
       "417838  Beetlejuice is an excellent and funny movie. K...   \n",
       "\n",
       "                                              CleanedText  \\\n",
       "138706  witti littl book make son laugh loud recit car...   \n",
       "138683  rememb see show air televis year ago child sis...   \n",
       "417839  beetlejuic well written movi everyth excel act...   \n",
       "346055  twist rumplestiskin captur film star michael k...   \n",
       "417838  beetlejuic excel funni movi keaton hilari wack...   \n",
       "\n",
       "                                          New  \n",
       "138706                        everi book educ  \n",
       "138683  whole seri great way spend time child  \n",
       "417839                    entertainingl funni  \n",
       "346055                  modern day fairi tale  \n",
       "417838                                fantast  "
      ]
     },
     "execution_count": 51,
     "metadata": {},
     "output_type": "execute_result"
    }
   ],
   "source": [
    "final.head()"
   ]
  },
  {
   "cell_type": "code",
   "execution_count": 52,
   "metadata": {},
   "outputs": [
    {
     "data": {
      "text/plain": [
       "pandas.core.frame.DataFrame"
      ]
     },
     "execution_count": 52,
     "metadata": {},
     "output_type": "execute_result"
    }
   ],
   "source": [
    "type(final)"
   ]
  },
  {
   "cell_type": "code",
   "execution_count": 53,
   "metadata": {},
   "outputs": [
    {
     "data": {
      "text/plain": [
       "138706    witti littl book make son laugh loud recit car...\n",
       "138683    rememb see show air televis year ago child sis...\n",
       "417839    beetlejuic well written movi everyth excel act...\n",
       "346055    twist rumplestiskin captur film star michael k...\n",
       "417838    beetlejuic excel funni movi keaton hilari wack...\n",
       "Name: CleanedText, dtype: object"
      ]
     },
     "execution_count": 53,
     "metadata": {},
     "output_type": "execute_result"
    }
   ],
   "source": [
    "X = final['CleanedText']\n",
    "X.head()\n"
   ]
  },
  {
   "cell_type": "code",
   "execution_count": 54,
   "metadata": {},
   "outputs": [
    {
     "data": {
      "text/plain": [
       "138706    1\n",
       "138683    1\n",
       "417839    1\n",
       "346055    1\n",
       "417838    1\n",
       "Name: Score, dtype: int64"
      ]
     },
     "execution_count": 54,
     "metadata": {},
     "output_type": "execute_result"
    }
   ],
   "source": [
    "Y = final['Score']\n",
    "Y.head(5)"
   ]
  },
  {
   "cell_type": "code",
   "execution_count": 55,
   "metadata": {},
   "outputs": [
    {
     "data": {
      "text/plain": [
       "(364171,)"
      ]
     },
     "execution_count": 55,
     "metadata": {},
     "output_type": "execute_result"
    }
   ],
   "source": [
    "Y.shape"
   ]
  },
  {
   "cell_type": "code",
   "execution_count": 56,
   "metadata": {},
   "outputs": [],
   "source": [
    "from sklearn import cross_validation\n",
    "warnings.filterwarnings(\"ignore\")"
   ]
  },
  {
   "cell_type": "code",
   "execution_count": 57,
   "metadata": {},
   "outputs": [],
   "source": [
    "X_train, X_test, Y_train, Y_test = cross_validation.train_test_split(X, Y, test_size=0.3, random_state=0)"
   ]
  },
  {
   "cell_type": "code",
   "execution_count": 58,
   "metadata": {},
   "outputs": [
    {
     "name": "stdout",
     "output_type": "stream",
     "text": [
      "Train Data Size:  (254919,)\n",
      "Test Data Size:  (109252,)\n"
     ]
    }
   ],
   "source": [
    "print(\"Train Data Size: \",X_train.shape)\n",
    "print(\"Test Data Size: \",X_test.shape)"
   ]
  },
  {
   "cell_type": "code",
   "execution_count": 59,
   "metadata": {},
   "outputs": [
    {
     "name": "stdout",
     "output_type": "stream",
     "text": [
      "Train Data Size:  (254919,)\n",
      "Test Data Size:  (109252,)\n"
     ]
    }
   ],
   "source": [
    "print(\"Train Data Size: \",Y_train.shape)\n",
    "print(\"Test Data Size: \",Y_test.shape)"
   ]
  },
  {
   "cell_type": "markdown",
   "metadata": {},
   "source": [
    "# Bernoulli Naive Bayes:"
   ]
  },
  {
   "cell_type": "markdown",
   "metadata": {},
   "source": [
    "Bag Of Words (BoW) :\n",
    "-----------\n",
    "\n",
    "Bag of Words constructs a dictionary of all the words in the document. A corpous is defined as a set of documents/reviews.\n",
    "It converts all the words in the document into a vector each word having a different dimension. Each cell in the vector corresponds to the no of times a word occurs in the document.\n",
    " Similar texts result in closer distances between two vectors. Although BoW has its own limitations.\n"
   ]
  },
  {
   "cell_type": "code",
   "execution_count": 89,
   "metadata": {},
   "outputs": [
    {
     "name": "stdout",
     "output_type": "stream",
     "text": [
      "the type of count vectorizer  <class 'scipy.sparse.csr.csr_matrix'>\n",
      "the shape of out text BOW vectorizer  (254919, 59777)\n",
      "the number of unique words  59777\n"
     ]
    }
   ],
   "source": [
    "#BoW\n",
    "\n",
    "count_vect = CountVectorizer(binary = True) #in scikit-learn\n",
    "X_train_bow = count_vect.fit_transform(X_train) #\n",
    "X_test_bow = count_vect.transform(X_test)#\n",
    "print(\"the type of count vectorizer \",type(X_train_bow))\n",
    "print(\"the shape of out text BOW vectorizer \",X_train_bow.get_shape())\n",
    "print(\"the number of unique words \", X_train_bow.get_shape()[1])"
   ]
  },
  {
   "cell_type": "code",
   "execution_count": 90,
   "metadata": {},
   "outputs": [
    {
     "name": "stdout",
     "output_type": "stream",
     "text": [
      "(254919, 59777)\n"
     ]
    }
   ],
   "source": [
    "import warnings\n",
    "warnings.filterwarnings(\"ignore\")\n",
    "\n",
    "# Standardizing the data with mean = 0 and std.dev = 1\n",
    "from sklearn.preprocessing import StandardScaler\n",
    "standardized_data = StandardScaler(with_mean= False).fit_transform(X_train_bow)\n",
    "X_train_bow = standardized_data\n",
    "print(X_train_bow.shape)\n",
    "\n"
   ]
  },
  {
   "cell_type": "code",
   "execution_count": 91,
   "metadata": {},
   "outputs": [
    {
     "name": "stdout",
     "output_type": "stream",
     "text": [
      "(109252, 59777)\n"
     ]
    }
   ],
   "source": [
    "standardized_data = StandardScaler(with_mean= False).fit_transform(X_test_bow)\n",
    "X_test_bow = standardized_data\n",
    "print(X_test_bow.shape)"
   ]
  },
  {
   "cell_type": "code",
   "execution_count": 92,
   "metadata": {},
   "outputs": [],
   "source": [
    "import numpy as np\n",
    "import pandas as pd\n",
    "import matplotlib.pyplot as plt\n",
    "from sklearn.cross_validation import train_test_split\n",
    "from sklearn.neighbors import KNeighborsClassifier\n",
    "from sklearn.metrics import accuracy_score\n",
    "from sklearn.cross_validation import cross_val_score\n",
    "from collections import Counter\n",
    "from sklearn.metrics import accuracy_score\n",
    "from sklearn import cross_validation\n"
   ]
  },
  {
   "cell_type": "code",
   "execution_count": 93,
   "metadata": {},
   "outputs": [
    {
     "name": "stdout",
     "output_type": "stream",
     "text": [
      "Train Data Size:  (254919, 59777)\n",
      "Test Data Size:  (109252, 59777)\n"
     ]
    }
   ],
   "source": [
    "print(\"Train Data Size: \",X_train_bow.shape)\n",
    "print(\"Test Data Size: \",X_test_bow.shape)"
   ]
  },
  {
   "cell_type": "code",
   "execution_count": 94,
   "metadata": {},
   "outputs": [
    {
     "name": "stdout",
     "output_type": "stream",
     "text": [
      "(23179, 59777) (23174, 59777)\n",
      "(46353, 59777) (23174, 59777)\n",
      "(69527, 59777) (23174, 59777)\n",
      "(92701, 59777) (23174, 59777)\n",
      "(115875, 59777) (23174, 59777)\n",
      "(139049, 59777) (23174, 59777)\n",
      "(162223, 59777) (23174, 59777)\n",
      "(185397, 59777) (23174, 59777)\n",
      "(208571, 59777) (23174, 59777)\n",
      "(231745, 59777) (23174, 59777)\n"
     ]
    }
   ],
   "source": [
    "from sklearn.model_selection import TimeSeriesSplit\n",
    "tscv = TimeSeriesSplit(n_splits=10)\n",
    "for train, cv in tscv.split(X_train_bow):\n",
    "    print(X_train_bow[train].shape, X_train_bow[cv].shape)\n"
   ]
  },
  {
   "cell_type": "code",
   "execution_count": 95,
   "metadata": {},
   "outputs": [],
   "source": [
    "import numpy as np\n",
    "import pandas as pd\n",
    "import matplotlib.pyplot as plt\n",
    "from sklearn.cross_validation import train_test_split\n",
    "from sklearn.neighbors import KNeighborsClassifier\n",
    "from sklearn.metrics import accuracy_score\n",
    "from sklearn.metrics import precision_score\n",
    "from sklearn.cross_validation import cross_val_score\n",
    "from collections import Counter\n",
    "from sklearn.metrics import accuracy_score\n",
    "from sklearn import cross_validation\n",
    "from sklearn.naive_bayes import BernoulliNB\n",
    "from datetime import datetime"
   ]
  },
  {
   "cell_type": "markdown",
   "metadata": {},
   "source": [
    "Finding optimal alpha for laplace smoothing..... \n",
    "---------------"
   ]
  },
  {
   "cell_type": "code",
   "execution_count": 96,
   "metadata": {},
   "outputs": [
    {
     "name": "stdout",
     "output_type": "stream",
     "text": [
      "Fitting 10 folds for each of 15 candidates, totalling 150 fits\n",
      "Best HyperParameter:  {'alpha': 0.01}\n",
      "Best Accuracy: 88.87%\n",
      "------------------------------------------------------------------------\n",
      "Time taken to run this cell :\n",
      " 0:00:31.074873\n",
      "------------------------------------------------------------------------\n"
     ]
    },
    {
     "name": "stderr",
     "output_type": "stream",
     "text": [
      "[Parallel(n_jobs=1)]: Done 150 out of 150 | elapsed:   30.9s finished\n"
     ]
    }
   ],
   "source": [
    "\n",
    "from sklearn.model_selection import GridSearchCV\n",
    "from sklearn.naive_bayes import BernoulliNB\n",
    "start = datetime.now()\n",
    "bnb = BernoulliNB()\n",
    "param_grid = {'alpha':[1000,500,100,50,10,5,1,0.5,0.1,0.05,0.01,0.005,0.001,0.0005,0.0001]} #params we need to try on classifier\n",
    "tscv = TimeSeriesSplit(n_splits=10) #For time based splitting\n",
    "gsv = GridSearchCV(bnb,param_grid,cv=tscv, scoring = 'accuracy',verbose=1)\n",
    "gsv.fit(X_train_bow,Y_train)\n",
    "print(\"Best HyperParameter: \",gsv.best_params_)\n",
    "print(\"Best Accuracy: %.2f%%\"%(gsv.best_score_*100))\n",
    "\n",
    "\n",
    "\n",
    "print('------------------------------------------------------------------------')\n",
    "print(\"Time taken to run this cell :\\n\", datetime.now() - start)\n",
    "print('------------------------------------------------------------------------')"
   ]
  },
  {
   "cell_type": "code",
   "execution_count": 97,
   "metadata": {},
   "outputs": [
    {
     "name": "stdout",
     "output_type": "stream",
     "text": [
      "Fitting 10 folds for each of 15 candidates, totalling 150 fits\n",
      "Best HyperParameter:  {'alpha': 0.01}\n",
      "Best Accuracy: 93.41%\n",
      "------------------------------------------------------------------------\n",
      "Time taken to run this cell :\n",
      " 0:00:31.421965\n",
      "------------------------------------------------------------------------\n"
     ]
    },
    {
     "name": "stderr",
     "output_type": "stream",
     "text": [
      "[Parallel(n_jobs=1)]: Done 150 out of 150 | elapsed:   31.3s finished\n"
     ]
    }
   ],
   "source": [
    "\n",
    "start = datetime.now()\n",
    "bnb = BernoulliNB()\n",
    "param_grid = {'alpha':[1000,500,100,50,10,5,1,0.5,0.1,0.05,0.01,0.005,0.001,0.0005,0.0001]} #params we need to try on classifier\n",
    "tscv = TimeSeriesSplit(n_splits=10) #For time based splitting\n",
    "gsv = GridSearchCV(bnb,param_grid,cv=tscv, scoring = 'f1',verbose=1)\n",
    "gsv.fit(X_train_bow,Y_train)\n",
    "print(\"Best HyperParameter: \",gsv.best_params_)\n",
    "print(\"Best Accuracy: %.2f%%\"%(gsv.best_score_*100))\n",
    "\n",
    "\n",
    "\n",
    "print('------------------------------------------------------------------------')\n",
    "print(\"Time taken to run this cell :\\n\", datetime.now() - start)\n",
    "print('------------------------------------------------------------------------')"
   ]
  },
  {
   "cell_type": "code",
   "execution_count": 98,
   "metadata": {},
   "outputs": [
    {
     "name": "stdout",
     "output_type": "stream",
     "text": [
      "Fitting 10 folds for each of 15 candidates, totalling 150 fits\n",
      "Best HyperParameter:  {'alpha': 0.1}\n",
      "Best Accuracy: 91.58%\n",
      "------------------------------------------------------------------------\n",
      "Time taken to run this cell :\n",
      " 0:00:32.258053\n",
      "------------------------------------------------------------------------\n"
     ]
    },
    {
     "name": "stderr",
     "output_type": "stream",
     "text": [
      "[Parallel(n_jobs=1)]: Done 150 out of 150 | elapsed:   32.1s finished\n"
     ]
    }
   ],
   "source": [
    "\n",
    "start = datetime.now()\n",
    "bnb = BernoulliNB()\n",
    "param_grid = {'alpha':[1000,500,100,50,10,5,1,0.5,0.1,0.05,0.01,0.005,0.001,0.0005,0.0001]} #params we need to try on classifier\n",
    "tscv = TimeSeriesSplit(n_splits=10) #For time based splitting\n",
    "gsv = GridSearchCV(bnb,param_grid,cv=tscv, scoring = 'roc_auc',verbose=1)\n",
    "gsv.fit(X_train_bow,Y_train)\n",
    "print(\"Best HyperParameter: \",gsv.best_params_)\n",
    "print(\"Best Accuracy: %.2f%%\"%(gsv.best_score_*100))\n",
    "\n",
    "\n",
    "\n",
    "print('------------------------------------------------------------------------')\n",
    "print(\"Time taken to run this cell :\\n\", datetime.now() - start)\n",
    "print('------------------------------------------------------------------------')"
   ]
  },
  {
   "cell_type": "code",
   "execution_count": 80,
   "metadata": {},
   "outputs": [],
   "source": [
    "from sklearn.metrics import f1_score\n",
    "from sklearn.metrics import recall_score\n",
    "from sklearn.metrics import roc_auc_score"
   ]
  },
  {
   "cell_type": "code",
   "execution_count": 99,
   "metadata": {},
   "outputs": [
    {
     "name": "stdout",
     "output_type": "stream",
     "text": [
      "Accuracy on test set: 89.286%\n",
      "Macro F1-Score on test set: 0.794\n",
      "Micro F1-Score on test set: 0.893\n",
      "Weighted F1-Score on test set: 0.892\n",
      "Macro roc_auc Score on test set: 0.791\n",
      "Micro roc_auc Score on test set: 0.791\n",
      "Weighted roc_auc Score on test set: 0.791\n",
      "Precision on test set: 0.935\n",
      "Recall on test set: 0.939\n",
      "Error : 10.714%\n",
      "Precision recall report :\n",
      "              precision    recall  f1-score   support\n",
      "\n",
      "         -1       0.66      0.64      0.65     17034\n",
      "          1       0.93      0.94      0.94     92218\n",
      "\n",
      "avg / total       0.89      0.89      0.89    109252\n",
      "\n",
      "TPR is 0.9388297295538832\n",
      "TNR is 0.6440061054361864\n",
      "FPR is 0.35599389456381353\n",
      "FNR is 0.06117027044611681\n",
      "\n",
      "------------------------------------------------------------------------\n",
      "Time taken to run this cell :\n",
      " 0:00:49.608419\n",
      "------------------------------------------------------------------------\n"
     ]
    },
    {
     "data": {
      "image/png": "[encoded data removed]",
      "text/plain": [
       "<Figure size 432x288 with 2 Axes>"
      ]
     },
     "metadata": {},
     "output_type": "display_data"
    }
   ],
   "source": [
    "Nb = BernoulliNB(alpha= 0.01)\n",
    "clf = Nb.fit(X_train_bow, Y_train)\n",
    "Y_pred = Nb.predict(X_test_bow)\n",
    "print(\"Accuracy on test set: %0.3f%%\"%(accuracy_score(Y_test, Y_pred)*100)) \n",
    "print(\"Macro F1-Score on test set: %0.3f\"%(f1_score(Y_test, Y_pred, average='macro')))\n",
    "print(\"Micro F1-Score on test set: %0.3f\"%(f1_score(Y_test, Y_pred, average='micro')))\n",
    "print(\"Weighted F1-Score on test set: %0.3f\"%(f1_score(Y_test, Y_pred, average='weighted')))\n",
    "print(\"Macro roc_auc Score on test set: %0.3f\"%(roc_auc_score(Y_test, Y_pred, \n",
    "                                                              average='macro')))\n",
    "print(\"Micro roc_auc Score on test set: %0.3f\"%(roc_auc_score(Y_test, Y_pred, \n",
    "                                                              average='micro')))\n",
    "print(\"Weighted roc_auc Score on test set: %0.3f\"%(roc_auc_score(Y_test, Y_pred, \n",
    "                                                              average='weighted')))\n",
    "print(\"Precision on test set: %0.3f\"%(precision_score(Y_test, Y_pred)))\n",
    "print(\"Recall on test set: %0.3f\"%(recall_score(Y_test, Y_pred)))\n",
    "print(\"Error : %0.3f%%\"%(100-(accuracy_score(Y_test, Y_pred)*100)))\n",
    "print(\"Precision recall report :\\n\",metrics.classification_report(Y_test, Y_pred))\n",
    "CM = confusion_matrix(Y_test ,Y_pred)\n",
    "TN = CM[0][0]\n",
    "FN = CM[1][0]\n",
    "TP = CM[1][1]\n",
    "FP = CM[0][1]\n",
    "# true positive rate\n",
    "TPR = TP/(TP+FN)\n",
    "# Specificity or true negative rate\n",
    "TNR = TN/(TN+FP) \n",
    "# Fall out or false positive rate\n",
    "FPR = FP/(FP+TN)\n",
    "# False negative rate\n",
    "FNR = FN/(TP+FN)\n",
    "\n",
    "\n",
    "print(\"TPR is\", TPR)\n",
    "print(\"TNR is\", TNR)\n",
    "print(\"FPR is\", FPR)\n",
    "print(\"FNR is\", FNR)\n",
    "df_cm = pd.DataFrame(confusion_matrix(Y_test, Y_pred), range(2),range(2))\n",
    "sns.set(font_scale=1.5)\n",
    "sns.heatmap(df_cm, annot=True,annot_kws={\"size\": 16}, fmt='g')\n",
    "\n",
    "\n",
    "print('\\n------------------------------------------------------------------------')\n",
    "print(\"Time taken to run this cell :\\n\", datetime.now() - start)\n",
    "print('------------------------------------------------------------------------')"
   ]
  },
  {
   "cell_type": "code",
   "execution_count": 100,
   "metadata": {},
   "outputs": [
    {
     "name": "stdout",
     "output_type": "stream",
     "text": [
      "Accuracy on test set: 89.258%\n",
      "Macro F1-Score on test set: 0.796\n",
      "Micro F1-Score on test set: 0.893\n",
      "Weighted F1-Score on test set: 0.892\n",
      "Macro roc_auc Score on test set: 0.795\n",
      "Micro roc_auc Score on test set: 0.795\n",
      "Weighted roc_auc Score on test set: 0.795\n",
      "Precision on test set: 0.936\n",
      "Recall on test set: 0.937\n",
      "Error : 10.742%\n",
      "Precision recall report :\n",
      "              precision    recall  f1-score   support\n",
      "\n",
      "         -1       0.66      0.65      0.65     17034\n",
      "          1       0.94      0.94      0.94     92218\n",
      "\n",
      "avg / total       0.89      0.89      0.89    109252\n",
      "\n",
      "TPR is 0.9367260187815828\n",
      "TNR is 0.6535752025361042\n",
      "FPR is 0.34642479746389576\n",
      "FNR is 0.06327398121841724\n",
      "\n",
      "------------------------------------------------------------------------\n",
      "Time taken to run this cell :\n",
      " 0:00:59.151384\n",
      "------------------------------------------------------------------------\n"
     ]
    },
    {
     "data": {
      "image/png": "[encoded data removed]",
      "text/plain": [
       "<Figure size 432x288 with 2 Axes>"
      ]
     },
     "metadata": {},
     "output_type": "display_data"
    }
   ],
   "source": [
    "Nb = BernoulliNB(alpha= 0.1)\n",
    "clf_roc = Nb.fit(X_train_bow, Y_train)\n",
    "Y_pred = Nb.predict(X_test_bow)\n",
    "print(\"Accuracy on test set: %0.3f%%\"%(accuracy_score(Y_test, Y_pred)*100)) \n",
    "print(\"Macro F1-Score on test set: %0.3f\"%(f1_score(Y_test, Y_pred, average='macro')))\n",
    "print(\"Micro F1-Score on test set: %0.3f\"%(f1_score(Y_test, Y_pred, average='micro')))\n",
    "print(\"Weighted F1-Score on test set: %0.3f\"%(f1_score(Y_test, Y_pred, average='weighted')))\n",
    "print(\"Macro roc_auc Score on test set: %0.3f\"%(roc_auc_score(Y_test, Y_pred, \n",
    "                                                              average='macro')))\n",
    "print(\"Micro roc_auc Score on test set: %0.3f\"%(roc_auc_score(Y_test, Y_pred, \n",
    "                                                              average='micro')))\n",
    "print(\"Weighted roc_auc Score on test set: %0.3f\"%(roc_auc_score(Y_test, Y_pred, \n",
    "                                                              average='weighted')))\n",
    "print(\"Precision on test set: %0.3f\"%(precision_score(Y_test, Y_pred)))\n",
    "print(\"Recall on test set: %0.3f\"%(recall_score(Y_test, Y_pred)))\n",
    "print(\"Error : %0.3f%%\"%(100-(accuracy_score(Y_test, Y_pred)*100)))\n",
    "print(\"Precision recall report :\\n\",metrics.classification_report(Y_test, Y_pred))\n",
    "CM = confusion_matrix(Y_test ,Y_pred)\n",
    "TN = CM[0][0]\n",
    "FN = CM[1][0]\n",
    "TP = CM[1][1]\n",
    "FP = CM[0][1]\n",
    "# true positive rate\n",
    "TPR = TP/(TP+FN)\n",
    "# Specificity or true negative rate\n",
    "TNR = TN/(TN+FP) \n",
    "# Fall out or false positive rate\n",
    "FPR = FP/(FP+TN)\n",
    "# False negative rate\n",
    "FNR = FN/(TP+FN)\n",
    "\n",
    "\n",
    "print(\"TPR is\", TPR)\n",
    "print(\"TNR is\", TNR)\n",
    "print(\"FPR is\", FPR)\n",
    "print(\"FNR is\", FNR)\n",
    "df_cm = pd.DataFrame(confusion_matrix(Y_test, Y_pred), range(2),range(2))\n",
    "sns.set(font_scale=1.5)\n",
    "sns.heatmap(df_cm, annot=True,annot_kws={\"size\": 16}, fmt='g')\n",
    "\n",
    "\n",
    "print('\\n------------------------------------------------------------------------')\n",
    "print(\"Time taken to run this cell :\\n\", datetime.now() - start)\n",
    "print('------------------------------------------------------------------------')"
   ]
  },
  {
   "cell_type": "markdown",
   "metadata": {},
   "source": [
    "Top Positive & Negative Words:\n",
    "-----------"
   ]
  },
  {
   "cell_type": "code",
   "execution_count": 102,
   "metadata": {},
   "outputs": [],
   "source": [
    "all_feat = count_vect.get_feature_names()"
   ]
  },
  {
   "cell_type": "code",
   "execution_count": 103,
   "metadata": {},
   "outputs": [
    {
     "data": {
      "text/plain": [
       "array([ 40076., 214843.])"
      ]
     },
     "execution_count": 103,
     "metadata": {},
     "output_type": "execute_result"
    }
   ],
   "source": [
    "clf.class_count_"
   ]
  },
  {
   "cell_type": "code",
   "execution_count": 104,
   "metadata": {},
   "outputs": [
    {
     "data": {
      "text/plain": [
       "array([[ 0.,  1.,  0., ...,  1.,  0.,  0.],\n",
       "       [ 2., 11.,  1., ...,  0.,  1.,  1.]])"
      ]
     },
     "execution_count": 104,
     "metadata": {},
     "output_type": "execute_result"
    }
   ],
   "source": [
    "clf.feature_count_"
   ]
  },
  {
   "cell_type": "code",
   "execution_count": 105,
   "metadata": {},
   "outputs": [
    {
     "data": {
      "text/plain": [
       "array([[-15.20370362, -10.5885831 , -15.20370362, ..., -10.5885831 ,\n",
       "        -15.20370362, -15.20370362],\n",
       "       [-11.57952818,  -9.87885895, -12.26771257, ..., -16.88283309,\n",
       "        -12.26771257, -12.26771257]])"
      ]
     },
     "execution_count": 105,
     "metadata": {},
     "output_type": "execute_result"
    }
   ],
   "source": [
    "clf.feature_log_prob_"
   ]
  },
  {
   "cell_type": "code",
   "execution_count": 106,
   "metadata": {},
   "outputs": [],
   "source": [
    "feat = pd.DataFrame(clf.feature_log_prob_,columns=all_feat)"
   ]
  },
  {
   "cell_type": "code",
   "execution_count": 107,
   "metadata": {},
   "outputs": [
    {
     "data": {
      "text/html": [
       "<div>\n",
       "<style scoped>\n",
       "    .dataframe tbody tr th:only-of-type {\n",
       "        vertical-align: middle;\n",
       "    }\n",
       "\n",
       "    .dataframe tbody tr th {\n",
       "        vertical-align: top;\n",
       "    }\n",
       "\n",
       "    .dataframe thead th {\n",
       "        text-align: right;\n",
       "    }\n",
       "</style>\n",
       "<table border=\"1\" class=\"dataframe\">\n",
       "  <thead>\n",
       "    <tr style=\"text-align: right;\">\n",
       "      <th></th>\n",
       "      <th>aa</th>\n",
       "      <th>aaa</th>\n",
       "      <th>aaaa</th>\n",
       "      <th>aaaaa</th>\n",
       "      <th>aaaaaaaaaaaaaaaaaaaaaaaaaaaaaaaaaaaaaaaaaaaa</th>\n",
       "      <th>aaaaaaaaagghh</th>\n",
       "      <th>aaaaaaah</th>\n",
       "      <th>aaaaaaahhhhhh</th>\n",
       "      <th>aaaaaaarrrrrggghhh</th>\n",
       "      <th>aaaaaah</th>\n",
       "      <th>...</th>\n",
       "      <th>zzzzs</th>\n",
       "      <th>zzzzzs</th>\n",
       "      <th>zzzzzz</th>\n",
       "      <th>zzzzzzz</th>\n",
       "      <th>zzzzzzzz</th>\n",
       "      <th>zzzzzzzzzzzzzzzzzzzzzzzzzzzzzzzzzzzzzzzzz</th>\n",
       "      <th>çay</th>\n",
       "      <th>çelem</th>\n",
       "      <th>île</th>\n",
       "      <th>îts</th>\n",
       "    </tr>\n",
       "  </thead>\n",
       "  <tbody>\n",
       "    <tr>\n",
       "      <th>0</th>\n",
       "      <td>-15.203704</td>\n",
       "      <td>-10.588583</td>\n",
       "      <td>-15.203704</td>\n",
       "      <td>-10.588583</td>\n",
       "      <td>-15.203704</td>\n",
       "      <td>-15.203704</td>\n",
       "      <td>-15.203704</td>\n",
       "      <td>-15.203704</td>\n",
       "      <td>-10.588583</td>\n",
       "      <td>-15.203704</td>\n",
       "      <td>...</td>\n",
       "      <td>-15.203704</td>\n",
       "      <td>-15.203704</td>\n",
       "      <td>-15.203704</td>\n",
       "      <td>-10.588583</td>\n",
       "      <td>-15.203704</td>\n",
       "      <td>-15.203704</td>\n",
       "      <td>-15.203704</td>\n",
       "      <td>-10.588583</td>\n",
       "      <td>-15.203704</td>\n",
       "      <td>-15.203704</td>\n",
       "    </tr>\n",
       "    <tr>\n",
       "      <th>1</th>\n",
       "      <td>-11.579528</td>\n",
       "      <td>-9.878859</td>\n",
       "      <td>-12.267713</td>\n",
       "      <td>-12.267713</td>\n",
       "      <td>-12.267713</td>\n",
       "      <td>-12.267713</td>\n",
       "      <td>-12.267713</td>\n",
       "      <td>-12.267713</td>\n",
       "      <td>-16.882833</td>\n",
       "      <td>-12.267713</td>\n",
       "      <td>...</td>\n",
       "      <td>-12.267713</td>\n",
       "      <td>-12.267713</td>\n",
       "      <td>-12.267713</td>\n",
       "      <td>-16.882833</td>\n",
       "      <td>-12.267713</td>\n",
       "      <td>-12.267713</td>\n",
       "      <td>-12.267713</td>\n",
       "      <td>-16.882833</td>\n",
       "      <td>-12.267713</td>\n",
       "      <td>-12.267713</td>\n",
       "    </tr>\n",
       "  </tbody>\n",
       "</table>\n",
       "<p>2 rows × 59777 columns</p>\n",
       "</div>"
      ],
      "text/plain": [
       "          aa        aaa       aaaa      aaaaa  \\\n",
       "0 -15.203704 -10.588583 -15.203704 -10.588583   \n",
       "1 -11.579528  -9.878859 -12.267713 -12.267713   \n",
       "\n",
       "   aaaaaaaaaaaaaaaaaaaaaaaaaaaaaaaaaaaaaaaaaaaa  aaaaaaaaagghh   aaaaaaah  \\\n",
       "0                                    -15.203704     -15.203704 -15.203704   \n",
       "1                                    -12.267713     -12.267713 -12.267713   \n",
       "\n",
       "   aaaaaaahhhhhh  aaaaaaarrrrrggghhh    aaaaaah    ...          zzzzs  \\\n",
       "0     -15.203704          -10.588583 -15.203704    ...     -15.203704   \n",
       "1     -12.267713          -16.882833 -12.267713    ...     -12.267713   \n",
       "\n",
       "      zzzzzs     zzzzzz    zzzzzzz   zzzzzzzz  \\\n",
       "0 -15.203704 -15.203704 -10.588583 -15.203704   \n",
       "1 -12.267713 -12.267713 -16.882833 -12.267713   \n",
       "\n",
       "   zzzzzzzzzzzzzzzzzzzzzzzzzzzzzzzzzzzzzzzzz        çay      çelem        île  \\\n",
       "0                                 -15.203704 -15.203704 -10.588583 -15.203704   \n",
       "1                                 -12.267713 -12.267713 -16.882833 -12.267713   \n",
       "\n",
       "         îts  \n",
       "0 -15.203704  \n",
       "1 -12.267713  \n",
       "\n",
       "[2 rows x 59777 columns]"
      ]
     },
     "execution_count": 107,
     "metadata": {},
     "output_type": "execute_result"
    }
   ],
   "source": [
    "feat.head()"
   ]
  },
  {
   "cell_type": "code",
   "execution_count": 108,
   "metadata": {},
   "outputs": [
    {
     "data": {
      "text/plain": [
       "(59777, 2)"
      ]
     },
     "execution_count": 108,
     "metadata": {},
     "output_type": "execute_result"
    }
   ],
   "source": [
    "feat = feat.T\n",
    "feat.shape"
   ]
  },
  {
   "cell_type": "code",
   "execution_count": 109,
   "metadata": {},
   "outputs": [
    {
     "data": {
      "text/html": [
       "<div>\n",
       "<style scoped>\n",
       "    .dataframe tbody tr th:only-of-type {\n",
       "        vertical-align: middle;\n",
       "    }\n",
       "\n",
       "    .dataframe tbody tr th {\n",
       "        vertical-align: top;\n",
       "    }\n",
       "\n",
       "    .dataframe thead th {\n",
       "        text-align: right;\n",
       "    }\n",
       "</style>\n",
       "<table border=\"1\" class=\"dataframe\">\n",
       "  <thead>\n",
       "    <tr style=\"text-align: right;\">\n",
       "      <th></th>\n",
       "      <th>0</th>\n",
       "      <th>1</th>\n",
       "    </tr>\n",
       "  </thead>\n",
       "  <tbody>\n",
       "    <tr>\n",
       "      <th>aa</th>\n",
       "      <td>-15.203704</td>\n",
       "      <td>-11.579528</td>\n",
       "    </tr>\n",
       "    <tr>\n",
       "      <th>aaa</th>\n",
       "      <td>-10.588583</td>\n",
       "      <td>-9.878859</td>\n",
       "    </tr>\n",
       "    <tr>\n",
       "      <th>aaaa</th>\n",
       "      <td>-15.203704</td>\n",
       "      <td>-12.267713</td>\n",
       "    </tr>\n",
       "    <tr>\n",
       "      <th>aaaaa</th>\n",
       "      <td>-10.588583</td>\n",
       "      <td>-12.267713</td>\n",
       "    </tr>\n",
       "    <tr>\n",
       "      <th>aaaaaaaaaaaaaaaaaaaaaaaaaaaaaaaaaaaaaaaaaaaa</th>\n",
       "      <td>-15.203704</td>\n",
       "      <td>-12.267713</td>\n",
       "    </tr>\n",
       "  </tbody>\n",
       "</table>\n",
       "</div>"
      ],
      "text/plain": [
       "                                                      0          1\n",
       "aa                                           -15.203704 -11.579528\n",
       "aaa                                          -10.588583  -9.878859\n",
       "aaaa                                         -15.203704 -12.267713\n",
       "aaaaa                                        -10.588583 -12.267713\n",
       "aaaaaaaaaaaaaaaaaaaaaaaaaaaaaaaaaaaaaaaaaaaa -15.203704 -12.267713"
      ]
     },
     "execution_count": 109,
     "metadata": {},
     "output_type": "execute_result"
    }
   ],
   "source": [
    "feat.head(5)"
   ]
  },
  {
   "cell_type": "code",
   "execution_count": 110,
   "metadata": {},
   "outputs": [],
   "source": [
    "top_pos_word = feat[1].sort_values(ascending = False)[0:30]"
   ]
  },
  {
   "cell_type": "code",
   "execution_count": 111,
   "metadata": {},
   "outputs": [
    {
     "data": {
      "text/html": [
       "<div>\n",
       "<style scoped>\n",
       "    .dataframe tbody tr th:only-of-type {\n",
       "        vertical-align: middle;\n",
       "    }\n",
       "\n",
       "    .dataframe tbody tr th {\n",
       "        vertical-align: top;\n",
       "    }\n",
       "\n",
       "    .dataframe thead th {\n",
       "        text-align: right;\n",
       "    }\n",
       "</style>\n",
       "<table border=\"1\" class=\"dataframe\">\n",
       "  <thead>\n",
       "    <tr style=\"text-align: right;\">\n",
       "      <th></th>\n",
       "      <th>1</th>\n",
       "    </tr>\n",
       "  </thead>\n",
       "  <tbody>\n",
       "    <tr>\n",
       "      <th>like</th>\n",
       "      <td>-1.177257</td>\n",
       "    </tr>\n",
       "    <tr>\n",
       "      <th>tast</th>\n",
       "      <td>-1.202049</td>\n",
       "    </tr>\n",
       "    <tr>\n",
       "      <th>love</th>\n",
       "      <td>-1.262482</td>\n",
       "    </tr>\n",
       "    <tr>\n",
       "      <th>good</th>\n",
       "      <td>-1.267066</td>\n",
       "    </tr>\n",
       "    <tr>\n",
       "      <th>great</th>\n",
       "      <td>-1.294151</td>\n",
       "    </tr>\n",
       "    <tr>\n",
       "      <th>flavor</th>\n",
       "      <td>-1.425940</td>\n",
       "    </tr>\n",
       "    <tr>\n",
       "      <th>one</th>\n",
       "      <td>-1.473709</td>\n",
       "    </tr>\n",
       "    <tr>\n",
       "      <th>use</th>\n",
       "      <td>-1.474339</td>\n",
       "    </tr>\n",
       "    <tr>\n",
       "      <th>tri</th>\n",
       "      <td>-1.530713</td>\n",
       "    </tr>\n",
       "    <tr>\n",
       "      <th>product</th>\n",
       "      <td>-1.538878</td>\n",
       "    </tr>\n",
       "    <tr>\n",
       "      <th>make</th>\n",
       "      <td>-1.656848</td>\n",
       "    </tr>\n",
       "    <tr>\n",
       "      <th>get</th>\n",
       "      <td>-1.688632</td>\n",
       "    </tr>\n",
       "    <tr>\n",
       "      <th>buy</th>\n",
       "      <td>-1.891564</td>\n",
       "    </tr>\n",
       "    <tr>\n",
       "      <th>time</th>\n",
       "      <td>-1.905766</td>\n",
       "    </tr>\n",
       "    <tr>\n",
       "      <th>would</th>\n",
       "      <td>-1.925363</td>\n",
       "    </tr>\n",
       "    <tr>\n",
       "      <th>realli</th>\n",
       "      <td>-1.968077</td>\n",
       "    </tr>\n",
       "    <tr>\n",
       "      <th>best</th>\n",
       "      <td>-1.990206</td>\n",
       "    </tr>\n",
       "    <tr>\n",
       "      <th>amazon</th>\n",
       "      <td>-2.003198</td>\n",
       "    </tr>\n",
       "    <tr>\n",
       "      <th>price</th>\n",
       "      <td>-2.013812</td>\n",
       "    </tr>\n",
       "    <tr>\n",
       "      <th>find</th>\n",
       "      <td>-2.016570</td>\n",
       "    </tr>\n",
       "    <tr>\n",
       "      <th>much</th>\n",
       "      <td>-2.024681</td>\n",
       "    </tr>\n",
       "    <tr>\n",
       "      <th>also</th>\n",
       "      <td>-2.033675</td>\n",
       "    </tr>\n",
       "    <tr>\n",
       "      <th>eat</th>\n",
       "      <td>-2.059912</td>\n",
       "    </tr>\n",
       "    <tr>\n",
       "      <th>dont</th>\n",
       "      <td>-2.074070</td>\n",
       "    </tr>\n",
       "    <tr>\n",
       "      <th>littl</th>\n",
       "      <td>-2.081580</td>\n",
       "    </tr>\n",
       "    <tr>\n",
       "      <th>order</th>\n",
       "      <td>-2.113196</td>\n",
       "    </tr>\n",
       "    <tr>\n",
       "      <th>well</th>\n",
       "      <td>-2.123572</td>\n",
       "    </tr>\n",
       "    <tr>\n",
       "      <th>store</th>\n",
       "      <td>-2.145924</td>\n",
       "    </tr>\n",
       "    <tr>\n",
       "      <th>food</th>\n",
       "      <td>-2.178403</td>\n",
       "    </tr>\n",
       "    <tr>\n",
       "      <th>coffe</th>\n",
       "      <td>-2.183307</td>\n",
       "    </tr>\n",
       "  </tbody>\n",
       "</table>\n",
       "</div>"
      ],
      "text/plain": [
       "                1\n",
       "like    -1.177257\n",
       "tast    -1.202049\n",
       "love    -1.262482\n",
       "good    -1.267066\n",
       "great   -1.294151\n",
       "flavor  -1.425940\n",
       "one     -1.473709\n",
       "use     -1.474339\n",
       "tri     -1.530713\n",
       "product -1.538878\n",
       "make    -1.656848\n",
       "get     -1.688632\n",
       "buy     -1.891564\n",
       "time    -1.905766\n",
       "would   -1.925363\n",
       "realli  -1.968077\n",
       "best    -1.990206\n",
       "amazon  -2.003198\n",
       "price   -2.013812\n",
       "find    -2.016570\n",
       "much    -2.024681\n",
       "also    -2.033675\n",
       "eat     -2.059912\n",
       "dont    -2.074070\n",
       "littl   -2.081580\n",
       "order   -2.113196\n",
       "well    -2.123572\n",
       "store   -2.145924\n",
       "food    -2.178403\n",
       "coffe   -2.183307"
      ]
     },
     "execution_count": 111,
     "metadata": {},
     "output_type": "execute_result"
    }
   ],
   "source": [
    "df = pd.DataFrame(top_pos_word )\n",
    "df\n",
    "\n"
   ]
  },
  {
   "cell_type": "code",
   "execution_count": 113,
   "metadata": {},
   "outputs": [],
   "source": [
    "top_neg_word = feat[0].sort_values(ascending = False)[0:30]"
   ]
  },
  {
   "cell_type": "code",
   "execution_count": 114,
   "metadata": {},
   "outputs": [
    {
     "data": {
      "text/html": [
       "<div>\n",
       "<style scoped>\n",
       "    .dataframe tbody tr th:only-of-type {\n",
       "        vertical-align: middle;\n",
       "    }\n",
       "\n",
       "    .dataframe tbody tr th {\n",
       "        vertical-align: top;\n",
       "    }\n",
       "\n",
       "    .dataframe thead th {\n",
       "        text-align: right;\n",
       "    }\n",
       "</style>\n",
       "<table border=\"1\" class=\"dataframe\">\n",
       "  <thead>\n",
       "    <tr style=\"text-align: right;\">\n",
       "      <th></th>\n",
       "      <th>0</th>\n",
       "    </tr>\n",
       "  </thead>\n",
       "  <tbody>\n",
       "    <tr>\n",
       "      <th>tast</th>\n",
       "      <td>-0.986468</td>\n",
       "    </tr>\n",
       "    <tr>\n",
       "      <th>like</th>\n",
       "      <td>-1.007635</td>\n",
       "    </tr>\n",
       "    <tr>\n",
       "      <th>product</th>\n",
       "      <td>-1.179066</td>\n",
       "    </tr>\n",
       "    <tr>\n",
       "      <th>one</th>\n",
       "      <td>-1.364769</td>\n",
       "    </tr>\n",
       "    <tr>\n",
       "      <th>would</th>\n",
       "      <td>-1.415358</td>\n",
       "    </tr>\n",
       "    <tr>\n",
       "      <th>tri</th>\n",
       "      <td>-1.468210</td>\n",
       "    </tr>\n",
       "    <tr>\n",
       "      <th>flavor</th>\n",
       "      <td>-1.552595</td>\n",
       "    </tr>\n",
       "    <tr>\n",
       "      <th>good</th>\n",
       "      <td>-1.564571</td>\n",
       "    </tr>\n",
       "    <tr>\n",
       "      <th>buy</th>\n",
       "      <td>-1.602252</td>\n",
       "    </tr>\n",
       "    <tr>\n",
       "      <th>get</th>\n",
       "      <td>-1.656202</td>\n",
       "    </tr>\n",
       "    <tr>\n",
       "      <th>use</th>\n",
       "      <td>-1.676674</td>\n",
       "    </tr>\n",
       "    <tr>\n",
       "      <th>dont</th>\n",
       "      <td>-1.738175</td>\n",
       "    </tr>\n",
       "    <tr>\n",
       "      <th>even</th>\n",
       "      <td>-1.824219</td>\n",
       "    </tr>\n",
       "    <tr>\n",
       "      <th>order</th>\n",
       "      <td>-1.833698</td>\n",
       "    </tr>\n",
       "    <tr>\n",
       "      <th>make</th>\n",
       "      <td>-1.961957</td>\n",
       "    </tr>\n",
       "    <tr>\n",
       "      <th>much</th>\n",
       "      <td>-1.977880</td>\n",
       "    </tr>\n",
       "    <tr>\n",
       "      <th>time</th>\n",
       "      <td>-1.999206</td>\n",
       "    </tr>\n",
       "    <tr>\n",
       "      <th>realli</th>\n",
       "      <td>-2.032167</td>\n",
       "    </tr>\n",
       "    <tr>\n",
       "      <th>love</th>\n",
       "      <td>-2.062713</td>\n",
       "    </tr>\n",
       "    <tr>\n",
       "      <th>look</th>\n",
       "      <td>-2.070596</td>\n",
       "    </tr>\n",
       "    <tr>\n",
       "      <th>amazon</th>\n",
       "      <td>-2.071586</td>\n",
       "    </tr>\n",
       "    <tr>\n",
       "      <th>disappoint</th>\n",
       "      <td>-2.097264</td>\n",
       "    </tr>\n",
       "    <tr>\n",
       "      <th>eat</th>\n",
       "      <td>-2.106861</td>\n",
       "    </tr>\n",
       "    <tr>\n",
       "      <th>bought</th>\n",
       "      <td>-2.118417</td>\n",
       "    </tr>\n",
       "    <tr>\n",
       "      <th>box</th>\n",
       "      <td>-2.123828</td>\n",
       "    </tr>\n",
       "    <tr>\n",
       "      <th>food</th>\n",
       "      <td>-2.137697</td>\n",
       "    </tr>\n",
       "    <tr>\n",
       "      <th>purchas</th>\n",
       "      <td>-2.149189</td>\n",
       "    </tr>\n",
       "    <tr>\n",
       "      <th>review</th>\n",
       "      <td>-2.155415</td>\n",
       "    </tr>\n",
       "    <tr>\n",
       "      <th>first</th>\n",
       "      <td>-2.195403</td>\n",
       "    </tr>\n",
       "    <tr>\n",
       "      <th>packag</th>\n",
       "      <td>-2.207809</td>\n",
       "    </tr>\n",
       "  </tbody>\n",
       "</table>\n",
       "</div>"
      ],
      "text/plain": [
       "                   0\n",
       "tast       -0.986468\n",
       "like       -1.007635\n",
       "product    -1.179066\n",
       "one        -1.364769\n",
       "would      -1.415358\n",
       "tri        -1.468210\n",
       "flavor     -1.552595\n",
       "good       -1.564571\n",
       "buy        -1.602252\n",
       "get        -1.656202\n",
       "use        -1.676674\n",
       "dont       -1.738175\n",
       "even       -1.824219\n",
       "order      -1.833698\n",
       "make       -1.961957\n",
       "much       -1.977880\n",
       "time       -1.999206\n",
       "realli     -2.032167\n",
       "love       -2.062713\n",
       "look       -2.070596\n",
       "amazon     -2.071586\n",
       "disappoint -2.097264\n",
       "eat        -2.106861\n",
       "bought     -2.118417\n",
       "box        -2.123828\n",
       "food       -2.137697\n",
       "purchas    -2.149189\n",
       "review     -2.155415\n",
       "first      -2.195403\n",
       "packag     -2.207809"
      ]
     },
     "execution_count": 114,
     "metadata": {},
     "output_type": "execute_result"
    }
   ],
   "source": [
    "df = pd.DataFrame(top_neg_word)\n",
    "df"
   ]
  },
  {
   "cell_type": "markdown",
   "metadata": {},
   "source": [
    "# tf & idf: Term frequency & Inverse document frequency\n"
   ]
  },
  {
   "cell_type": "code",
   "execution_count": 116,
   "metadata": {},
   "outputs": [
    {
     "name": "stdout",
     "output_type": "stream",
     "text": [
      "the type of count vectorizer  <class 'scipy.sparse.csr.csr_matrix'>\n",
      "the shape of out text TFIDF vectorizer  (254919, 2329461)\n",
      "the number of unique words including both unigrams and bigrams  2329461\n"
     ]
    }
   ],
   "source": [
    "tf_idf_vect = TfidfVectorizer(ngram_range=(1,2), binary = True)\n",
    "X_train_tf = tf_idf_vect.fit_transform(X_train.values)\n",
    "X_test_tf = tf_idf_vect.transform(X_test)\n",
    "print(\"the type of count vectorizer \",type(X_train_tf))\n",
    "print(\"the shape of out text TFIDF vectorizer \",X_train_tf.get_shape())\n",
    "print(\"the number of unique words including both unigrams and bigrams \", X_train_tf.get_shape()[1])"
   ]
  },
  {
   "cell_type": "markdown",
   "metadata": {},
   "source": [
    "Finding optimal alpha for laplace smoothing..... \n",
    "---------------"
   ]
  },
  {
   "cell_type": "code",
   "execution_count": 117,
   "metadata": {},
   "outputs": [
    {
     "name": "stdout",
     "output_type": "stream",
     "text": [
      "(254919, 2329461)\n"
     ]
    }
   ],
   "source": [
    "standardized_data = StandardScaler(with_mean= False).fit_transform(X_train_tf)\n",
    "X_train_tf = standardized_data\n",
    "print(X_train_tf.shape)"
   ]
  },
  {
   "cell_type": "code",
   "execution_count": 118,
   "metadata": {},
   "outputs": [
    {
     "name": "stdout",
     "output_type": "stream",
     "text": [
      "(109252, 2329461)\n"
     ]
    }
   ],
   "source": [
    "standardized_data = StandardScaler(with_mean= False).fit_transform(X_test_tf)\n",
    "X_test_tf = standardized_data\n",
    "print(X_test_tf.shape)"
   ]
  },
  {
   "cell_type": "code",
   "execution_count": 119,
   "metadata": {},
   "outputs": [
    {
     "name": "stdout",
     "output_type": "stream",
     "text": [
      "Train Data Size:  (254919, 2329461)\n",
      "Test Data Size:  (109252, 2329461)\n"
     ]
    }
   ],
   "source": [
    "print(\"Train Data Size: \",X_train_tf.shape)\n",
    "print(\"Test Data Size: \",X_test_tf.shape)"
   ]
  },
  {
   "cell_type": "code",
   "execution_count": 120,
   "metadata": {},
   "outputs": [
    {
     "name": "stdout",
     "output_type": "stream",
     "text": [
      "(23179, 2329461) (23174, 2329461)\n",
      "(46353, 2329461) (23174, 2329461)\n",
      "(69527, 2329461) (23174, 2329461)\n",
      "(92701, 2329461) (23174, 2329461)\n",
      "(115875, 2329461) (23174, 2329461)\n",
      "(139049, 2329461) (23174, 2329461)\n",
      "(162223, 2329461) (23174, 2329461)\n",
      "(185397, 2329461) (23174, 2329461)\n",
      "(208571, 2329461) (23174, 2329461)\n",
      "(231745, 2329461) (23174, 2329461)\n"
     ]
    }
   ],
   "source": [
    "from sklearn.model_selection import TimeSeriesSplit\n",
    "tscv = TimeSeriesSplit(n_splits=10)\n",
    "for train, cv in tscv.split(X_train_tf):\n",
    "    print(X_train_tf[train].shape, X_train_tf[cv].shape)\n"
   ]
  },
  {
   "cell_type": "code",
   "execution_count": 121,
   "metadata": {},
   "outputs": [
    {
     "name": "stdout",
     "output_type": "stream",
     "text": [
      "Fitting 10 folds for each of 15 candidates, totalling 150 fits\n"
     ]
    },
    {
     "name": "stderr",
     "output_type": "stream",
     "text": [
      "[Parallel(n_jobs=1)]: Done 150 out of 150 | elapsed:  3.0min finished\n"
     ]
    },
    {
     "name": "stdout",
     "output_type": "stream",
     "text": [
      "Best HyperParameter:  {'alpha': 0.005}\n",
      "Best Accuracy: 89.41%\n",
      "------------------------------------------------------------------------\n",
      "Time taken to run this cell :\n",
      " 0:03:00.519507\n",
      "------------------------------------------------------------------------\n"
     ]
    }
   ],
   "source": [
    "start = datetime.now()\n",
    "bnb = BernoulliNB()\n",
    "param_grid = {'alpha':[1000,500,100,50,10,5,1,0.5,0.1,0.05,0.01,0.005,0.001,0.0005,0.0001]} #params we need to try on classifier\n",
    "tscv = TimeSeriesSplit(n_splits=10) #For time based splitting\n",
    "gsv = GridSearchCV(bnb,param_grid,cv=tscv, scoring = 'accuracy',verbose=1)\n",
    "gsv.fit(X_train_tf,Y_train)\n",
    "print(\"Best HyperParameter: \",gsv.best_params_)\n",
    "print(\"Best Accuracy: %.2f%%\"%(gsv.best_score_*100))\n",
    "\n",
    "\n",
    "\n",
    "print('------------------------------------------------------------------------')\n",
    "print(\"Time taken to run this cell :\\n\", datetime.now() - start)\n",
    "print('------------------------------------------------------------------------')"
   ]
  },
  {
   "cell_type": "code",
   "execution_count": 122,
   "metadata": {},
   "outputs": [
    {
     "name": "stdout",
     "output_type": "stream",
     "text": [
      "Fitting 10 folds for each of 15 candidates, totalling 150 fits\n"
     ]
    },
    {
     "name": "stderr",
     "output_type": "stream",
     "text": [
      "[Parallel(n_jobs=1)]: Done 150 out of 150 | elapsed:  3.0min finished\n"
     ]
    },
    {
     "name": "stdout",
     "output_type": "stream",
     "text": [
      "Best HyperParameter:  {'alpha': 0.001}\n",
      "Best Accuracy: 93.86%\n",
      "------------------------------------------------------------------------\n",
      "Time taken to run this cell :\n",
      " 0:02:57.967025\n",
      "------------------------------------------------------------------------\n"
     ]
    }
   ],
   "source": [
    "start = datetime.now()\n",
    "bnb = BernoulliNB()\n",
    "param_grid = {'alpha':[1000,500,100,50,10,5,1,0.5,0.1,0.05,0.01,0.005,0.001,0.0005,0.0001]} #params we need to try on classifier\n",
    "tscv = TimeSeriesSplit(n_splits=10) #For time based splitting\n",
    "gsv = GridSearchCV(bnb,param_grid,cv=tscv, scoring = 'f1',verbose=1)\n",
    "gsv.fit(X_train_tf,Y_train)\n",
    "print(\"Best HyperParameter: \",gsv.best_params_)\n",
    "print(\"Best Accuracy: %.2f%%\"%(gsv.best_score_*100))\n",
    "\n",
    "\n",
    "\n",
    "print('------------------------------------------------------------------------')\n",
    "print(\"Time taken to run this cell :\\n\", datetime.now() - start)\n",
    "print('------------------------------------------------------------------------')"
   ]
  },
  {
   "cell_type": "code",
   "execution_count": 123,
   "metadata": {},
   "outputs": [
    {
     "name": "stdout",
     "output_type": "stream",
     "text": [
      "Fitting 10 folds for each of 15 candidates, totalling 150 fits\n"
     ]
    },
    {
     "name": "stderr",
     "output_type": "stream",
     "text": [
      "[Parallel(n_jobs=1)]: Done 150 out of 150 | elapsed:  3.1min finished\n"
     ]
    },
    {
     "name": "stdout",
     "output_type": "stream",
     "text": [
      "Best HyperParameter:  {'alpha': 0.01}\n",
      "Best Accuracy: 90.65%\n",
      "------------------------------------------------------------------------\n",
      "Time taken to run this cell :\n",
      " 0:03:04.550022\n",
      "------------------------------------------------------------------------\n"
     ]
    }
   ],
   "source": [
    "start = datetime.now()\n",
    "bnb = BernoulliNB()\n",
    "param_grid = {'alpha':[1000,500,100,50,10,5,1,0.5,0.1,0.05,0.01,0.005,0.001,0.0005,0.0001]} #params we need to try on classifier\n",
    "tscv = TimeSeriesSplit(n_splits=10) #For time based splitting\n",
    "gsv = GridSearchCV(bnb,param_grid,cv=tscv, scoring = 'roc_auc',verbose=1)\n",
    "gsv.fit(X_train_tf,Y_train)\n",
    "print(\"Best HyperParameter: \",gsv.best_params_)\n",
    "print(\"Best Accuracy: %.2f%%\"%(gsv.best_score_*100))\n",
    "\n",
    "\n",
    "\n",
    "print('------------------------------------------------------------------------')\n",
    "print(\"Time taken to run this cell :\\n\", datetime.now() - start)\n",
    "print('------------------------------------------------------------------------')"
   ]
  },
  {
   "cell_type": "code",
   "execution_count": 127,
   "metadata": {},
   "outputs": [
    {
     "name": "stdout",
     "output_type": "stream",
     "text": [
      "Accuracy on test set: 90.608%\n",
      "Macro F1-Score on test set: 0.781\n",
      "Micro F1-Score on test set: 0.906\n",
      "Weighted F1-Score on test set: 0.895\n",
      "Macro roc_auc Score on test set: 0.732\n",
      "Micro roc_auc Score on test set: 0.732\n",
      "Weighted roc_auc Score on test set: 0.732\n",
      "Precision on test set: 0.911\n",
      "Recall on test set: 0.985\n",
      "Error : 9.392%\n",
      "Precision recall report :\n",
      "              precision    recall  f1-score   support\n",
      "\n",
      "         -1       0.85      0.48      0.61     17034\n",
      "          1       0.91      0.98      0.95     92218\n",
      "\n",
      "avg / total       0.90      0.91      0.89    109252\n",
      "\n",
      "TPR is 0.9847643627057624\n",
      "TNR is 0.48009862627685806\n",
      "FPR is 0.5199013737231419\n",
      "FNR is 0.015235637294237568\n",
      "\n",
      "------------------------------------------------------------------------\n",
      "Time taken to run this cell :\n",
      " 0:12:13.529254\n",
      "------------------------------------------------------------------------\n"
     ]
    },
    {
     "data": {
      "image/png": "[encoded data removed]",
      "text/plain": [
       "<Figure size 432x288 with 2 Axes>"
      ]
     },
     "metadata": {},
     "output_type": "display_data"
    }
   ],
   "source": [
    "Nb = BernoulliNB(alpha= 0.005)\n",
    "clf_acc = Nb.fit(X_train_tf, Y_train)\n",
    "Y_pred = Nb.predict(X_test_tf)\n",
    "print(\"Accuracy on test set: %0.3f%%\"%(accuracy_score(Y_test, Y_pred)*100)) \n",
    "print(\"Macro F1-Score on test set: %0.3f\"%(f1_score(Y_test, Y_pred, average='macro')))\n",
    "print(\"Micro F1-Score on test set: %0.3f\"%(f1_score(Y_test, Y_pred, average='micro')))\n",
    "print(\"Weighted F1-Score on test set: %0.3f\"%(f1_score(Y_test, Y_pred, average='weighted')))\n",
    "print(\"Macro roc_auc Score on test set: %0.3f\"%(roc_auc_score(Y_test, Y_pred, \n",
    "                                                              average='macro')))\n",
    "print(\"Micro roc_auc Score on test set: %0.3f\"%(roc_auc_score(Y_test, Y_pred, \n",
    "                                                              average='micro')))\n",
    "print(\"Weighted roc_auc Score on test set: %0.3f\"%(roc_auc_score(Y_test, Y_pred, \n",
    "                                                              average='weighted')))\n",
    "print(\"Precision on test set: %0.3f\"%(precision_score(Y_test, Y_pred)))\n",
    "print(\"Recall on test set: %0.3f\"%(recall_score(Y_test, Y_pred)))\n",
    "print(\"Error : %0.3f%%\"%(100-(accuracy_score(Y_test, Y_pred)*100)))\n",
    "print(\"Precision recall report :\\n\",metrics.classification_report(Y_test, Y_pred))\n",
    "CM = confusion_matrix(Y_test ,Y_pred)\n",
    "TN = CM[0][0]\n",
    "FN = CM[1][0]\n",
    "TP = CM[1][1]\n",
    "FP = CM[0][1]\n",
    "# true positive rate\n",
    "TPR = TP/(TP+FN)\n",
    "# Specificity or true negative rate\n",
    "TNR = TN/(TN+FP) \n",
    "# Fall out or false positive rate\n",
    "FPR = FP/(FP+TN)\n",
    "# False negative rate\n",
    "FNR = FN/(TP+FN)\n",
    "\n",
    "\n",
    "print(\"TPR is\", TPR)\n",
    "print(\"TNR is\", TNR)\n",
    "print(\"FPR is\", FPR)\n",
    "print(\"FNR is\", FNR)\n",
    "df_cm = pd.DataFrame(confusion_matrix(Y_test, Y_pred), range(2),range(2))\n",
    "sns.set(font_scale=1.5)\n",
    "sns.heatmap(df_cm, annot=True,annot_kws={\"size\": 16}, fmt='g')\n",
    "\n",
    "\n",
    "print('\\n------------------------------------------------------------------------')\n",
    "print(\"Time taken to run this cell :\\n\", datetime.now() - start)\n",
    "print('------------------------------------------------------------------------')"
   ]
  },
  {
   "cell_type": "code",
   "execution_count": 128,
   "metadata": {},
   "outputs": [
    {
     "name": "stdout",
     "output_type": "stream",
     "text": [
      "Accuracy on test set: 89.764%\n",
      "Macro F1-Score on test set: 0.749\n",
      "Micro F1-Score on test set: 0.898\n",
      "Weighted F1-Score on test set: 0.882\n",
      "Macro roc_auc Score on test set: 0.699\n",
      "Micro roc_auc Score on test set: 0.699\n",
      "Weighted roc_auc Score on test set: 0.699\n",
      "Precision on test set: 0.901\n",
      "Recall on test set: 0.988\n",
      "Error : 10.236%\n",
      "Precision recall report :\n",
      "              precision    recall  f1-score   support\n",
      "\n",
      "         -1       0.86      0.41      0.56     17034\n",
      "          1       0.90      0.99      0.94     92218\n",
      "\n",
      "avg / total       0.89      0.90      0.88    109252\n",
      "\n",
      "TPR is 0.9875295495456419\n",
      "TNR is 0.41100152635904663\n",
      "FPR is 0.5889984736409534\n",
      "FNR is 0.012470450454358151\n",
      "\n",
      "------------------------------------------------------------------------\n",
      "Time taken to run this cell :\n",
      " 0:12:33.513061\n",
      "------------------------------------------------------------------------\n"
     ]
    },
    {
     "data": {
      "image/png": "[encoded data removed]",
      "text/plain": [
       "<Figure size 432x288 with 2 Axes>"
      ]
     },
     "metadata": {},
     "output_type": "display_data"
    }
   ],
   "source": [
    "Nb = BernoulliNB(alpha= 0.001)\n",
    "clf_roc = Nb.fit(X_train_tf, Y_train)\n",
    "Y_pred = Nb.predict(X_test_tf)\n",
    "print(\"Accuracy on test set: %0.3f%%\"%(accuracy_score(Y_test, Y_pred)*100)) \n",
    "print(\"Macro F1-Score on test set: %0.3f\"%(f1_score(Y_test, Y_pred, average='macro')))\n",
    "print(\"Micro F1-Score on test set: %0.3f\"%(f1_score(Y_test, Y_pred, average='micro')))\n",
    "print(\"Weighted F1-Score on test set: %0.3f\"%(f1_score(Y_test, Y_pred, average='weighted')))\n",
    "print(\"Macro roc_auc Score on test set: %0.3f\"%(roc_auc_score(Y_test, Y_pred, \n",
    "                                                              average='macro')))\n",
    "print(\"Micro roc_auc Score on test set: %0.3f\"%(roc_auc_score(Y_test, Y_pred, \n",
    "                                                              average='micro')))\n",
    "print(\"Weighted roc_auc Score on test set: %0.3f\"%(roc_auc_score(Y_test, Y_pred, \n",
    "                                                              average='weighted')))\n",
    "print(\"Precision on test set: %0.3f\"%(precision_score(Y_test, Y_pred)))\n",
    "print(\"Recall on test set: %0.3f\"%(recall_score(Y_test, Y_pred)))\n",
    "print(\"Error : %0.3f%%\"%(100-(accuracy_score(Y_test, Y_pred)*100)))\n",
    "print(\"Precision recall report :\\n\",metrics.classification_report(Y_test, Y_pred))\n",
    "CM = confusion_matrix(Y_test ,Y_pred)\n",
    "TN = CM[0][0]\n",
    "FN = CM[1][0]\n",
    "TP = CM[1][1]\n",
    "FP = CM[0][1]\n",
    "# true positive rate\n",
    "TPR = TP/(TP+FN)\n",
    "# Specificity or true negative rate\n",
    "TNR = TN/(TN+FP) \n",
    "# Fall out or false positive rate\n",
    "FPR = FP/(FP+TN)\n",
    "# False negative rate\n",
    "FNR = FN/(TP+FN)\n",
    "\n",
    "\n",
    "print(\"TPR is\", TPR)\n",
    "print(\"TNR is\", TNR)\n",
    "print(\"FPR is\", FPR)\n",
    "print(\"FNR is\", FNR)\n",
    "df_cm = pd.DataFrame(confusion_matrix(Y_test, Y_pred), range(2),range(2))\n",
    "sns.set(font_scale=1.5)\n",
    "sns.heatmap(df_cm, annot=True,annot_kws={\"size\": 16}, fmt='g')\n",
    "\n",
    "\n",
    "print('\\n------------------------------------------------------------------------')\n",
    "print(\"Time taken to run this cell :\\n\", datetime.now() - start)\n",
    "print('------------------------------------------------------------------------')"
   ]
  },
  {
   "cell_type": "code",
   "execution_count": 129,
   "metadata": {},
   "outputs": [
    {
     "name": "stdout",
     "output_type": "stream",
     "text": [
      "Accuracy on test set: 91.016%\n",
      "Macro F1-Score on test set: 0.795\n",
      "Micro F1-Score on test set: 0.910\n",
      "Weighted F1-Score on test set: 0.901\n",
      "Macro roc_auc Score on test set: 0.749\n",
      "Micro roc_auc Score on test set: 0.749\n",
      "Weighted roc_auc Score on test set: 0.749\n",
      "Precision on test set: 0.917\n",
      "Recall on test set: 0.983\n",
      "Error : 8.984%\n",
      "Precision recall report :\n",
      "              precision    recall  f1-score   support\n",
      "\n",
      "         -1       0.85      0.52      0.64     17034\n",
      "          1       0.92      0.98      0.95     92218\n",
      "\n",
      "avg / total       0.91      0.91      0.90    109252\n",
      "\n",
      "TPR is 0.983116094471795\n",
      "TNR is 0.5152048843489492\n",
      "FPR is 0.4847951156510508\n",
      "FNR is 0.016883905528204905\n",
      "\n",
      "------------------------------------------------------------------------\n",
      "Time taken to run this cell :\n",
      " 0:12:41.579904\n",
      "------------------------------------------------------------------------\n"
     ]
    },
    {
     "data": {
      "image/png": "[encoded data removed]",
      "text/plain": [
       "<Figure size 432x288 with 2 Axes>"
      ]
     },
     "metadata": {},
     "output_type": "display_data"
    }
   ],
   "source": [
    "Nb = BernoulliNB(alpha= 0.01)\n",
    "clf_f1 = Nb.fit(X_train_tf, Y_train)\n",
    "Y_pred = Nb.predict(X_test_tf)\n",
    "print(\"Accuracy on test set: %0.3f%%\"%(accuracy_score(Y_test, Y_pred)*100)) \n",
    "print(\"Macro F1-Score on test set: %0.3f\"%(f1_score(Y_test, Y_pred, average='macro')))\n",
    "print(\"Micro F1-Score on test set: %0.3f\"%(f1_score(Y_test, Y_pred, average='micro')))\n",
    "print(\"Weighted F1-Score on test set: %0.3f\"%(f1_score(Y_test, Y_pred, average='weighted')))\n",
    "print(\"Macro roc_auc Score on test set: %0.3f\"%(roc_auc_score(Y_test, Y_pred, \n",
    "                                                              average='macro')))\n",
    "print(\"Micro roc_auc Score on test set: %0.3f\"%(roc_auc_score(Y_test, Y_pred, \n",
    "                                                              average='micro')))\n",
    "print(\"Weighted roc_auc Score on test set: %0.3f\"%(roc_auc_score(Y_test, Y_pred, \n",
    "                                                              average='weighted')))\n",
    "print(\"Precision on test set: %0.3f\"%(precision_score(Y_test, Y_pred)))\n",
    "print(\"Recall on test set: %0.3f\"%(recall_score(Y_test, Y_pred)))\n",
    "print(\"Error : %0.3f%%\"%(100-(accuracy_score(Y_test, Y_pred)*100)))\n",
    "print(\"Precision recall report :\\n\",metrics.classification_report(Y_test, Y_pred))\n",
    "CM = confusion_matrix(Y_test ,Y_pred)\n",
    "TN = CM[0][0]\n",
    "FN = CM[1][0]\n",
    "TP = CM[1][1]\n",
    "FP = CM[0][1]\n",
    "# true positive rate\n",
    "TPR = TP/(TP+FN)\n",
    "# Specificity or true negative rate\n",
    "TNR = TN/(TN+FP) \n",
    "# Fall out or false positive rate\n",
    "FPR = FP/(FP+TN)\n",
    "# False negative rate\n",
    "FNR = FN/(TP+FN)\n",
    "\n",
    "\n",
    "print(\"TPR is\", TPR)\n",
    "print(\"TNR is\", TNR)\n",
    "print(\"FPR is\", FPR)\n",
    "print(\"FNR is\", FNR)\n",
    "df_cm = pd.DataFrame(confusion_matrix(Y_test, Y_pred), range(2),range(2))\n",
    "sns.set(font_scale=1.5)\n",
    "sns.heatmap(df_cm, annot=True,annot_kws={\"size\": 16}, fmt='g')\n",
    "\n",
    "\n",
    "print('\\n------------------------------------------------------------------------')\n",
    "print(\"Time taken to run this cell :\\n\", datetime.now() - start)\n",
    "print('------------------------------------------------------------------------')"
   ]
  },
  {
   "cell_type": "code",
   "execution_count": null,
   "metadata": {},
   "outputs": [],
   "source": []
  },
  {
   "cell_type": "markdown",
   "metadata": {},
   "source": [
    "Top Positive & Negative Words:\n",
    "-----------"
   ]
  },
  {
   "cell_type": "code",
   "execution_count": 130,
   "metadata": {},
   "outputs": [
    {
     "data": {
      "text/plain": [
       "array([ 40076., 214843.])"
      ]
     },
     "execution_count": 130,
     "metadata": {},
     "output_type": "execute_result"
    }
   ],
   "source": [
    "clf_acc.class_count_\n"
   ]
  },
  {
   "cell_type": "code",
   "execution_count": 131,
   "metadata": {},
   "outputs": [
    {
     "data": {
      "text/plain": [
       "array([[-15.89685055, -15.89685055, -15.89685055, ..., -15.89685055,\n",
       "        -15.89685055, -15.89685055],\n",
       "       [-11.58201879, -12.27267531, -12.27267531, ..., -12.27267531,\n",
       "        -12.27267531, -12.27267531]])"
      ]
     },
     "execution_count": 131,
     "metadata": {},
     "output_type": "execute_result"
    }
   ],
   "source": [
    "clf_acc.feature_log_prob_"
   ]
  },
  {
   "cell_type": "code",
   "execution_count": 139,
   "metadata": {},
   "outputs": [],
   "source": [
    "top_pos_word = feat[1].sort_values(ascending = False)[0:25]"
   ]
  },
  {
   "cell_type": "code",
   "execution_count": 140,
   "metadata": {},
   "outputs": [
    {
     "data": {
      "text/html": [
       "<div>\n",
       "<style scoped>\n",
       "    .dataframe tbody tr th:only-of-type {\n",
       "        vertical-align: middle;\n",
       "    }\n",
       "\n",
       "    .dataframe tbody tr th {\n",
       "        vertical-align: top;\n",
       "    }\n",
       "\n",
       "    .dataframe thead th {\n",
       "        text-align: right;\n",
       "    }\n",
       "</style>\n",
       "<table border=\"1\" class=\"dataframe\">\n",
       "  <thead>\n",
       "    <tr style=\"text-align: right;\">\n",
       "      <th></th>\n",
       "      <th>1</th>\n",
       "    </tr>\n",
       "  </thead>\n",
       "  <tbody>\n",
       "    <tr>\n",
       "      <th>like</th>\n",
       "      <td>-1.177257</td>\n",
       "    </tr>\n",
       "    <tr>\n",
       "      <th>tast</th>\n",
       "      <td>-1.202049</td>\n",
       "    </tr>\n",
       "    <tr>\n",
       "      <th>love</th>\n",
       "      <td>-1.262482</td>\n",
       "    </tr>\n",
       "    <tr>\n",
       "      <th>good</th>\n",
       "      <td>-1.267066</td>\n",
       "    </tr>\n",
       "    <tr>\n",
       "      <th>great</th>\n",
       "      <td>-1.294151</td>\n",
       "    </tr>\n",
       "    <tr>\n",
       "      <th>flavor</th>\n",
       "      <td>-1.425940</td>\n",
       "    </tr>\n",
       "    <tr>\n",
       "      <th>one</th>\n",
       "      <td>-1.473709</td>\n",
       "    </tr>\n",
       "    <tr>\n",
       "      <th>use</th>\n",
       "      <td>-1.474339</td>\n",
       "    </tr>\n",
       "    <tr>\n",
       "      <th>tri</th>\n",
       "      <td>-1.530713</td>\n",
       "    </tr>\n",
       "    <tr>\n",
       "      <th>product</th>\n",
       "      <td>-1.538878</td>\n",
       "    </tr>\n",
       "    <tr>\n",
       "      <th>make</th>\n",
       "      <td>-1.656848</td>\n",
       "    </tr>\n",
       "    <tr>\n",
       "      <th>get</th>\n",
       "      <td>-1.688632</td>\n",
       "    </tr>\n",
       "    <tr>\n",
       "      <th>buy</th>\n",
       "      <td>-1.891564</td>\n",
       "    </tr>\n",
       "    <tr>\n",
       "      <th>time</th>\n",
       "      <td>-1.905766</td>\n",
       "    </tr>\n",
       "    <tr>\n",
       "      <th>would</th>\n",
       "      <td>-1.925363</td>\n",
       "    </tr>\n",
       "    <tr>\n",
       "      <th>realli</th>\n",
       "      <td>-1.968077</td>\n",
       "    </tr>\n",
       "    <tr>\n",
       "      <th>best</th>\n",
       "      <td>-1.990206</td>\n",
       "    </tr>\n",
       "    <tr>\n",
       "      <th>amazon</th>\n",
       "      <td>-2.003198</td>\n",
       "    </tr>\n",
       "    <tr>\n",
       "      <th>price</th>\n",
       "      <td>-2.013812</td>\n",
       "    </tr>\n",
       "    <tr>\n",
       "      <th>find</th>\n",
       "      <td>-2.016570</td>\n",
       "    </tr>\n",
       "    <tr>\n",
       "      <th>much</th>\n",
       "      <td>-2.024681</td>\n",
       "    </tr>\n",
       "    <tr>\n",
       "      <th>also</th>\n",
       "      <td>-2.033675</td>\n",
       "    </tr>\n",
       "    <tr>\n",
       "      <th>eat</th>\n",
       "      <td>-2.059912</td>\n",
       "    </tr>\n",
       "    <tr>\n",
       "      <th>dont</th>\n",
       "      <td>-2.074070</td>\n",
       "    </tr>\n",
       "    <tr>\n",
       "      <th>littl</th>\n",
       "      <td>-2.081580</td>\n",
       "    </tr>\n",
       "  </tbody>\n",
       "</table>\n",
       "</div>"
      ],
      "text/plain": [
       "                1\n",
       "like    -1.177257\n",
       "tast    -1.202049\n",
       "love    -1.262482\n",
       "good    -1.267066\n",
       "great   -1.294151\n",
       "flavor  -1.425940\n",
       "one     -1.473709\n",
       "use     -1.474339\n",
       "tri     -1.530713\n",
       "product -1.538878\n",
       "make    -1.656848\n",
       "get     -1.688632\n",
       "buy     -1.891564\n",
       "time    -1.905766\n",
       "would   -1.925363\n",
       "realli  -1.968077\n",
       "best    -1.990206\n",
       "amazon  -2.003198\n",
       "price   -2.013812\n",
       "find    -2.016570\n",
       "much    -2.024681\n",
       "also    -2.033675\n",
       "eat     -2.059912\n",
       "dont    -2.074070\n",
       "littl   -2.081580"
      ]
     },
     "execution_count": 140,
     "metadata": {},
     "output_type": "execute_result"
    }
   ],
   "source": [
    "df = pd.DataFrame(top_pos_word)\n",
    "df"
   ]
  },
  {
   "cell_type": "code",
   "execution_count": 141,
   "metadata": {},
   "outputs": [],
   "source": [
    "top_neg_word = feat[0].sort_values(ascending = False)[0:25]"
   ]
  },
  {
   "cell_type": "code",
   "execution_count": 142,
   "metadata": {},
   "outputs": [
    {
     "data": {
      "text/html": [
       "<div>\n",
       "<style scoped>\n",
       "    .dataframe tbody tr th:only-of-type {\n",
       "        vertical-align: middle;\n",
       "    }\n",
       "\n",
       "    .dataframe tbody tr th {\n",
       "        vertical-align: top;\n",
       "    }\n",
       "\n",
       "    .dataframe thead th {\n",
       "        text-align: right;\n",
       "    }\n",
       "</style>\n",
       "<table border=\"1\" class=\"dataframe\">\n",
       "  <thead>\n",
       "    <tr style=\"text-align: right;\">\n",
       "      <th></th>\n",
       "      <th>0</th>\n",
       "    </tr>\n",
       "  </thead>\n",
       "  <tbody>\n",
       "    <tr>\n",
       "      <th>tast</th>\n",
       "      <td>-0.986468</td>\n",
       "    </tr>\n",
       "    <tr>\n",
       "      <th>like</th>\n",
       "      <td>-1.007635</td>\n",
       "    </tr>\n",
       "    <tr>\n",
       "      <th>product</th>\n",
       "      <td>-1.179066</td>\n",
       "    </tr>\n",
       "    <tr>\n",
       "      <th>one</th>\n",
       "      <td>-1.364769</td>\n",
       "    </tr>\n",
       "    <tr>\n",
       "      <th>would</th>\n",
       "      <td>-1.415358</td>\n",
       "    </tr>\n",
       "    <tr>\n",
       "      <th>tri</th>\n",
       "      <td>-1.468210</td>\n",
       "    </tr>\n",
       "    <tr>\n",
       "      <th>flavor</th>\n",
       "      <td>-1.552595</td>\n",
       "    </tr>\n",
       "    <tr>\n",
       "      <th>good</th>\n",
       "      <td>-1.564571</td>\n",
       "    </tr>\n",
       "    <tr>\n",
       "      <th>buy</th>\n",
       "      <td>-1.602252</td>\n",
       "    </tr>\n",
       "    <tr>\n",
       "      <th>get</th>\n",
       "      <td>-1.656202</td>\n",
       "    </tr>\n",
       "    <tr>\n",
       "      <th>use</th>\n",
       "      <td>-1.676674</td>\n",
       "    </tr>\n",
       "    <tr>\n",
       "      <th>dont</th>\n",
       "      <td>-1.738175</td>\n",
       "    </tr>\n",
       "    <tr>\n",
       "      <th>even</th>\n",
       "      <td>-1.824219</td>\n",
       "    </tr>\n",
       "    <tr>\n",
       "      <th>order</th>\n",
       "      <td>-1.833698</td>\n",
       "    </tr>\n",
       "    <tr>\n",
       "      <th>make</th>\n",
       "      <td>-1.961957</td>\n",
       "    </tr>\n",
       "    <tr>\n",
       "      <th>much</th>\n",
       "      <td>-1.977880</td>\n",
       "    </tr>\n",
       "    <tr>\n",
       "      <th>time</th>\n",
       "      <td>-1.999206</td>\n",
       "    </tr>\n",
       "    <tr>\n",
       "      <th>realli</th>\n",
       "      <td>-2.032167</td>\n",
       "    </tr>\n",
       "    <tr>\n",
       "      <th>love</th>\n",
       "      <td>-2.062713</td>\n",
       "    </tr>\n",
       "    <tr>\n",
       "      <th>look</th>\n",
       "      <td>-2.070596</td>\n",
       "    </tr>\n",
       "    <tr>\n",
       "      <th>amazon</th>\n",
       "      <td>-2.071586</td>\n",
       "    </tr>\n",
       "    <tr>\n",
       "      <th>disappoint</th>\n",
       "      <td>-2.097264</td>\n",
       "    </tr>\n",
       "    <tr>\n",
       "      <th>eat</th>\n",
       "      <td>-2.106861</td>\n",
       "    </tr>\n",
       "    <tr>\n",
       "      <th>bought</th>\n",
       "      <td>-2.118417</td>\n",
       "    </tr>\n",
       "    <tr>\n",
       "      <th>box</th>\n",
       "      <td>-2.123828</td>\n",
       "    </tr>\n",
       "  </tbody>\n",
       "</table>\n",
       "</div>"
      ],
      "text/plain": [
       "                   0\n",
       "tast       -0.986468\n",
       "like       -1.007635\n",
       "product    -1.179066\n",
       "one        -1.364769\n",
       "would      -1.415358\n",
       "tri        -1.468210\n",
       "flavor     -1.552595\n",
       "good       -1.564571\n",
       "buy        -1.602252\n",
       "get        -1.656202\n",
       "use        -1.676674\n",
       "dont       -1.738175\n",
       "even       -1.824219\n",
       "order      -1.833698\n",
       "make       -1.961957\n",
       "much       -1.977880\n",
       "time       -1.999206\n",
       "realli     -2.032167\n",
       "love       -2.062713\n",
       "look       -2.070596\n",
       "amazon     -2.071586\n",
       "disappoint -2.097264\n",
       "eat        -2.106861\n",
       "bought     -2.118417\n",
       "box        -2.123828"
      ]
     },
     "execution_count": 142,
     "metadata": {},
     "output_type": "execute_result"
    }
   ],
   "source": [
    "df = pd.DataFrame(top_neg_word)\n",
    "df"
   ]
  },
  {
   "cell_type": "markdown",
   "metadata": {},
   "source": [
    "# Multinomial naive Bayes:"
   ]
  },
  {
   "cell_type": "markdown",
   "metadata": {},
   "source": [
    "BAg of Words:\n",
    "------------"
   ]
  },
  {
   "cell_type": "code",
   "execution_count": 143,
   "metadata": {},
   "outputs": [
    {
     "name": "stdout",
     "output_type": "stream",
     "text": [
      "the type of count vectorizer  <class 'scipy.sparse.csr.csr_matrix'>\n",
      "the shape of out text BOW vectorizer  (254919, 59777)\n",
      "the number of unique words  59777\n"
     ]
    }
   ],
   "source": [
    "#BoW\n",
    "\n",
    "count_vect = CountVectorizer() #in scikit-learn\n",
    "X_train_bow = count_vect.fit_transform(X_train) #\n",
    "X_test_bow = count_vect.transform(X_test)#\n",
    "print(\"the type of count vectorizer \",type(X_train_bow))\n",
    "print(\"the shape of out text BOW vectorizer \",X_train_bow.get_shape())\n",
    "print(\"the number of unique words \", X_train_bow.get_shape()[1])"
   ]
  },
  {
   "cell_type": "code",
   "execution_count": 144,
   "metadata": {},
   "outputs": [
    {
     "name": "stdout",
     "output_type": "stream",
     "text": [
      "(254919, 59777)\n",
      "(109252, 59777)\n"
     ]
    }
   ],
   "source": [
    "\n",
    "standardized_data = StandardScaler(with_mean= False).fit_transform(X_train_bow)\n",
    "X_train_bow = standardized_data\n",
    "print(X_train_bow.shape)\n",
    "\n",
    "\n",
    "standardized_data = StandardScaler(with_mean= False).fit_transform(X_test_bow)\n",
    "X_test_bow = standardized_data\n",
    "print(X_test_bow.shape)"
   ]
  },
  {
   "cell_type": "code",
   "execution_count": 145,
   "metadata": {},
   "outputs": [
    {
     "name": "stdout",
     "output_type": "stream",
     "text": [
      "(23179, 59777) (23174, 59777)\n",
      "(46353, 59777) (23174, 59777)\n",
      "(69527, 59777) (23174, 59777)\n",
      "(92701, 59777) (23174, 59777)\n",
      "(115875, 59777) (23174, 59777)\n",
      "(139049, 59777) (23174, 59777)\n",
      "(162223, 59777) (23174, 59777)\n",
      "(185397, 59777) (23174, 59777)\n",
      "(208571, 59777) (23174, 59777)\n",
      "(231745, 59777) (23174, 59777)\n"
     ]
    }
   ],
   "source": [
    "tscv = TimeSeriesSplit(n_splits=10)\n",
    "for train, cv in tscv.split(X_train_bow):\n",
    "    print(X_train_bow[train].shape, X_train_bow[cv].shape)"
   ]
  },
  {
   "cell_type": "code",
   "execution_count": 148,
   "metadata": {},
   "outputs": [
    {
     "name": "stdout",
     "output_type": "stream",
     "text": [
      "Fitting 10 folds for each of 15 candidates, totalling 150 fits\n"
     ]
    },
    {
     "name": "stderr",
     "output_type": "stream",
     "text": [
      "[Parallel(n_jobs=1)]: Done 150 out of 150 | elapsed:   18.8s finished\n"
     ]
    },
    {
     "name": "stdout",
     "output_type": "stream",
     "text": [
      "Best HyperParameter with Accuracy as the metric:  {'alpha': 1000}\n",
      "Best Accuracy with Accuracy as the metric: 81.21%\n",
      "\n",
      "\n",
      "________________________________________________________________________\n",
      "\n",
      "\n",
      "Fitting 10 folds for each of 15 candidates, totalling 150 fits\n"
     ]
    },
    {
     "name": "stderr",
     "output_type": "stream",
     "text": [
      "[Parallel(n_jobs=1)]: Done 150 out of 150 | elapsed:   20.5s finished\n"
     ]
    },
    {
     "name": "stdout",
     "output_type": "stream",
     "text": [
      "Best HyperParameter with f1 score as the metric:  {'alpha': 1000}\n",
      "Best Accuracy with f1 score as the metric: 89.37%\n",
      "\n",
      "\n",
      "__________________________________________________________________________\n",
      "\n",
      "\n",
      "Fitting 10 folds for each of 15 candidates, totalling 150 fits\n",
      "Best HyperParameter with auc score as the metric:  {'alpha': 10}\n",
      "Best Accuracy with auc score as the metric: 73.87%\n",
      "------------------------------------------------------------------------\n",
      "Time taken to run this cell :\n",
      " 4:47:45.511151\n",
      "------------------------------------------------------------------------\n"
     ]
    },
    {
     "name": "stderr",
     "output_type": "stream",
     "text": [
      "[Parallel(n_jobs=1)]: Done 150 out of 150 | elapsed:   22.6s finished\n"
     ]
    }
   ],
   "source": [
    "\n",
    "from sklearn.naive_bayes import MultinomialNB\n",
    "\n",
    "mnb = MultinomialNB()\n",
    "param_grid = {'alpha':[1000,500,100,50,10,5,1,0.5,0.1,0.05,0.01,0.005,0.001,0.0005,0.0001]} #params we need to try on classifier\n",
    "tscv = TimeSeriesSplit(n_splits=10) #For time based splitting\n",
    "gsv = GridSearchCV(mnb,param_grid,cv=tscv, scoring = 'accuracy',verbose=1)\n",
    "gsv.fit(X_train_bow,Y_train)\n",
    "print(\"Best HyperParameter with Accuracy as the metric: \",gsv.best_params_)\n",
    "print(\"Best Accuracy with Accuracy as the metric: %.2f%%\"%(gsv.best_score_*100))\n",
    "\n",
    "print(\"\\n\\n________________________________________________________________________\\n\\n\")\n",
    "\n",
    "param_grid = {'alpha':[1000,500,100,50,10,5,1,0.5,0.1,0.05,0.01,0.005,0.001,0.0005,0.0001]} #params we need to try on classifier\n",
    "tscv = TimeSeriesSplit(n_splits=10) #For time based splitting\n",
    "gsv_f1 = GridSearchCV(mnb,param_grid,cv=tscv, scoring = 'f1',verbose=1)\n",
    "gsv_f1.fit(X_train_bow,Y_train)\n",
    "print(\"Best HyperParameter with f1 score as the metric: \",gsv_f1.best_params_)\n",
    "print(\"Best Accuracy with f1 score as the metric: %.2f%%\"%(gsv_f1.best_score_*100))\n",
    "\n",
    "print('\\n\\n__________________________________________________________________________\\n\\n')\n",
    "\n",
    "\n",
    "param_grid = {'alpha':[1000,500,100,50,10,5,1,0.5,0.1,0.05,0.01,0.005,0.001,0.0005,0.0001]} #params we need to try on classifier\n",
    "tscv = TimeSeriesSplit(n_splits=10) #For time based splitting\n",
    "gsv_roc = GridSearchCV(mnb,param_grid,cv=tscv, scoring = \"roc_auc\",verbose=1)\n",
    "gsv_roc.fit(X_train_bow,Y_train)\n",
    "print(\"Best HyperParameter with auc score as the metric: \",gsv_roc.best_params_)\n",
    "print(\"Best Accuracy with auc score as the metric: %.2f%%\"%(gsv_roc.best_score_*100))\n",
    "\n",
    "\n",
    "\n",
    "print('------------------------------------------------------------------------')\n",
    "print(\"Time taken to run this cell :\\n\", datetime.now() - start)\n",
    "print('------------------------------------------------------------------------')\n",
    "\n"
   ]
  },
  {
   "cell_type": "code",
   "execution_count": 151,
   "metadata": {},
   "outputs": [
    {
     "name": "stdout",
     "output_type": "stream",
     "text": [
      "Accuracy on test set: 84.741%\n",
      "Macro F1-Score on test set: 0.570\n",
      "Micro F1-Score on test set: 0.847\n",
      "Weighted F1-Score on test set: 0.808\n",
      "Macro roc_auc Score on test set: 0.559\n",
      "Micro roc_auc Score on test set: 0.559\n",
      "Weighted roc_auc Score on test set: 0.559\n",
      "Precision on test set: 0.860\n",
      "Recall on test set: 0.978\n",
      "Error : 15.259%\n",
      "Precision recall report :\n",
      "              precision    recall  f1-score   support\n",
      "\n",
      "         -1       0.54      0.14      0.22     17034\n",
      "          1       0.86      0.98      0.92     92218\n",
      "\n",
      "avg / total       0.81      0.85      0.81    109252\n",
      "\n",
      "TPR is 0.9779001930208853\n",
      "TNR is 0.14095338734296115\n",
      "FPR is 0.8590466126570389\n",
      "FNR is 0.022099806979114706\n",
      "\n",
      "------------------------------------------------------------------------\n",
      "Time taken to run this cell :\n",
      " 4:52:20.613757\n",
      "------------------------------------------------------------------------\n",
      "CPU times: user 393 ms, sys: 427 µs, total: 393 ms\n",
      "Wall time: 389 ms\n"
     ]
    },
    {
     "data": {
      "image/png": "[encoded data removed]",
      "text/plain": [
       "<Figure size 432x288 with 2 Axes>"
      ]
     },
     "metadata": {},
     "output_type": "display_data"
    }
   ],
   "source": [
    "\n",
    "mnb = MultinomialNB(alpha = 1000)\n",
    "clf = mnb.fit(X_train_bow, Y_train)\n",
    "Y_pred = mnb.predict(X_test_bow)\n",
    "print(\"Accuracy on test set: %0.3f%%\"%(accuracy_score(Y_test, Y_pred)*100)) \n",
    "print(\"Macro F1-Score on test set: %0.3f\"%(f1_score(Y_test, Y_pred, average='macro')))\n",
    "print(\"Micro F1-Score on test set: %0.3f\"%(f1_score(Y_test, Y_pred, average='micro')))\n",
    "print(\"Weighted F1-Score on test set: %0.3f\"%(f1_score(Y_test, Y_pred, average='weighted')))\n",
    "print(\"Macro roc_auc Score on test set: %0.3f\"%(roc_auc_score(Y_test, Y_pred, \n",
    "                                                              average='macro')))\n",
    "print(\"Micro roc_auc Score on test set: %0.3f\"%(roc_auc_score(Y_test, Y_pred, \n",
    "                                                              average='micro')))\n",
    "print(\"Weighted roc_auc Score on test set: %0.3f\"%(roc_auc_score(Y_test, Y_pred, \n",
    "                                                              average='weighted')))\n",
    "print(\"Precision on test set: %0.3f\"%(precision_score(Y_test, Y_pred)))\n",
    "print(\"Recall on test set: %0.3f\"%(recall_score(Y_test, Y_pred)))\n",
    "print(\"Error : %0.3f%%\"%(100-(accuracy_score(Y_test, Y_pred)*100)))\n",
    "print(\"Precision recall report :\\n\",metrics.classification_report(Y_test, Y_pred))\n",
    "CM = confusion_matrix(Y_test ,Y_pred)\n",
    "TN = CM[0][0]\n",
    "FN = CM[1][0]\n",
    "TP = CM[1][1]\n",
    "FP = CM[0][1]\n",
    "# true positive rate\n",
    "TPR = TP/(TP+FN)\n",
    "# Specificity or true negative rate\n",
    "TNR = TN/(TN+FP) \n",
    "# Fall out or false positive rate\n",
    "FPR = FP/(FP+TN)\n",
    "# False negative rate\n",
    "FNR = FN/(TP+FN)\n",
    "\n",
    "\n",
    "print(\"TPR is\", TPR)\n",
    "print(\"TNR is\", TNR)\n",
    "print(\"FPR is\", FPR)\n",
    "print(\"FNR is\", FNR)\n",
    "df_cm = pd.DataFrame(confusion_matrix(Y_test, Y_pred), range(2),range(2))\n",
    "sns.set(font_scale=1.5)\n",
    "sns.heatmap(df_cm, annot=True,annot_kws={\"size\": 16}, fmt='g')\n",
    "\n",
    "\n",
    "print('\\n------------------------------------------------------------------------')\n",
    "print(\"Time taken to run this cell :\\n\", datetime.now() - start)\n",
    "print('------------------------------------------------------------------------')"
   ]
  },
  {
   "cell_type": "code",
   "execution_count": null,
   "metadata": {},
   "outputs": [],
   "source": []
  },
  {
   "cell_type": "code",
   "execution_count": 153,
   "metadata": {},
   "outputs": [
    {
     "name": "stdout",
     "output_type": "stream",
     "text": [
      "Accuracy on test set: 82.716%\n",
      "Macro F1-Score on test set: 0.721\n",
      "Micro F1-Score on test set: 0.827\n",
      "Weighted F1-Score on test set: 0.840\n",
      "Macro roc_auc Score on test set: 0.766\n",
      "Micro roc_auc Score on test set: 0.766\n",
      "Weighted roc_auc Score on test set: 0.766\n",
      "Precision on test set: 0.935\n",
      "Recall on test set: 0.855\n",
      "Error : 17.284%\n",
      "Precision recall report :\n",
      "              precision    recall  f1-score   support\n",
      "\n",
      "         -1       0.46      0.68      0.55     17034\n",
      "          1       0.93      0.85      0.89     92218\n",
      "\n",
      "avg / total       0.86      0.83      0.84    109252\n",
      "\n",
      "TPR is 0.8549523954108742\n",
      "TNR is 0.6767054127040038\n",
      "FPR is 0.32329458729599625\n",
      "FNR is 0.14504760458912577\n",
      "\n",
      "------------------------------------------------------------------------\n",
      "Time taken to run this cell :\n",
      " 4:53:19.125129\n",
      "------------------------------------------------------------------------\n"
     ]
    },
    {
     "data": {
      "image/png": "[encoded data removed]",
      "text/plain": [
       "<Figure size 432x288 with 2 Axes>"
      ]
     },
     "metadata": {},
     "output_type": "display_data"
    }
   ],
   "source": [
    "mnb = MultinomialNB(alpha = 10)\n",
    "clf_1 = mnb.fit(X_train_bow, Y_train)\n",
    "Y_pred = mnb.predict(X_test_bow)\n",
    "print(\"Accuracy on test set: %0.3f%%\"%(accuracy_score(Y_test, Y_pred)*100)) \n",
    "print(\"Macro F1-Score on test set: %0.3f\"%(f1_score(Y_test, Y_pred, average='macro')))\n",
    "print(\"Micro F1-Score on test set: %0.3f\"%(f1_score(Y_test, Y_pred, average='micro')))\n",
    "print(\"Weighted F1-Score on test set: %0.3f\"%(f1_score(Y_test, Y_pred, average='weighted')))\n",
    "print(\"Macro roc_auc Score on test set: %0.3f\"%(roc_auc_score(Y_test, Y_pred, \n",
    "                                                              average='macro')))\n",
    "print(\"Micro roc_auc Score on test set: %0.3f\"%(roc_auc_score(Y_test, Y_pred, \n",
    "                                                              average='micro')))\n",
    "print(\"Weighted roc_auc Score on test set: %0.3f\"%(roc_auc_score(Y_test, Y_pred, \n",
    "                                                              average='weighted')))\n",
    "print(\"Precision on test set: %0.3f\"%(precision_score(Y_test, Y_pred)))\n",
    "print(\"Recall on test set: %0.3f\"%(recall_score(Y_test, Y_pred)))\n",
    "print(\"Error : %0.3f%%\"%(100-(accuracy_score(Y_test, Y_pred)*100)))\n",
    "print(\"Precision recall report :\\n\",metrics.classification_report(Y_test, Y_pred))\n",
    "CM = confusion_matrix(Y_test ,Y_pred)\n",
    "TN = CM[0][0]\n",
    "FN = CM[1][0]\n",
    "TP = CM[1][1]\n",
    "FP = CM[0][1]\n",
    "# true positive rate\n",
    "TPR = TP/(TP+FN)\n",
    "# Specificity or true negative rate\n",
    "TNR = TN/(TN+FP) \n",
    "# Fall out or false positive rate\n",
    "FPR = FP/(FP+TN)\n",
    "# False negative rate\n",
    "FNR = FN/(TP+FN)\n",
    "\n",
    "\n",
    "print(\"TPR is\", TPR)\n",
    "print(\"TNR is\", TNR)\n",
    "print(\"FPR is\", FPR)\n",
    "print(\"FNR is\", FNR)\n",
    "df_cm = pd.DataFrame(confusion_matrix(Y_test, Y_pred), range(2),range(2))\n",
    "sns.set(font_scale=1.5)\n",
    "sns.heatmap(df_cm, annot=True,annot_kws={\"size\": 16}, fmt='g')\n",
    "\n",
    "\n",
    "print('\\n------------------------------------------------------------------------')\n",
    "print(\"Time taken to run this cell :\\n\", datetime.now() - start)\n",
    "print('------------------------------------------------------------------------')"
   ]
  },
  {
   "cell_type": "markdown",
   "metadata": {},
   "source": [
    "Tf-idf:\n",
    "------------"
   ]
  },
  {
   "cell_type": "code",
   "execution_count": 160,
   "metadata": {},
   "outputs": [
    {
     "name": "stdout",
     "output_type": "stream",
     "text": [
      "the type of count vectorizer  <class 'scipy.sparse.csr.csr_matrix'>\n",
      "the shape of out text TFIDF vectorizer  (254919, 2329461)\n",
      "the number of unique words including both unigrams and bigrams  2329461\n"
     ]
    }
   ],
   "source": [
    "tf_idf_vect = TfidfVectorizer(ngram_range=(1,2))\n",
    "X_train_tf = tf_idf_vect.fit_transform(X_train.values)\n",
    "X_test_tf = tf_idf_vect.transform(X_test)\n",
    "print(\"the type of count vectorizer \",type(X_train_tf))\n",
    "print(\"the shape of out text TFIDF vectorizer \",X_train_tf.get_shape())\n",
    "print(\"the number of unique words including both unigrams and bigrams \", X_train_tf.get_shape()[1])"
   ]
  },
  {
   "cell_type": "code",
   "execution_count": 161,
   "metadata": {},
   "outputs": [
    {
     "name": "stdout",
     "output_type": "stream",
     "text": [
      "Fitting 10 folds for each of 15 candidates, totalling 150 fits\n"
     ]
    },
    {
     "name": "stderr",
     "output_type": "stream",
     "text": [
      "[Parallel(n_jobs=1)]: Done 150 out of 150 | elapsed:  2.3min finished\n"
     ]
    },
    {
     "name": "stdout",
     "output_type": "stream",
     "text": [
      "Best HyperParameter with Accuracy as the metric:  {'alpha': 0.01}\n",
      "Best Accuracy with Accuracy as the metric: 89.08%\n",
      "\n",
      "\n",
      "________________________________________________________________________\n",
      "\n",
      "\n",
      "Fitting 10 folds for each of 15 candidates, totalling 150 fits\n"
     ]
    },
    {
     "name": "stderr",
     "output_type": "stream",
     "text": [
      "[Parallel(n_jobs=1)]: Done 150 out of 150 | elapsed:  2.4min finished\n"
     ]
    },
    {
     "name": "stdout",
     "output_type": "stream",
     "text": [
      "Best HyperParameter with f1 score as the metric:  {'alpha': 0.01}\n",
      "Best Accuracy with f1 score as the metric: 93.56%\n",
      "\n",
      "\n",
      "__________________________________________________________________________\n",
      "\n",
      "\n",
      "Fitting 10 folds for each of 15 candidates, totalling 150 fits\n"
     ]
    },
    {
     "name": "stderr",
     "output_type": "stream",
     "text": [
      "[Parallel(n_jobs=1)]: Done 150 out of 150 | elapsed:  2.4min finished\n"
     ]
    },
    {
     "name": "stdout",
     "output_type": "stream",
     "text": [
      "Best HyperParameter with auc score as the metric:  {'alpha': 0.01}\n",
      "Best Accuracy with auc score as the metric: 91.30%\n",
      "------------------------------------------------------------------------\n",
      "Time taken to run this cell :\n",
      " 5:02:56.853641\n",
      "------------------------------------------------------------------------\n"
     ]
    }
   ],
   "source": [
    "mnb = MultinomialNB()\n",
    "param_grid = {'alpha':[1000,500,100,50,10,5,1,0.5,0.1,0.05,0.01,0.005,0.001,0.0005,0.0001]} #params we need to try on classifier\n",
    "tscv = TimeSeriesSplit(n_splits=10) #For time based splitting\n",
    "gsv = GridSearchCV(mnb,param_grid,cv=tscv, scoring = 'accuracy',verbose=1)\n",
    "gsv.fit(X_train_tf,Y_train)\n",
    "print(\"Best HyperParameter with Accuracy as the metric: \",gsv.best_params_)\n",
    "print(\"Best Accuracy with Accuracy as the metric: %.2f%%\"%(gsv.best_score_*100))\n",
    "\n",
    "print(\"\\n\\n________________________________________________________________________\\n\\n\")\n",
    "\n",
    "param_grid = {'alpha':[1000,500,100,50,10,5,1,0.5,0.1,0.05,0.01,0.005,0.001,0.0005,0.0001]} #params we need to try on classifier\n",
    "tscv = TimeSeriesSplit(n_splits=10) #For time based splitting\n",
    "gsv_f1 = GridSearchCV(mnb,param_grid,cv=tscv, scoring = 'f1',verbose=1)\n",
    "gsv_f1.fit(X_train_tf,Y_train)\n",
    "print(\"Best HyperParameter with f1 score as the metric: \",gsv_f1.best_params_)\n",
    "print(\"Best Accuracy with f1 score as the metric: %.2f%%\"%(gsv_f1.best_score_*100))\n",
    "\n",
    "print('\\n\\n__________________________________________________________________________\\n\\n')\n",
    "\n",
    "\n",
    "param_grid = {'alpha':[1000,500,100,50,10,5,1,0.5,0.1,0.05,0.01,0.005,0.001,0.0005,0.0001]} #params we need to try on classifier\n",
    "tscv = TimeSeriesSplit(n_splits=10) #For time based splitting\n",
    "gsv_roc = GridSearchCV(mnb,param_grid,cv=tscv, scoring = \"roc_auc\",verbose=1)\n",
    "gsv_roc.fit(X_train_tf,Y_train)\n",
    "print(\"Best HyperParameter with auc score as the metric: \",gsv_roc.best_params_)\n",
    "print(\"Best Accuracy with auc score as the metric: %.2f%%\"%(gsv_roc.best_score_*100))\n",
    "\n",
    "\n",
    "\n",
    "print('------------------------------------------------------------------------')\n",
    "print(\"Time taken to run this cell :\\n\", datetime.now() - start)\n",
    "print('------------------------------------------------------------------------')\n",
    "\n"
   ]
  },
  {
   "cell_type": "code",
   "execution_count": 162,
   "metadata": {},
   "outputs": [
    {
     "name": "stdout",
     "output_type": "stream",
     "text": [
      "Accuracy on test set: 90.478%\n",
      "Macro F1-Score on test set: 0.771\n",
      "Micro F1-Score on test set: 0.905\n",
      "Weighted F1-Score on test set: 0.891\n",
      "Macro roc_auc Score on test set: 0.719\n",
      "Micro roc_auc Score on test set: 0.719\n",
      "Weighted roc_auc Score on test set: 0.719\n",
      "Precision on test set: 0.907\n",
      "Recall on test set: 0.989\n",
      "Error : 9.522%\n",
      "Precision recall report :\n",
      "              precision    recall  f1-score   support\n",
      "\n",
      "         -1       0.88      0.45      0.60     17034\n",
      "          1       0.91      0.99      0.95     92218\n",
      "\n",
      "avg / total       0.90      0.90      0.89    109252\n",
      "\n",
      "TPR is 0.988787438461038\n",
      "TNR is 0.44998238816484676\n",
      "FPR is 0.5500176118351532\n",
      "FNR is 0.011212561538962025\n",
      "\n",
      "------------------------------------------------------------------------\n",
      "Time taken to run this cell :\n",
      " 5:02:57.732179\n",
      "------------------------------------------------------------------------\n"
     ]
    },
    {
     "data": {
      "image/png": "[encoded data removed]",
      "text/plain": [
       "<Figure size 432x288 with 2 Axes>"
      ]
     },
     "metadata": {},
     "output_type": "display_data"
    }
   ],
   "source": [
    "mnb = MultinomialNB(alpha = 0.01)\n",
    "clf = mnb.fit(X_train_tf, Y_train)\n",
    "Y_pred = mnb.predict(X_test_tf)\n",
    "print(\"Accuracy on test set: %0.3f%%\"%(accuracy_score(Y_test, Y_pred)*100)) \n",
    "print(\"Macro F1-Score on test set: %0.3f\"%(f1_score(Y_test, Y_pred, average='macro')))\n",
    "print(\"Micro F1-Score on test set: %0.3f\"%(f1_score(Y_test, Y_pred, average='micro')))\n",
    "print(\"Weighted F1-Score on test set: %0.3f\"%(f1_score(Y_test, Y_pred, average='weighted')))\n",
    "print(\"Macro roc_auc Score on test set: %0.3f\"%(roc_auc_score(Y_test, Y_pred, \n",
    "                                                              average='macro')))\n",
    "print(\"Micro roc_auc Score on test set: %0.3f\"%(roc_auc_score(Y_test, Y_pred, \n",
    "                                                              average='micro')))\n",
    "print(\"Weighted roc_auc Score on test set: %0.3f\"%(roc_auc_score(Y_test, Y_pred, \n",
    "                                                              average='weighted')))\n",
    "print(\"Precision on test set: %0.3f\"%(precision_score(Y_test, Y_pred)))\n",
    "print(\"Recall on test set: %0.3f\"%(recall_score(Y_test, Y_pred)))\n",
    "print(\"Error : %0.3f%%\"%(100-(accuracy_score(Y_test, Y_pred)*100)))\n",
    "print(\"Precision recall report :\\n\",metrics.classification_report(Y_test, Y_pred))\n",
    "CM = confusion_matrix(Y_test ,Y_pred)\n",
    "TN = CM[0][0]\n",
    "FN = CM[1][0]\n",
    "TP = CM[1][1]\n",
    "FP = CM[0][1]\n",
    "# true positive rate\n",
    "TPR = TP/(TP+FN)\n",
    "# Specificity or true negative rate\n",
    "TNR = TN/(TN+FP) \n",
    "# Fall out or false positive rate\n",
    "FPR = FP/(FP+TN)\n",
    "# False negative rate\n",
    "FNR = FN/(TP+FN)\n",
    "\n",
    "\n",
    "print(\"TPR is\", TPR)\n",
    "print(\"TNR is\", TNR)\n",
    "print(\"FPR is\", FPR)\n",
    "print(\"FNR is\", FNR)\n",
    "df_cm = pd.DataFrame(confusion_matrix(Y_test, Y_pred), range(2),range(2))\n",
    "sns.set(font_scale=1.5)\n",
    "sns.heatmap(df_cm, annot=True,annot_kws={\"size\": 16}, fmt='g')\n",
    "\n",
    "\n",
    "print('\\n------------------------------------------------------------------------')\n",
    "print(\"Time taken to run this cell :\\n\", datetime.now() - start)\n",
    "print('------------------------------------------------------------------------')"
   ]
  },
  {
   "cell_type": "code",
   "execution_count": 176,
   "metadata": {},
   "outputs": [
    {
     "name": "stdout",
     "output_type": "stream",
     "text": [
      "+-----------------------------------------------------------+\n",
      "|                   Bernoulis' Naive Bayes                  |\n",
      "+-----+--------+-------+-----------+--------------+---------+\n",
      "| S.R |  Vec   | Alpha | Micro f-1 | Weighted f-1 | roc_auc |\n",
      "+-----+--------+-------+-----------+--------------+---------+\n",
      "|  1  |  BOW   |  0.01 |   0.794   |    0.893     |  0.892  |\n",
      "|  2  | TF-IDF |  0.01 |    0.91   |    0.901     |  0.749  |\n",
      "+-----+--------+-------+-----------+--------------+---------+\n",
      "_______________________________________________________________________________________\n",
      "\n",
      "+-----------------------------------------------------------+\n",
      "|                  Multi Nomial Naive bayes                 |\n",
      "+-----+--------+-------+-----------+--------------+---------+\n",
      "| S.R |  Vec   | Alpha | Micro f-1 | Weighted f-1 | roc_auc |\n",
      "+-----+--------+-------+-----------+--------------+---------+\n",
      "|  1  |  BOW   |  1000 |   0.847   |    0.808     |  0.559  |\n",
      "|  2  | TF-IDF |  0.01 |   0.905   |    0.891     |  0.719  |\n",
      "+-----+--------+-------+-----------+--------------+---------+\n"
     ]
    }
   ],
   "source": [
    "from prettytable import PrettyTable\n",
    "\n",
    "x = PrettyTable()\n",
    "\n",
    "x.field_names = [\"S.R\",\"Vec\", \"Alpha\", \"Micro f-1\", \"Weighted f-1\", 'roc_auc']\n",
    "\n",
    "x.add_row([(1),\"BOW\", 0.01,0.794,0.893,0.892])\n",
    "x.add_row([(2),\"TF-IDF\", 0.01,0.910,0.901,0.749])\n",
    "\n",
    "\n",
    "print(x.get_string(title = \"Bernoulis' Naive Bayes\"))\n",
    "\n",
    "print(\"_______________________________________________________________________________________\\n\")\n",
    "y = PrettyTable()\n",
    "\n",
    "y.field_names =[\"S.R\",\"Vec\", \"Alpha\", \"Micro f-1\", \"Weighted f-1\", 'roc_auc']\n",
    "\n",
    "y.add_row([(1),\"BOW\",  10**3,0.847,0.808,0.559])\n",
    "y.add_row([(2),\"TF-IDF\",  0.01,0.905,0.891,0.719])\n",
    "\n",
    "\n",
    "\n",
    "\n",
    "print(y.get_string(title = \"Multi Nomial Naive bayes\"))"
   ]
  },
  {
   "cell_type": "code",
   "execution_count": null,
   "metadata": {},
   "outputs": [],
   "source": []
  }
 ],
 "metadata": {
  "kernelspec": {
   "display_name": "Python 3",
   "language": "python",
   "name": "python3"
  },
  "language_info": {
   "codemirror_mode": {
    "name": "ipython",
    "version": 3
   },
   "file_extension": ".py",
   "mimetype": "text/x-python",
   "name": "python",
   "nbconvert_exporter": "python",
   "pygments_lexer": "ipython3",
   "version": "3.6.5"
  }
 },
 "nbformat": 4,
 "nbformat_minor": 2
}
