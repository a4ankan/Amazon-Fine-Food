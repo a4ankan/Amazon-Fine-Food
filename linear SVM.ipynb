{
 "cells": [
  {
   "cell_type": "markdown",
   "metadata": {},
   "source": [
    "Here we find a hyperplane that seperates the positive and the negative points as widely as possible.\n",
    "                     When a hyperplane seperates our positive and negative points,we measure the distance between the nearest positive and the nearest negativw points from our hyperplane. This distance is known as the margin between the positive and the negative points. As the margin increases, the accuraccy increases.\n",
    "                     \n",
    "                     -------------------------------------------------------------------"
   ]
  },
  {
   "cell_type": "markdown",
   "metadata": {},
   "source": [
    "If we pass planes through the nearest positive and negative points from the hyperplane, then those planes are known as SUPPORT VECTORS. "
   ]
  },
  {
   "cell_type": "code",
   "execution_count": 1,
   "metadata": {},
   "outputs": [
    {
     "data": {
      "text/plain": [
       "'/home/a4ankan/aMAZON fINAL WORK/amazon fine food'"
      ]
     },
     "execution_count": 1,
     "metadata": {},
     "output_type": "execute_result"
    }
   ],
   "source": [
    "import os\n",
    "os.getcwd()\n",
    "os.chdir('/home/a4ankan/aMAZON fINAL WORK/amazon fine food')\n",
    "os.getcwd()"
   ]
  },
  {
   "cell_type": "code",
   "execution_count": 2,
   "metadata": {},
   "outputs": [
    {
     "name": "stdout",
     "output_type": "stream",
     "text": [
      "(525814, 10)\n"
     ]
    },
    {
     "data": {
      "text/html": [
       "<div>\n",
       "<style scoped>\n",
       "    .dataframe tbody tr th:only-of-type {\n",
       "        vertical-align: middle;\n",
       "    }\n",
       "\n",
       "    .dataframe tbody tr th {\n",
       "        vertical-align: top;\n",
       "    }\n",
       "\n",
       "    .dataframe thead th {\n",
       "        text-align: right;\n",
       "    }\n",
       "</style>\n",
       "<table border=\"1\" class=\"dataframe\">\n",
       "  <thead>\n",
       "    <tr style=\"text-align: right;\">\n",
       "      <th></th>\n",
       "      <th>Id</th>\n",
       "      <th>ProductId</th>\n",
       "      <th>UserId</th>\n",
       "      <th>ProfileName</th>\n",
       "      <th>HelpfulnessNumerator</th>\n",
       "      <th>HelpfulnessDenominator</th>\n",
       "      <th>Score</th>\n",
       "      <th>Time</th>\n",
       "      <th>Summary</th>\n",
       "      <th>Text</th>\n",
       "    </tr>\n",
       "  </thead>\n",
       "  <tbody>\n",
       "    <tr>\n",
       "      <th>138706</th>\n",
       "      <td>150524</td>\n",
       "      <td>0006641040</td>\n",
       "      <td>ACITT7DI6IDDL</td>\n",
       "      <td>shari zychinski</td>\n",
       "      <td>0</td>\n",
       "      <td>0</td>\n",
       "      <td>1</td>\n",
       "      <td>939340800</td>\n",
       "      <td>EVERY book is educational</td>\n",
       "      <td>this witty little book makes my son laugh at l...</td>\n",
       "    </tr>\n",
       "    <tr>\n",
       "      <th>138683</th>\n",
       "      <td>150501</td>\n",
       "      <td>0006641040</td>\n",
       "      <td>AJ46FKXOVC7NR</td>\n",
       "      <td>Nicholas A Mesiano</td>\n",
       "      <td>2</td>\n",
       "      <td>2</td>\n",
       "      <td>1</td>\n",
       "      <td>940809600</td>\n",
       "      <td>This whole series is great way to spend time w...</td>\n",
       "      <td>I can remember seeing the show when it aired o...</td>\n",
       "    </tr>\n",
       "    <tr>\n",
       "      <th>417839</th>\n",
       "      <td>451856</td>\n",
       "      <td>B00004CXX9</td>\n",
       "      <td>AIUWLEQ1ADEG5</td>\n",
       "      <td>Elizabeth Medina</td>\n",
       "      <td>0</td>\n",
       "      <td>0</td>\n",
       "      <td>1</td>\n",
       "      <td>944092800</td>\n",
       "      <td>Entertainingl Funny!</td>\n",
       "      <td>Beetlejuice is a well written movie ..... ever...</td>\n",
       "    </tr>\n",
       "    <tr>\n",
       "      <th>417859</th>\n",
       "      <td>451878</td>\n",
       "      <td>B00004CXX9</td>\n",
       "      <td>A344SMIA5JECGM</td>\n",
       "      <td>Vincent P. Ross</td>\n",
       "      <td>1</td>\n",
       "      <td>2</td>\n",
       "      <td>1</td>\n",
       "      <td>944438400</td>\n",
       "      <td>A modern day fairy tale</td>\n",
       "      <td>A twist of rumplestiskin captured on film, sta...</td>\n",
       "    </tr>\n",
       "    <tr>\n",
       "      <th>212472</th>\n",
       "      <td>230285</td>\n",
       "      <td>B00004RYGX</td>\n",
       "      <td>A344SMIA5JECGM</td>\n",
       "      <td>Vincent P. Ross</td>\n",
       "      <td>1</td>\n",
       "      <td>2</td>\n",
       "      <td>1</td>\n",
       "      <td>944438400</td>\n",
       "      <td>A modern day fairy tale</td>\n",
       "      <td>A twist of rumplestiskin captured on film, sta...</td>\n",
       "    </tr>\n",
       "  </tbody>\n",
       "</table>\n",
       "</div>"
      ],
      "text/plain": [
       "            Id   ProductId          UserId         ProfileName  \\\n",
       "138706  150524  0006641040   ACITT7DI6IDDL     shari zychinski   \n",
       "138683  150501  0006641040   AJ46FKXOVC7NR  Nicholas A Mesiano   \n",
       "417839  451856  B00004CXX9   AIUWLEQ1ADEG5    Elizabeth Medina   \n",
       "417859  451878  B00004CXX9  A344SMIA5JECGM     Vincent P. Ross   \n",
       "212472  230285  B00004RYGX  A344SMIA5JECGM     Vincent P. Ross   \n",
       "\n",
       "        HelpfulnessNumerator  HelpfulnessDenominator  Score       Time  \\\n",
       "138706                     0                       0      1  939340800   \n",
       "138683                     2                       2      1  940809600   \n",
       "417839                     0                       0      1  944092800   \n",
       "417859                     1                       2      1  944438400   \n",
       "212472                     1                       2      1  944438400   \n",
       "\n",
       "                                                  Summary  \\\n",
       "138706                          EVERY book is educational   \n",
       "138683  This whole series is great way to spend time w...   \n",
       "417839                               Entertainingl Funny!   \n",
       "417859                            A modern day fairy tale   \n",
       "212472                            A modern day fairy tale   \n",
       "\n",
       "                                                     Text  \n",
       "138706  this witty little book makes my son laugh at l...  \n",
       "138683  I can remember seeing the show when it aired o...  \n",
       "417839  Beetlejuice is a well written movie ..... ever...  \n",
       "417859  A twist of rumplestiskin captured on film, sta...  \n",
       "212472  A twist of rumplestiskin captured on film, sta...  "
      ]
     },
     "execution_count": 2,
     "metadata": {},
     "output_type": "execute_result"
    }
   ],
   "source": [
    "%matplotlib inline\n",
    "import warnings\n",
    "warnings.filterwarnings(\"ignore\")\n",
    "\n",
    "import sqlite3\n",
    "import pandas as pd\n",
    "import numpy as np\n",
    "import nltk\n",
    "import string\n",
    "import matplotlib.pyplot as plt\n",
    "import seaborn as sns\n",
    "from sklearn.feature_extraction.text import TfidfTransformer\n",
    "from sklearn.feature_extraction.text import TfidfVectorizer\n",
    "\n",
    "from sklearn.feature_extraction.text import CountVectorizer\n",
    "from sklearn.metrics import confusion_matrix\n",
    "from sklearn import metrics\n",
    "from sklearn.metrics import roc_curve, auc\n",
    "from nltk.stem.porter import PorterStemmer\n",
    "\n",
    "import re\n",
    "# Tutorial about Python regular expressions: https://pymotw.com/2/re/\n",
    "import string\n",
    "from nltk.corpus import stopwords\n",
    "from nltk.stem import PorterStemmer\n",
    "from nltk.stem.wordnet import WordNetLemmatizer\n",
    "\n",
    "from gensim.models import Word2Vec\n",
    "from gensim.models import KeyedVectors\n",
    "import pickle\n",
    "\n",
    "\n",
    "\n",
    "# it connects my code with the sql database\n",
    "con = sqlite3.connect('database.sqlite') \n",
    "\n",
    "\n",
    "\n",
    "#Writting a query; 'con' is the link\n",
    "# Here, I am saying that 'slelct (*) from reviews which are not equal to 3'.\n",
    "#Just take the reviews which are 1,2,4 or 5.\n",
    "\n",
    "\n",
    "\n",
    "filtered_data = pd.read_sql_query(\"\"\" SELECT * FROM Reviews WHERE Score != 3 \"\"\", con) #filtering only positive and negative reviews i.e. \n",
    "# not taking into consideration those reviews with Score=3\n",
    "\n",
    "\n",
    "\n",
    "\n",
    "\n",
    "\n",
    "# Give reviews with Score>3 a positive rating, and reviews with a score<3 a negative rating.\n",
    "def partition(x):\n",
    "    if x < 3:\n",
    "        return -1\n",
    "    return 1\n",
    "\n",
    "#changing reviews with score less than 3 to be positive and vice-versa\n",
    "actualScore = filtered_data['Score']\n",
    "positiveNegative = actualScore.map(partition) \n",
    "filtered_data['Score'] = positiveNegative\n",
    "filtered_data.sort_values('Time',inplace=True) \n",
    "\n",
    "print(filtered_data.shape) #The score coloumn becomesb positive / negative\n",
    "filtered_data.head()"
   ]
  },
  {
   "cell_type": "markdown",
   "metadata": {},
   "source": [
    "Data Cleansing : deduplication\n",
    "---------------------------------------------\n",
    "\n",
    "(1) It is based more on how we observe or interpret the data. \n",
    "(2) Basically it is cleaning or filtering the data.\n",
    "\n",
    "we don't want to feed grbage to our model.. Do we?\n",
    "--------------------------------------------------------------------------\n",
    "So we remove duplicates from our entry"
   ]
  },
  {
   "cell_type": "code",
   "execution_count": 3,
   "metadata": {},
   "outputs": [],
   "source": [
    "#Sorting data according to ProductId in ascending order\n",
    "sorted_data=filtered_data.sort_values('ProductId', axis=0, ascending=True, inplace=False, kind='quicksort', na_position='last')"
   ]
  },
  {
   "cell_type": "code",
   "execution_count": 4,
   "metadata": {},
   "outputs": [
    {
     "data": {
      "text/plain": [
       "(364173, 10)"
      ]
     },
     "execution_count": 4,
     "metadata": {},
     "output_type": "execute_result"
    }
   ],
   "source": [
    "#Deduplication of entries\n",
    "final=sorted_data.drop_duplicates(subset={\"UserId\",\"ProfileName\",\"Time\",\"Text\"}, keep='first', inplace=False)\n",
    "final.shape"
   ]
  },
  {
   "cell_type": "code",
   "execution_count": 5,
   "metadata": {},
   "outputs": [
    {
     "data": {
      "text/plain": [
       "69.25890143662969"
      ]
     },
     "execution_count": 5,
     "metadata": {},
     "output_type": "execute_result"
    }
   ],
   "source": [
    "#Checking to see how much % of data still remains\n",
    "(final['Id'].size*1.0)/(filtered_data['Id'].size*1.0)*100"
   ]
  },
  {
   "cell_type": "code",
   "execution_count": 6,
   "metadata": {},
   "outputs": [
    {
     "data": {
      "text/html": [
       "<div>\n",
       "<style scoped>\n",
       "    .dataframe tbody tr th:only-of-type {\n",
       "        vertical-align: middle;\n",
       "    }\n",
       "\n",
       "    .dataframe tbody tr th {\n",
       "        vertical-align: top;\n",
       "    }\n",
       "\n",
       "    .dataframe thead th {\n",
       "        text-align: right;\n",
       "    }\n",
       "</style>\n",
       "<table border=\"1\" class=\"dataframe\">\n",
       "  <thead>\n",
       "    <tr style=\"text-align: right;\">\n",
       "      <th></th>\n",
       "      <th>Id</th>\n",
       "      <th>ProductId</th>\n",
       "      <th>UserId</th>\n",
       "      <th>ProfileName</th>\n",
       "      <th>HelpfulnessNumerator</th>\n",
       "      <th>HelpfulnessDenominator</th>\n",
       "      <th>Score</th>\n",
       "      <th>Time</th>\n",
       "      <th>Summary</th>\n",
       "      <th>Text</th>\n",
       "    </tr>\n",
       "  </thead>\n",
       "  <tbody>\n",
       "    <tr>\n",
       "      <th>0</th>\n",
       "      <td>64422</td>\n",
       "      <td>B000MIDROQ</td>\n",
       "      <td>A161DK06JJMCYF</td>\n",
       "      <td>J. E. Stephens \"Jeanne\"</td>\n",
       "      <td>3</td>\n",
       "      <td>1</td>\n",
       "      <td>5</td>\n",
       "      <td>1224892800</td>\n",
       "      <td>Bought This for My Son at College</td>\n",
       "      <td>My son loves spaghetti so I didn't hesitate or...</td>\n",
       "    </tr>\n",
       "    <tr>\n",
       "      <th>1</th>\n",
       "      <td>44737</td>\n",
       "      <td>B001EQ55RW</td>\n",
       "      <td>A2V0I904FH7ABY</td>\n",
       "      <td>Ram</td>\n",
       "      <td>3</td>\n",
       "      <td>2</td>\n",
       "      <td>4</td>\n",
       "      <td>1212883200</td>\n",
       "      <td>Pure cocoa taste with crunchy almonds inside</td>\n",
       "      <td>It was almost a 'love at first bite' - the per...</td>\n",
       "    </tr>\n",
       "  </tbody>\n",
       "</table>\n",
       "</div>"
      ],
      "text/plain": [
       "      Id   ProductId          UserId              ProfileName  \\\n",
       "0  64422  B000MIDROQ  A161DK06JJMCYF  J. E. Stephens \"Jeanne\"   \n",
       "1  44737  B001EQ55RW  A2V0I904FH7ABY                      Ram   \n",
       "\n",
       "   HelpfulnessNumerator  HelpfulnessDenominator  Score        Time  \\\n",
       "0                     3                       1      5  1224892800   \n",
       "1                     3                       2      4  1212883200   \n",
       "\n",
       "                                        Summary  \\\n",
       "0             Bought This for My Son at College   \n",
       "1  Pure cocoa taste with crunchy almonds inside   \n",
       "\n",
       "                                                Text  \n",
       "0  My son loves spaghetti so I didn't hesitate or...  \n",
       "1  It was almost a 'love at first bite' - the per...  "
      ]
     },
     "execution_count": 6,
     "metadata": {},
     "output_type": "execute_result"
    }
   ],
   "source": [
    "display= pd.read_sql_query(\"\"\"\n",
    "SELECT *\n",
    "FROM Reviews\n",
    "WHERE Score != 3 AND Id=44737 OR Id=64422\n",
    "ORDER BY ProductID\n",
    "\"\"\", con)\n",
    "\n",
    "display.head()"
   ]
  },
  {
   "cell_type": "code",
   "execution_count": 7,
   "metadata": {},
   "outputs": [],
   "source": [
    "final = final[final.HelpfulnessNumerator <= final.HelpfulnessDenominator]"
   ]
  },
  {
   "cell_type": "code",
   "execution_count": 8,
   "metadata": {},
   "outputs": [
    {
     "name": "stdout",
     "output_type": "stream",
     "text": [
      "(364171, 10)\n"
     ]
    },
    {
     "data": {
      "text/plain": [
       " 1    307061\n",
       "-1     57110\n",
       "Name: Score, dtype: int64"
      ]
     },
     "execution_count": 8,
     "metadata": {},
     "output_type": "execute_result"
    }
   ],
   "source": [
    "#Before starting the next phase of preprocessing lets see the number of entries left\n",
    "print(final.shape)\n",
    "\n",
    "#How many positive and negative reviews are present in our dataset?\n",
    "final['Score'].value_counts()"
   ]
  },
  {
   "cell_type": "code",
   "execution_count": null,
   "metadata": {},
   "outputs": [],
   "source": []
  },
  {
   "cell_type": "markdown",
   "metadata": {},
   "source": [
    "How to convert Text to Vector?? Text Preprocessing: Stemming, stop-word removal and Lemmatization.\n",
    "-------------\n",
    "\n"
   ]
  },
  {
   "cell_type": "markdown",
   "metadata": {},
   "source": [
    "Here, we determine a review by score. But what if a user had mistakernly put a 5 star review but was not at all satisfied with the product? We might find such cases so the most importrant factor in determining the outcome of a review is either the text of the review or the summary text.\n",
    "\n",
    "Begin by removing the html tags\n",
    "Remove any punctuations or limited set of special characters like , or . or # etc.\n",
    "Check if the word is made up of english letters and is not alpha-numeric\n",
    "Check to see if the length of the word is greater than 2 (as it was researched that there is no adjective in 2-letters)\n",
    "Convert the word to lowercase\n",
    "Remove Stopwords\n",
    "Finally Snowball Stemming the word (it was obsereved to be better than Porter Stemming)\n",
    "After which we collect the words used to describe positive and negative review\n"
   ]
  },
  {
   "cell_type": "code",
   "execution_count": 9,
   "metadata": {},
   "outputs": [
    {
     "name": "stdout",
     "output_type": "stream",
     "text": [
      "1\n",
      "Summary:  A young boy describes the usefulness of chicken soup with rice for each month of the year.<br /><br />Evaluation:  With Sendak's creative repetitious and rhythmic words, children will enjoy and learn to read the story of a boy who loves chicken soup with rice!  Through Sendak's catchy story, children will also learn the months of the year, as well as what seasons go with what month! They learn to identify ice-skating and snowmen in the winter; strong wind in March; birds and flowers in the spring; swimming and hot temperatures in the summer; and finally different holidays throughout the year. Such as Halloween in October, and Christmas in December.<br /><br />Sendak's simple three colored crayon-like drawings are a perfect addition to his educational and entertaining story.<br /><br />A great activity that you can do with this book is to have children draw their own illustrations for each month of the year.  Afterwards you can bind the pages together so the children can create their own book.\n"
     ]
    }
   ],
   "source": [
    "import re\n",
    "i=0;\n",
    "for sent in final['Text'].values:\n",
    "    if (len(re.findall('<.*?>', sent))):\n",
    "        print(i)\n",
    "        print(sent)\n",
    "        break;\n",
    "    i += 1;"
   ]
  },
  {
   "cell_type": "code",
   "execution_count": 10,
   "metadata": {},
   "outputs": [
    {
     "name": "stdout",
     "output_type": "stream",
     "text": [
      "{'to', 'who', 'why', 'as', 'from', 'here', 'when', 'because', 'until', 'there', \"that'll\", 'be', 'each', 'my', \"haven't\", 'that', 'same', 'very', 'you', 'yours', 'did', 'into', 'too', 'herself', 'its', \"don't\", 'mustn', 'which', 'his', 'are', 'whom', 'the', 'him', 'this', 'most', 'such', \"she's\", 'having', 'through', 'by', 'wasn', 'has', 'once', 'hasn', 'i', \"you'd\", 'yourselves', 'm', 'for', 'your', \"weren't\", 'needn', \"should've\", 've', 'a', 'hadn', \"needn't\", 'down', 'shouldn', 'me', 'after', \"shan't\", \"you'll\", 'doing', 'it', 'with', \"doesn't\", 'than', 'what', 'an', 'about', 'where', 'if', 'other', 'then', 'd', 'weren', 'while', 'not', 'll', 'had', 'out', 'just', 'no', \"you're\", 'does', 'should', 'being', 'and', 'don', 'aren', 'hers', \"won't\", \"wouldn't\", 'yourself', 'but', 'haven', 'above', 'ain', 'again', 'himself', 'he', 'only', 'some', 'didn', 'our', 'is', 'am', 'below', \"aren't\", 'those', 'nor', 'between', 'up', 'own', 'isn', 'will', 'themselves', 'all', 'wouldn', \"didn't\", 'were', 'theirs', 'so', 't', 'her', 'we', 'can', 'myself', \"wasn't\", 'more', \"shouldn't\", 'against', 'ma', 'them', 'o', 'was', 'y', 'itself', 'or', 'doesn', 'ours', 'further', \"hadn't\", 'won', 'of', 'shan', 'their', 'do', 'now', 'these', \"hasn't\", 'have', 'few', 're', \"you've\", 'during', 'both', 'any', \"couldn't\", 'on', 'been', 'before', 'over', 'in', 's', 'at', 'she', 'ourselves', 'they', 'how', 'under', 'couldn', \"isn't\", \"it's\", 'off', \"mustn't\", \"mightn't\", 'mightn'}\n",
      "************************************\n",
      "tasti\n"
     ]
    }
   ],
   "source": [
    "stop = set(stopwords.words('english')) #set of stopwords\n",
    "sno = nltk.stem.SnowballStemmer('english') #initialising the snowball stemmer\n",
    "\n",
    "def cleanhtml(sentence): #function to clean the word of any html-tags\n",
    "    cleanr = re.compile('<.*?>')\n",
    "    cleantext = re.sub(cleanr, ' ', sentence)\n",
    "    return cleantext\n",
    "def cleanpunc(sentence): #function to clean the word of any punctuation or special characters\n",
    "    cleaned = re.sub(r'[?|!|\\'|\"|#]',r'',sentence)\n",
    "    cleaned = re.sub(r'[.|,|)|(|\\|/]',r' ',cleaned)\n",
    "    return  cleaned\n",
    "print(stop)\n",
    "print('************************************')\n",
    "print(sno.stem('tasty'))"
   ]
  },
  {
   "cell_type": "code",
   "execution_count": 11,
   "metadata": {},
   "outputs": [],
   "source": [
    "#Code for implementing step-by-step the checks mentioned in the pre-processing phase\n",
    "\n",
    "\n",
    "i=0\n",
    "str1=' '\n",
    "final_string=[]\n",
    "all_positive_words=[] # store words from +ve reviews here\n",
    "all_negative_words=[] # store words from -ve reviews here.\n",
    "s=''\n",
    "for sent in final['Text'].values:\n",
    "    filtered_sentence=[]\n",
    "    #print(sent);\n",
    "    sent=cleanhtml(sent) # remove HTMl tags\n",
    "    for w in sent.split():\n",
    "        for cleaned_words in cleanpunc(w).split():\n",
    "            if((cleaned_words.isalpha()) & (len(cleaned_words)>2)):    \n",
    "                if(cleaned_words.lower() not in stop):\n",
    "                    s=(sno.stem(cleaned_words.lower())).encode('utf8')\n",
    "                    filtered_sentence.append(s)\n",
    "                    if (final['Score'].values)[i] == 'positive': \n",
    "                        all_positive_words.append(s) #list of all words used to describe positive reviews\n",
    "                    if(final['Score'].values)[i] == 'negative':\n",
    "                        all_negative_words.append(s) #list of all words used to describe negative reviews reviews\n",
    "                else:\n",
    "                    continue\n",
    "            else:\n",
    "                continue \n",
    "    #print(filtered_sentence)\n",
    "    str1 = b\" \".join(filtered_sentence) #final string of cleaned words\n",
    "    #print(\"***********************************************************************\")\n",
    "    \n",
    "    final_string.append(str1)\n",
    "    i+=1"
   ]
  },
  {
   "cell_type": "code",
   "execution_count": 12,
   "metadata": {},
   "outputs": [],
   "source": [
    "final['CleanedText']=final_string #adding a column of CleanedText which displays the data after pre-processing of the review \n",
    "final['CleanedText']=final['CleanedText'].str.decode(\"utf-8\")"
   ]
  },
  {
   "cell_type": "code",
   "execution_count": null,
   "metadata": {},
   "outputs": [],
   "source": []
  },
  {
   "cell_type": "code",
   "execution_count": 13,
   "metadata": {},
   "outputs": [],
   "source": [
    "\n",
    "# store final table into an SQlLite table for future.\n",
    "conn = sqlite3.connect('final.sqlite')\n",
    "c=conn.cursor()\n",
    "conn.text_factory = str\n",
    "final.to_sql('Reviews', conn,  schema=None, if_exists='replace', index=True, index_label=None, chunksize=None, dtype=None)"
   ]
  },
  {
   "cell_type": "code",
   "execution_count": 14,
   "metadata": {},
   "outputs": [
    {
     "data": {
      "text/html": [
       "<div>\n",
       "<style scoped>\n",
       "    .dataframe tbody tr th:only-of-type {\n",
       "        vertical-align: middle;\n",
       "    }\n",
       "\n",
       "    .dataframe tbody tr th {\n",
       "        vertical-align: top;\n",
       "    }\n",
       "\n",
       "    .dataframe thead th {\n",
       "        text-align: right;\n",
       "    }\n",
       "</style>\n",
       "<table border=\"1\" class=\"dataframe\">\n",
       "  <thead>\n",
       "    <tr style=\"text-align: right;\">\n",
       "      <th></th>\n",
       "      <th>Id</th>\n",
       "      <th>ProductId</th>\n",
       "      <th>UserId</th>\n",
       "      <th>ProfileName</th>\n",
       "      <th>HelpfulnessNumerator</th>\n",
       "      <th>HelpfulnessDenominator</th>\n",
       "      <th>Score</th>\n",
       "      <th>Time</th>\n",
       "      <th>Summary</th>\n",
       "      <th>Text</th>\n",
       "      <th>CleanedText</th>\n",
       "    </tr>\n",
       "  </thead>\n",
       "  <tbody>\n",
       "    <tr>\n",
       "      <th>138706</th>\n",
       "      <td>150524</td>\n",
       "      <td>0006641040</td>\n",
       "      <td>ACITT7DI6IDDL</td>\n",
       "      <td>shari zychinski</td>\n",
       "      <td>0</td>\n",
       "      <td>0</td>\n",
       "      <td>1</td>\n",
       "      <td>939340800</td>\n",
       "      <td>EVERY book is educational</td>\n",
       "      <td>this witty little book makes my son laugh at l...</td>\n",
       "      <td>witti littl book make son laugh loud recit car...</td>\n",
       "    </tr>\n",
       "    <tr>\n",
       "      <th>138705</th>\n",
       "      <td>150523</td>\n",
       "      <td>0006641040</td>\n",
       "      <td>A2P4F2UO0UMP8C</td>\n",
       "      <td>Elizabeth A. Curry \"Lovely Librarian\"</td>\n",
       "      <td>0</td>\n",
       "      <td>0</td>\n",
       "      <td>1</td>\n",
       "      <td>1096675200</td>\n",
       "      <td>MMMM chicken soup....</td>\n",
       "      <td>Summary:  A young boy describes the usefulness...</td>\n",
       "      <td>young boy describ use chicken soup rice month ...</td>\n",
       "    </tr>\n",
       "    <tr>\n",
       "      <th>138699</th>\n",
       "      <td>150517</td>\n",
       "      <td>0006641040</td>\n",
       "      <td>ABW4IC5G5G8B5</td>\n",
       "      <td>kevin clark</td>\n",
       "      <td>0</td>\n",
       "      <td>0</td>\n",
       "      <td>1</td>\n",
       "      <td>1291075200</td>\n",
       "      <td>good for children</td>\n",
       "      <td>Classic children's book, can't go wrong. I rea...</td>\n",
       "      <td>classic children book cant wrong read kid orde...</td>\n",
       "    </tr>\n",
       "  </tbody>\n",
       "</table>\n",
       "</div>"
      ],
      "text/plain": [
       "            Id   ProductId          UserId  \\\n",
       "138706  150524  0006641040   ACITT7DI6IDDL   \n",
       "138705  150523  0006641040  A2P4F2UO0UMP8C   \n",
       "138699  150517  0006641040   ABW4IC5G5G8B5   \n",
       "\n",
       "                                  ProfileName  HelpfulnessNumerator  \\\n",
       "138706                        shari zychinski                     0   \n",
       "138705  Elizabeth A. Curry \"Lovely Librarian\"                     0   \n",
       "138699                            kevin clark                     0   \n",
       "\n",
       "        HelpfulnessDenominator  Score        Time                    Summary  \\\n",
       "138706                       0      1   939340800  EVERY book is educational   \n",
       "138705                       0      1  1096675200      MMMM chicken soup....   \n",
       "138699                       0      1  1291075200          good for children   \n",
       "\n",
       "                                                     Text  \\\n",
       "138706  this witty little book makes my son laugh at l...   \n",
       "138705  Summary:  A young boy describes the usefulness...   \n",
       "138699  Classic children's book, can't go wrong. I rea...   \n",
       "\n",
       "                                              CleanedText  \n",
       "138706  witti littl book make son laugh loud recit car...  \n",
       "138705  young boy describ use chicken soup rice month ...  \n",
       "138699  classic children book cant wrong read kid orde...  "
      ]
     },
     "execution_count": 14,
     "metadata": {},
     "output_type": "execute_result"
    }
   ],
   "source": [
    "final.head(3) #below the processed review can be seen in the CleanedText Column "
   ]
  },
  {
   "cell_type": "code",
   "execution_count": 15,
   "metadata": {},
   "outputs": [
    {
     "data": {
      "text/plain": [
       "138706    witti littl book make son laugh loud recit car...\n",
       "138705    young boy describ use chicken soup rice month ...\n",
       "138699    classic children book cant wrong read kid orde...\n",
       "138680    wonder littl book love year ago twin love enjo...\n",
       "138689    fun way children learn month year learn poem t...\n",
       "Name: CleanedText, dtype: object"
      ]
     },
     "execution_count": 15,
     "metadata": {},
     "output_type": "execute_result"
    }
   ],
   "source": [
    "X = final['CleanedText']\n",
    "X.head()\n"
   ]
  },
  {
   "cell_type": "code",
   "execution_count": 16,
   "metadata": {},
   "outputs": [
    {
     "data": {
      "text/plain": [
       "138706    1\n",
       "138705    1\n",
       "138699    1\n",
       "138680    1\n",
       "138689    1\n",
       "Name: Score, dtype: int64"
      ]
     },
     "execution_count": 16,
     "metadata": {},
     "output_type": "execute_result"
    }
   ],
   "source": [
    "Y = final['Score']\n",
    "Y.head()"
   ]
  },
  {
   "cell_type": "code",
   "execution_count": 17,
   "metadata": {},
   "outputs": [],
   "source": [
    "import numpy as np\n",
    "import pandas as pd\n",
    "import matplotlib.pyplot as plt\n",
    "from sklearn.model_selection import train_test_split\n",
    "from sklearn.neighbors import KNeighborsClassifier\n",
    "from sklearn.metrics import accuracy_score\n",
    "from sklearn.model_selection import cross_val_score\n",
    "from collections import Counter\n",
    "from sklearn.metrics import accuracy_score\n",
    "from sklearn import model_selection\n",
    "import warnings\n",
    "from sklearn import preprocessing\n",
    "import scikitplot as skplt\n",
    "from sklearn.metrics import confusion_matrix"
   ]
  },
  {
   "cell_type": "code",
   "execution_count": 18,
   "metadata": {},
   "outputs": [],
   "source": [
    "from sklearn.metrics import f1_score\n",
    "from sklearn.metrics import recall_score\n",
    "from sklearn.metrics import precision_score\n",
    "import scikitplot as skplt"
   ]
  },
  {
   "cell_type": "code",
   "execution_count": 19,
   "metadata": {},
   "outputs": [
    {
     "name": "stdout",
     "output_type": "stream",
     "text": [
      "Train Data Size:  (291336,)\n",
      "Test Data Size:  (72835,)\n"
     ]
    }
   ],
   "source": [
    "X_train, X_test, Y_train, Y_test = train_test_split(X, Y, test_size=0.2, random_state=0)\n",
    "\n",
    "print(\"Train Data Size: \",X_train.shape)\n",
    "print(\"Test Data Size: \",X_test.shape)"
   ]
  },
  {
   "cell_type": "code",
   "execution_count": 20,
   "metadata": {},
   "outputs": [
    {
     "name": "stdout",
     "output_type": "stream",
     "text": [
      "Train Data Size:  (291336,)\n",
      "Test Data Size:  (72835,)\n"
     ]
    }
   ],
   "source": [
    "print(\"Train Data Size: \",Y_train.shape)\n",
    "print(\"Test Data Size: \",Y_test.shape)"
   ]
  },
  {
   "cell_type": "code",
   "execution_count": 21,
   "metadata": {},
   "outputs": [
    {
     "data": {
      "image/png": "[encoded data removed]",
      "text/plain": [
       "<Figure size 432x288 with 1 Axes>"
      ]
     },
     "metadata": {},
     "output_type": "display_data"
    }
   ],
   "source": [
    "ax = plt.axes()\n",
    "sns.countplot(final.Score,ax=ax)\n",
    "ax.set_title('Score Distribution')\n",
    "plt.show()\n",
    "\n"
   ]
  },
  {
   "cell_type": "markdown",
   "metadata": {},
   "source": [
    "# SGD with ' Hinge Loss' :"
   ]
  },
  {
   "cell_type": "markdown",
   "metadata": {},
   "source": [
    "Bag Of Words (BoW) :\n",
    "-----------\n",
    "\n",
    "Bag of Words constructs a dictionsry of all the words in the document. A corpous is defined as a set of documents/reviews.\n",
    "It converts all the words in the document into a vector each word having a different dimension. Each cell in the vector corresponds to the no of times a word occurs in the document.\n",
    " Similar texts result in closer distances between two vectors. Although BoW has its own limitations.\n"
   ]
  },
  {
   "cell_type": "markdown",
   "metadata": {},
   "source": [
    " Train:\n",
    " -------"
   ]
  },
  {
   "cell_type": "code",
   "execution_count": 22,
   "metadata": {},
   "outputs": [
    {
     "name": "stdout",
     "output_type": "stream",
     "text": [
      "the type of count vectorizer  <class 'scipy.sparse.csr.csr_matrix'>\n",
      "the shape of out text BOW vectorizer  (291336, 64187)\n",
      "the number of unique words  64187\n"
     ]
    }
   ],
   "source": [
    "#BoW\n",
    "\n",
    "count_vect = CountVectorizer() #in scikit-learn\n",
    "X_train_bow = count_vect.fit_transform(X_train) #\n",
    "X_test_bow = count_vect.transform(X_test)#\n",
    "print(\"the type of count vectorizer \",type(X_train_bow))\n",
    "print(\"the shape of out text BOW vectorizer \",X_train_bow.get_shape())\n",
    "print(\"the number of unique words \", X_train_bow.get_shape()[1])"
   ]
  },
  {
   "cell_type": "code",
   "execution_count": 23,
   "metadata": {},
   "outputs": [],
   "source": [
    "X_train_bow = preprocessing.normalize(X_train_bow)\n",
    "X_test_bow = preprocessing.normalize(X_test_bow)"
   ]
  },
  {
   "cell_type": "code",
   "execution_count": 24,
   "metadata": {},
   "outputs": [
    {
     "name": "stdout",
     "output_type": "stream",
     "text": [
      "(26486, 64187) (26485, 64187)\n",
      "(52971, 64187) (26485, 64187)\n",
      "(79456, 64187) (26485, 64187)\n",
      "(105941, 64187) (26485, 64187)\n",
      "(132426, 64187) (26485, 64187)\n",
      "(158911, 64187) (26485, 64187)\n",
      "(185396, 64187) (26485, 64187)\n",
      "(211881, 64187) (26485, 64187)\n",
      "(238366, 64187) (26485, 64187)\n",
      "(264851, 64187) (26485, 64187)\n"
     ]
    }
   ],
   "source": [
    "from sklearn.model_selection import TimeSeriesSplit\n",
    "tscv = TimeSeriesSplit(n_splits=10)\n",
    "for train, cv in tscv.split(X_train_bow):\n",
    "    print(X_train_bow[train].shape, X_train_bow[cv].shape)"
   ]
  },
  {
   "cell_type": "code",
   "execution_count": 25,
   "metadata": {},
   "outputs": [],
   "source": [
    "import scikitplot as skplt\n",
    "from sklearn.metrics import confusion_matrix\n",
    "\n",
    "from sklearn.model_selection import cross_val_score\n",
    "from datetime import datetime\n",
    "from sklearn.metrics import roc_auc_score"
   ]
  },
  {
   "cell_type": "code",
   "execution_count": null,
   "metadata": {},
   "outputs": [],
   "source": []
  },
  {
   "cell_type": "code",
   "execution_count": 26,
   "metadata": {},
   "outputs": [],
   "source": [
    "import numpy as np\n",
    "from sklearn.metrics import f1_score\n",
    "from sklearn.metrics import recall_score\n",
    "from sklearn.metrics import precision_score\n",
    "import scikitplot as skplt\n",
    "from sklearn.metrics import accuracy_score,confusion_matrix,classification_report\n"
   ]
  },
  {
   "cell_type": "code",
   "execution_count": 27,
   "metadata": {},
   "outputs": [],
   "source": [
    "from sklearn.model_selection import RandomizedSearchCV\n",
    "import warnings\n",
    "warnings.filterwarnings(\"ignore\")\n"
   ]
  },
  {
   "cell_type": "code",
   "execution_count": 28,
   "metadata": {},
   "outputs": [],
   "source": [
    "from sklearn.metrics import accuracy_score,confusion_matrix,classification_report"
   ]
  },
  {
   "cell_type": "code",
   "execution_count": 29,
   "metadata": {},
   "outputs": [],
   "source": [
    "from sklearn.model_selection import GridSearchCV"
   ]
  },
  {
   "cell_type": "code",
   "execution_count": 30,
   "metadata": {},
   "outputs": [],
   "source": [
    "from sklearn.model_selection import cross_val_score\n",
    "from datetime import datetime\n",
    "from sklearn.metrics import roc_auc_score"
   ]
  },
  {
   "cell_type": "code",
   "execution_count": 31,
   "metadata": {},
   "outputs": [],
   "source": [
    "from sklearn.linear_model import SGDClassifier"
   ]
  },
  {
   "cell_type": "markdown",
   "metadata": {},
   "source": [
    "<h3> Accuracy as metric with grid and random search CV </h3>"
   ]
  },
  {
   "cell_type": "code",
   "execution_count": 78,
   "metadata": {
    "scrolled": true
   },
   "outputs": [
    {
     "name": "stdout",
     "output_type": "stream",
     "text": [
      "SGDClassifier(alpha=0.0001, average=False, class_weight='balanced',\n",
      "       early_stopping=False, epsilon=0.1, eta0=0.0, fit_intercept=True,\n",
      "       l1_ratio=0.15, learning_rate='optimal', loss='hinge', max_iter=None,\n",
      "       n_iter=None, n_iter_no_change=5, n_jobs=-1, penalty='l2',\n",
      "       power_t=0.5, random_state=None, shuffle=True, tol=None,\n",
      "       validation_fraction=0.1, verbose=0, warm_start=False)\n",
      "0.8680853985034668\n",
      "Best HyperParameter with grid search & with accuracy as metric is:  {'alpha': 0.0001, 'penalty': 'l2'}\n",
      "Best Accuracy with Grid search & with accuracy as metric is: 86.26%\n",
      "\n",
      "------------------------------------------------------------------------\n",
      "Time taken to run this cell :\n",
      " 0:00:42.271232\n",
      "------------------------------------------------------------------------\n"
     ]
    }
   ],
   "source": [
    "start = datetime.now()\n",
    "from sklearn import linear_model\n",
    "clf_grid = linear_model.SGDClassifier(loss='hinge', n_jobs = -1, class_weight = \"balanced\")\n",
    "tuned_parameters = { 'alpha': [10**-4, 10**-2, 10**-1, 10**0, 10**1, 10**2, 10**4],\n",
    "              'penalty':['l1','l2']}\n",
    "model_grid = GridSearchCV(clf_grid, tuned_parameters, cv = tscv, n_jobs =-1, scoring = 'accuracy')\n",
    "model_grid.fit(X_train_bow, Y_train)\n",
    "print(model_grid.best_estimator_)\n",
    "print(model_grid.score(X_test_bow, Y_test))\n",
    "\n",
    "\n",
    "print(\"Best HyperParameter with grid search & with accuracy as metric is: \",model_grid.best_params_)\n",
    "print(\"Best Accuracy with Grid search & with accuracy as metric is: %.2f%%\"%(model.best_score_*100))\n",
    "\n",
    "print('\\n------------------------------------------------------------------------')\n",
    "print(\"Time taken to run this cell :\\n\", datetime.now() - start)\n",
    "print('------------------------------------------------------------------------')\n"
   ]
  },
  {
   "cell_type": "code",
   "execution_count": 79,
   "metadata": {},
   "outputs": [
    {
     "name": "stdout",
     "output_type": "stream",
     "text": [
      "SGDClassifier(alpha=0.0001, average=False, class_weight='balanced',\n",
      "       early_stopping=False, epsilon=0.1, eta0=0.0, fit_intercept=True,\n",
      "       l1_ratio=0.15, learning_rate='optimal', loss='hinge', max_iter=None,\n",
      "       n_iter=None, n_iter_no_change=5, n_jobs=None, penalty='l2',\n",
      "       power_t=0.5, random_state=None, shuffle=True, tol=None,\n",
      "       validation_fraction=0.1, verbose=0, warm_start=False)\n",
      "0.8632388274867852\n",
      "Best HyperParameter with random search & with accuracy as metric:  {'penalty': 'l2', 'alpha': 0.0001}\n",
      "Best Accuracy random search & with accuracy as metric: 86.68%\n",
      "\n",
      "------------------------------------------------------------------------\n",
      "Time taken to run this cell :\n",
      " 0:00:42.910068\n",
      "------------------------------------------------------------------------\n"
     ]
    }
   ],
   "source": [
    "start = datetime.now()\n",
    "\n",
    "\n",
    "clf_rnd = linear_model.SGDClassifier(loss = 'hinge', class_weight = \"balanced\")\n",
    "param_rnd = { 'alpha': [10**-4, 10**-2, 10**-1, 10**0, 10**1, 10**2, 10**4],\n",
    "              'penalty':['l1','l2']}\n",
    "model_rnd = RandomizedSearchCV(clf_rnd,param_rnd,cv= tscv, scoring = 'accuracy')\n",
    "model_rnd.fit(X_train_bow,Y_train)\n",
    "\n",
    "\n",
    "print(model_rnd.best_estimator_)\n",
    "print(model_rnd.score(X_test_bow, Y_test))\n",
    "\n",
    "\n",
    "\n",
    "print(\"Best HyperParameter with random search & with accuracy as metric: \",model_rnd.best_params_)\n",
    "print(\"Best Accuracy random search & with accuracy as metric: %.2f%%\"%(model_rnd.best_score_*100))\n",
    "\n",
    "\n",
    "print('\\n------------------------------------------------------------------------')\n",
    "print(\"Time taken to run this cell :\\n\", datetime.now() - start)\n",
    "print('------------------------------------------------------------------------')"
   ]
  },
  {
   "cell_type": "markdown",
   "metadata": {},
   "source": [
    "<h3> Gridsearch & random search</h3>"
   ]
  },
  {
   "cell_type": "markdown",
   "metadata": {},
   "source": [
    "<h5> *As the hyperparameters of my grid and randomsearch are same, i did it all at once* </h5>"
   ]
  },
  {
   "cell_type": "code",
   "execution_count": 80,
   "metadata": {},
   "outputs": [
    {
     "name": "stdout",
     "output_type": "stream",
     "text": [
      "Accuracy on test set: 86.236%\n",
      "Macro F1-Score on test set: 0.791\n",
      "Micro F1-Score on test set: 0.862\n",
      "Weighted F1-Score on test set: 0.875\n",
      "roc_auc Score on test set: 0.870\n",
      "Precision on test set: 0.975\n",
      "Recall on test set: 0.859\n",
      "Error : 13.764%\n",
      "Hinge loss : 0.2752797418823368\n",
      "Precision recall report :\n",
      "               precision    recall  f1-score   support\n",
      "\n",
      "          -1       0.54      0.88      0.67     11434\n",
      "           1       0.97      0.86      0.91     61401\n",
      "\n",
      "   micro avg       0.86      0.86      0.86     72835\n",
      "   macro avg       0.76      0.87      0.79     72835\n",
      "weighted avg       0.91      0.86      0.87     72835\n",
      "\n",
      "TPR is 0.8588133743750102\n",
      "TNR is 0.8814063319923037\n",
      "FPR is 0.11859366800769634\n",
      "FNR is 0.14118662562498982\n",
      "\n",
      "------------------------------------------------------------------------\n",
      "Time taken to run this cell :\n",
      " 0:00:57.117256\n",
      "------------------------------------------------------------------------\n"
     ]
    },
    {
     "data": {
      "image/png": "[encoded data removed]",
      "text/plain": [
       "<Figure size 432x288 with 2 Axes>"
      ]
     },
     "metadata": {},
     "output_type": "display_data"
    }
   ],
   "source": [
    "\n",
    "\n",
    "clf = linear_model.SGDClassifier(alpha = 0.0001, penalty ='l2',loss='hinge', n_jobs = -1, class_weight = \"balanced\")\n",
    "clf.fit(X_train_bow, Y_train)\n",
    "Y_pred = clf.predict(X_test_bow)\n",
    "print(\"Accuracy on test set: %0.3f%%\"%(accuracy_score(Y_test, Y_pred)*100)) \n",
    "print(\"Macro F1-Score on test set: %0.3f\"%(f1_score(Y_test, Y_pred, average='macro')))\n",
    "print(\"Micro F1-Score on test set: %0.3f\"%(f1_score(Y_test, Y_pred, average='micro')))\n",
    "print(\"Weighted F1-Score on test set: %0.3f\"%(f1_score(Y_test, Y_pred, average='weighted')))\n",
    "print(\"roc_auc Score on test set: %0.3f\"%(roc_auc_score(Y_test, Y_pred, \n",
    "                                                              average='macro')))\n",
    "print(\"Precision on test set: %0.3f\"%(precision_score(Y_test, Y_pred)))\n",
    "print(\"Recall on test set: %0.3f\"%(recall_score(Y_test, Y_pred)))\n",
    "print(\"Error : %0.3f%%\"%(100-(accuracy_score(Y_test, Y_pred)*100)))\n",
    "print(\"Hinge loss :\",metrics.hinge_loss(Y_test,Y_pred))\n",
    "print(\"Precision recall report :\\n\",metrics.classification_report(Y_test, Y_pred))\n",
    "CM = confusion_matrix(Y_test ,Y_pred)\n",
    "TN = CM[0][0]\n",
    "FN = CM[1][0]\n",
    "TP = CM[1][1]\n",
    "FP = CM[0][1]\n",
    "# true positive rate\n",
    "TPR = TP/(TP+FN)\n",
    "# Specificity or true negative rate\n",
    "TNR = TN/(TN+FP) \n",
    "# Fall out or false positive rate\n",
    "FPR = FP/(FP+TN)\n",
    "# False negative rate\n",
    "FNR = FN/(TP+FN)\n",
    "\n",
    "\n",
    "print(\"TPR is\", TPR)\n",
    "print(\"TNR is\", TNR)\n",
    "print(\"FPR is\", FPR)\n",
    "print(\"FNR is\", FNR)\n",
    "df_cm = pd.DataFrame(confusion_matrix(Y_test, Y_pred), range(2),range(2))\n",
    "sns.set(font_scale=1.5)\n",
    "sns.heatmap(df_cm, annot=True,annot_kws={\"size\": 16}, fmt='g')\n",
    "\n",
    "\n",
    "print('\\n------------------------------------------------------------------------')\n",
    "print(\"Time taken to run this cell :\\n\", datetime.now() - start)\n",
    "print('------------------------------------------------------------------------')"
   ]
  },
  {
   "cell_type": "code",
   "execution_count": null,
   "metadata": {},
   "outputs": [],
   "source": []
  },
  {
   "cell_type": "code",
   "execution_count": null,
   "metadata": {},
   "outputs": [],
   "source": []
  },
  {
   "cell_type": "code",
   "execution_count": null,
   "metadata": {},
   "outputs": [],
   "source": []
  },
  {
   "cell_type": "code",
   "execution_count": null,
   "metadata": {},
   "outputs": [],
   "source": []
  },
  {
   "cell_type": "code",
   "execution_count": null,
   "metadata": {},
   "outputs": [],
   "source": []
  },
  {
   "cell_type": "code",
   "execution_count": null,
   "metadata": {},
   "outputs": [],
   "source": [
    "y = PrettyTable()\n",
    "\n",
    "\n",
    "\n",
    "y.field_names = [\"S.R.\",\"Vectorizer\", \"Algorithm\", \"alpha\",'Accuracy', \"F-1 score\", \"Precision\", \"Recall\"]\n",
    "\n",
    "y.add_row([\"(1)\",\"BoW\", \"SGD\", 25, '86.087%', 0.536, 0.860, 0.539])\n",
    "y.add_row([\"(2)\",\"BoW\", \"SGD\", 23, '85.100%', 0.465, 0.726, 0.502])\n",
    "\n",
    "\n",
    "print(y.get_string(title = \"<<----------------------TEST DATA---------------------->>\"))\n",
    "\n",
    "\n",
    "z = PrettyTable()\n",
    "\n",
    "z.field_names = [\"S.R.\",\"Vectorizer\", \"Algorithm\", \"K\",'Accuracy', \"F-1 score\", \"Precision\", \"Recall\"]\n",
    "\n",
    "z.field_names = [\"S.R.\",\"Vectorizer\", \"Algorithm\", \"K\",'Accuracy', \"F-1 score\", \"Precision\", \"Recall\"]\n",
    "\n",
    "z.add_row([\"(1)\",\"BoW\", \"brute\", 11, '86.275%', 0.545, 0.809, 0.546])\n",
    "z.add_row([\"(2)\",\"BoW\", \"kd_tree\", 21, '84.225%', 0.459, 0.671, 0.501])\n",
    "\n",
    "\n",
    "\n",
    "print(z.get_string(title = \"<<----------------------CROSS VALIDATE DATA---------------------->>\"))\n",
    "\n",
    "\n",
    "\n",
    "\n"
   ]
  },
  {
   "cell_type": "code",
   "execution_count": 81,
   "metadata": {},
   "outputs": [],
   "source": [
    "all_feat = count_vect.get_feature_names()"
   ]
  },
  {
   "cell_type": "code",
   "execution_count": 82,
   "metadata": {},
   "outputs": [
    {
     "name": "stdout",
     "output_type": "stream",
     "text": [
      "\t\tPositive\t\t\t\t\tNegative\n",
      "________________________________________________________________________________________________ \n",
      "\n",
      "\t4.3769\tdelici         \t\t\t\t-4.6871\tdisappoint     \n",
      "\t4.1964\tbest           \t\t\t\t-3.7436\tworst          \n",
      "\t4.1516\tgreat          \t\t\t\t-3.3206\taw             \n",
      "\t4.0653\tperfect        \t\t\t\t-3.2909\tunfortun       \n",
      "\t3.9855\texcel          \t\t\t\t-3.1196\tterribl        \n",
      "\t3.2092\tamaz           \t\t\t\t-2.9707\thorribl        \n",
      "\t3.1970\tlove           \t\t\t\t-2.9097\tbland          \n",
      "\t3.0318\tnice           \t\t\t\t-2.8961\treturn         \n",
      "\t2.9933\tfavorit        \t\t\t\t-2.7066\tweak           \n",
      "\t2.7650\tawesom         \t\t\t\t-2.6899\tstale          \n",
      "\t2.6092\tsmooth         \t\t\t\t-2.5229\twast           \n",
      "\t2.5761\teasi           \t\t\t\t-2.4203\tthought        \n",
      "\t2.5343\twonder         \t\t\t\t-2.3657\tbad            \n",
      "\t2.4984\tyummi          \t\t\t\t-2.3441\tsorri          \n",
      "\t2.4858\taddict         \t\t\t\t-2.3427\tdisgust        \n",
      "\t2.4547\ttasti          \t\t\t\t-2.3144\tmoney          \n",
      "\t2.4259\thappi          \t\t\t\t-2.2678\tmayb           \n",
      "\t2.3923\tglad           \t\t\t\t-2.2015\tpoor           \n",
      "\t2.3880\tfantast        \t\t\t\t-2.1987\trefund         \n",
      "\t2.3693\tthank          \t\t\t\t-2.1748\tthrew          \n",
      "\t2.3475\tkeep           \t\t\t\t-2.1680\thope           \n",
      "\t2.3329\tsatisfi        \t\t\t\t-2.0381\ttasteless      \n",
      "\t2.1640\tbeat           \t\t\t\t-2.0365\tgross          \n",
      "\t2.1488\tenjoy          \t\t\t\t-2.0324\tlack           \n",
      "\t2.0745\tdefinit        \t\t\t\t-2.0203\tsad            \n"
     ]
    }
   ],
   "source": [
    "def show_most_informative_features(vectorizer, clf, n= 25):\n",
    "    feature_names = all_feat\n",
    "    coefs_with_fns = sorted(zip(clf.coef_[0], feature_names))\n",
    "    top = zip(coefs_with_fns[:(n + 1): -1], coefs_with_fns[:n])\n",
    "    print(\"\\t\\tPositive\\t\\t\\t\\t\\tNegative\")\n",
    "    print(\"________________________________________________________________________________________________ \\n\")\n",
    "    for (coef_1, fn_2), (coef_2, fn_1) in top:\n",
    "        print(\"\\t%.4f\\t%-15s\\t\\t\\t\\t%.4f\\t%-15s\" % (coef_1, fn_2, coef_2, fn_1))\n",
    "        \n",
    "show_most_informative_features(X,clf)\n",
    "\n",
    "\n",
    "#Source : https://stackoverflow.com/questions/11116697/how-to-get-most-informative-features-for-scikit-learn-classifiers"
   ]
  },
  {
   "cell_type": "markdown",
   "metadata": {},
   "source": [
    "<h3> with f1 as metric </h3>"
   ]
  },
  {
   "cell_type": "code",
   "execution_count": 83,
   "metadata": {},
   "outputs": [
    {
     "name": "stdout",
     "output_type": "stream",
     "text": [
      "SGDClassifier(alpha=0.0001, average=False, class_weight='balanced',\n",
      "       early_stopping=False, epsilon=0.1, eta0=0.0, fit_intercept=True,\n",
      "       l1_ratio=0.15, learning_rate='optimal', loss='hinge', max_iter=None,\n",
      "       n_iter=None, n_iter_no_change=5, n_jobs=-1, penalty='l2',\n",
      "       power_t=0.5, random_state=None, shuffle=True, tol=None,\n",
      "       validation_fraction=0.1, verbose=0, warm_start=False)\n",
      "0.9179072368987179\n",
      "Best HyperParameter with grid search & with accuracy as metric is:  {'alpha': 0.0001, 'penalty': 'l2'}\n",
      "Best Accuracy with Grid search & with accuracy as metric is: 86.26%\n",
      "\n",
      "------------------------------------------------------------------------\n",
      "Time taken to run this cell :\n",
      " 0:00:44.871969\n",
      "------------------------------------------------------------------------\n"
     ]
    }
   ],
   "source": [
    "start = datetime.now()\n",
    "from sklearn import linear_model\n",
    "clf_grid = linear_model.SGDClassifier(loss='hinge', n_jobs = -1, class_weight = \"balanced\")\n",
    "tuned_parameters = { 'alpha': [10**-4, 10**-2, 10**-1, 10**0, 10**1, 10**2, 10**4],\n",
    "              'penalty':['l1','l2']}\n",
    "model_grid = GridSearchCV(clf_grid, tuned_parameters, cv = tscv, n_jobs =-1, scoring = 'f1')\n",
    "model_grid.fit(X_train_bow, Y_train)\n",
    "print(model_grid.best_estimator_)\n",
    "print(model_grid.score(X_test_bow, Y_test))\n",
    "\n",
    "\n",
    "print(\"Best HyperParameter with grid search & with accuracy as metric is: \",model_grid.best_params_)\n",
    "print(\"Best Accuracy with Grid search & with accuracy as metric is: %.2f%%\"%(model.best_score_*100))\n",
    "\n",
    "print('\\n------------------------------------------------------------------------')\n",
    "print(\"Time taken to run this cell :\\n\", datetime.now() - start)\n",
    "print('------------------------------------------------------------------------')\n"
   ]
  },
  {
   "cell_type": "code",
   "execution_count": 91,
   "metadata": {},
   "outputs": [
    {
     "name": "stdout",
     "output_type": "stream",
     "text": [
      "SGDClassifier(alpha=10000, average=False, class_weight='balanced',\n",
      "       early_stopping=False, epsilon=0.1, eta0=0.0, fit_intercept=True,\n",
      "       l1_ratio=0.15, learning_rate='optimal', loss='hinge', max_iter=None,\n",
      "       n_iter=None, n_iter_no_change=5, n_jobs=None, penalty='l1',\n",
      "       power_t=0.5, random_state=None, shuffle=True, tol=None,\n",
      "       validation_fraction=0.1, verbose=0, warm_start=False)\n",
      "0.9148216573795406\n",
      "Best HyperParameter with random search & with accuracy as metric:  {'penalty': 'l1', 'alpha': 10000}\n",
      "Best Accuracy random search & with accuracy as metric: 91.52%\n",
      "\n",
      "------------------------------------------------------------------------\n",
      "Time taken to run this cell :\n",
      " 0:00:45.752778\n",
      "------------------------------------------------------------------------\n"
     ]
    }
   ],
   "source": [
    "start = datetime.now()\n",
    "\n",
    "\n",
    "clf_rnd = linear_model.SGDClassifier(loss = 'hinge', class_weight = \"balanced\")\n",
    "param_rnd = { 'alpha': [10**-4, 10**-2, 10**-1, 10**0, 10**1, 10**2, 10**4],\n",
    "              'penalty':['l1','l2']}\n",
    "model_rnd = RandomizedSearchCV(clf_rnd,param_rnd,cv= tscv, scoring = 'f1')\n",
    "model_rnd.fit(X_train_bow,Y_train)\n",
    "\n",
    "\n",
    "print(model_rnd.best_estimator_)\n",
    "print(model_rnd.score(X_test_bow, Y_test))\n",
    "\n",
    "\n",
    "\n",
    "print(\"Best HyperParameter with random search & with accuracy as metric: \",model_rnd.best_params_)\n",
    "print(\"Best Accuracy random search & with accuracy as metric: %.2f%%\"%(model_rnd.best_score_*100))\n",
    "\n",
    "\n",
    "print('\\n------------------------------------------------------------------------')\n",
    "print(\"Time taken to run this cell :\\n\", datetime.now() - start)\n",
    "print('------------------------------------------------------------------------')"
   ]
  },
  {
   "cell_type": "code",
   "execution_count": 92,
   "metadata": {},
   "outputs": [
    {
     "name": "stdout",
     "output_type": "stream",
     "text": [
      "Accuracy on test set: 84.302%\n",
      "Macro F1-Score on test set: 0.457\n",
      "Micro F1-Score on test set: 0.843\n",
      "Weighted F1-Score on test set: 0.771\n",
      "roc_auc Score on test set: 0.500\n",
      "Precision on test set: 0.843\n",
      "Recall on test set: 1.000\n",
      "Error : 15.698%\n",
      "Hinge loss : 0.3139699320381685\n",
      "Precision recall report :\n",
      "               precision    recall  f1-score   support\n",
      "\n",
      "          -1       0.00      0.00      0.00     11434\n",
      "           1       0.84      1.00      0.91     61401\n",
      "\n",
      "   micro avg       0.84      0.84      0.84     72835\n",
      "   macro avg       0.42      0.50      0.46     72835\n",
      "weighted avg       0.71      0.84      0.77     72835\n",
      "\n",
      "TPR is 1.0\n",
      "TNR is 0.0\n",
      "FPR is 1.0\n",
      "FNR is 0.0\n",
      "\n",
      "------------------------------------------------------------------------\n",
      "Time taken to run this cell :\n",
      " 0:00:52.958975\n",
      "------------------------------------------------------------------------\n"
     ]
    },
    {
     "data": {
      "image/png": "[encoded data removed]",
      "text/plain": [
       "<Figure size 432x288 with 2 Axes>"
      ]
     },
     "metadata": {},
     "output_type": "display_data"
    }
   ],
   "source": [
    "clf = linear_model.SGDClassifier(alpha = 10000, penalty ='l1',loss='hinge', n_jobs = -1, class_weight = \"balanced\")\n",
    "clf.fit(X_train_bow, Y_train)\n",
    "Y_pred = clf.predict(X_test_bow)\n",
    "print(\"Accuracy on test set: %0.3f%%\"%(accuracy_score(Y_test, Y_pred)*100)) \n",
    "print(\"Macro F1-Score on test set: %0.3f\"%(f1_score(Y_test, Y_pred, average='macro')))\n",
    "print(\"Micro F1-Score on test set: %0.3f\"%(f1_score(Y_test, Y_pred, average='micro')))\n",
    "print(\"Weighted F1-Score on test set: %0.3f\"%(f1_score(Y_test, Y_pred, average='weighted')))\n",
    "print(\"roc_auc Score on test set: %0.3f\"%(roc_auc_score(Y_test, Y_pred, \n",
    "                                                              average='macro')))\n",
    "print(\"Precision on test set: %0.3f\"%(precision_score(Y_test, Y_pred)))\n",
    "print(\"Recall on test set: %0.3f\"%(recall_score(Y_test, Y_pred)))\n",
    "print(\"Error : %0.3f%%\"%(100-(accuracy_score(Y_test, Y_pred)*100)))\n",
    "print(\"Hinge loss :\",metrics.hinge_loss(Y_test,Y_pred))\n",
    "print(\"Precision recall report :\\n\",metrics.classification_report(Y_test, Y_pred))\n",
    "CM = confusion_matrix(Y_test ,Y_pred)\n",
    "TN = CM[0][0]\n",
    "FN = CM[1][0]\n",
    "TP = CM[1][1]\n",
    "FP = CM[0][1]\n",
    "# true positive rate\n",
    "TPR = TP/(TP+FN)\n",
    "# Specificity or true negative rate\n",
    "TNR = TN/(TN+FP) \n",
    "# Fall out or false positive rate\n",
    "FPR = FP/(FP+TN)\n",
    "# False negative rate\n",
    "FNR = FN/(TP+FN)\n",
    "\n",
    "\n",
    "print(\"TPR is\", TPR)\n",
    "print(\"TNR is\", TNR)\n",
    "print(\"FPR is\", FPR)\n",
    "print(\"FNR is\", FNR)\n",
    "df_cm = pd.DataFrame(confusion_matrix(Y_test, Y_pred), range(2),range(2))\n",
    "sns.set(font_scale=1.5)\n",
    "sns.heatmap(df_cm, annot=True,annot_kws={\"size\": 16}, fmt='g')\n",
    "\n",
    "\n",
    "print('\\n------------------------------------------------------------------------')\n",
    "print(\"Time taken to run this cell :\\n\", datetime.now() - start)\n",
    "print('------------------------------------------------------------------------')"
   ]
  },
  {
   "cell_type": "markdown",
   "metadata": {},
   "source": [
    "change the scoring asap to roc_auc"
   ]
  },
  {
   "cell_type": "code",
   "execution_count": 93,
   "metadata": {},
   "outputs": [
    {
     "name": "stdout",
     "output_type": "stream",
     "text": [
      "SGDClassifier(alpha=0.0001, average=False, class_weight='balanced',\n",
      "       early_stopping=False, epsilon=0.1, eta0=0.0, fit_intercept=True,\n",
      "       l1_ratio=0.15, learning_rate='optimal', loss='hinge', max_iter=None,\n",
      "       n_iter=None, n_iter_no_change=5, n_jobs=-1, penalty='l2',\n",
      "       power_t=0.5, random_state=None, shuffle=True, tol=None,\n",
      "       validation_fraction=0.1, verbose=0, warm_start=False)\n",
      "0.9429952410526206\n",
      "Best HyperParameter with grid search & with accuracy as metric is:  {'alpha': 0.0001, 'penalty': 'l2'}\n",
      "Best Accuracy with Grid search & with accuracy as metric is: 86.26%\n",
      "\n",
      "------------------------------------------------------------------------\n",
      "Time taken to run this cell :\n",
      " 0:00:41.884959\n",
      "------------------------------------------------------------------------\n"
     ]
    }
   ],
   "source": [
    "start = datetime.now()\n",
    "from sklearn import linear_model\n",
    "clf_grid = linear_model.SGDClassifier(loss='hinge', n_jobs = -1, class_weight = \"balanced\")\n",
    "tuned_parameters = { 'alpha': [10**-4, 10**-2, 10**-1, 10**0, 10**1, 10**2, 10**4],\n",
    "              'penalty':['l1','l2']}\n",
    "model_grid = GridSearchCV(clf_grid, tuned_parameters, cv = tscv, n_jobs =-1, scoring = 'roc_auc')\n",
    "model_grid.fit(X_train_bow, Y_train)\n",
    "print(model_grid.best_estimator_)\n",
    "print(model_grid.score(X_test_bow, Y_test))\n",
    "\n",
    "\n",
    "print(\"Best HyperParameter with grid search & with accuracy as metric is: \",model_grid.best_params_)\n",
    "print(\"Best Accuracy with Grid search & with accuracy as metric is: %.2f%%\"%(model.best_score_*100))\n",
    "\n",
    "print('\\n------------------------------------------------------------------------')\n",
    "print(\"Time taken to run this cell :\\n\", datetime.now() - start)\n",
    "print('------------------------------------------------------------------------')\n"
   ]
  },
  {
   "cell_type": "code",
   "execution_count": 94,
   "metadata": {},
   "outputs": [
    {
     "name": "stdout",
     "output_type": "stream",
     "text": [
      "SGDClassifier(alpha=0.0001, average=False, class_weight='balanced',\n",
      "       early_stopping=False, epsilon=0.1, eta0=0.0, fit_intercept=True,\n",
      "       l1_ratio=0.15, learning_rate='optimal', loss='hinge', max_iter=None,\n",
      "       n_iter=None, n_iter_no_change=5, n_jobs=None, penalty='l2',\n",
      "       power_t=0.5, random_state=None, shuffle=True, tol=None,\n",
      "       validation_fraction=0.1, verbose=0, warm_start=False)\n",
      "0.9430799889115878\n",
      "Best HyperParameter with random search & with accuracy as metric:  {'penalty': 'l2', 'alpha': 0.0001}\n",
      "Best Accuracy random search & with accuracy as metric: 94.13%\n",
      "\n",
      "------------------------------------------------------------------------\n",
      "Time taken to run this cell :\n",
      " 0:00:43.745082\n",
      "------------------------------------------------------------------------\n"
     ]
    }
   ],
   "source": [
    "start = datetime.now()\n",
    "\n",
    "\n",
    "clf_rnd = linear_model.SGDClassifier(loss = 'hinge', class_weight = \"balanced\")\n",
    "param_rnd = { 'alpha': [10**-4, 10**-2, 10**-1, 10**0, 10**1, 10**2, 10**4],\n",
    "              'penalty':['l1','l2']}\n",
    "model_rnd = RandomizedSearchCV(clf_rnd,param_rnd,cv= tscv, scoring = 'roc_auc')\n",
    "model_rnd.fit(X_train_bow,Y_train)\n",
    "\n",
    "\n",
    "print(model_rnd.best_estimator_)\n",
    "print(model_rnd.score(X_test_bow, Y_test))\n",
    "\n",
    "\n",
    "\n",
    "print(\"Best HyperParameter with random search & with accuracy as metric: \",model_rnd.best_params_)\n",
    "print(\"Best Accuracy random search & with accuracy as metric: %.2f%%\"%(model_rnd.best_score_*100))\n",
    "\n",
    "\n",
    "print('\\n------------------------------------------------------------------------')\n",
    "print(\"Time taken to run this cell :\\n\", datetime.now() - start)\n",
    "print('------------------------------------------------------------------------')"
   ]
  },
  {
   "cell_type": "markdown",
   "metadata": {},
   "source": [
    "ok so the random search with f1 as metric gave me a dumb model"
   ]
  },
  {
   "cell_type": "markdown",
   "metadata": {},
   "source": [
    "\n",
    "\n"
   ]
  },
  {
   "cell_type": "markdown",
   "metadata": {},
   "source": [
    "TfIDF combination:\n",
    "------------\n",
    " \n",
    "    The main objective here is to give weightage to words which are rare in a corpus but are more important, that is occur more frequently in my document\n",
    "    \n",
    "                    TF(W,R)*IDF(W,D)"
   ]
  },
  {
   "cell_type": "code",
   "execution_count": 95,
   "metadata": {},
   "outputs": [
    {
     "name": "stdout",
     "output_type": "stream",
     "text": [
      "the type of count vectorizer  <class 'scipy.sparse.csr.csr_matrix'>\n",
      "the shape of out text TFIDF vectorizer  (291336, 2542442)\n",
      "the number of unique words including both unigrams and bigrams  2542442\n"
     ]
    }
   ],
   "source": [
    "tf_idf_vect = TfidfVectorizer(ngram_range=(1,2))\n",
    "X_train_tf = tf_idf_vect.fit_transform(X_train.values)\n",
    "X_test_tf = tf_idf_vect.transform(X_test)\n",
    "print(\"the type of count vectorizer \",type(X_train_tf))\n",
    "print(\"the shape of out text TFIDF vectorizer \",X_train_tf.get_shape())\n",
    "print(\"the number of unique words including both unigrams and bigrams \", X_train_tf.get_shape()[1])"
   ]
  },
  {
   "cell_type": "code",
   "execution_count": 96,
   "metadata": {},
   "outputs": [],
   "source": [
    "X_train_tf = preprocessing.normalize(X_train_tf)\n",
    "\n",
    "X_test_tf = preprocessing.normalize(X_test_tf)"
   ]
  },
  {
   "cell_type": "code",
   "execution_count": 97,
   "metadata": {},
   "outputs": [
    {
     "name": "stdout",
     "output_type": "stream",
     "text": [
      "(26486, 2542442) (26485, 2542442)\n",
      "(52971, 2542442) (26485, 2542442)\n",
      "(79456, 2542442) (26485, 2542442)\n",
      "(105941, 2542442) (26485, 2542442)\n",
      "(132426, 2542442) (26485, 2542442)\n",
      "(158911, 2542442) (26485, 2542442)\n",
      "(185396, 2542442) (26485, 2542442)\n",
      "(211881, 2542442) (26485, 2542442)\n",
      "(238366, 2542442) (26485, 2542442)\n",
      "(264851, 2542442) (26485, 2542442)\n"
     ]
    }
   ],
   "source": [
    "tscv = TimeSeriesSplit(n_splits=10)\n",
    "for train, cv in tscv.split(X_train_tf):\n",
    "    print(X_train_tf[train].shape, X_train_tf[cv].shape)\n"
   ]
  },
  {
   "cell_type": "code",
   "execution_count": 105,
   "metadata": {},
   "outputs": [
    {
     "name": "stdout",
     "output_type": "stream",
     "text": [
      "SGDClassifier(alpha=0.0001, average=False, class_weight='balanced',\n",
      "       early_stopping=False, epsilon=0.1, eta0=0.0, fit_intercept=True,\n",
      "       l1_ratio=0.15, learning_rate='optimal', loss='hinge', max_iter=None,\n",
      "       n_iter=None, n_iter_no_change=5, n_jobs=None, penalty='l2',\n",
      "       power_t=0.5, random_state=None, shuffle=True, tol=None,\n",
      "       validation_fraction=0.1, verbose=0, warm_start=False)\n",
      "0.8823642479577126\n",
      "Best HyperParameter with Grid search & with accuracy as metric:  {'alpha': 0.0001, 'penalty': 'l2'}\n",
      "Best Accuracy Grid search & with accuracy as metric: 88.72%\n",
      "\n",
      "------------------------------------------------------------------------\n",
      "SGDClassifier(alpha=0.0001, average=False, class_weight='balanced',\n",
      "       early_stopping=False, epsilon=0.1, eta0=0.0, fit_intercept=True,\n",
      "       l1_ratio=0.15, learning_rate='optimal', loss='hinge', max_iter=None,\n",
      "       n_iter=None, n_iter_no_change=5, n_jobs=None, penalty='l2',\n",
      "       power_t=0.5, random_state=None, shuffle=True, tol=None,\n",
      "       validation_fraction=0.1, verbose=0, warm_start=False)\n",
      "0.925827610419414\n",
      "Best HyperParameter with Grid search & with f1 as metric:  {'alpha': 0.0001, 'penalty': 'l2'}\n",
      "Best Accuracy Grid search & with f1 as metric: 92.91%\n",
      "\n",
      "------------------------------------------------------------------------\n",
      "SGDClassifier(alpha=0.0001, average=False, class_weight='balanced',\n",
      "       early_stopping=False, epsilon=0.1, eta0=0.0, fit_intercept=True,\n",
      "       l1_ratio=0.15, learning_rate='optimal', loss='hinge', max_iter=None,\n",
      "       n_iter=None, n_iter_no_change=5, n_jobs=None, penalty='l2',\n",
      "       power_t=0.5, random_state=None, shuffle=True, tol=None,\n",
      "       validation_fraction=0.1, verbose=0, warm_start=False)\n",
      "0.9513685824887483\n",
      "Best HyperParameter with Grid search & with roc_auc as metric:  {'alpha': 0.0001, 'penalty': 'l2'}\n",
      "Best Accuracy Grid search & with roc_auc as metric: 95.06%\n",
      "\n",
      "------------------------------------------------------------------------\n",
      "Time taken to run this cell :\n",
      " 0:13:38.479709\n",
      "------------------------------------------------------------------------\n"
     ]
    }
   ],
   "source": [
    "start = datetime.now()\n",
    "\n",
    "\n",
    "clf_rnd = linear_model.SGDClassifier(loss = 'hinge', class_weight = \"balanced\")\n",
    "param_rnd = { 'alpha': [10**-4, 10**-2, 10**-1, 10**0, 10**1, 10**2, 10**4],\n",
    "              'penalty':['l1','l2']}\n",
    "model_rnd = GridSearchCV(clf_rnd,param_rnd,cv= tscv, scoring = 'accuracy')\n",
    "model_rnd.fit(X_train_tf,Y_train)\n",
    "\n",
    "\n",
    "print(model_rnd.best_estimator_)\n",
    "print(model_rnd.score(X_test_tf, Y_test))\n",
    "\n",
    "\n",
    "\n",
    "print(\"Best HyperParameter with Grid search & with accuracy as metric: \",model_rnd.best_params_)\n",
    "print(\"Best Accuracy Grid search & with accuracy as metric: %.2f%%\"%(model_rnd.best_score_*100))\n",
    "\n",
    "\n",
    "print('\\n------------------------------------------------------------------------')\n",
    "\n",
    "clf_rnd = linear_model.SGDClassifier(loss = 'hinge', class_weight = \"balanced\")\n",
    "param_rnd = { 'alpha': [10**-4, 10**-2, 10**-1, 10**0, 10**1, 10**2, 10**4],\n",
    "              'penalty':['l1','l2']}\n",
    "model_rnd = GridSearchCV(clf_rnd,param_rnd,cv= tscv, scoring = 'f1')\n",
    "model_rnd.fit(X_train_tf,Y_train)\n",
    "\n",
    "\n",
    "print(model_rnd.best_estimator_)\n",
    "print(model_rnd.score(X_test_tf, Y_test))\n",
    "\n",
    "print(\"Best HyperParameter with Grid search & with f1 as metric: \",model_rnd.best_params_)\n",
    "print(\"Best Accuracy Grid search & with f1 as metric: %.2f%%\"%(model_rnd.best_score_*100))\n",
    "\n",
    "\n",
    "print('\\n------------------------------------------------------------------------')\n",
    "\n",
    "clf_rnd = linear_model.SGDClassifier(loss = 'hinge', class_weight = \"balanced\")\n",
    "param_rnd = { 'alpha': [10**-4, 10**-2, 10**-1, 10**0, 10**1, 10**2, 10**4],\n",
    "              'penalty':['l1','l2']}\n",
    "model_rnd = GridSearchCV(clf_rnd,param_rnd,cv= tscv, scoring = 'roc_auc')\n",
    "model_rnd.fit(X_train_tf,Y_train)\n",
    "\n",
    "\n",
    "print(model_rnd.best_estimator_)\n",
    "print(model_rnd.score(X_test_tf, Y_test))\n",
    "\n",
    "\n",
    "print(\"Best HyperParameter with Grid search & with roc_auc as metric: \",model_rnd.best_params_)\n",
    "print(\"Best Accuracy Grid search & with roc_auc as metric: %.2f%%\"%(model_rnd.best_score_*100))\n",
    "\n",
    "\n",
    "print('\\n------------------------------------------------------------------------')\n",
    "print(\"Time taken to run this cell :\\n\", datetime.now() - start)\n",
    "print('------------------------------------------------------------------------')"
   ]
  },
  {
   "cell_type": "code",
   "execution_count": 103,
   "metadata": {},
   "outputs": [
    {
     "name": "stdout",
     "output_type": "stream",
     "text": [
      "SGDClassifier(alpha=0.0001, average=False, class_weight='balanced',\n",
      "       early_stopping=False, epsilon=0.1, eta0=0.0, fit_intercept=True,\n",
      "       l1_ratio=0.15, learning_rate='optimal', loss='hinge', max_iter=None,\n",
      "       n_iter=None, n_iter_no_change=5, n_jobs=None, penalty='l2',\n",
      "       power_t=0.5, random_state=None, shuffle=True, tol=None,\n",
      "       validation_fraction=0.1, verbose=0, warm_start=False)\n",
      "0.8810324706528455\n",
      "Best HyperParameter with random search & with accuracy as metric:  {'penalty': 'l2', 'alpha': 0.0001}\n",
      "Best Accuracy random search & with accuracy as metric: 88.67%\n",
      "\n",
      "------------------------------------------------------------------------\n",
      "SGDClassifier(alpha=0.0001, average=False, class_weight='balanced',\n",
      "       early_stopping=False, epsilon=0.1, eta0=0.0, fit_intercept=True,\n",
      "       l1_ratio=0.15, learning_rate='optimal', loss='hinge', max_iter=None,\n",
      "       n_iter=None, n_iter_no_change=5, n_jobs=None, penalty='l2',\n",
      "       power_t=0.5, random_state=None, shuffle=True, tol=None,\n",
      "       validation_fraction=0.1, verbose=0, warm_start=False)\n",
      "0.9292383250483881\n",
      "Best HyperParameter with random search & with f1 as metric:  {'penalty': 'l2', 'alpha': 0.0001}\n",
      "Best Accuracy random search & with f1 as metric: 92.90%\n",
      "\n",
      "------------------------------------------------------------------------\n",
      "SGDClassifier(alpha=0.0001, average=False, class_weight='balanced',\n",
      "       early_stopping=False, epsilon=0.1, eta0=0.0, fit_intercept=True,\n",
      "       l1_ratio=0.15, learning_rate='optimal', loss='hinge', max_iter=None,\n",
      "       n_iter=None, n_iter_no_change=5, n_jobs=None, penalty='l2',\n",
      "       power_t=0.5, random_state=None, shuffle=True, tol=None,\n",
      "       validation_fraction=0.1, verbose=0, warm_start=False)\n",
      "0.9514029442714929\n",
      "Best HyperParameter with random search & with roc_auc as metric:  {'penalty': 'l2', 'alpha': 0.0001}\n",
      "Best Accuracy random search & with roc_auc as metric: 95.06%\n",
      "\n",
      "------------------------------------------------------------------------\n",
      "Time taken to run this cell :\n",
      " 0:09:24.336392\n",
      "------------------------------------------------------------------------\n"
     ]
    }
   ],
   "source": [
    "start = datetime.now()\n",
    "\n",
    "\n",
    "clf_rnd = linear_model.SGDClassifier(loss = 'hinge', class_weight = \"balanced\")\n",
    "param_rnd = { 'alpha': [10**-4, 10**-2, 10**-1, 10**0, 10**1, 10**2, 10**4],\n",
    "              'penalty':['l1','l2']}\n",
    "model_rnd = RandomizedSearchCV(clf_rnd,param_rnd,cv= tscv, scoring = 'accuracy')\n",
    "model_rnd.fit(X_train_tf,Y_train)\n",
    "\n",
    "\n",
    "print(model_rnd.best_estimator_)\n",
    "print(model_rnd.score(X_test_tf, Y_test))\n",
    "\n",
    "\n",
    "\n",
    "print(\"Best HyperParameter with random search & with accuracy as metric: \",model_rnd.best_params_)\n",
    "print(\"Best Accuracy random search & with accuracy as metric: %.2f%%\"%(model_rnd.best_score_*100))\n",
    "\n",
    "\n",
    "print('\\n------------------------------------------------------------------------')\n",
    "\n",
    "clf_rnd = linear_model.SGDClassifier(loss = 'hinge', class_weight = \"balanced\")\n",
    "param_rnd = { 'alpha': [10**-4, 10**-2, 10**-1, 10**0, 10**1, 10**2, 10**4],\n",
    "              'penalty':['l1','l2']}\n",
    "model_rnd = RandomizedSearchCV(clf_rnd,param_rnd,cv= tscv, scoring = 'f1')\n",
    "model_rnd.fit(X_train_tf,Y_train)\n",
    "\n",
    "\n",
    "print(model_rnd.best_estimator_)\n",
    "print(model_rnd.score(X_test_tf, Y_test))\n",
    "\n",
    "print(\"Best HyperParameter with random search & with f1 as metric: \",model_rnd.best_params_)\n",
    "print(\"Best Accuracy random search & with f1 as metric: %.2f%%\"%(model_rnd.best_score_*100))\n",
    "\n",
    "\n",
    "print('\\n------------------------------------------------------------------------')\n",
    "\n",
    "clf_rnd = linear_model.SGDClassifier(loss = 'hinge', class_weight = \"balanced\")\n",
    "param_rnd = { 'alpha': [10**-4, 10**-2, 10**-1, 10**0, 10**1, 10**2, 10**4],\n",
    "              'penalty':['l1','l2']}\n",
    "model_rnd = RandomizedSearchCV(clf_rnd,param_rnd,cv= tscv, scoring = 'roc_auc')\n",
    "model_rnd.fit(X_train_tf,Y_train)\n",
    "\n",
    "\n",
    "print(model_rnd.best_estimator_)\n",
    "print(model_rnd.score(X_test_tf, Y_test))\n",
    "\n",
    "\n",
    "print(\"Best HyperParameter with random search & with roc_auc as metric: \",model_rnd.best_params_)\n",
    "print(\"Best Accuracy random search & with roc_auc as metric: %.2f%%\"%(model_rnd.best_score_*100))\n",
    "\n",
    "\n",
    "print('\\n------------------------------------------------------------------------')\n",
    "print(\"Time taken to run this cell :\\n\", datetime.now() - start)\n",
    "print('------------------------------------------------------------------------')"
   ]
  },
  {
   "cell_type": "code",
   "execution_count": 100,
   "metadata": {},
   "outputs": [
    {
     "name": "stdout",
     "output_type": "stream",
     "text": [
      "Accuracy on test set: 86.630%\n",
      "Macro F1-Score on test set: 0.795\n",
      "Micro F1-Score on test set: 0.866\n",
      "Weighted F1-Score on test set: 0.878\n",
      "roc_auc Score on test set: 0.871\n",
      "Precision on test set: 0.974\n",
      "Recall on test set: 0.864\n",
      "Error : 13.370%\n",
      "Hinge loss : 0.267398915356628\n",
      "Precision recall report :\n",
      "               precision    recall  f1-score   support\n",
      "\n",
      "          -1       0.55      0.88      0.67     11434\n",
      "           1       0.97      0.86      0.92     61401\n",
      "\n",
      "   micro avg       0.87      0.87      0.87     72835\n",
      "   macro avg       0.76      0.87      0.79     72835\n",
      "weighted avg       0.91      0.87      0.88     72835\n",
      "\n",
      "TPR is 0.8643507434732334\n",
      "TNR is 0.8767710337589645\n",
      "FPR is 0.1232289662410355\n",
      "FNR is 0.13564925652676665\n",
      "\n",
      "------------------------------------------------------------------------\n",
      "Time taken to run this cell :\n",
      " 0:04:08.795373\n",
      "------------------------------------------------------------------------\n"
     ]
    },
    {
     "data": {
      "image/png": "[encoded data removed]",
      "text/plain": [
       "<Figure size 432x288 with 2 Axes>"
      ]
     },
     "metadata": {},
     "output_type": "display_data"
    }
   ],
   "source": [
    "clf = linear_model.SGDClassifier(alpha = 0.0001, penalty ='l2',loss='hinge', n_jobs = -1, class_weight = \"balanced\")\n",
    "clf.fit(X_train_bow, Y_train)\n",
    "Y_pred = clf.predict(X_test_bow)\n",
    "print(\"Accuracy on test set: %0.3f%%\"%(accuracy_score(Y_test, Y_pred)*100)) \n",
    "print(\"Macro F1-Score on test set: %0.3f\"%(f1_score(Y_test, Y_pred, average='macro')))\n",
    "print(\"Micro F1-Score on test set: %0.3f\"%(f1_score(Y_test, Y_pred, average='micro')))\n",
    "print(\"Weighted F1-Score on test set: %0.3f\"%(f1_score(Y_test, Y_pred, average='weighted')))\n",
    "print(\"roc_auc Score on test set: %0.3f\"%(roc_auc_score(Y_test, Y_pred, \n",
    "                                                              average='macro')))\n",
    "print(\"Precision on test set: %0.3f\"%(precision_score(Y_test, Y_pred)))\n",
    "print(\"Recall on test set: %0.3f\"%(recall_score(Y_test, Y_pred)))\n",
    "print(\"Error : %0.3f%%\"%(100-(accuracy_score(Y_test, Y_pred)*100)))\n",
    "print(\"Hinge loss :\",metrics.hinge_loss(Y_test,Y_pred))\n",
    "print(\"Precision recall report :\\n\",metrics.classification_report(Y_test, Y_pred))\n",
    "CM = confusion_matrix(Y_test ,Y_pred)\n",
    "TN = CM[0][0]\n",
    "FN = CM[1][0]\n",
    "TP = CM[1][1]\n",
    "FP = CM[0][1]\n",
    "# true positive rate\n",
    "TPR = TP/(TP+FN)\n",
    "# Specificity or true negative rate\n",
    "TNR = TN/(TN+FP) \n",
    "# Fall out or false positive rate\n",
    "FPR = FP/(FP+TN)\n",
    "# False negative rate\n",
    "FNR = FN/(TP+FN)\n",
    "\n",
    "\n",
    "print(\"TPR is\", TPR)\n",
    "print(\"TNR is\", TNR)\n",
    "print(\"FPR is\", FPR)\n",
    "print(\"FNR is\", FNR)\n",
    "df_cm = pd.DataFrame(confusion_matrix(Y_test, Y_pred), range(2),range(2))\n",
    "sns.set(font_scale=1.5)\n",
    "sns.heatmap(df_cm, annot=True,annot_kws={\"size\": 16}, fmt='g')\n",
    "\n",
    "\n",
    "print('\\n------------------------------------------------------------------------')\n",
    "print(\"Time taken to run this cell :\\n\", datetime.now() - start)\n",
    "print('------------------------------------------------------------------------')"
   ]
  },
  {
   "cell_type": "code",
   "execution_count": 106,
   "metadata": {},
   "outputs": [
    {
     "name": "stdout",
     "output_type": "stream",
     "text": [
      "\t\tPositive\t\t\t\t\tNegative\n",
      "________________________________________________________________________________________________ \n",
      "\n",
      "\t5.9762\tdelici         \t\t\t\t-10.5439\tcancel         \n",
      "\t5.9505\tperfect        \t\t\t\t-8.4675\tworst          \n",
      "\t5.8604\texcel          \t\t\t\t-7.5759\taw             \n",
      "\t5.3387\tamaz           \t\t\t\t-7.4451\thorribl        \n",
      "\t5.1491\tbest           \t\t\t\t-6.2428\tterribl        \n",
      "\t4.9516\tgreat          \t\t\t\t-6.1004\tdisappoint     \n",
      "\t4.8855\tawesom         \t\t\t\t-6.0780\trefund         \n",
      "\t4.6665\taddict         \t\t\t\t-5.9540\tunfortun       \n",
      "\t4.5468\tyummi          \t\t\t\t-5.2073\treturn         \n",
      "\t4.5154\tfantast        \t\t\t\t-4.9775\tgelatin        \n",
      "\t4.4848\tbeat           \t\t\t\t-4.8545\tbland          \n",
      "\t4.0261\tsmooth         \t\t\t\t-4.7077\tdisgust        \n",
      "\t3.9808\tworri          \t\t\t\t-4.6106\tpoor           \n",
      "\t3.9347\tfavorit        \t\t\t\t-4.4859\ttasteless      \n",
      "\t3.8954\tnice           \t\t\t\t-4.4726\tstale          \n",
      "\t3.8109\thook           \t\t\t\t-4.3855\tweak           \n",
      "\t3.7745\tsatisfi        \t\t\t\t-3.9631\tsad            \n",
      "\t3.7612\tglad           \t\t\t\t-3.9595\tgross          \n",
      "\t3.5303\tlove           \t\t\t\t-3.9502\tunpleas        \n",
      "\t3.4037\teasi           \t\t\t\t-3.8883\tsorri          \n",
      "\t3.3483\twonder         \t\t\t\t-3.8410\tthrew          \n",
      "\t3.3183\thappi          \t\t\t\t-3.6690\truin           \n",
      "\t3.2876\ttasti          \t\t\t\t-3.5885\twast           \n",
      "\t3.2414\tpleasant       \t\t\t\t-3.4660\tyuck           \n",
      "\t3.1459\tkeep           \t\t\t\t-3.4646\tnasti          \n"
     ]
    }
   ],
   "source": [
    "show_most_informative_features(X,clf)"
   ]
  },
  {
   "cell_type": "markdown",
   "metadata": {},
   "source": [
    "Word to vec:\n",
    "------------\n",
    "\n",
    "This technique takes the semantic meaning if word into consideration. It is very simple. Just give it a word and you will get the vector of d-dimension. If two words are similar, Then the correspondin vectors seem to be closer. For example (Vman - Vwoman) || (Vking - vqueen) It learns all relatiomships without being programmed. The more the dimensions, the larger the dimensionality. we need large data to execute it. What is basically does is, it looks at the neighbourhood for similarity.\n"
   ]
  },
  {
   "cell_type": "code",
   "execution_count": 107,
   "metadata": {},
   "outputs": [],
   "source": [
    "from tqdm import tqdm"
   ]
  },
  {
   "cell_type": "code",
   "execution_count": 108,
   "metadata": {},
   "outputs": [],
   "source": [
    "i=0\n",
    "list_of_sent=[]\n",
    "for sent in X_train.values:\n",
    "    list_of_sent.append(sent.split())"
   ]
  },
  {
   "cell_type": "code",
   "execution_count": 109,
   "metadata": {},
   "outputs": [
    {
     "name": "stdout",
     "output_type": "stream",
     "text": [
      "republ tea pineappl lyche hibiscus tea one best tea long time fragranc tea amaz tast fresh steep two bag cup hot water pour ice refresh pick late afternoon would never known well hibiscus flower pinappl fruit compliment one anoth hadnt tri tea tast beauti\n",
      "*****************************************************************\n",
      "['republ', 'tea', 'pineappl', 'lyche', 'hibiscus', 'tea', 'one', 'best', 'tea', 'long', 'time', 'fragranc', 'tea', 'amaz', 'tast', 'fresh', 'steep', 'two', 'bag', 'cup', 'hot', 'water', 'pour', 'ice', 'refresh', 'pick', 'late', 'afternoon', 'would', 'never', 'known', 'well', 'hibiscus', 'flower', 'pinappl', 'fruit', 'compliment', 'one', 'anoth', 'hadnt', 'tri', 'tea', 'tast', 'beauti']\n"
     ]
    }
   ],
   "source": [
    "print(X_train.values[0])\n",
    "print(\"*****************************************************************\")\n",
    "print(list_of_sent[0])"
   ]
  },
  {
   "cell_type": "code",
   "execution_count": 110,
   "metadata": {},
   "outputs": [],
   "source": [
    "w2v_model=Word2Vec(list_of_sent,min_count=5,size=50, workers=4)"
   ]
  },
  {
   "cell_type": "code",
   "execution_count": 111,
   "metadata": {},
   "outputs": [
    {
     "name": "stdout",
     "output_type": "stream",
     "text": [
      "number of words that occured minimum 5 times  19841\n",
      "sample words  ['republ', 'tea', 'pineappl', 'lyche', 'hibiscus', 'one', 'best', 'long', 'time', 'fragranc', 'amaz', 'tast', 'fresh', 'steep', 'two', 'bag', 'cup', 'hot', 'water', 'pour', 'ice', 'refresh', 'pick', 'late', 'afternoon', 'would', 'never', 'known', 'well', 'flower', 'pinappl', 'fruit', 'compliment', 'anoth', 'hadnt', 'tri', 'beauti', 'lemon', 'wafer', 'ive', 'ever', 'encount', 'glad', 'found', 'amazon', 'hard', 'find', 'local', 'introduc', 'excel']\n"
     ]
    }
   ],
   "source": [
    "w2v_words = list(w2v_model.wv.vocab)\n",
    "print(\"number of words that occured minimum 5 times \",len(w2v_words))\n",
    "print(\"sample words \", w2v_words[0:50])"
   ]
  },
  {
   "cell_type": "code",
   "execution_count": 188,
   "metadata": {},
   "outputs": [
    {
     "name": "stdout",
     "output_type": "stream",
     "text": [
      "[('weird', 0.6937322616577148), ('gross', 0.6328852772712708), ('think', 0.624843180179596), ('fake', 0.6220317482948303), ('besid', 0.614007830619812), ('hate', 0.6079033613204956), ('good', 0.6071311235427856), ('funki', 0.6060141324996948), ('appeal', 0.6040209531784058), ('enjoy', 0.6024390459060669)]\n"
     ]
    }
   ],
   "source": [
    "print(w2v_model.wv.most_similar('like'))"
   ]
  },
  {
   "cell_type": "code",
   "execution_count": 112,
   "metadata": {},
   "outputs": [
    {
     "name": "stdout",
     "output_type": "stream",
     "text": [
      "like\n"
     ]
    }
   ],
   "source": [
    "count_vect_feat = count_vect.get_feature_names() # list of words in the BoW\n",
    "print(count_vect_feat[count_vect_feat.index('like')])"
   ]
  },
  {
   "cell_type": "markdown",
   "metadata": {},
   "source": [
    "Average W2V:\n",
    "---------\n",
    "\n",
    "It is basically used for converting sentences to vectors. It takes w2v of different words and adds them, then dividing them by the no of words. It is most proably the simplest way to build a sentence vector.\n"
   ]
  },
  {
   "cell_type": "code",
   "execution_count": 113,
   "metadata": {},
   "outputs": [
    {
     "name": "stderr",
     "output_type": "stream",
     "text": [
      "100%|██████████| 291336/291336 [06:19<00:00, 767.27it/s]"
     ]
    },
    {
     "name": "stdout",
     "output_type": "stream",
     "text": [
      "291336\n",
      "50\n"
     ]
    },
    {
     "name": "stderr",
     "output_type": "stream",
     "text": [
      "\n"
     ]
    }
   ],
   "source": [
    "sent_vectors = []; # the avg-w2v for each sentence/review is stored in this list\n",
    "for sent in tqdm(list_of_sent): # for each review/sentence\n",
    "    sent_vec = np.zeros(50) # as word vectors are of zero length\n",
    "    cnt_words =0; # num of words with a valid vector in the sentence/review\n",
    "    for word in sent: # for each word in a review/sentence\n",
    "        if word in w2v_words:\n",
    "            vec = w2v_model.wv[word]\n",
    "            sent_vec += vec\n",
    "            cnt_words += 1\n",
    "    if cnt_words != 0:\n",
    "        sent_vec /= cnt_words\n",
    "    sent_vectors.append(sent_vec)\n",
    "print(len(sent_vectors))\n",
    "print(len(sent_vectors[0]))"
   ]
  },
  {
   "cell_type": "code",
   "execution_count": 114,
   "metadata": {},
   "outputs": [
    {
     "name": "stdout",
     "output_type": "stream",
     "text": [
      "(291336, 50)\n"
     ]
    }
   ],
   "source": [
    "sent_vectors = preprocessing.normalize(sent_vectors)\n",
    "print(sent_vectors.shape)"
   ]
  },
  {
   "cell_type": "code",
   "execution_count": 115,
   "metadata": {},
   "outputs": [],
   "source": [
    "X_train_wv = sent_vectors"
   ]
  },
  {
   "cell_type": "code",
   "execution_count": 120,
   "metadata": {},
   "outputs": [
    {
     "name": "stdout",
     "output_type": "stream",
     "text": [
      "SGDClassifier(alpha=0.0001, average=False, class_weight='balanced',\n",
      "       early_stopping=False, epsilon=0.1, eta0=0.0, fit_intercept=True,\n",
      "       l1_ratio=0.15, learning_rate='optimal', loss='hinge', max_iter=None,\n",
      "       n_iter=None, n_iter_no_change=5, n_jobs=None, penalty='l2',\n",
      "       power_t=0.5, random_state=None, shuffle=True, tol=None,\n",
      "       validation_fraction=0.1, verbose=0, warm_start=False)\n",
      "Best HyperParameter with Grid search & with accuracy as metric:  {'alpha': 0.0001, 'penalty': 'l2'}\n",
      "Best Accuracy Grid search & with accuracy as metric: 84.09%\n",
      "\n",
      "------------------------------------------------------------------------\n",
      "SGDClassifier(alpha=0.0001, average=False, class_weight='balanced',\n",
      "       early_stopping=False, epsilon=0.1, eta0=0.0, fit_intercept=True,\n",
      "       l1_ratio=0.15, learning_rate='optimal', loss='hinge', max_iter=None,\n",
      "       n_iter=None, n_iter_no_change=5, n_jobs=None, penalty='l1',\n",
      "       power_t=0.5, random_state=None, shuffle=True, tol=None,\n",
      "       validation_fraction=0.1, verbose=0, warm_start=False)\n",
      "Best HyperParameter with Grid search & with f1 as metric:  {'alpha': 0.0001, 'penalty': 'l1'}\n",
      "Best Accuracy Grid search & with f1 as metric: 89.59%\n",
      "\n",
      "------------------------------------------------------------------------\n",
      "SGDClassifier(alpha=0.0001, average=False, class_weight='balanced',\n",
      "       early_stopping=False, epsilon=0.1, eta0=0.0, fit_intercept=True,\n",
      "       l1_ratio=0.15, learning_rate='optimal', loss='hinge', max_iter=None,\n",
      "       n_iter=None, n_iter_no_change=5, n_jobs=None, penalty='l1',\n",
      "       power_t=0.5, random_state=None, shuffle=True, tol=None,\n",
      "       validation_fraction=0.1, verbose=0, warm_start=False)\n",
      "Best HyperParameter with Grid search & with roc_auc as metric:  {'alpha': 0.0001, 'penalty': 'l1'}\n",
      "Best Accuracy Grid search & with roc_auc as metric: 91.32%\n",
      "\n",
      "------------------------------------------------------------------------\n",
      "Time taken to run this cell :\n",
      " 0:02:40.743069\n",
      "------------------------------------------------------------------------\n"
     ]
    }
   ],
   "source": [
    "start = datetime.now()\n",
    "\n",
    "\n",
    "clf_rnd = linear_model.SGDClassifier(loss = 'hinge', class_weight = \"balanced\")\n",
    "param_rnd = { 'alpha': [10**-4, 10**-2, 10**-1, 10**0, 10**1, 10**2, 10**4],\n",
    "              'penalty':['l1','l2']}\n",
    "model_rnd = GridSearchCV(clf_rnd,param_rnd,cv= tscv, scoring = 'accuracy')\n",
    "model_rnd.fit(X_train_wv,Y_train)\n",
    "\n",
    "\n",
    "print(model_rnd.best_estimator_)\n",
    "\n",
    "\n",
    "\n",
    "print(\"Best HyperParameter with Grid search & with accuracy as metric: \",model_rnd.best_params_)\n",
    "print(\"Best Accuracy Grid search & with accuracy as metric: %.2f%%\"%(model_rnd.best_score_*100))\n",
    "\n",
    "\n",
    "print('\\n------------------------------------------------------------------------')\n",
    "\n",
    "clf_rnd = linear_model.SGDClassifier(loss = 'hinge', class_weight = \"balanced\")\n",
    "param_rnd = { 'alpha': [10**-4, 10**-2, 10**-1, 10**0, 10**1, 10**2, 10**4],\n",
    "              'penalty':['l1','l2']}\n",
    "model_rnd = GridSearchCV(clf_rnd,param_rnd,cv= tscv, scoring = 'f1')\n",
    "model_rnd.fit(X_train_wv,Y_train)\n",
    "\n",
    "\n",
    "print(model_rnd.best_estimator_)\n",
    "\n",
    "print(\"Best HyperParameter with Grid search & with f1 as metric: \",model_rnd.best_params_)\n",
    "print(\"Best Accuracy Grid search & with f1 as metric: %.2f%%\"%(model_rnd.best_score_*100))\n",
    "\n",
    "\n",
    "print('\\n------------------------------------------------------------------------')\n",
    "\n",
    "clf_rnd = linear_model.SGDClassifier(loss = 'hinge', class_weight = \"balanced\")\n",
    "param_rnd = { 'alpha': [10**-4, 10**-2, 10**-1, 10**0, 10**1, 10**2, 10**4],\n",
    "              'penalty':['l1','l2']}\n",
    "model_rnd = GridSearchCV(clf_rnd,param_rnd,cv= tscv, scoring = 'roc_auc')\n",
    "model_rnd.fit(X_train_wv,Y_train)\n",
    "\n",
    "\n",
    "print(model_rnd.best_estimator_)\n",
    "\n",
    "\n",
    "\n",
    "print(\"Best HyperParameter with Grid search & with roc_auc as metric: \",model_rnd.best_params_)\n",
    "print(\"Best Accuracy Grid search & with roc_auc as metric: %.2f%%\"%(model_rnd.best_score_*100))\n",
    "\n",
    "\n",
    "print('\\n------------------------------------------------------------------------')\n",
    "print(\"Time taken to run this cell :\\n\", datetime.now() - start)\n",
    "print('------------------------------------------------------------------------')"
   ]
  },
  {
   "cell_type": "code",
   "execution_count": 126,
   "metadata": {},
   "outputs": [],
   "source": [
    "i=0\n",
    "list_of_sent=[]\n",
    "for sent in X_test.values:\n",
    "    list_of_sent.append(sent.split())"
   ]
  },
  {
   "cell_type": "code",
   "execution_count": 127,
   "metadata": {},
   "outputs": [
    {
     "name": "stderr",
     "output_type": "stream",
     "text": [
      "100%|██████████| 72835/72835 [01:47<00:00, 677.83it/s]"
     ]
    },
    {
     "name": "stdout",
     "output_type": "stream",
     "text": [
      "72835\n",
      "50\n"
     ]
    },
    {
     "name": "stderr",
     "output_type": "stream",
     "text": [
      "\n"
     ]
    }
   ],
   "source": [
    "# average Word2Vec\n",
    "# compute average word2vec for each review.\n",
    "sent_vectors = []; # the avg-w2v for each sentence/review is stored in this list\n",
    "for sent in tqdm(list_of_sent): # for each review/sentence\n",
    "    sent_vec = np.zeros(50) # as word vectors are of zero length\n",
    "    cnt_words =0; # num of words with a valid vector in the sentence/review\n",
    "    for word in sent: # for each word in a review/sentence\n",
    "        if word in w2v_words:\n",
    "            vec = w2v_model.wv[word]\n",
    "            sent_vec += vec\n",
    "            cnt_words += 1\n",
    "    if cnt_words != 0:\n",
    "        sent_vec /= cnt_words\n",
    "    sent_vectors.append(sent_vec)\n",
    "print(len(sent_vectors))\n",
    "print(len(sent_vectors[0]))"
   ]
  },
  {
   "cell_type": "code",
   "execution_count": 128,
   "metadata": {},
   "outputs": [],
   "source": [
    "X_test_wv = sent_vectors"
   ]
  },
  {
   "cell_type": "code",
   "execution_count": 129,
   "metadata": {},
   "outputs": [
    {
     "name": "stdout",
     "output_type": "stream",
     "text": [
      "Accuracy on test set: 86.287%\n",
      "Macro F1-Score on test set: 0.791\n",
      "Micro F1-Score on test set: 0.863\n",
      "Weighted F1-Score on test set: 0.875\n",
      "roc_auc Score on test set: 0.870\n",
      "Precision on test set: 0.975\n",
      "Recall on test set: 0.860\n",
      "Error : 13.713%\n",
      "Hinge loss : 0.2742637468250154\n",
      "Precision recall report :\n",
      "               precision    recall  f1-score   support\n",
      "\n",
      "          -1       0.54      0.88      0.67     11434\n",
      "           1       0.97      0.86      0.91     61401\n",
      "\n",
      "   micro avg       0.86      0.86      0.86     72835\n",
      "   macro avg       0.76      0.87      0.79     72835\n",
      "weighted avg       0.91      0.86      0.88     72835\n",
      "\n",
      "TPR is 0.859627693360043\n",
      "TNR is 0.880269372048277\n",
      "FPR is 0.11973062795172293\n",
      "FNR is 0.140372306639957\n",
      "\n",
      "------------------------------------------------------------------------\n",
      "Time taken to run this cell :\n",
      " 0:29:18.402686\n",
      "------------------------------------------------------------------------\n"
     ]
    },
    {
     "data": {
      "image/png": "[encoded data removed]",
      "text/plain": [
       "<Figure size 432x288 with 2 Axes>"
      ]
     },
     "metadata": {},
     "output_type": "display_data"
    }
   ],
   "source": [
    "clf = linear_model.SGDClassifier(alpha = 0.0001, penalty ='l2',loss='hinge', n_jobs = -1, class_weight = \"balanced\")\n",
    "clf.fit(X_train_bow, Y_train)\n",
    "Y_pred = clf.predict(X_test_bow)\n",
    "print(\"Accuracy on test set: %0.3f%%\"%(accuracy_score(Y_test, Y_pred)*100)) \n",
    "print(\"Macro F1-Score on test set: %0.3f\"%(f1_score(Y_test, Y_pred, average='macro')))\n",
    "print(\"Micro F1-Score on test set: %0.3f\"%(f1_score(Y_test, Y_pred, average='micro')))\n",
    "print(\"Weighted F1-Score on test set: %0.3f\"%(f1_score(Y_test, Y_pred, average='weighted')))\n",
    "print(\"roc_auc Score on test set: %0.3f\"%(roc_auc_score(Y_test, Y_pred, \n",
    "                                                              average='macro')))\n",
    "print(\"Precision on test set: %0.3f\"%(precision_score(Y_test, Y_pred)))\n",
    "print(\"Recall on test set: %0.3f\"%(recall_score(Y_test, Y_pred)))\n",
    "print(\"Error : %0.3f%%\"%(100-(accuracy_score(Y_test, Y_pred)*100)))\n",
    "print(\"Hinge loss :\",metrics.hinge_loss(Y_test,Y_pred))\n",
    "print(\"Precision recall report :\\n\",metrics.classification_report(Y_test, Y_pred))\n",
    "CM = confusion_matrix(Y_test ,Y_pred)\n",
    "TN = CM[0][0]\n",
    "FN = CM[1][0]\n",
    "TP = CM[1][1]\n",
    "FP = CM[0][1]\n",
    "# true positive rate\n",
    "TPR = TP/(TP+FN)\n",
    "# Specificity or true negative rate\n",
    "TNR = TN/(TN+FP) \n",
    "# Fall out or false positive rate\n",
    "FPR = FP/(FP+TN)\n",
    "# False negative rate\n",
    "FNR = FN/(TP+FN)\n",
    "\n",
    "\n",
    "print(\"TPR is\", TPR)\n",
    "print(\"TNR is\", TNR)\n",
    "print(\"FPR is\", FPR)\n",
    "print(\"FNR is\", FNR)\n",
    "df_cm = pd.DataFrame(confusion_matrix(Y_test, Y_pred), range(2),range(2))\n",
    "sns.set(font_scale=1.5)\n",
    "sns.heatmap(df_cm, annot=True,annot_kws={\"size\": 16}, fmt='g')\n",
    "\n",
    "\n",
    "print('\\n------------------------------------------------------------------------')\n",
    "print(\"Time taken to run this cell :\\n\", datetime.now() - start)\n",
    "print('------------------------------------------------------------------------')"
   ]
  },
  {
   "cell_type": "code",
   "execution_count": 130,
   "metadata": {},
   "outputs": [
    {
     "name": "stdout",
     "output_type": "stream",
     "text": [
      "Accuracy on test set: 86.170%\n",
      "Macro F1-Score on test set: 0.787\n",
      "Micro F1-Score on test set: 0.862\n",
      "Weighted F1-Score on test set: 0.874\n",
      "roc_auc Score on test set: 0.861\n",
      "Precision on test set: 0.971\n",
      "Recall on test set: 0.862\n",
      "Error : 13.830%\n",
      "Hinge loss : 0.27659778952426717\n",
      "Precision recall report :\n",
      "               precision    recall  f1-score   support\n",
      "\n",
      "          -1       0.54      0.86      0.66     11434\n",
      "           1       0.97      0.86      0.91     61401\n",
      "\n",
      "   micro avg       0.86      0.86      0.86     72835\n",
      "   macro avg       0.75      0.86      0.79     72835\n",
      "weighted avg       0.90      0.86      0.87     72835\n",
      "\n",
      "TPR is 0.8619892184166381\n",
      "TNR is 0.8601539268847298\n",
      "FPR is 0.13984607311527025\n",
      "FNR is 0.13801078158336183\n",
      "\n",
      "------------------------------------------------------------------------\n",
      "Time taken to run this cell :\n",
      " 0:29:33.884140\n",
      "------------------------------------------------------------------------\n"
     ]
    },
    {
     "data": {
      "image/png": "[encoded data removed]",
      "text/plain": [
       "<Figure size 432x288 with 2 Axes>"
      ]
     },
     "metadata": {},
     "output_type": "display_data"
    }
   ],
   "source": [
    "clf = linear_model.SGDClassifier(alpha = 0.0001, penalty ='l1',loss='hinge', n_jobs = -1, class_weight = \"balanced\")\n",
    "clf.fit(X_train_bow, Y_train)\n",
    "Y_pred = clf.predict(X_test_bow)\n",
    "print(\"Accuracy on test set: %0.3f%%\"%(accuracy_score(Y_test, Y_pred)*100)) \n",
    "print(\"Macro F1-Score on test set: %0.3f\"%(f1_score(Y_test, Y_pred, average='macro')))\n",
    "print(\"Micro F1-Score on test set: %0.3f\"%(f1_score(Y_test, Y_pred, average='micro')))\n",
    "print(\"Weighted F1-Score on test set: %0.3f\"%(f1_score(Y_test, Y_pred, average='weighted')))\n",
    "print(\"roc_auc Score on test set: %0.3f\"%(roc_auc_score(Y_test, Y_pred, \n",
    "                                                              average='macro')))\n",
    "print(\"Precision on test set: %0.3f\"%(precision_score(Y_test, Y_pred)))\n",
    "print(\"Recall on test set: %0.3f\"%(recall_score(Y_test, Y_pred)))\n",
    "print(\"Error : %0.3f%%\"%(100-(accuracy_score(Y_test, Y_pred)*100)))\n",
    "print(\"Hinge loss :\",metrics.hinge_loss(Y_test,Y_pred))\n",
    "print(\"Precision recall report :\\n\",metrics.classification_report(Y_test, Y_pred))\n",
    "CM = confusion_matrix(Y_test ,Y_pred)\n",
    "TN = CM[0][0]\n",
    "FN = CM[1][0]\n",
    "TP = CM[1][1]\n",
    "FP = CM[0][1]\n",
    "# true positive rate\n",
    "TPR = TP/(TP+FN)\n",
    "# Specificity or true negative rate\n",
    "TNR = TN/(TN+FP) \n",
    "# Fall out or false positive rate\n",
    "FPR = FP/(FP+TN)\n",
    "# False negative rate\n",
    "FNR = FN/(TP+FN)\n",
    "\n",
    "\n",
    "print(\"TPR is\", TPR)\n",
    "print(\"TNR is\", TNR)\n",
    "print(\"FPR is\", FPR)\n",
    "print(\"FNR is\", FNR)\n",
    "df_cm = pd.DataFrame(confusion_matrix(Y_test, Y_pred), range(2),range(2))\n",
    "sns.set(font_scale=1.5)\n",
    "sns.heatmap(df_cm, annot=True,annot_kws={\"size\": 16}, fmt='g')\n",
    "\n",
    "\n",
    "print('\\n------------------------------------------------------------------------')\n",
    "print(\"Time taken to run this cell :\\n\", datetime.now() - start)\n",
    "print('------------------------------------------------------------------------')"
   ]
  },
  {
   "cell_type": "markdown",
   "metadata": {},
   "source": [
    "# tfidf weightes w2v:    ---"
   ]
  },
  {
   "cell_type": "code",
   "execution_count": 121,
   "metadata": {},
   "outputs": [],
   "source": [
    "# S = [\"abc def pqr\", \"def def def abc\", \"pqr pqr def\"]\n",
    "model = TfidfVectorizer()\n",
    "tf_idf_matrix = model.fit_transform(X_train.values)\n",
    "# we are converting a dictionary with word as a key, and the idf as a value\n",
    "dictionary = dict(zip(model.get_feature_names(), list(model.idf_)))"
   ]
  },
  {
   "cell_type": "code",
   "execution_count": 122,
   "metadata": {},
   "outputs": [
    {
     "name": "stderr",
     "output_type": "stream",
     "text": [
      "100%|██████████| 291336/291336 [07:39<00:00, 634.31it/s]\n"
     ]
    }
   ],
   "source": [
    "# TF-IDF weighted Word2Vec\n",
    "tfidf_feat = model.get_feature_names() # tfidf words/col-names\n",
    "# final_tf_idf is the sparse matrix with row= sentence, col=word and cell_val = tfidf\n",
    "\n",
    "tfidf_sent_vectors = []; # the tfidf-w2v for each sentence/review is stored in this list\n",
    "row=0;\n",
    "for sent in tqdm(list_of_sent): # for each review/sentence \n",
    "    sent_vec = np.zeros(50) # as word vectors are of zero length\n",
    "    weight_sum =0; # num of words with a valid vector in the sentence/review\n",
    "    for word in sent: # for each word in a review/sentence\n",
    "        if word in w2v_words:\n",
    "            vec = w2v_model.wv[word]\n",
    "#             tf_idf = tf_idf_matrix[row, tfidf_feat.index(word)]\n",
    "            # to reduce the computation we are \n",
    "            # dictionary[word] = idf value of word in whole courpus\n",
    "            # sent.count(word) = tf valeus of word in this review\n",
    "            tf_idf = dictionary[word]*(sent.count(word)/len(sent))\n",
    "            sent_vec += (vec * tf_idf)\n",
    "            weight_sum += tf_idf\n",
    "    if weight_sum != 0:\n",
    "        sent_vec /= weight_sum\n",
    "    tfidf_sent_vectors.append(sent_vec)\n",
    "    row += 1"
   ]
  },
  {
   "cell_type": "code",
   "execution_count": 123,
   "metadata": {},
   "outputs": [
    {
     "name": "stdout",
     "output_type": "stream",
     "text": [
      "(291336, 50)\n"
     ]
    }
   ],
   "source": [
    "tfidf_sent_vectors = preprocessing.normalize(tfidf_sent_vectors)\n",
    "print(tfidf_sent_vectors.shape)"
   ]
  },
  {
   "cell_type": "code",
   "execution_count": 124,
   "metadata": {},
   "outputs": [],
   "source": [
    "X_train_twv = tfidf_sent_vectors"
   ]
  },
  {
   "cell_type": "code",
   "execution_count": 125,
   "metadata": {},
   "outputs": [
    {
     "name": "stdout",
     "output_type": "stream",
     "text": [
      "SGDClassifier(alpha=10, average=False, class_weight='balanced',\n",
      "       early_stopping=False, epsilon=0.1, eta0=0.0, fit_intercept=True,\n",
      "       l1_ratio=0.15, learning_rate='optimal', loss='hinge', max_iter=None,\n",
      "       n_iter=None, n_iter_no_change=5, n_jobs=None, penalty='l2',\n",
      "       power_t=0.5, random_state=None, shuffle=True, tol=None,\n",
      "       validation_fraction=0.1, verbose=0, warm_start=False)\n",
      "Best HyperParameter with Grid search & with accuracy as metric:  {'alpha': 10, 'penalty': 'l2'}\n",
      "Best Accuracy Grid search & with accuracy as metric: 84.36%\n",
      "\n",
      "------------------------------------------------------------------------\n",
      "SGDClassifier(alpha=0.0001, average=False, class_weight='balanced',\n",
      "       early_stopping=False, epsilon=0.1, eta0=0.0, fit_intercept=True,\n",
      "       l1_ratio=0.15, learning_rate='optimal', loss='hinge', max_iter=None,\n",
      "       n_iter=None, n_iter_no_change=5, n_jobs=None, penalty='l1',\n",
      "       power_t=0.5, random_state=None, shuffle=True, tol=None,\n",
      "       validation_fraction=0.1, verbose=0, warm_start=False)\n",
      "Best HyperParameter with Grid search & with f1 as metric:  {'alpha': 0.0001, 'penalty': 'l1'}\n",
      "Best Accuracy Grid search & with f1 as metric: 87.93%\n",
      "\n",
      "------------------------------------------------------------------------\n",
      "SGDClassifier(alpha=0.0001, average=False, class_weight='balanced',\n",
      "       early_stopping=False, epsilon=0.1, eta0=0.0, fit_intercept=True,\n",
      "       l1_ratio=0.15, learning_rate='optimal', loss='hinge', max_iter=None,\n",
      "       n_iter=None, n_iter_no_change=5, n_jobs=None, penalty='l1',\n",
      "       power_t=0.5, random_state=None, shuffle=True, tol=None,\n",
      "       validation_fraction=0.1, verbose=0, warm_start=False)\n",
      "Best HyperParameter with Grid search & with roc_auc as metric:  {'alpha': 0.0001, 'penalty': 'l1'}\n",
      "Best Accuracy Grid search & with roc_auc as metric: 88.81%\n",
      "\n",
      "------------------------------------------------------------------------\n",
      "Time taken to run this cell :\n",
      " 0:02:42.300483\n",
      "------------------------------------------------------------------------\n"
     ]
    }
   ],
   "source": [
    "start = datetime.now()\n",
    "\n",
    "\n",
    "clf_rnd = linear_model.SGDClassifier(loss = 'hinge', class_weight = \"balanced\")\n",
    "param_rnd = { 'alpha': [10**-4, 10**-2, 10**-1, 10**0, 10**1, 10**2, 10**4],\n",
    "              'penalty':['l1','l2']}\n",
    "model_rnd = GridSearchCV(clf_rnd,param_rnd,cv= tscv, scoring = 'accuracy')\n",
    "model_rnd.fit(X_train_twv,Y_train)\n",
    "\n",
    "\n",
    "print(model_rnd.best_estimator_)\n",
    "\n",
    "\n",
    "\n",
    "print(\"Best HyperParameter with Grid search & with accuracy as metric: \",model_rnd.best_params_)\n",
    "print(\"Best Accuracy Grid search & with accuracy as metric: %.2f%%\"%(model_rnd.best_score_*100))\n",
    "\n",
    "\n",
    "print('\\n------------------------------------------------------------------------')\n",
    "\n",
    "clf_rnd = linear_model.SGDClassifier(loss = 'hinge', class_weight = \"balanced\")\n",
    "param_rnd = { 'alpha': [10**-4, 10**-2, 10**-1, 10**0, 10**1, 10**2, 10**4],\n",
    "              'penalty':['l1','l2']}\n",
    "model_rnd = GridSearchCV(clf_rnd,param_rnd,cv= tscv, scoring = 'f1')\n",
    "model_rnd.fit(X_train_twv,Y_train)\n",
    "\n",
    "\n",
    "print(model_rnd.best_estimator_)\n",
    "\n",
    "print(\"Best HyperParameter with Grid search & with f1 as metric: \",model_rnd.best_params_)\n",
    "print(\"Best Accuracy Grid search & with f1 as metric: %.2f%%\"%(model_rnd.best_score_*100))\n",
    "\n",
    "\n",
    "print('\\n------------------------------------------------------------------------')\n",
    "\n",
    "clf_rnd = linear_model.SGDClassifier(loss = 'hinge', class_weight = \"balanced\")\n",
    "param_rnd = { 'alpha': [10**-4, 10**-2, 10**-1, 10**0, 10**1, 10**2, 10**4],\n",
    "              'penalty':['l1','l2']}\n",
    "model_rnd = GridSearchCV(clf_rnd,param_rnd,cv= tscv, scoring = 'roc_auc')\n",
    "model_rnd.fit(X_train_twv,Y_train)\n",
    "\n",
    "\n",
    "print(model_rnd.best_estimator_)\n",
    "\n",
    "\n",
    "\n",
    "print(\"Best HyperParameter with Grid search & with roc_auc as metric: \",model_rnd.best_params_)\n",
    "print(\"Best Accuracy Grid search & with roc_auc as metric: %.2f%%\"%(model_rnd.best_score_*100))\n",
    "\n",
    "\n",
    "print('\\n------------------------------------------------------------------------')\n",
    "print(\"Time taken to run this cell :\\n\", datetime.now() - start)\n",
    "print('------------------------------------------------------------------------')"
   ]
  },
  {
   "cell_type": "code",
   "execution_count": 131,
   "metadata": {},
   "outputs": [],
   "source": [
    "# S = [\"abc def pqr\", \"def def def abc\", \"pqr pqr def\"]\n",
    "model = TfidfVectorizer()\n",
    "tf_idf_matrix = model.fit_transform(X_test.values)\n",
    "# we are converting a dictionary with word as a key, and the idf as a value\n",
    "dictionary = dict(zip(model.get_feature_names(), list(model.idf_)))"
   ]
  },
  {
   "cell_type": "code",
   "execution_count": 132,
   "metadata": {},
   "outputs": [
    {
     "name": "stderr",
     "output_type": "stream",
     "text": [
      "100%|██████████| 72835/72835 [01:59<00:00, 610.87it/s]\n"
     ]
    }
   ],
   "source": [
    "# TF-IDF weighted Word2Vec\n",
    "tfidf_feat = model.get_feature_names() # tfidf words/col-names\n",
    "# final_tf_idf is the sparse matrix with row= sentence, col=word and cell_val = tfidf\n",
    "\n",
    "tfidf_sent_vectors = []; # the tfidf-w2v for each sentence/review is stored in this list\n",
    "row=0;\n",
    "for sent in tqdm(list_of_sent): # for each review/sentence \n",
    "    sent_vec = np.zeros(50) # as word vectors are of zero length\n",
    "    weight_sum =0; # num of words with a valid vector in the sentence/review\n",
    "    for word in sent: # for each word in a review/sentence\n",
    "        if word in w2v_words:\n",
    "            vec = w2v_model.wv[word]\n",
    "#             tf_idf = tf_idf_matrix[row, tfidf_feat.index(word)]\n",
    "            # to reduce the computation we are \n",
    "            # dictionary[word] = idf value of word in whole courpus\n",
    "            # sent.count(word) = tf valeus of word in this review\n",
    "            tf_idf = dictionary[word]*(sent.count(word)/len(sent))\n",
    "            sent_vec += (vec * tf_idf)\n",
    "            weight_sum += tf_idf\n",
    "    if weight_sum != 0:\n",
    "        sent_vec /= weight_sum\n",
    "    tfidf_sent_vectors.append(sent_vec)\n",
    "    row += 1"
   ]
  },
  {
   "cell_type": "code",
   "execution_count": 135,
   "metadata": {},
   "outputs": [
    {
     "name": "stdout",
     "output_type": "stream",
     "text": [
      "(72835, 50)\n"
     ]
    }
   ],
   "source": [
    "tfidf_sent_vectors = preprocessing.normalize(tfidf_sent_vectors)\n",
    "print(tfidf_sent_vectors.shape)"
   ]
  },
  {
   "cell_type": "code",
   "execution_count": 136,
   "metadata": {},
   "outputs": [],
   "source": [
    "X_test_twv = tfidf_sent_vectors "
   ]
  },
  {
   "cell_type": "code",
   "execution_count": 137,
   "metadata": {},
   "outputs": [
    {
     "name": "stdout",
     "output_type": "stream",
     "text": [
      "Accuracy on test set: 15.698%\n",
      "Macro F1-Score on test set: 0.136\n",
      "Micro F1-Score on test set: 0.157\n",
      "Weighted F1-Score on test set: 0.043\n",
      "roc_auc Score on test set: 0.500\n",
      "Precision on test set: 0.000\n",
      "Recall on test set: 0.000\n",
      "Error : 84.302%\n",
      "Hinge loss : 1.6860300679618316\n",
      "Precision recall report :\n",
      "               precision    recall  f1-score   support\n",
      "\n",
      "          -1       0.16      1.00      0.27     11434\n",
      "           1       0.00      0.00      0.00     61401\n",
      "\n",
      "   micro avg       0.16      0.16      0.16     72835\n",
      "   macro avg       0.08      0.50      0.14     72835\n",
      "weighted avg       0.02      0.16      0.04     72835\n",
      "\n",
      "TPR is 0.0\n",
      "TNR is 1.0\n",
      "FPR is 0.0\n",
      "FNR is 1.0\n",
      "\n",
      "------------------------------------------------------------------------\n",
      "Time taken to run this cell :\n",
      " 0:32:37.412743\n",
      "------------------------------------------------------------------------\n"
     ]
    },
    {
     "data": {
      "image/png": "[encoded data removed]",
      "text/plain": [
       "<Figure size 432x288 with 2 Axes>"
      ]
     },
     "metadata": {},
     "output_type": "display_data"
    }
   ],
   "source": [
    "clf = linear_model.SGDClassifier(alpha = 10, penalty ='l2',loss='hinge', n_jobs = -1, class_weight = \"balanced\")\n",
    "clf.fit(X_train_bow, Y_train)\n",
    "Y_pred = clf.predict(X_test_bow)\n",
    "print(\"Accuracy on test set: %0.3f%%\"%(accuracy_score(Y_test, Y_pred)*100)) \n",
    "print(\"Macro F1-Score on test set: %0.3f\"%(f1_score(Y_test, Y_pred, average='macro')))\n",
    "print(\"Micro F1-Score on test set: %0.3f\"%(f1_score(Y_test, Y_pred, average='micro')))\n",
    "print(\"Weighted F1-Score on test set: %0.3f\"%(f1_score(Y_test, Y_pred, average='weighted')))\n",
    "print(\"roc_auc Score on test set: %0.3f\"%(roc_auc_score(Y_test, Y_pred, \n",
    "                                                              average='macro')))\n",
    "print(\"Precision on test set: %0.3f\"%(precision_score(Y_test, Y_pred)))\n",
    "print(\"Recall on test set: %0.3f\"%(recall_score(Y_test, Y_pred)))\n",
    "print(\"Error : %0.3f%%\"%(100-(accuracy_score(Y_test, Y_pred)*100)))\n",
    "print(\"Hinge loss :\",metrics.hinge_loss(Y_test,Y_pred))\n",
    "print(\"Precision recall report :\\n\",metrics.classification_report(Y_test, Y_pred))\n",
    "CM = confusion_matrix(Y_test ,Y_pred)\n",
    "TN = CM[0][0]\n",
    "FN = CM[1][0]\n",
    "TP = CM[1][1]\n",
    "FP = CM[0][1]\n",
    "# true positive rate\n",
    "TPR = TP/(TP+FN)\n",
    "# Specificity or true negative rate\n",
    "TNR = TN/(TN+FP) \n",
    "# Fall out or false positive rate\n",
    "FPR = FP/(FP+TN)\n",
    "# False negative rate\n",
    "FNR = FN/(TP+FN)\n",
    "\n",
    "\n",
    "print(\"TPR is\", TPR)\n",
    "print(\"TNR is\", TNR)\n",
    "print(\"FPR is\", FPR)\n",
    "print(\"FNR is\", FNR)\n",
    "df_cm = pd.DataFrame(confusion_matrix(Y_test, Y_pred), range(2),range(2))\n",
    "sns.set(font_scale=1.5)\n",
    "sns.heatmap(df_cm, annot=True,annot_kws={\"size\": 16}, fmt='g')\n",
    "\n",
    "\n",
    "print('\\n------------------------------------------------------------------------')\n",
    "print(\"Time taken to run this cell :\\n\", datetime.now() - start)\n",
    "print('------------------------------------------------------------------------')"
   ]
  },
  {
   "cell_type": "code",
   "execution_count": 138,
   "metadata": {},
   "outputs": [
    {
     "name": "stdout",
     "output_type": "stream",
     "text": [
      "Accuracy on test set: 86.261%\n",
      "Macro F1-Score on test set: 0.788\n",
      "Micro F1-Score on test set: 0.863\n",
      "Weighted F1-Score on test set: 0.874\n",
      "roc_auc Score on test set: 0.861\n",
      "Precision on test set: 0.970\n",
      "Recall on test set: 0.863\n",
      "Error : 13.739%\n",
      "Hinge loss : 0.2747854740166129\n",
      "Precision recall report :\n",
      "               precision    recall  f1-score   support\n",
      "\n",
      "          -1       0.54      0.86      0.66     11434\n",
      "           1       0.97      0.86      0.91     61401\n",
      "\n",
      "   micro avg       0.86      0.86      0.86     72835\n",
      "   macro avg       0.75      0.86      0.79     72835\n",
      "weighted avg       0.90      0.86      0.87     72835\n",
      "\n",
      "TPR is 0.8633084151723913\n",
      "TNR is 0.8588420500262376\n",
      "FPR is 0.14115794997376246\n",
      "FNR is 0.13669158482760868\n",
      "\n",
      "------------------------------------------------------------------------\n",
      "Time taken to run this cell :\n",
      " 0:32:44.311816\n",
      "------------------------------------------------------------------------\n"
     ]
    },
    {
     "data": {
      "image/png": "[encoded data removed]",
      "text/plain": [
       "<Figure size 432x288 with 2 Axes>"
      ]
     },
     "metadata": {},
     "output_type": "display_data"
    }
   ],
   "source": [
    "clf = linear_model.SGDClassifier(alpha = 0.0001, penalty ='l1',loss='hinge', n_jobs = -1, class_weight = \"balanced\")\n",
    "clf.fit(X_train_bow, Y_train)\n",
    "Y_pred = clf.predict(X_test_bow)\n",
    "print(\"Accuracy on test set: %0.3f%%\"%(accuracy_score(Y_test, Y_pred)*100)) \n",
    "print(\"Macro F1-Score on test set: %0.3f\"%(f1_score(Y_test, Y_pred, average='macro')))\n",
    "print(\"Micro F1-Score on test set: %0.3f\"%(f1_score(Y_test, Y_pred, average='micro')))\n",
    "print(\"Weighted F1-Score on test set: %0.3f\"%(f1_score(Y_test, Y_pred, average='weighted')))\n",
    "print(\"roc_auc Score on test set: %0.3f\"%(roc_auc_score(Y_test, Y_pred, \n",
    "                                                              average='macro')))\n",
    "print(\"Precision on test set: %0.3f\"%(precision_score(Y_test, Y_pred)))\n",
    "print(\"Recall on test set: %0.3f\"%(recall_score(Y_test, Y_pred)))\n",
    "print(\"Error : %0.3f%%\"%(100-(accuracy_score(Y_test, Y_pred)*100)))\n",
    "print(\"Hinge loss :\",metrics.hinge_loss(Y_test,Y_pred))\n",
    "print(\"Precision recall report :\\n\",metrics.classification_report(Y_test, Y_pred))\n",
    "CM = confusion_matrix(Y_test ,Y_pred)\n",
    "TN = CM[0][0]\n",
    "FN = CM[1][0]\n",
    "TP = CM[1][1]\n",
    "FP = CM[0][1]\n",
    "# true positive rate\n",
    "TPR = TP/(TP+FN)\n",
    "# Specificity or true negative rate\n",
    "TNR = TN/(TN+FP) \n",
    "# Fall out or false positive rate\n",
    "FPR = FP/(FP+TN)\n",
    "# False negative rate\n",
    "FNR = FN/(TP+FN)\n",
    "\n",
    "\n",
    "print(\"TPR is\", TPR)\n",
    "print(\"TNR is\", TNR)\n",
    "print(\"FPR is\", FPR)\n",
    "print(\"FNR is\", FNR)\n",
    "df_cm = pd.DataFrame(confusion_matrix(Y_test, Y_pred), range(2),range(2))\n",
    "sns.set(font_scale=1.5)\n",
    "sns.heatmap(df_cm, annot=True,annot_kws={\"size\": 16}, fmt='g')\n",
    "\n",
    "\n",
    "print('\\n------------------------------------------------------------------------')\n",
    "print(\"Time taken to run this cell :\\n\", datetime.now() - start)\n",
    "print('------------------------------------------------------------------------')"
   ]
  }
 ],
 "metadata": {
  "kernelspec": {
   "display_name": "Python 3",
   "language": "python",
   "name": "python3"
  },
  "language_info": {
   "codemirror_mode": {
    "name": "ipython",
    "version": 3
   },
   "file_extension": ".py",
   "mimetype": "text/x-python",
   "name": "python",
   "nbconvert_exporter": "python",
   "pygments_lexer": "ipython3",
   "version": "3.6.5"
  }
 },
 "nbformat": 4,
 "nbformat_minor": 2
}
